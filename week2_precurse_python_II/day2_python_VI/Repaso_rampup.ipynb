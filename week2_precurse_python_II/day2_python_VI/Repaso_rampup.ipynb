{
  "nbformat": 4,
  "nbformat_minor": 0,
  "metadata": {
    "kernelspec": {
      "name": "python374jvsc74a57bd0182e3b849e87c789b13dcf4169d6d9922ca2e40dd3044e82b295bff17932e6e2",
      "display_name": "Python 3.7.4 64-bit"
    },
    "language_info": {
      "codemirror_mode": {
        "name": "ipython",
        "version": 3
      },
      "file_extension": ".py",
      "mimetype": "text/x-python",
      "name": "python",
      "nbconvert_exporter": "python",
      "pygments_lexer": "ipython3",
      "version": "3.7.4"
    },
    "colab": {
      "name": "Repaso_rampup.ipynb",
      "provenance": []
    },
    "metadata": {
      "interpreter": {
        "hash": "182e3b849e87c789b13dcf4169d6d9922ca2e40dd3044e82b295bff17932e6e2"
      }
    }
  },
  "cells": [
    {
      "cell_type": "markdown",
      "metadata": {
        "id": "s8TcfzrWX2rd"
      },
      "source": [
        "## 🐍 Ramp-up\n",
        "\n",
        "Note: The bold words are instructions for you to know how to solve the exercises below that word. For example, if it says **for loop** you should use at least a for loop in order to solve the exercise. "
      ]
    },
    {
      "source": [
        "#### Collections\n",
        "1. Create a tuple as follows (10,2,27,8) x\n",
        "2. Get the lenght of the tuple x\n",
        "3. Which type is it? And which type are the elements the tuple contains? x\n",
        "4. Create a new tuple with any other 4 strings and concatenate all of them with the tuple you created before by position, creating a list called `words`. x\n",
        "5. Make a list with the same elements in question 1. Find the element 27 and make it 37. x\n",
        "6. Remove the number 8 from the list. x\n",
        "7. Turn the list you made before into a set. x\n",
        "8. Check if the element \"3\" is in that set. x\n",
        "9. Sort the list you made in exercise 4 in descending order. x\n",
        "10. Turn the list `words` into a dictionary. Split every string taking the number in the tuple (10,2,27,8) as the values and the rest as the keys.\n",
        "11. Sum up the values of the new dictionary.\n",
        "12. Sort the values of the dictionary in descending order and the keys in ascending order, then make a list of tuples with every couple of keys and values by position."
      ],
      "cell_type": "markdown",
      "metadata": {
        "id": "z8xF9gBQX2rj"
      }
    },
    {
      "cell_type": "code",
      "metadata": {
        "id": "P3RxhH6GX2rk"
      },
      "source": [
        "tuple1 = (10, 2, 27, 8)\n",
        "len(tuple1)\n",
        "# Es un tipo tupla, y en su interior tiene números enteros.\n",
        "tuple2 = (\"h\", \"m\", \"s\", \"i\")"
      ],
      "execution_count": 3,
      "outputs": []
    },
    {
      "cell_type": "code",
      "execution_count": 4,
      "metadata": {},
      "outputs": [
        {
          "output_type": "stream",
          "name": "stdout",
          "text": [
            "['0h', '1m', '2s', '3i']\n"
          ]
        }
      ],
      "source": [
        "words = []\n",
        "for i in range(len(tuple1)):\n",
        "    words.append(str(i) + tuple2[i])\n",
        "print(words)"
      ]
    },
    {
      "cell_type": "code",
      "execution_count": 5,
      "metadata": {},
      "outputs": [
        {
          "output_type": "stream",
          "name": "stdout",
          "text": [
            "{10, 2, 37}\n"
          ]
        }
      ],
      "source": [
        "lista1 = [10, 2, 27, 8]\n",
        "lista1[2] = 37\n",
        "del lista1[3]\n",
        "set1 = set(lista1)\n",
        "print(set1)\n"
      ]
    },
    {
      "cell_type": "code",
      "execution_count": 6,
      "metadata": {},
      "outputs": [
        {
          "output_type": "stream",
          "name": "stdout",
          "text": [
            "There is not a 3\n"
          ]
        }
      ],
      "source": [
        "if \"3\" in set1:\n",
        "    print(\"There is a 3\")\n",
        "else:\n",
        "    print(\"There is not a 3\")"
      ]
    },
    {
      "cell_type": "code",
      "execution_count": 7,
      "metadata": {},
      "outputs": [
        {
          "output_type": "stream",
          "name": "stdout",
          "text": [
            "3i\n2s\n1m\n0h\n"
          ]
        }
      ],
      "source": [
        "for x in reversed(words):\n",
        "    print(x)"
      ]
    },
    {
      "cell_type": "code",
      "execution_count": 8,
      "metadata": {},
      "outputs": [
        {
          "output_type": "stream",
          "name": "stdout",
          "text": [
            "['3i', '2s', '1m', '0h']\n"
          ]
        }
      ],
      "source": [
        "words.sort(reverse=True)\n",
        "print(words)"
      ]
    },
    {
      "cell_type": "code",
      "execution_count": 9,
      "metadata": {},
      "outputs": [
        {
          "output_type": "stream",
          "name": "stdout",
          "text": [
            "{'i': 3, 's': 2, 'm': 1, 'h': 0}\n"
          ]
        }
      ],
      "source": [
        "diccionario = {}\n",
        "for i in words:\n",
        "    for x, y in enumerate(i):\n",
        "        if not y.isdigit():\n",
        "            key = i[x:]\n",
        "            valor = int(i[:x])\n",
        "            diccionario[key] = valor\n",
        "print(diccionario)"
      ]
    },
    {
      "cell_type": "code",
      "execution_count": 10,
      "metadata": {},
      "outputs": [
        {
          "output_type": "execute_result",
          "data": {
            "text/plain": [
              "6"
            ]
          },
          "metadata": {},
          "execution_count": 10
        }
      ],
      "source": [
        "sum(diccionario.values())"
      ]
    },
    {
      "cell_type": "code",
      "execution_count": 31,
      "metadata": {},
      "outputs": [
        {
          "output_type": "stream",
          "name": "stdout",
          "text": [
            "[('h', '3'), ('i', '2'), ('m', '1'), ('s', '0')]\n"
          ]
        }
      ],
      "source": [
        "keys_list = []\n",
        "values_list = []\n",
        "for keys, values in diccionario.items():\n",
        "    keys_list.append(str(keys))\n",
        "    values_list.append(str(values))\n",
        "keys_list.sort()\n",
        "values_list.sort(reverse = True)\n",
        "lista_tuplas = []\n",
        "for x , y in enumerate(keys_list):\n",
        "    lista_tuplas.append((y,values_list[x]))\n",
        "\n",
        "print(lista_tuplas)\n",
        "\n",
        "    "
      ]
    },
    {
      "cell_type": "markdown",
      "metadata": {
        "id": "Z-gCd8ZwX2rl"
      },
      "source": [
        "#### Dictionaries\n",
        "\n",
        "1. Make a dictionary containing three major rivers and the country each river runs through. One key-value pair might be 'nile': 'egypt'.\n",
        "\n",
        "    - Use a loop to print a sentence about each river, such as The Nile runs through Egypt.\n",
        "    - Use a loop to print the name of each river included in the dictionary.\n",
        "    - Use a loop to print the name of each country included in the dictionary."
      ]
    },
    {
      "cell_type": "code",
      "metadata": {
        "id": "Hl6JHVBxX2rl"
      },
      "source": [
        "rios = {\"Nilo\": \"Egipto\", \"Amazonas\": \"Brasil\", \"Yangtse\": \"China\"}"
      ],
      "execution_count": 26,
      "outputs": []
    },
    {
      "cell_type": "code",
      "execution_count": 27,
      "metadata": {},
      "outputs": [
        {
          "output_type": "stream",
          "name": "stdout",
          "text": [
            "Nilo runs through Egipto\nAmazonas runs through Brasil\nYangtse runs through China\n"
          ]
        }
      ],
      "source": [
        "for key, value in rios.items():\n",
        "    print(key + \" \" + \"runs through\" + \" \" + value) \n"
      ]
    },
    {
      "cell_type": "code",
      "execution_count": 28,
      "metadata": {},
      "outputs": [
        {
          "output_type": "stream",
          "name": "stdout",
          "text": [
            "Nilo\nAmazonas\nYangtse\n"
          ]
        }
      ],
      "source": [
        "for key in rios.keys():\n",
        "    print(key)"
      ]
    },
    {
      "cell_type": "code",
      "execution_count": 29,
      "metadata": {},
      "outputs": [
        {
          "output_type": "stream",
          "name": "stdout",
          "text": [
            "Egipto\nBrasil\nChina\n"
          ]
        }
      ],
      "source": [
        "for value in rios.values():\n",
        "    print(value)"
      ]
    },
    {
      "cell_type": "markdown",
      "metadata": {
        "id": "ZSEG97oXX2rl"
      },
      "source": [
        "2. Use the provided dictionary that shows some coders and their favoites languages.\n",
        "```Python\n",
        "favorite_languages = {\n",
        "    'jen': 'python',\n",
        "    'sarah': 'c',\n",
        "    'edward': 'ruby',\n",
        "    'phil': 'python',\n",
        "    }\n",
        "```\n",
        "\n",
        "    - Make a list of people who should take the favorite languages poll. Include some names that are already in the dictionary and some that are not.\n",
        "    - Loop through the list of people who should take the poll. If they have already taken the poll, print a message thanking them for responding. If they have not yet taken the poll, print a message inviting them to take the poll."
      ]
    },
    {
      "cell_type": "code",
      "metadata": {
        "id": "dH-pE186X2rm"
      },
      "source": [
        "favorite_languages = {'jen': 'python','sarah': 'c','edward': 'ruby','phil': 'python'}\n",
        "nombres = [\"jorge\", \"maria\", \"jen\", \"isabel\", \"ruby\"]\n",
        "for x in nombres:\n",
        "    if x not in favorite_languages:\n",
        "        print(x + \" \" + \"you should do take take the poll\")\n",
        "    else:\n",
        "        print(x + \" \" + \"thank you for take the poll\")\n",
        "    \n"
      ],
      "execution_count": 30,
      "outputs": [
        {
          "output_type": "stream",
          "name": "stdout",
          "text": [
            "jorge you should do take take the poll\nmaria you should do take take the poll\njen thank you for take the poll\nisabel you should do take take the poll\nruby you should do take take the poll\n"
          ]
        }
      ]
    },
    {
      "cell_type": "markdown",
      "metadata": {
        "id": "aRnoGI7dX2rm"
      },
      "source": [
        "3. Make a dictionary called cities. Use the names of three cities as keys in your dictionary. Create a dictionary of information about each city and include the country that the city is in, its approximate population, and one fact about that city. The keys for each city’s dictionary should be something like country, population, and fact. Print the name of each city and all of the information you have stored about it.\n",
        "\n",
        "```python\n",
        "cities = {\"city1\":{\"country\": \"bla\"}}\n",
        "```\n",
        "\n",
        "\n"
      ]
    },
    {
      "cell_type": "code",
      "metadata": {
        "id": "tOD41hMqX2rm"
      },
      "source": [
        "cities = { \"Madrid\" : {\"España\": [4700000, \"fact1\"]}, \"Berlin\" : {\"Alemania\" : [55000000, \"fact2\"]}, \"Varsovia\":{\"Polonia\": [33000000, \"fact3\"]}}\n",
        "for keys, value in cities.items():\n",
        "    print(\"city\" + \":\" + keys)\n",
        "    print(\"information\"+ \":\" + str (value))"
      ],
      "execution_count": 31,
      "outputs": [
        {
          "output_type": "stream",
          "name": "stdout",
          "text": [
            "city:Madrid\ninformation:{'España': [4700000, 'fact1']}\ncity:Berlin\ninformation:{'Alemania': [55000000, 'fact2']}\ncity:Varsovia\ninformation:{'Polonia': [33000000, 'fact3']}\n"
          ]
        }
      ]
    },
    {
      "cell_type": "markdown",
      "metadata": {
        "id": "V-49nsJeX2rn"
      },
      "source": [
        "**for loop**\n",
        "1. This is a fruit list, ['banana', 'orange', 'mango', 'lemon'] reverse the order using a for loop.\n"
      ]
    },
    {
      "cell_type": "code",
      "metadata": {
        "id": "8UMKSfFZX2rn"
      },
      "source": [
        "frutas = ['banana', 'orange', 'mango', 'lemon']\n",
        "for i in reversed(frutas):\n",
        "    print(i)\n"
      ],
      "execution_count": 32,
      "outputs": [
        {
          "output_type": "stream",
          "name": "stdout",
          "text": [
            "lemon\nmango\norange\nbanana\n"
          ]
        }
      ]
    },
    {
      "cell_type": "markdown",
      "metadata": {
        "id": "X7m-aZj8X2rn"
      },
      "source": [
        "2. Write a Python program to create the multiplication table (from 1 to 10) of a number.\n",
        "```python\n",
        "Input a number: 5                                                                                             \n",
        "5 x 1 = 5                                                                                                     \n",
        "5 x 2 = 10                                                                                                    \n",
        "5 x 3 = 15                                                                                                    \n",
        "5 x 4 = 20                                                                                                    \n",
        "5 x 5 = 25                                                                                                    \n",
        "5 x 6 = 30                                                                                                    \n",
        "5 x 7 = 35                                                                                                    \n",
        "5 x 8 = 40                                                                                                    \n",
        "5 x 9 = 45                                                                                                    \n",
        "5 x 10 = 50\n",
        "```"
      ]
    },
    {
      "cell_type": "code",
      "metadata": {
        "id": "j6Kgrq5lX2ro"
      },
      "source": [
        "def multiplicar_5 ():\n",
        "    for x in range(11):\n",
        "        print(str(5) + \" \" + \"x\" + \" \" + str(x) + \" \" + \"=\" + \" \" + str(x*5))\n",
        "multiplicar_5()"
      ],
      "execution_count": 34,
      "outputs": [
        {
          "output_type": "stream",
          "name": "stdout",
          "text": [
            "5 x 0 = 0\n5 x 1 = 5\n5 x 2 = 10\n5 x 3 = 15\n5 x 4 = 20\n5 x 5 = 25\n5 x 6 = 30\n5 x 7 = 35\n5 x 8 = 40\n5 x 9 = 45\n5 x 10 = 50\n"
          ]
        }
      ]
    },
    {
      "cell_type": "markdown",
      "metadata": {
        "id": "KkTiBHEuX2rp"
      },
      "source": [
        "3. Write a Python program which iterates the integers from 1 to 50. For multiples of three print \"Fizz\" instead of the number and for the multiples of five print \"Buzz\". For numbers which are multiples of both three and five print \"FizzBuzz\".\n",
        "```python\n",
        "Sample Output :\n",
        "fizzbuzz\n",
        "1\n",
        "2\n",
        "fizz\n",
        "4\n",
        "buzz\n",
        "```"
      ]
    },
    {
      "cell_type": "code",
      "metadata": {
        "id": "2E39apKTX2rp"
      },
      "source": [
        "for x in range(51):\n",
        "    if x % 3 == 0:\n",
        "        print(\"Fizz\")\n",
        "    elif x % 5 == 0:\n",
        "        print(\"Buzz\")\n",
        "    else:\n",
        "        print(x)\n",
        "\n"
      ],
      "execution_count": 92,
      "outputs": [
        {
          "output_type": "stream",
          "name": "stdout",
          "text": [
            "Fizz\n1\n2\nFizz\n4\nBuzz\nFizz\n7\n8\nFizz\nBuzz\n11\nFizz\n13\n14\nFizz\n16\n17\nFizz\n19\nBuzz\nFizz\n22\n23\nFizz\nBuzz\n26\nFizz\n28\n29\nFizz\n31\n32\nFizz\n34\nBuzz\nFizz\n37\n38\nFizz\nBuzz\n41\nFizz\n43\n44\nFizz\n46\n47\nFizz\n49\nBuzz\n"
          ]
        }
      ]
    },
    {
      "cell_type": "markdown",
      "metadata": {
        "id": "hAX12elKX2rq"
      },
      "source": [
        "**functions**\n",
        "\n",
        "1. Write a Python function to check whether a string is a pangram or not. \n",
        "\n",
        "Note : Pangrams are words or sentences containing every letter of the alphabet at least once.\n",
        "    \n",
        "For example : `\"The quick brown fox jumps over the lazy dog\"`"
      ]
    },
    {
      "cell_type": "code",
      "metadata": {
        "id": "mlZWKscoX2rr"
      },
      "source": [
        "\n",
        "def pangram(lista):\n",
        "    alfabeto = \"abcdefghijklmnopqrstuvwxyz\"\n",
        "    lista = lista.lower()\n",
        "    for x in alfabeto:\n",
        "        if x not in lista:\n",
        "            return(\"No es un pangram\")\n",
        "    \n",
        "    return(\"Es un pangram\")\n",
        "\n",
        "frase = input(\"escribe una frase\")\n",
        "pangram(frase)"
      ],
      "execution_count": 1,
      "outputs": [
        {
          "output_type": "execute_result",
          "data": {
            "text/plain": [
              "'Es un pangram'"
            ]
          },
          "metadata": {},
          "execution_count": 1
        }
      ]
    },
    {
      "cell_type": "markdown",
      "metadata": {
        "id": "p3TIAVnsX2rr"
      },
      "source": [
        "2. Write a Python program to count the number of even and odd numbers from a series of numbers. \n",
        "\n",
        "```python\n",
        "Sample numbers: numbers = (1, 2, 3, 4, 5, 6, 7, 8, 9) \n",
        "    \n",
        "Expected Output:\n",
        "Number of even numbers: 5\n",
        "Number of odd numbers: 4\n",
        "```"
      ]
    },
    {
      "cell_type": "code",
      "metadata": {
        "id": "FqBDwJ_EX2rs"
      },
      "source": [
        "numbers = (1, 2, 3, 4, 5, 6, 7, 8, 9) \n",
        "def contador_par_e_impar(lista):\n",
        "    par = 0\n",
        "    impar = 0\n",
        "    for x in lista:\n",
        "        if x % 2 == 0:\n",
        "            par =  par + 1\n",
        "        else:\n",
        "            impar = impar + 1\n",
        "    print(\"Number of even numbers\" + \":\" + \" \" + str(par))\n",
        "    print(\"Number of odd numbers\" + \":\" + \" \" + str(impar))"
      ],
      "execution_count": 27,
      "outputs": []
    },
    {
      "cell_type": "code",
      "execution_count": 28,
      "metadata": {},
      "outputs": [
        {
          "output_type": "stream",
          "name": "stdout",
          "text": [
            "Number of even numbers: 4\nNumber of odd numbers: 5\n"
          ]
        }
      ],
      "source": [
        "contador_par_e_impar(numbers)"
      ]
    },
    {
      "cell_type": "markdown",
      "metadata": {
        "id": "qKrouM4qX2rs"
      },
      "source": [
        "#### functions & while loop\n",
        "1. Write a program which keeps asking for numbers till the user writes 9999. In that case, the program returns the concatenation of every number as a string.\n"
      ]
    },
    {
      "cell_type": "code",
      "metadata": {
        "id": "wq46aIeYX2rs",
        "tags": []
      },
      "source": [
        "def program_9999():\n",
        "    x= \"\"  \n",
        "    listax = []\n",
        "    while x != str(9999):\n",
        "        x = (input(\"escribe un numero\"))\n",
        "        listax.append(x)\n",
        "    concatenados = str(0)\n",
        "    for y in listax:\n",
        "        concatenados = concatenados + str(y)\n",
        "        \n",
        "    return concatenados\n"
      ],
      "execution_count": 29,
      "outputs": []
    },
    {
      "cell_type": "code",
      "execution_count": 30,
      "metadata": {},
      "outputs": [
        {
          "output_type": "execute_result",
          "data": {
            "text/plain": [
              "'05555559999'"
            ]
          },
          "metadata": {},
          "execution_count": 30
        }
      ],
      "source": [
        "program_9999()"
      ]
    },
    {
      "cell_type": "markdown",
      "metadata": {
        "id": "7dmx9RBqX2rs"
      },
      "source": [
        "2. Writes a function that asks a user for a pin code till they get it right... If they give a wrong answer three times the function returns \"Your bank account has been blocked\", otherwise, returns: \"You got it right! You get full access to your money\".\n"
      ]
    },
    {
      "cell_type": "code",
      "metadata": {
        "id": "tyN1JOQ7X2rs"
      },
      "source": [
        "def bank():\n",
        "    pinv = 528\n",
        "    contador_intentos = 0\n",
        "    while contador_intentos < 3:\n",
        "        introducido = int(input(\"codigo pin\"))\n",
        "        if introducido == pinv:\n",
        "            return \"You got it right! You get full access to your money\"\n",
        "        else:\n",
        "            contador_intentos +=1\n",
        "            print(\"codigo erroneo\")\n",
        "    return \"Your bank account has been blocked\"\n"
      ],
      "execution_count": 40,
      "outputs": []
    },
    {
      "cell_type": "code",
      "execution_count": 42,
      "metadata": {},
      "outputs": [
        {
          "output_type": "stream",
          "name": "stdout",
          "text": [
            "codigo erroneo\n"
          ]
        },
        {
          "output_type": "execute_result",
          "data": {
            "text/plain": [
              "'You got it right! You get full access to your money'"
            ]
          },
          "metadata": {},
          "execution_count": 42
        }
      ],
      "source": [
        "bank()"
      ]
    },
    {
      "cell_type": "markdown",
      "metadata": {
        "id": "jYhRFGLoX2rt"
      },
      "source": [
        "#### functions & for loop\n",
        "\n",
        "1. Write a function that takes in a person's name, and prints out a greeting.\n",
        "    - The greeting must be at least three lines, and the person's name must be in each line.\n",
        "    - Use your function to greet at least three different people.\n",
        "    - Store your three people in a list, and call your function from a for loop."
      ]
    },
    {
      "cell_type": "code",
      "metadata": {
        "id": "e2df8Mp4X2rt"
      },
      "source": [
        "\n",
        "def greeting(lista):\n",
        "    for x in lista:\n",
        "        print(f\"Hello {x} \\n how are you {x} \\n {x} goodbye\")\n",
        "nombres = [\"juan\", \"lola\", \"maria\"]\n",
        "\n",
        "        \n",
        "greeting(nombres)      \n"
      ],
      "execution_count": 75,
      "outputs": [
        {
          "output_type": "stream",
          "name": "stdout",
          "text": [
            "Hello juan \n how are you juan \n juan goodbye\nHello lola \n how are you lola \n lola goodbye\nHello maria \n how are you maria \n maria goodbye\n"
          ]
        }
      ]
    },
    {
      "cell_type": "markdown",
      "metadata": {
        "id": "Lrb7dZMGX2rt"
      },
      "source": [
        "2. Make a list that includes 3 or 4 games that you like to play and print a statement that tells the user what games you like.\n",
        "    - Write a function that asks the user to tell you a game they like, and store the game in a variable such as `new_game`. \n",
        "    - If the user mentions one game you like to play, send a message asking to play together.\n",
        "    - Otherwise ask for another game name. If the user tries your program 3 times and doesn't give a game name you like, then ask them to find another friend."
      ]
    },
    {
      "cell_type": "code",
      "metadata": {
        "id": "Ey3l2hlAX2rt"
      },
      "source": [
        "game_list = [\"Trivial\", \"Parchís\", \"Cluedo\"]\n",
        "def juegos():\n",
        "    intentos = 3\n",
        "    \n",
        "    for t in range(3):\n",
        "        if intentos == 0:\n",
        "            break\n",
        "        new_game = input(\"What game do u like?\")\n",
        "        if new_game in game_list:\n",
        "            return (\"Do u want to play with me?\")\n",
        "        else:\n",
        "             intentos -=1\n",
        "             return (\"try with other game\")\n",
        "    \n",
        "    \n",
        "    "
      ],
      "execution_count": 84,
      "outputs": []
    },
    {
      "cell_type": "code",
      "execution_count": 85,
      "metadata": {},
      "outputs": [
        {
          "output_type": "execute_result",
          "data": {
            "text/plain": [
              "'Do u want to play with me?'"
            ]
          },
          "metadata": {},
          "execution_count": 85
        }
      ],
      "source": [
        "juegos()"
      ]
    },
    {
      "cell_type": "markdown",
      "metadata": {
        "id": "0m5euO7xX2rt"
      },
      "source": [
        "#### write a mini-program\n",
        "**Three is a Crowd**\n",
        "- Make a list of names that includes at least four people.\n",
        "- Write an if test that prints a message about the room being crowded, if there are more than three people in your list.\n",
        "- Modify your list so that there are only two people in it. Use one of the methods for removing people from the list, don't just redefine the list.\n",
        "- Run your if test again. There should be no output this time, because there are less than three people in the list.\n",
        "- Store your if test in a function called something like `crowd_test`.\n",
        "\n"
      ]
    },
    {
      "cell_type": "code",
      "metadata": {
        "id": "tolsYdArX2ru"
      },
      "source": [
        "lista_nombres = [\"Rocío\", \"Elena\", \"María\", \"Cristina\"]\n",
        "for x in range(len(lista_nombres)):\n",
        "    if x >= 3:\n",
        "        print(\"The room is too crowded\")\n"
      ],
      "execution_count": 87,
      "outputs": [
        {
          "output_type": "stream",
          "name": "stdout",
          "text": [
            "The room is too crowded\n"
          ]
        }
      ]
    },
    {
      "cell_type": "code",
      "execution_count": 88,
      "metadata": {},
      "outputs": [],
      "source": [
        "lista_nombres.remove(\"Rocío\")\n",
        "lista_nombres.remove(\"Elena\")"
      ]
    },
    {
      "cell_type": "code",
      "execution_count": 89,
      "metadata": {},
      "outputs": [],
      "source": [
        "for x in range(len(lista_nombres)):\n",
        "    if x >= 3:\n",
        "        print(\"The room is too crowded\")\n"
      ]
    },
    {
      "cell_type": "code",
      "execution_count": 91,
      "metadata": {},
      "outputs": [],
      "source": [
        "def crowd_test(lista):\n",
        "    for x in range(len(lista)):\n",
        "        if x >= 3:\n",
        "            print(\"The room is too crowded\")\n",
        "\n"
      ]
    },
    {
      "cell_type": "markdown",
      "metadata": {
        "id": "g_TaGWteX2ru"
      },
      "source": [
        "**Three is a Crowd - Part 2**\n",
        "- Save your program from *Three is a Crowd* under a new name.\n",
        "- Add an `else` statement to your if tests. If the `else` statement is run, have it print a message that the room is not very crowded.\n"
      ]
    },
    {
      "cell_type": "code",
      "metadata": {
        "id": "ACcb-iDaX2ru"
      },
      "source": [
        "def crowd_test2 (lista):\n",
        "    for x in range(len(lista)):\n",
        "        if x >= 3:\n",
        "            print(\"The room is too crowded\")\n",
        "        else:\n",
        "            print(\"The room is not very crowded\")\n"
      ],
      "execution_count": 92,
      "outputs": []
    },
    {
      "cell_type": "markdown",
      "metadata": {
        "id": "7B-lUlDnX2ru"
      },
      "source": [
        "\n",
        "**Six is a Mob**\n",
        "- Save your program from *Three is a Crowd - Part 2* under a new name.\n",
        "- Add some names to your list, so that there are at least six people in the list.\n",
        "- Modify your tests so that\n",
        "    - If there are more than 5 people, a message is printed about there being a mob in the room.\n",
        "    - If there are 3-5 people, a message is printed about the room being crowded.\n",
        "    - If there are 1 or 2 people, a message is printed about the room not being crowded.\n",
        "    - If there are no people in the room, a message is printed abou the room being empty."
      ]
    },
    {
      "cell_type": "code",
      "metadata": {
        "id": "xKN4X-gfX2ru"
      },
      "source": [
        "lista_nombres.append(\"Isabel\")\n",
        "lista_nombres.append(\"Marina\")\n",
        "lista_nombres.append(\"lola\")\n",
        "lista_nombres.append(\"pepe\")"
      ],
      "execution_count": 93,
      "outputs": []
    },
    {
      "cell_type": "code",
      "execution_count": 94,
      "metadata": {},
      "outputs": [],
      "source": [
        "def crowd_test3 (lista):\n",
        "    for x in range(len(lista)):\n",
        "        if x > 5:\n",
        "            print(\"there is a mod in the room\")\n",
        "        elif x >= 5 and x <= 3:\n",
        "            print(\"the room is crowded\")\n",
        "        elif x == 1 or x == 2:\n",
        "            print(\"the room is not very crowded\")\n",
        "        else:\n",
        "            print(\"The room is empty\")"
      ]
    },
    {
      "cell_type": "code",
      "execution_count": null,
      "metadata": {},
      "outputs": [],
      "source": []
    }
  ]
}