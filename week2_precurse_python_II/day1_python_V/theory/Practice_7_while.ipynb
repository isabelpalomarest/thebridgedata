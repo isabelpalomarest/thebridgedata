{
  "nbformat": 4,
  "nbformat_minor": 0,
  "metadata": {
    "kernelspec": {
      "name": "python374jvsc74a57bd0182e3b849e87c789b13dcf4169d6d9922ca2e40dd3044e82b295bff17932e6e2",
      "display_name": "Python 3.7.4 64-bit"
    },
    "language_info": {
      "codemirror_mode": {
        "name": "ipython",
        "version": 3
      },
      "file_extension": ".py",
      "mimetype": "text/x-python",
      "name": "python",
      "nbconvert_exporter": "python",
      "pygments_lexer": "ipython3",
      "version": "3.7.4"
    },
    "colab": {
      "name": "Practice_7_while.ipynb",
      "provenance": []
    },
    "metadata": {
      "interpreter": {
        "hash": "182e3b849e87c789b13dcf4169d6d9922ca2e40dd3044e82b295bff17932e6e2"
      }
    }
  },
  "cells": [
    {
      "cell_type": "markdown",
      "metadata": {
        "id": "OaXv2Q3I-nek"
      },
      "source": [
        "# Python | day 6 | while"
      ]
    },
    {
      "cell_type": "markdown",
      "metadata": {
        "id": "6t1EAC6q-nel"
      },
      "source": [
        "With the **while** loop we can execute a set of statements as long as a condition is true."
      ]
    },
    {
      "cell_type": "markdown",
      "metadata": {
        "id": "egmuV1g_-nem"
      },
      "source": [
        "```python\n",
        "i = 1\n",
        "while i < 6:\n",
        "  print(i)\n",
        "  i += 1\n",
        "```"
      ]
    },
    {
      "cell_type": "markdown",
      "metadata": {
        "id": "Lc52Psti-nem"
      },
      "source": [
        "https://www.w3schools.com/python/python_while_loops.asp"
      ]
    },
    {
      "cell_type": "markdown",
      "metadata": {
        "id": "0osD2CSe-nen"
      },
      "source": [
        "### Exercise 1. "
      ]
    },
    {
      "cell_type": "markdown",
      "metadata": {
        "id": "11-6_PB3-nen"
      },
      "source": [
        "Do as described below:\n",
        "\n",
        "- Make a variable called strength, and set its initial value to 5.\n",
        "\n",
        "- Print a message reporting the player's strength.\n",
        "\n",
        "- Set up a while loop that runs until the player's strength increases to a value such as 10.\n",
        "\n",
        "- Inside the while loop, print a message that reports the player's current strength.\n",
        "\n",
        "- Inside the while loop, write a statement that increases the player's strength.\n",
        "\n",
        "- Outside the while loop, print a message reporting that the player has grown too strong, and that they have moved up to a new level of the game.\n",
        "\n",
        "Play around with different cutoff levels for the value of strength, and play around with different ways to increase the strength value within the while loop.\n"
      ]
    },
    {
      "cell_type": "code",
      "metadata": {
        "id": "qObHlrTD-nen"
      },
      "source": [
        "strength = 5\n",
        "print(strength)\n",
        "\n",
        "while strength <= 10:\n",
        "    print(\"The player strength is\")\n",
        "    print(strength)\n",
        "    print(\"-------\")\n",
        "    strength +=1\n",
        "print(\"The player has grown to strong, you have to moved uo po a new level game\")\n"
      ],
      "execution_count": 7,
      "outputs": [
        {
          "output_type": "stream",
          "name": "stdout",
          "text": [
            "5\nThe player strength is\n5\n-------\nThe player strength is\n6\n-------\nThe player strength is\n7\n-------\nThe player strength is\n8\n-------\nThe player strength is\n9\n-------\nThe player strength is\n10\n-------\nThe player has grown to strong, you have to moved uo po a new level game\n"
          ]
        }
      ]
    },
    {
      "cell_type": "markdown",
      "metadata": {
        "id": "E033dmTN-neo"
      },
      "source": [
        "### Exercise 2. "
      ]
    },
    {
      "cell_type": "markdown",
      "metadata": {
        "id": "BPEI-SmJ-neo"
      },
      "source": [
        "To solve the following exercises it will be necessary to define a function for each section. You choose the name of those functions unless specified, but make sure you define a single parameter `whichever_list`, when calling the function it will correspond to the variable `info_list`."
      ]
    },
    {
      "cell_type": "code",
      "metadata": {
        "id": "wDrmEpme-neo"
      },
      "source": [
        "# you can use this list or take yours from Practice 3\n",
        "info_list = [15, 'Recoletos', True, ['Recoletos', 15],  None, '8'] "
      ],
      "execution_count": 2,
      "outputs": []
    },
    {
      "cell_type": "markdown",
      "metadata": {
        "id": "Djn4xJdn-nep"
      },
      "source": [
        "You have already read these questions below, but this time you are asked to solve it using `while` loop instead of `for`. \n",
        "\n",
        "   - Loop through `whichever_list` to print all the elements it contains. This function should return the list turned into a tuple. \n",
        "   - Loop through `whichever_list` to print all the elements it contains concatenated with the string` \"--> OK\" `. This function should return a message saying, `\"everything will be ok\"`. \n",
        "   - Loop through `whichever_list` to display all items it contains except the first one. This function should return the first element of the list. \n",
        "   - Loop through `whichever_list` to display all the items it contains except the last one. This function should return the last element of the list. "
      ]
    },
    {
      "cell_type": "code",
      "metadata": {
        "id": "afXTjHu6-nep"
      },
      "source": [
        "def mostrar_lista(whichever_list):\n",
        "    while info_list:\n",
        "        print(info_list)\n",
        "        break\n",
        "mostrar_lista(info_list)"
      ],
      "execution_count": 9,
      "outputs": [
        {
          "output_type": "stream",
          "name": "stdout",
          "text": [
            "[15, 'Recoletos', True, ['Recoletos', 15], None, '8']\n"
          ]
        }
      ]
    },
    {
      "cell_type": "code",
      "metadata": {
        "id": "zHEr9XsP-nep"
      },
      "source": [
        "def concatenar(whichever_list):\n",
        "    for x in whichever_list:\n",
        "        while whichever_list:\n",
        "            print(str(x) + \"--->OK\")\n",
        "            break\n",
        "print(\"everything will be ok\")\n",
        "concatenar(info_list)\n"
      ],
      "execution_count": 14,
      "outputs": [
        {
          "output_type": "stream",
          "name": "stdout",
          "text": [
            "everything will be ok\n15--->OK\nRecoletos--->OK\nTrue--->OK\n['Recoletos', 15]--->OK\nNone--->OK\n8--->OK\n"
          ]
        }
      ]
    },
    {
      "cell_type": "code",
      "metadata": {
        "id": "IuC1mOUW-nep"
      },
      "source": [
        "def except_the_first(whichever_list):\n",
        "    for x in whichever_list:\n",
        "        while whichever_list:\n",
        "            print(whichever_list[1:])\n",
        "            return (whichever_list[0])\n",
        "except_the_first(info_list)"
      ],
      "execution_count": 20,
      "outputs": [
        {
          "output_type": "stream",
          "name": "stdout",
          "text": [
            "['Recoletos', True, ['Recoletos', 15], None, '8']\n"
          ]
        },
        {
          "output_type": "execute_result",
          "data": {
            "text/plain": [
              "15"
            ]
          },
          "metadata": {},
          "execution_count": 20
        }
      ]
    },
    {
      "cell_type": "code",
      "metadata": {
        "id": "YPqqkHMM-nep"
      },
      "source": [
        "def except_the_first(whichever_list):\n",
        "    for x in whichever_list:\n",
        "        while whichever_list:\n",
        "            print(whichever_list[:-1])\n",
        "            return (whichever_list[-1])\n",
        "except_the_first(info_list)"
      ],
      "execution_count": 21,
      "outputs": [
        {
          "output_type": "stream",
          "name": "stdout",
          "text": [
            "[15, 'Recoletos', True, ['Recoletos', 15], None]\n"
          ]
        },
        {
          "output_type": "execute_result",
          "data": {
            "text/plain": [
              "'8'"
            ]
          },
          "metadata": {},
          "execution_count": 21
        }
      ]
    },
    {
      "cell_type": "code",
      "metadata": {
        "id": "RnG-gaE_-neq"
      },
      "source": [],
      "execution_count": null,
      "outputs": []
    },
    {
      "cell_type": "markdown",
      "metadata": {
        "id": "FRTgONCP-neq"
      },
      "source": [
        "### Exercise 3. "
      ]
    },
    {
      "cell_type": "markdown",
      "metadata": {
        "id": "HKgY0u1S-neq"
      },
      "source": [
        "1. Define a function that performs the [Fibonacci series](https://quantdare.com/numeros-de-fibonacci/#:~:text=En%20matem%C3%A1ticas%2C%20la%20sucesi%C3%B3n%20o,nombre%20de%20n%C3%BAmero%20de%20Fibonacci.) with a `while`."
      ]
    },
    {
      "cell_type": "code",
      "metadata": {
        "id": "k60lO8NX-neq"
      },
      "source": [
        "\n",
        "def fibonacci(n):\n",
        "    x = 0\n",
        "    y = 1\n",
        "    i = 0\n",
        "    while(i < n):\n",
        "        if i >= 1:\n",
        "            siguiente= i\n",
        "        else:\n",
        "            siguiente = x + y\n",
        "            x = y\n",
        "            y = siguiente\n",
        "        print(siguiente)\n",
        "        i = i + 1\n",
        "fibonacci(100)\n",
        "            "
      ],
      "execution_count": 18,
      "outputs": [
        {
          "output_type": "stream",
          "name": "stdout",
          "text": [
            "1\n1\n2\n3\n4\n5\n6\n7\n8\n9\n10\n11\n12\n13\n14\n15\n16\n17\n18\n19\n20\n21\n22\n23\n24\n25\n26\n27\n28\n29\n30\n31\n32\n33\n34\n35\n36\n37\n38\n39\n40\n41\n42\n43\n44\n45\n46\n47\n48\n49\n50\n51\n52\n53\n54\n55\n56\n57\n58\n59\n60\n61\n62\n63\n64\n65\n66\n67\n68\n69\n70\n71\n72\n73\n74\n75\n76\n77\n78\n79\n80\n81\n82\n83\n84\n85\n86\n87\n88\n89\n90\n91\n92\n93\n94\n95\n96\n97\n98\n99\n"
          ]
        }
      ]
    },
    {
      "cell_type": "markdown",
      "metadata": {
        "id": "XMerGFDl-neq"
      },
      "source": [
        "### Bonus Track."
      ]
    },
    {
      "cell_type": "markdown",
      "metadata": {
        "id": "FoX2z3s0-neq"
      },
      "source": [
        "To solve the following exercises it will be necessary to define a function for each section. You choose the name of those functions unless specified, but make sure you define a single parameter `whichever_list`, when calling the function it will correspond to the variable `info_list`."
      ]
    },
    {
      "cell_type": "code",
      "metadata": {
        "id": "vYkqWxFJ-ner"
      },
      "source": [
        "# you can use this list or take yours from Practice 3\n",
        "info_list = [15, 'Recoletos', True, ['Recoletos', 15],  None, '8'] "
      ],
      "execution_count": null,
      "outputs": []
    },
    {
      "cell_type": "markdown",
      "metadata": {
        "id": "oVw7aD4M-ner"
      },
      "source": [
        "1. Define a function `f_s` that saves the value of a word (for example: \"nothing\") in a variable and print it. Also, concatenate its value with the street number of The Bridge and display it on the screen. \n",
        "\n",
        "   Also, display a boolean **True** if the length of the concatenated word is 6. If not, it will be **False**. The function must return the value **True** or **False**."
      ]
    },
    {
      "cell_type": "code",
      "metadata": {
        "id": "ZrLyWYfe-ner"
      },
      "source": [],
      "execution_count": null,
      "outputs": []
    },
    {
      "cell_type": "markdown",
      "metadata": {
        "id": "u-lvgqE_-ner"
      },
      "source": [
        "2. Create a list `list_aux` with 7 elements, whichever you want. Next, create a function `function_use_f_s` which receives as parameters a function `some_function`, a word which is the argument of `some_funtion` and whichever list `whichever_list`. If the value of `some_function` is **True**, then delete an item from `whichever_list`. Repeat the process until `whichever_list` has no elements. The argument for `whichever_list` must be `list_aux` and for `some_function` it will be the function `f_s` from the previous point."
      ]
    },
    {
      "cell_type": "code",
      "metadata": {
        "id": "IR3zOJBI-nes"
      },
      "source": [],
      "execution_count": null,
      "outputs": []
    },
    {
      "cell_type": "markdown",
      "metadata": {
        "id": "jOLm57rp-nes"
      },
      "source": [
        "3. Define a function `even_numbers` that has an input parameter `arg1`, type integer. The function must return a list of numbers of size `arg1`, all of them being even numbers. \n",
        "\n",
        "   Don't use the function `print()` inside the function, but print what `even_numbers` returns when calling it with the argument `10`, just to check your function works.\n",
        "   \n",
        "```python\n",
        "print(even_numbers(10))\n",
        "```"
      ]
    },
    {
      "cell_type": "code",
      "metadata": {
        "id": "5qyHQEwP-nes"
      },
      "source": [],
      "execution_count": null,
      "outputs": []
    },
    {
      "cell_type": "markdown",
      "metadata": {
        "id": "4k_A0BpB-nes"
      },
      "source": [
        "4. Create a function that has an input variable `arg1`, which will be the list of even numbers from the previous section, and that removes elements from the list, one by one, if `arg1` has a size divisible by 2 and, if not, it adds just once, the value of the function `f_s` that should be a boolean (`True` or `False`).\n"
      ]
    },
    {
      "cell_type": "code",
      "metadata": {
        "id": "L1j1geV--nes"
      },
      "source": [],
      "execution_count": null,
      "outputs": []
    },
    {
      "cell_type": "markdown",
      "metadata": {
        "id": "avw-DxsX-net"
      },
      "source": [
        "!['nicetry'](https://i.pinimg.com/originals/36/ab/81/36ab81cd8d63cf7c4a08f39403698c77.jpg)"
      ]
    }
  ]
}