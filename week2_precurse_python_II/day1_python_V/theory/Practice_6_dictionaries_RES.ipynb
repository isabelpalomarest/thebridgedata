{
  "nbformat": 4,
  "nbformat_minor": 0,
  "metadata": {
    "kernelspec": {
      "display_name": "Python 3",
      "language": "python",
      "name": "python3"
    },
    "language_info": {
      "codemirror_mode": {
        "name": "ipython",
        "version": 3
      },
      "file_extension": ".py",
      "mimetype": "text/x-python",
      "name": "python",
      "nbconvert_exporter": "python",
      "pygments_lexer": "ipython3",
      "version": "3.8.3"
    },
    "colab": {
      "name": "Practice_6_dictionaries_RES.ipynb",
      "provenance": []
    }
  },
  "cells": [
    {
      "cell_type": "markdown",
      "metadata": {
        "id": "dOzIGZJ6g7D8"
      },
      "source": [
        "# Python | day 6 | dictionaries"
      ]
    },
    {
      "cell_type": "markdown",
      "metadata": {
        "id": "kNzd2zFzg7EB"
      },
      "source": [
        "Dictionaries are used to store data values in key:value pairs.\n",
        "\n",
        "A dictionary is a collection which is unordered, changeable and does not allow duplicates.\n",
        "\n",
        "Dictionaries are written with curly brackets, and have keys and values:"
      ]
    },
    {
      "cell_type": "markdown",
      "metadata": {
        "id": "FT8fGj4lg7EC"
      },
      "source": [
        "```python\n",
        "thisdict = {\n",
        "  \"brand\": \"Ford\",\n",
        "  \"model\": \"Mustang\",\n",
        "  \"year\": 1964\n",
        "}\n",
        "```"
      ]
    },
    {
      "cell_type": "markdown",
      "metadata": {
        "id": "3d6RimUfg7ED"
      },
      "source": [
        "https://www.w3schools.com/python/python_dictionaries.asp"
      ]
    },
    {
      "cell_type": "markdown",
      "metadata": {
        "id": "y0GJ2vvKg7ED"
      },
      "source": [
        "### Exercise 1. \n",
        "\n",
        "1. Create a dictionary with an integer 5 as the key and \"val\" as its value."
      ]
    },
    {
      "cell_type": "code",
      "metadata": {
        "id": "DI3-wUMOg7ED"
      },
      "source": [
        "thisdict = {5: 'val'}"
      ],
      "execution_count": null,
      "outputs": []
    },
    {
      "cell_type": "markdown",
      "metadata": {
        "id": "2Ud1jpnTg7EE"
      },
      "source": [
        "2. Create two lists: one that has 4 city names and another that has 4 landmarks in the city."
      ]
    },
    {
      "cell_type": "code",
      "metadata": {
        "id": "xNonM_B6g7EE"
      },
      "source": [
        "cities = ['Madrid', 'Moscú', 'Berín', 'París']\n",
        "land_marks = ['Cibeles', 'Plaza Roja', 'Reichstag', 'Campos elíseos']"
      ],
      "execution_count": null,
      "outputs": []
    },
    {
      "cell_type": "markdown",
      "metadata": {
        "id": "JVX8zbUig7EE"
      },
      "source": [
        "3. Create a dictionary where the cities contained in the first list are the **keys** and the landmarks are the **values**.\n",
        "```python\n",
        "#example\n",
        "places = {\"Malaga\": \"Gibralfaro\", \n",
        "         \"Madrid\": \"Templo de Debod\",\n",
        "         \"Granada\": \"La Alcazaba\",\n",
        "         \"Barcelona\": \"Sagrada Familia\"}\n",
        "```"
      ]
    },
    {
      "cell_type": "code",
      "metadata": {
        "id": "EHT-1dW7g7EE"
      },
      "source": [
        "places = {cities[0]: land_marks[0], cities[1]: land_marks[1], cities[2]: land_marks[2], cities[3]: land_marks[3]}\n",
        "\n",
        "print(places)"
      ],
      "execution_count": null,
      "outputs": []
    },
    {
      "cell_type": "markdown",
      "metadata": {
        "id": "VstO4xtig7EF"
      },
      "source": [
        "4. Loop through the dictionary and print only the values of those keys starting with the letter **M**.\n",
        "\n",
        "https://realpython.com/iterate-through-dictionary-python/"
      ]
    },
    {
      "cell_type": "code",
      "metadata": {
        "id": "YavmqZOlg7EF"
      },
      "source": [
        "for e in places:\n",
        "    if e.startswith('M'):\n",
        "        print(places[e])"
      ],
      "execution_count": null,
      "outputs": []
    },
    {
      "cell_type": "markdown",
      "metadata": {
        "id": "QAXYdbu_g7EF"
      },
      "source": [
        "5. Create a function that receives two lists `list1` and `list2` by parameter and returns a dictionary with each element of `list1` as keys and the elements of `list2` as values. Call the function with the lists you have created before to return the same dictionary you've created in question 3. "
      ]
    },
    {
      "cell_type": "code",
      "metadata": {
        "id": "J8UlLfmFg7EF"
      },
      "source": [
        "def dict_creator (list_1, list_2):\n",
        "    \"\"\"\n",
        "    ---What it does---\n",
        "    This function creates a dictionary from two given lists.\n",
        "    ---What it needs---\n",
        "        - Two lists (list_1 and list_2)\n",
        "    ---What it returns---\n",
        "    A dictionary object.\n",
        "    \"\"\"\n",
        "    print (f'1st list: {list_1}')\n",
        "    print(f'2nd list: {list_2}')\n",
        "\n",
        "    dictionary ={}\n",
        "    \n",
        "    # To avoid issues with list's lenght!\n",
        "    if len(list_1) == len(list_2):\n",
        "        lenght = len(list_1)\n",
        "\n",
        "    elif len(list_1) > len(list_2):\n",
        "        lenght = len(list_1)\n",
        "\n",
        "    else:\n",
        "        lenght = len(list_2)\n",
        "\n",
        "    for e in range(lenght):\n",
        "        dictionary[list_1[e]] = list_2[e]\n",
        "\n",
        "    return dictionary"
      ],
      "execution_count": null,
      "outputs": []
    },
    {
      "cell_type": "code",
      "metadata": {
        "id": "YscjMexxg7EG"
      },
      "source": [
        "dictionary_returned = dict_creator(cities, land_marks)\n",
        "dictionary_returned"
      ],
      "execution_count": null,
      "outputs": []
    },
    {
      "cell_type": "markdown",
      "metadata": {
        "id": "h70wmpv6g7EG"
      },
      "source": [
        "### Exercise 2. "
      ]
    },
    {
      "cell_type": "markdown",
      "metadata": {
        "id": "E2vf8JeIg7EG"
      },
      "source": [
        "1. Create an empty dictionary called dog."
      ]
    },
    {
      "cell_type": "code",
      "metadata": {
        "id": "D5RvyhlXg7EG"
      },
      "source": [
        "dog = {}"
      ],
      "execution_count": null,
      "outputs": []
    },
    {
      "cell_type": "markdown",
      "metadata": {
        "id": "kRTjo_BRg7EH"
      },
      "source": [
        "2. Add name, color, breed, legs, age to the dog dictionary."
      ]
    },
    {
      "cell_type": "code",
      "metadata": {
        "id": "3PGuBkWlg7EH"
      },
      "source": [
        "name= 'Colmillo'\n",
        "color = 'Black'\n",
        "breed = 'German shepherd'\n",
        "legs = 4\n",
        "age = 6"
      ],
      "execution_count": null,
      "outputs": []
    },
    {
      "cell_type": "code",
      "metadata": {
        "id": "jqBPIHlxg7EH",
        "outputId": "dd6503f3-8bc6-4fca-8c2f-9141aeb7e44a"
      },
      "source": [
        "dog['Name'] = name\n",
        "dog['Color'] = color\n",
        "dog['Breed'] = breed\n",
        "dog['Legs'] = legs\n",
        "dog['age'] = age\n",
        "\n",
        "dog"
      ],
      "execution_count": null,
      "outputs": [
        {
          "output_type": "execute_result",
          "data": {
            "text/plain": [
              "{'Name': 'Colmillo',\n",
              " 'Color': 'Black',\n",
              " 'Breed': 'German shepherd',\n",
              " 'Legs': 4,\n",
              " 'age': 6}"
            ]
          },
          "metadata": {
            "tags": []
          },
          "execution_count": 9
        }
      ]
    },
    {
      "cell_type": "markdown",
      "metadata": {
        "id": "oZI92kFvg7EI"
      },
      "source": [
        "3. Create a student dictionary and add first_name, last_name, age, skills, country, city and address as keys for the dictionary.\n"
      ]
    },
    {
      "cell_type": "code",
      "metadata": {
        "id": "wR53XXCPg7EI"
      },
      "source": [
        "student = {}\n",
        "\n",
        "key_list = ['first_name', 'last_name', 'age', 'skills', 'country', 'city', 'address']\n",
        "value_list = ['Moe', 'Szyslak', 46, ['Serving beer', 'Drunk toss-out', 'Criminal demenour'], 'US', 'Springfield', 'False Stret n123']"
      ],
      "execution_count": null,
      "outputs": []
    },
    {
      "cell_type": "code",
      "metadata": {
        "id": "4fnnTQmIg7EI",
        "outputId": "8d709974-3402-4b24-d5cd-bdcf6924d500"
      },
      "source": [
        "for e in range(len(key_list)):\n",
        "    student[key_list[e]] = value_list[e]\n",
        "\n",
        "student"
      ],
      "execution_count": null,
      "outputs": [
        {
          "output_type": "execute_result",
          "data": {
            "text/plain": [
              "{'first_name': 'Moe',\n",
              " 'last_name': 'Szyslak',\n",
              " 'age': 46,\n",
              " 'skills': ['Serving beer', 'Drunk toss-out', 'Criminal demenour'],\n",
              " 'country': 'US',\n",
              " 'city': 'Springfield',\n",
              " 'address': 'False Stret n123'}"
            ]
          },
          "metadata": {
            "tags": []
          },
          "execution_count": 11
        }
      ]
    },
    {
      "cell_type": "code",
      "metadata": {
        "id": "PndOZdVsg7EI",
        "outputId": "21a09b63-9e52-4d0b-fe46-63526f5e6928"
      },
      "source": [
        "student = dict_creator(key_list, value_list)\n",
        "student"
      ],
      "execution_count": null,
      "outputs": [
        {
          "output_type": "stream",
          "text": [
            "1st list: ['first_name', 'last_name', 'age', 'skills', 'country', 'city', 'address']\n",
            "2nd list: ['Moe', 'Szyslak', 46, ['Serving beer', 'Drunk toss-out', 'Criminal demenour'], 'US', 'Springfield', 'False Stret n123']\n"
          ],
          "name": "stdout"
        },
        {
          "output_type": "execute_result",
          "data": {
            "text/plain": [
              "{'first_name': 'Moe',\n",
              " 'last_name': 'Szyslak',\n",
              " 'age': 46,\n",
              " 'skills': ['Serving beer', 'Drunk toss-out', 'Criminal demenour'],\n",
              " 'country': 'US',\n",
              " 'city': 'Springfield',\n",
              " 'address': 'False Stret n123'}"
            ]
          },
          "metadata": {
            "tags": []
          },
          "execution_count": 12
        }
      ]
    },
    {
      "cell_type": "markdown",
      "metadata": {
        "id": "tmHzdj3Ug7EJ"
      },
      "source": [
        "4. Get the length of the student dictionary.\n"
      ]
    },
    {
      "cell_type": "code",
      "metadata": {
        "id": "lCIvhg48g7EJ",
        "outputId": "a391582f-b578-4714-f39c-11c1d0c1e165"
      },
      "source": [
        "len(student)"
      ],
      "execution_count": null,
      "outputs": [
        {
          "output_type": "execute_result",
          "data": {
            "text/plain": [
              "7"
            ]
          },
          "metadata": {
            "tags": []
          },
          "execution_count": 13
        }
      ]
    },
    {
      "cell_type": "markdown",
      "metadata": {
        "id": "eFZ0X8zqg7EJ"
      },
      "source": [
        "5. Get the value of skills and check the data type, it should be a list."
      ]
    },
    {
      "cell_type": "code",
      "metadata": {
        "id": "m5xyXmhqg7EJ",
        "outputId": "ca4b6937-7b11-4df9-88dc-dda53d1790b7"
      },
      "source": [
        "type(student['skills'])"
      ],
      "execution_count": null,
      "outputs": [
        {
          "output_type": "execute_result",
          "data": {
            "text/plain": [
              "list"
            ]
          },
          "metadata": {
            "tags": []
          },
          "execution_count": 14
        }
      ]
    },
    {
      "cell_type": "markdown",
      "metadata": {
        "id": "oQ4JZseag7EK"
      },
      "source": [
        "6. Modify the skills values by adding one or two skills."
      ]
    },
    {
      "cell_type": "code",
      "metadata": {
        "id": "jK4EONnTg7EK",
        "outputId": "3e13483e-b1c7-4a03-b7ea-7ffd0519425f"
      },
      "source": [
        "student['skills'].append('Reckless driving')\n",
        "student['skills'].append('Hip-hop self defense')\n",
        "\n",
        "student['skills']"
      ],
      "execution_count": null,
      "outputs": [
        {
          "output_type": "execute_result",
          "data": {
            "text/plain": [
              "['Serving beer',\n",
              " 'Drunk toss-out',\n",
              " 'Criminal demenour',\n",
              " 'Reckless driving',\n",
              " 'Hip-hop self defense']"
            ]
          },
          "metadata": {
            "tags": []
          },
          "execution_count": 15
        }
      ]
    },
    {
      "cell_type": "markdown",
      "metadata": {
        "id": "1hwkr9pxg7EK"
      },
      "source": [
        "7. Get the dictionary keys as a list."
      ]
    },
    {
      "cell_type": "code",
      "metadata": {
        "id": "GJs5kqjhg7EK",
        "outputId": "5bbc11c5-69f5-4ce8-b900-31030ea1aa47"
      },
      "source": [
        "list(student.keys())"
      ],
      "execution_count": null,
      "outputs": [
        {
          "output_type": "execute_result",
          "data": {
            "text/plain": [
              "['first_name', 'last_name', 'age', 'skills', 'country', 'city', 'address']"
            ]
          },
          "metadata": {
            "tags": []
          },
          "execution_count": 16
        }
      ]
    },
    {
      "cell_type": "markdown",
      "metadata": {
        "id": "YoV-oX22g7EK"
      },
      "source": [
        "8. Get the dictionary values as a list.\n"
      ]
    },
    {
      "cell_type": "code",
      "metadata": {
        "id": "-1zgjsy8g7EL",
        "outputId": "0bea3a6c-d3df-4ace-fcbb-ddd27dc66a59"
      },
      "source": [
        "list(student.values())"
      ],
      "execution_count": null,
      "outputs": [
        {
          "output_type": "execute_result",
          "data": {
            "text/plain": [
              "['Moe',\n",
              " 'Szyslak',\n",
              " 46,\n",
              " ['Serving beer',\n",
              "  'Drunk toss-out',\n",
              "  'Criminal demenour',\n",
              "  'Reckless driving',\n",
              "  'Hip-hop self defense'],\n",
              " 'US',\n",
              " 'Springfield',\n",
              " 'False Stret n123']"
            ]
          },
          "metadata": {
            "tags": []
          },
          "execution_count": 17
        }
      ]
    },
    {
      "cell_type": "markdown",
      "metadata": {
        "id": "1dFcwzbcg7EL"
      },
      "source": [
        "9. Change the dictionary to a list of tuples using `items()` method"
      ]
    },
    {
      "cell_type": "code",
      "metadata": {
        "id": "ij3YRxZEg7EL",
        "outputId": "c74e33c4-8950-452b-c650-769514d326dc"
      },
      "source": [
        "student_items = student.items()\n",
        "student_items"
      ],
      "execution_count": null,
      "outputs": [
        {
          "output_type": "execute_result",
          "data": {
            "text/plain": [
              "dict_items([('first_name', 'Moe'), ('last_name', 'Szyslak'), ('age', 46), ('skills', ['Serving beer', 'Drunk toss-out', 'Criminal demenour', 'Reckless driving', 'Hip-hop self defense']), ('country', 'US'), ('city', 'Springfield'), ('address', 'False Stret n123')])"
            ]
          },
          "metadata": {
            "tags": []
          },
          "execution_count": 18
        }
      ]
    },
    {
      "cell_type": "markdown",
      "metadata": {
        "id": "_yIeSDatg7EL"
      },
      "source": [
        "10. Delete one of the items in the dictionary.\n"
      ]
    },
    {
      "cell_type": "code",
      "metadata": {
        "id": "6TM5jcSdg7EM",
        "outputId": "b77f15e0-9932-404f-fab3-19871bbd6da4"
      },
      "source": [
        "del student['address']\n",
        "student"
      ],
      "execution_count": null,
      "outputs": [
        {
          "output_type": "execute_result",
          "data": {
            "text/plain": [
              "{'first_name': 'Moe',\n",
              " 'last_name': 'Szyslak',\n",
              " 'age': 46,\n",
              " 'skills': ['Serving beer',\n",
              "  'Drunk toss-out',\n",
              "  'Criminal demenour',\n",
              "  'Reckless driving',\n",
              "  'Hip-hop self defense'],\n",
              " 'country': 'US',\n",
              " 'city': 'Springfield'}"
            ]
          },
          "metadata": {
            "tags": []
          },
          "execution_count": 19
        }
      ]
    },
    {
      "cell_type": "markdown",
      "metadata": {
        "id": "YyhIpmnrg7EM"
      },
      "source": [
        "### Bonus Track"
      ]
    },
    {
      "cell_type": "markdown",
      "metadata": {
        "id": "V9AiO65wg7EM"
      },
      "source": [
        "**Tómate un zumito a tu salud.**"
      ]
    },
    {
      "cell_type": "markdown",
      "metadata": {
        "id": "ALu1j4trg7EM"
      },
      "source": [
        "!['daughter'](https://i.pinimg.com/originals/8f/35/28/8f35281e742e71be09697e7e6789b819.png)"
      ]
    },
    {
      "cell_type": "code",
      "metadata": {
        "id": "QigAE1AAg7EM"
      },
      "source": [
        ""
      ],
      "execution_count": null,
      "outputs": []
    }
  ]
}