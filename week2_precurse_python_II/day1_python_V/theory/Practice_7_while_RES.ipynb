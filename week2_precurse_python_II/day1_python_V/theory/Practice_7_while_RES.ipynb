{
  "nbformat": 4,
  "nbformat_minor": 0,
  "metadata": {
    "kernelspec": {
      "display_name": "Python 3",
      "language": "python",
      "name": "python3"
    },
    "language_info": {
      "codemirror_mode": {
        "name": "ipython",
        "version": 3
      },
      "file_extension": ".py",
      "mimetype": "text/x-python",
      "name": "python",
      "nbconvert_exporter": "python",
      "pygments_lexer": "ipython3",
      "version": "3.8.3"
    },
    "colab": {
      "name": "Practice_7_while_RES.ipynb",
      "provenance": []
    }
  },
  "cells": [
    {
      "cell_type": "markdown",
      "metadata": {
        "id": "QyypkmWYg7_A"
      },
      "source": [
        "# Python | day 6 | while"
      ]
    },
    {
      "cell_type": "markdown",
      "metadata": {
        "id": "ENJt1jmng7_D"
      },
      "source": [
        "With the **while** loop we can execute a set of statements as long as a condition is true."
      ]
    },
    {
      "cell_type": "markdown",
      "metadata": {
        "id": "48znaOo6g7_F"
      },
      "source": [
        "```python\n",
        "i = 1\n",
        "while i < 6:\n",
        "  print(i)\n",
        "  i += 1\n",
        "```"
      ]
    },
    {
      "cell_type": "markdown",
      "metadata": {
        "id": "YFZ5HSL1g7_G"
      },
      "source": [
        "https://www.w3schools.com/python/python_while_loops.asp"
      ]
    },
    {
      "cell_type": "markdown",
      "metadata": {
        "id": "LjNAdFs8g7_G"
      },
      "source": [
        "### Exercise 1. "
      ]
    },
    {
      "cell_type": "markdown",
      "metadata": {
        "id": "7hRNlqqpg7_H"
      },
      "source": [
        "Do as described below:\n",
        "\n",
        "- Make a variable called strength, and set its initial value to 5.\n",
        "\n",
        "- Print a message reporting the player's strength.\n",
        "\n",
        "- Set up a while loop that runs until the player's strength increases to a value such as 10.\n",
        "\n",
        "- Inside the while loop, print a message that reports the player's current strength.\n",
        "\n",
        "- Inside the while loop, write a statement that increases the player's strength.\n",
        "\n",
        "- Outside the while loop, print a message reporting that the player has grown too strong, and that they have moved up to a new level of the game.\n",
        "\n",
        "Play around with different cutoff levels for the value of strength, and play around with different ways to increase the strength value within the while loop.\n"
      ]
    },
    {
      "cell_type": "code",
      "metadata": {
        "id": "98K6hdTrg7_I",
        "outputId": "7107e8ea-ae64-4544-95dc-cb58189ba6ec"
      },
      "source": [
        "print('-Take 1-')\n",
        "\n",
        "strength = 5\n",
        "print (strength)\n",
        "print()\n",
        "\n",
        "while strength <= 10:\n",
        "    print(strength)\n",
        "    strength += 1\n",
        "\n",
        "print('You have become more powerfull than you think! You are now level 2!')"
      ],
      "execution_count": null,
      "outputs": [
        {
          "output_type": "stream",
          "text": [
            "-Take 1-\n",
            "5\n",
            "\n",
            "5\n",
            "6\n",
            "7\n",
            "8\n",
            "9\n",
            "10\n",
            "You have become more powerfull than you think! You are now level 2!\n"
          ],
          "name": "stdout"
        }
      ]
    },
    {
      "cell_type": "code",
      "metadata": {
        "id": "StSOsPkBg7_J",
        "outputId": "1c8d6622-fd26-4c7a-9886-ae2e9186334d"
      },
      "source": [
        "print('-Take 2-')\n",
        "\n",
        "strength = 5\n",
        "print (strength)\n",
        "print()\n",
        "\n",
        "while strength <= 10:\n",
        "    print(strength)\n",
        "    strength *= 2\n",
        "\n",
        "print('You have become more powerfull than you think! You are now level 2!')"
      ],
      "execution_count": null,
      "outputs": [
        {
          "output_type": "stream",
          "text": [
            "-Take 2-\n",
            "5\n",
            "\n",
            "5\n",
            "10\n",
            "You have become more powerfull than you think! You are now level 2!\n"
          ],
          "name": "stdout"
        }
      ]
    },
    {
      "cell_type": "code",
      "metadata": {
        "id": "lh2ttEtPg7_K",
        "outputId": "f83a5bc1-f80c-4016-b9fe-c29b609db867"
      },
      "source": [
        "print('-Take 3-')\n",
        "\n",
        "strength = 5\n",
        "print (strength)\n",
        "print()\n",
        "\n",
        "while strength <= 1000:\n",
        "    print(strength)\n",
        "    strength **= 2\n",
        "\n",
        "print('You have become more powerfull than you think! You are now level 2!')"
      ],
      "execution_count": null,
      "outputs": [
        {
          "output_type": "stream",
          "text": [
            "-Take 3-\n",
            "5\n",
            "\n",
            "5\n",
            "25\n",
            "625\n",
            "You have become more powerfull than you think! You are now level 2!\n"
          ],
          "name": "stdout"
        }
      ]
    },
    {
      "cell_type": "markdown",
      "metadata": {
        "id": "ttBluPZXg7_L"
      },
      "source": [
        "### Exercise 2. "
      ]
    },
    {
      "cell_type": "markdown",
      "metadata": {
        "id": "dcFYo7cIg7_M"
      },
      "source": [
        "To solve the following exercises it will be necessary to define a function for each section. You choose the name of those functions unless specified, but make sure you define a single parameter `whichever_list`, when calling the function it will correspond to the variable `info_list`."
      ]
    },
    {
      "cell_type": "code",
      "metadata": {
        "id": "2sl4u1CFg7_M"
      },
      "source": [
        "# you can use this list or take yours from Practice 3\n",
        "info_list = [15, 'Recoletos', True, ['Recoletos', 15],  None, '8'] "
      ],
      "execution_count": null,
      "outputs": []
    },
    {
      "cell_type": "markdown",
      "metadata": {
        "id": "CedGzPQBg7_N"
      },
      "source": [
        "You have already read these questions below, but this time you are asked to solve it using `while` loop instead of `for`. \n",
        "\n",
        "   - Loop through `whichever_list` to print all the elements it contains. This function should return the list turned into a tuple. \n",
        "   - Loop through `whichever_list` to print all the elements it contains concatenated with the string` \"--> OK\" `. This function should return a message saying, `\"everything will be ok\"`. \n",
        "   - Loop through `whichever_list` to display all items it contains except the first one. This function should return the first element of the list. \n",
        "   - Loop through `whichever_list` to display all the items it contains except the last one. This function should return the last element of the list. "
      ]
    },
    {
      "cell_type": "code",
      "metadata": {
        "id": "ZiZX0VKhg7_O",
        "outputId": "b97656e7-f509-43e9-91d3-0eaf2aa8501b"
      },
      "source": [
        "def looper (info_list):\n",
        "    \"\"\"\n",
        "    Loop through whichever_list to print all the elements it contains. This function should return the list turned into a tuple.\n",
        "    \"\"\"\n",
        "    a = 0\n",
        "    while a < len(info_list):\n",
        "        print(info_list[a])\n",
        "        a += 1\n",
        "\n",
        "looper(info_list)"
      ],
      "execution_count": null,
      "outputs": [
        {
          "output_type": "stream",
          "text": [
            "15\n",
            "Recoletos\n",
            "True\n",
            "['Recoletos', 15]\n",
            "None\n",
            "8\n"
          ],
          "name": "stdout"
        }
      ]
    },
    {
      "cell_type": "code",
      "metadata": {
        "id": "z-ln7YL8g7_P",
        "outputId": "40ae6946-1cb1-4034-a9ec-ccfebb2300b6"
      },
      "source": [
        "def reassuring_looper (info_list):\n",
        "    \"\"\"\n",
        "    Loop through whichever_list to print all the elements it contains concatenated with the string\"--> OK\". This function should return a message saying, \"everything will be ok\"\n",
        "    \"\"\"\n",
        "    a = 0\n",
        "    while a < len(info_list):\n",
        "        print(str(info_list[a])+'--> OK')\n",
        "        a += 1\n",
        "    return 'Everything will be OK!'\n",
        "\n",
        "will_be = reassuring_looper(info_list)\n",
        "will_be"
      ],
      "execution_count": null,
      "outputs": [
        {
          "output_type": "stream",
          "text": [
            "15--> OK\n",
            "Recoletos--> OK\n",
            "True--> OK\n",
            "['Recoletos', 15]--> OK\n",
            "None--> OK\n",
            "8--> OK\n"
          ],
          "name": "stdout"
        },
        {
          "output_type": "execute_result",
          "data": {
            "text/plain": [
              "'Everything will be OK!'"
            ]
          },
          "metadata": {
            "tags": []
          },
          "execution_count": 6
        }
      ]
    },
    {
      "cell_type": "code",
      "metadata": {
        "id": "7n5w_vkDg7_P",
        "outputId": "6153593c-96e0-4cff-b78f-84e0e2a9bd3e"
      },
      "source": [
        "def looper (info_list):\n",
        "    \"\"\"\n",
        "    Loop through whichever_list to display all items it contains except the first one. This function should return the first element of the list.\n",
        "    \"\"\"\n",
        "    a = 1\n",
        "    while a < len(info_list):\n",
        "        print(info_list[a])\n",
        "        a += 1\n",
        "    \n",
        "    return info_list[0]\n",
        "    \n",
        "a_return = looper(info_list)\n",
        "a_return"
      ],
      "execution_count": null,
      "outputs": [
        {
          "output_type": "stream",
          "text": [
            "Recoletos\n",
            "True\n",
            "['Recoletos', 15]\n",
            "None\n",
            "8\n"
          ],
          "name": "stdout"
        },
        {
          "output_type": "execute_result",
          "data": {
            "text/plain": [
              "15"
            ]
          },
          "metadata": {
            "tags": []
          },
          "execution_count": 7
        }
      ]
    },
    {
      "cell_type": "code",
      "metadata": {
        "id": "b5H60T2vg7_Q",
        "outputId": "120d73ff-01d4-4982-9371-b8236a4daaf0"
      },
      "source": [
        "def looper (info_list):\n",
        "    \"\"\"\n",
        "    Loop through whichever_list to display all the items it contains except the last one. This function should return the last element of the list.\n",
        "    \"\"\"\n",
        "    a = 0\n",
        "    while a < (len(info_list)-1):\n",
        "        print(info_list[a])\n",
        "        a += 1\n",
        "    \n",
        "    return info_list[-1]\n",
        "    \n",
        "a_return = looper(info_list)\n",
        "a_return"
      ],
      "execution_count": null,
      "outputs": [
        {
          "output_type": "stream",
          "text": [
            "15\n",
            "Recoletos\n",
            "True\n",
            "['Recoletos', 15]\n",
            "None\n"
          ],
          "name": "stdout"
        },
        {
          "output_type": "execute_result",
          "data": {
            "text/plain": [
              "'8'"
            ]
          },
          "metadata": {
            "tags": []
          },
          "execution_count": 8
        }
      ]
    },
    {
      "cell_type": "markdown",
      "metadata": {
        "id": "xYZrMec8g7_R"
      },
      "source": [
        "### Exercise 3. "
      ]
    },
    {
      "cell_type": "markdown",
      "metadata": {
        "id": "kZukGkQWg7_S"
      },
      "source": [
        "1. Define a function that performs the [Fibonacci series](https://quantdare.com/numeros-de-fibonacci/#:~:text=En%20matem%C3%A1ticas%2C%20la%20sucesi%C3%B3n%20o,nombre%20de%20n%C3%BAmero%20de%20Fibonacci.) with a `while`."
      ]
    },
    {
      "cell_type": "code",
      "metadata": {
        "id": "0KRyMMlSg7_S",
        "outputId": "870394b8-b8c3-4fb3-9453-f65302234763"
      },
      "source": [
        "def fibonacci ():\n",
        "    \"\"\"\n",
        "    Define a function that performs the Fibonacci series with a while.\n",
        "    \"\"\"\n",
        "    fib = [0]\n",
        "    \n",
        "    while len(fib) < 50:\n",
        "        if len(fib) < 2:\n",
        "            fib.append(1)\n",
        "        else:\n",
        "            fib.append(fib[-1] + fib [-2])\n",
        "    \n",
        "    print (f'Sum of the 50 first numbers in Fibonacci series{sum(fib)}\\n')\n",
        "    print(fib)\n",
        "\n",
        "fibonacci()"
      ],
      "execution_count": null,
      "outputs": [
        {
          "output_type": "stream",
          "text": [
            "Sum of the 50 first numbers in Fibonacci series20365011073\n",
            "\n",
            "[0, 1, 1, 2, 3, 5, 8, 13, 21, 34, 55, 89, 144, 233, 377, 610, 987, 1597, 2584, 4181, 6765, 10946, 17711, 28657, 46368, 75025, 121393, 196418, 317811, 514229, 832040, 1346269, 2178309, 3524578, 5702887, 9227465, 14930352, 24157817, 39088169, 63245986, 102334155, 165580141, 267914296, 433494437, 701408733, 1134903170, 1836311903, 2971215073, 4807526976, 7778742049]\n"
          ],
          "name": "stdout"
        }
      ]
    },
    {
      "cell_type": "markdown",
      "metadata": {
        "id": "P6LHHXbdg7_U"
      },
      "source": [
        "### Bonus Track."
      ]
    },
    {
      "cell_type": "markdown",
      "metadata": {
        "id": "gURoAQphg7_U"
      },
      "source": [
        "To solve the following exercises it will be necessary to define a function for each section. You choose the name of those functions unless specified, but make sure you define a single parameter `whichever_list`, when calling the function it will correspond to the variable `info_list`."
      ]
    },
    {
      "cell_type": "code",
      "metadata": {
        "id": "23lIxp0Mg7_V"
      },
      "source": [
        "# you can use this list or take yours from Practice 3\n",
        "info_list = [15, 'Recoletos', True, ['Recoletos', 15],  None, '8'] "
      ],
      "execution_count": null,
      "outputs": []
    },
    {
      "cell_type": "markdown",
      "metadata": {
        "id": "P5gNvdLrg7_V"
      },
      "source": [
        "1. Define a function `f_s` that saves the value of a word (for example: \"nothing\") in a variable and print it. Also, concatenate its value with the street number of The Bridge and display it on the screen. \n",
        "\n",
        "   Also, display a boolean **True** if the length of the concatenated word is 6. If not, it will be **False**. The function must return the value **True** or **False**."
      ]
    },
    {
      "cell_type": "code",
      "metadata": {
        "id": "8DyrCuMkg7_W",
        "outputId": "ffa1fe85-1401-44b4-dce2-bd2d60549a1b"
      },
      "source": [
        "def f_s (whichever_list, word = \"nothing\"):\n",
        "\n",
        "    value_c = str(whichever_list[0]) + word\n",
        "    print(value_c)\n",
        "\n",
        "    if len(value_c) == 6:\n",
        "        print(True)\n",
        "        \n",
        "        return True\n",
        "    \n",
        "    else:\n",
        "        print(False)\n",
        "        \n",
        "        return False\n",
        "\n",
        "palabra = input(\"¿Qué palabra quieres usar? \")\n",
        "value = f_s(info_list, palabra)\n",
        "value"
      ],
      "execution_count": null,
      "outputs": [
        {
          "output_type": "stream",
          "text": [
            "¿Qué palabra quieres usar? hola\n",
            "15hola\n",
            "True\n"
          ],
          "name": "stdout"
        },
        {
          "output_type": "execute_result",
          "data": {
            "text/plain": [
              "True"
            ]
          },
          "metadata": {
            "tags": []
          },
          "execution_count": 15
        }
      ]
    },
    {
      "cell_type": "markdown",
      "metadata": {
        "id": "HqylBos1g7_X"
      },
      "source": [
        "2. Create a list `list_aux` with 7 elements, whichever you want. Next, create a function `function_use_f_s` which receives as parameters a function `some_function`, a word which is the argument of `some_funtion` and whichever list `whichever_list`. If the value of `some_function` is **True**, then delete an item from `whichever_list`. Repeat the process until `whichever_list` has no elements. The argument for `whichever_list` must be `list_aux` and for `some_function` it will be the function `f_s` from the previous point."
      ]
    },
    {
      "cell_type": "code",
      "metadata": {
        "id": "TBfV4o50g7_X",
        "outputId": "f7b70563-ab82-46b7-fa34-c23ee44110d8"
      },
      "source": [
        "list_aux = [\"The Long Good Friday\", \"The Mirror Crack'd\", \"Nomads\", \"Taffin\", \"El cuarto protocolo\", \"The Deceivers\", \"\tMister Johnson\"]\n",
        "\n",
        "def function_use_f_s(some_function, my_list):\n",
        "    if some_function:\n",
        "        while len(my_list) > 0:\n",
        "            my_list.pop(0)\n",
        "            print(my_list)\n",
        "\n",
        "#calling function\n",
        "palabra = input(\"¿Qué palabra quieres usar? \")\n",
        "function_use_f_s(f_s(info_list, palabra), list_aux)"
      ],
      "execution_count": null,
      "outputs": [
        {
          "output_type": "stream",
          "text": [
            "¿Qué palabra quieres usar? hola\n",
            "15hola\n",
            "True\n",
            "[\"The Mirror Crack'd\", 'Nomads', 'Taffin', 'El cuarto protocolo', 'The Deceivers', '\\tMister Johnson']\n",
            "['Nomads', 'Taffin', 'El cuarto protocolo', 'The Deceivers', '\\tMister Johnson']\n",
            "['Taffin', 'El cuarto protocolo', 'The Deceivers', '\\tMister Johnson']\n",
            "['El cuarto protocolo', 'The Deceivers', '\\tMister Johnson']\n",
            "['The Deceivers', '\\tMister Johnson']\n",
            "['\\tMister Johnson']\n",
            "[]\n"
          ],
          "name": "stdout"
        }
      ]
    },
    {
      "cell_type": "markdown",
      "metadata": {
        "id": "uNlzL2KMg7_Y"
      },
      "source": [
        "3. Define a function `even_numbers` that has an input parameter `arg1`, type integer. The function must return a list of numbers of size `arg1`, all of them being even numbers. \n",
        "\n",
        "   Don't use the function `print()` inside the function, but print what `even_numbers` returns when calling it with the argument `10`, just to check your function works.\n",
        "   \n",
        "```python\n",
        "print(even_numbers(10))\n",
        "```"
      ]
    },
    {
      "cell_type": "code",
      "metadata": {
        "id": "jYOfJQlxg7_Y",
        "outputId": "a5dc7843-14e4-41c1-9b51-1b39186cd596"
      },
      "source": [
        "import random\n",
        "\n",
        "def even_numbers (arg1):\n",
        "    \"\"\"\n",
        "    Define a function even_numbers that has an input parameter arg1, type integer. The function must return a list of numbers of size arg1, all of them being even numbers.\n",
        "    \"\"\"\n",
        "    the_list = []\n",
        "\n",
        "    while len(the_list) < arg1:\n",
        "        number = random.randint(1, 100)\n",
        "        if (number % 2) == 0:\n",
        "            the_list.append(number)\n",
        "    \n",
        "    return the_list\n",
        "\n",
        "even_numbers_list = even_numbers(10)\n",
        "print(even_numbers_list)"
      ],
      "execution_count": null,
      "outputs": [
        {
          "output_type": "stream",
          "text": [
            "[6, 84, 88, 76, 92, 72, 88, 30, 74, 42]\n"
          ],
          "name": "stdout"
        }
      ]
    },
    {
      "cell_type": "markdown",
      "metadata": {
        "id": "hL2uadKFg7_Z"
      },
      "source": [
        "4. Create a function that has an input variable `arg1`, which will be the list of even numbers from the previous section, and that removes elements from the list, one by one, if `arg1` has a size divisible by 2 and, if not, it adds just once, the value of the function `f_s` that should be a boolean (`True` or `False`).\n"
      ]
    },
    {
      "cell_type": "code",
      "metadata": {
        "id": "AeyzrZ5Og7_Z",
        "outputId": "0c12eeef-4669-4f0a-8639-3deef10fafed"
      },
      "source": [
        "def my_function(even_list):\n",
        "    if len(even_list) % 2 == 0:\n",
        "        while len(even_list) > 0:\n",
        "            even_list.pop(0)\n",
        "            print(even_list)\n",
        "    else:\n",
        "        even_list.append(f_s(info_list))\n",
        "        print(even_list)\n",
        "\n",
        "print(\"If the length of even_list is even...\")\n",
        "my_function(even_numbers(10))\n",
        "\n",
        "print(\"\\nIf the length of even_list is odd...\")\n",
        "my_function(even_numbers(9))"
      ],
      "execution_count": null,
      "outputs": [
        {
          "output_type": "stream",
          "text": [
            "If the length of even_list is even...\n",
            "[82, 100, 8, 36, 72, 60, 8, 28, 72]\n",
            "[100, 8, 36, 72, 60, 8, 28, 72]\n",
            "[8, 36, 72, 60, 8, 28, 72]\n",
            "[36, 72, 60, 8, 28, 72]\n",
            "[72, 60, 8, 28, 72]\n",
            "[60, 8, 28, 72]\n",
            "[8, 28, 72]\n",
            "[28, 72]\n",
            "[72]\n",
            "[]\n",
            "\n",
            "If the length of even_list is odd...\n",
            "15nothing\n",
            "True\n",
            "[26, 88, 62, 2, 40, 76, 54, 66, 24, True]\n"
          ],
          "name": "stdout"
        }
      ]
    },
    {
      "cell_type": "markdown",
      "metadata": {
        "id": "6vzOwJ5Xg7_a"
      },
      "source": [
        "!['nicetry'](https://i.pinimg.com/originals/36/ab/81/36ab81cd8d63cf7c4a08f39403698c77.jpg)"
      ]
    }
  ]
}