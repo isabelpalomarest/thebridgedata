{
  "nbformat": 4,
  "nbformat_minor": 0,
  "metadata": {
    "kernelspec": {
      "name": "python374jvsc74a57bd0182e3b849e87c789b13dcf4169d6d9922ca2e40dd3044e82b295bff17932e6e2",
      "display_name": "Python 3.7.4 64-bit"
    },
    "language_info": {
      "codemirror_mode": {
        "name": "ipython",
        "version": 3
      },
      "file_extension": ".py",
      "mimetype": "text/x-python",
      "name": "python",
      "nbconvert_exporter": "python",
      "pygments_lexer": "ipython3",
      "version": "3.7.4"
    },
    "colab": {
      "name": "Practice_6_dictionaries.ipynb",
      "provenance": []
    },
    "metadata": {
      "interpreter": {
        "hash": "182e3b849e87c789b13dcf4169d6d9922ca2e40dd3044e82b295bff17932e6e2"
      }
    }
  },
  "cells": [
    {
      "cell_type": "markdown",
      "metadata": {
        "id": "yuStNpUz-j9o"
      },
      "source": [
        "# Python | day 6 | dictionaries"
      ]
    },
    {
      "cell_type": "markdown",
      "metadata": {
        "id": "LsUy_HY0-j9p"
      },
      "source": [
        "Dictionaries are used to store data values in key:value pairs.\n",
        "\n",
        "A dictionary is a collection which is unordered, changeable and does not allow duplicates.\n",
        "\n",
        "Dictionaries are written with curly brackets, and have keys and values:"
      ]
    },
    {
      "cell_type": "markdown",
      "metadata": {
        "id": "jc97nObU-j9q"
      },
      "source": [
        "```python\n",
        "thisdict = {\n",
        "  \"brand\": \"Ford\",\n",
        "  \"model\": \"Mustang\",\n",
        "  \"year\": 1964\n",
        "}\n",
        "```"
      ]
    },
    {
      "cell_type": "markdown",
      "metadata": {
        "id": "Et2oBssg-j9q"
      },
      "source": [
        "https://www.w3schools.com/python/python_dictionaries.asp"
      ]
    },
    {
      "cell_type": "markdown",
      "metadata": {
        "id": "0cmfCoAx-j9r"
      },
      "source": [
        "### Exercise 1. \n",
        "\n",
        "1. Create a dictionary with an integer 5 as the key and \"val\" as its value."
      ]
    },
    {
      "cell_type": "code",
      "metadata": {
        "id": "oGf6XXuz-j9r"
      },
      "source": [
        "diccionario = {5:\"val\"}"
      ],
      "execution_count": 83,
      "outputs": []
    },
    {
      "cell_type": "markdown",
      "metadata": {
        "id": "5NoWW7Mf-j9r"
      },
      "source": [
        "2. Create two lists: one that has 4 city names and another that has 4 landmarks in the city."
      ]
    },
    {
      "cell_type": "code",
      "metadata": {
        "id": "WvDc3_EK-j9s"
      },
      "source": [
        "cities = [\"Madrid\", \"Barcelona\", \"Malaga\", \"Bilbao\"]\n",
        "landmark = [\"Sol\", \"Sagrada Familia\", \"Catedral\", \"Museo Guggenheim\"]"
      ],
      "execution_count": 84,
      "outputs": []
    },
    {
      "cell_type": "markdown",
      "metadata": {
        "id": "UBiyp0EK-j9s"
      },
      "source": [
        "3. Create a dictionary where the cities contained in the first list are the **keys** and the landmarks are the **values**.\n",
        "```python\n",
        "#example\n",
        "places = {\"Malaga\": \"Gibralfaro\", \n",
        "         \"Madrid\": \"Templo de Debod\",\n",
        "         \"Granada\": \"La Alcazaba\",\n",
        "         \"Barcelona\": \"Sagrada Familia\"}\n",
        "```"
      ]
    },
    {
      "cell_type": "code",
      "metadata": {
        "id": "8Ma1yRTb-j9s"
      },
      "source": [
        " places = {}\n",
        "for i in range(len(cities)):\n",
        "    places[cities[i]] =landmark[i]\n",
        "places"
      ],
      "execution_count": 85,
      "outputs": [
        {
          "output_type": "execute_result",
          "data": {
            "text/plain": [
              "{'Madrid': 'Sol',\n",
              " 'Barcelona': 'Sagrada Familia',\n",
              " 'Malaga': 'Catedral',\n",
              " 'Bilbao': 'Museo Guggenheim'}"
            ]
          },
          "metadata": {},
          "execution_count": 85
        }
      ]
    },
    {
      "cell_type": "markdown",
      "metadata": {
        "id": "Szh-F0yN-j9s"
      },
      "source": [
        "4. Loop through the dictionary and print only the values of those keys starting with the letter **M**.\n",
        "\n",
        "https://realpython.com/iterate-through-dictionary-python/"
      ]
    },
    {
      "cell_type": "code",
      "metadata": {
        "id": "fkCDJ63J-j9t"
      },
      "source": [
        "for keys, values in places.items():\n",
        "    if keys[0] == \"M\":\n",
        "        print(values)\n"
      ],
      "execution_count": 86,
      "outputs": [
        {
          "output_type": "stream",
          "name": "stdout",
          "text": [
            "Sol\nCatedral\n"
          ]
        }
      ]
    },
    {
      "cell_type": "markdown",
      "metadata": {
        "id": "Ho19L8LC-j9t"
      },
      "source": [
        "5. Create a function that receives two lists `list1` and `list2` by parameter and returns a dictionary with each element of `list1` as keys and the elements of `list2` as values. Call the function with the lists you have created before to return the same dictionary you've created in question 3. "
      ]
    },
    {
      "cell_type": "code",
      "metadata": {
        "id": "poqzpr8l-j9t"
      },
      "source": [
        "def dictionary1(lista1, lista2):\n",
        "    diccionario= {}\n",
        "    for i in range(len(lista1)):\n",
        "        diccionario[lista1[i]] = lista2[i]\n",
        "    return diccionario\n"
      ],
      "execution_count": 87,
      "outputs": []
    },
    {
      "cell_type": "code",
      "execution_count": 88,
      "metadata": {},
      "outputs": [
        {
          "output_type": "execute_result",
          "data": {
            "text/plain": [
              "{'Madrid': 'Sol',\n",
              " 'Barcelona': 'Sagrada Familia',\n",
              " 'Malaga': 'Catedral',\n",
              " 'Bilbao': 'Museo Guggenheim'}"
            ]
          },
          "metadata": {},
          "execution_count": 88
        }
      ],
      "source": [
        "dictionary1(cities,landmark)"
      ]
    },
    {
      "cell_type": "markdown",
      "metadata": {
        "id": "_YCMYj68-j9t"
      },
      "source": [
        "### Exercise 2. "
      ]
    },
    {
      "cell_type": "markdown",
      "metadata": {
        "id": "f44mkaS7-j9t"
      },
      "source": [
        "1. Create an empty dictionary called dog."
      ]
    },
    {
      "cell_type": "code",
      "metadata": {
        "id": "LMDMOiys-j9u"
      },
      "source": [
        "dog = {}"
      ],
      "execution_count": 89,
      "outputs": []
    },
    {
      "cell_type": "markdown",
      "metadata": {
        "id": "bh--4KS--j9u"
      },
      "source": [
        "2. Add name, color, breed, legs, age to the dog dictionary."
      ]
    },
    {
      "cell_type": "code",
      "metadata": {
        "id": "Qg22J08U-j9u"
      },
      "source": [
        "tipos = [\"Name\", \"color\", \"breed\", \"legs\", \"age\"]\n",
        "my = [\"Nico\", \"Marron\", \"Labrador\", 4, 8]\n",
        "for i in range(len(tipos)):\n",
        "    dog[tipos[i]] = my[i]\n",
        "dog"
      ],
      "execution_count": 90,
      "outputs": [
        {
          "output_type": "execute_result",
          "data": {
            "text/plain": [
              "{'Name': 'Nico', 'color': 'Marron', 'breed': 'Labrador', 'legs': 4, 'age': 8}"
            ]
          },
          "metadata": {},
          "execution_count": 90
        }
      ]
    },
    {
      "cell_type": "markdown",
      "metadata": {
        "id": "RG42rFQZ-j9u"
      },
      "source": [
        "3. Create a student dictionary and add first_name, last_name, age, skills, country, city and address as keys for the dictionary.\n"
      ]
    },
    {
      "cell_type": "code",
      "metadata": {
        "id": "5d6Wth3s-j9u"
      },
      "source": [
        "studentnames = [\"first_name\", \"last_name\", \"age\", \"skills\", \"country\", \"city\", \"adress\"]\n",
        "mine = [\"Isabel\", \"Palomares\", \"24\", \"[jrogjo, jfojntj]\", \"Spain\", \"Madrid\", \"Vinateros\"]\n",
        "studentdictionary ={}\n",
        "for i in range(len(studentnames)):\n",
        "   studentdictionary[studentnames[i]] = mine[i]\n",
        "studentdictionary\n"
      ],
      "execution_count": 10,
      "outputs": [
        {
          "output_type": "execute_result",
          "data": {
            "text/plain": [
              "{'first_name': 'Isabel',\n",
              " 'last_name': 'Palomares',\n",
              " 'age': '24',\n",
              " 'skills': '[jrogjo, jfojntj]',\n",
              " 'country': 'Spain',\n",
              " 'city': 'Madrid',\n",
              " 'adress': 'Vinateros'}"
            ]
          },
          "metadata": {},
          "execution_count": 10
        }
      ]
    },
    {
      "cell_type": "markdown",
      "metadata": {
        "id": "NpHqxEjV-j9v"
      },
      "source": [
        "4. Get the length of the student dictionary.\n"
      ]
    },
    {
      "cell_type": "code",
      "metadata": {
        "id": "IbDTGwEM-j9v"
      },
      "source": [
        "len(studentdictionary)"
      ],
      "execution_count": 92,
      "outputs": [
        {
          "output_type": "execute_result",
          "data": {
            "text/plain": [
              "7"
            ]
          },
          "metadata": {},
          "execution_count": 92
        }
      ]
    },
    {
      "cell_type": "markdown",
      "metadata": {
        "id": "8opK0lbN-j9v"
      },
      "source": [
        "5. Get the value of skills and check the data type, it should be a list."
      ]
    },
    {
      "cell_type": "code",
      "metadata": {
        "id": "gDvq2-_6-j9v"
      },
      "source": [
        "print(studentdictionary[\"skills\"])\n",
        "type(studentdictionary[\"skills\"])\n",
        "    "
      ],
      "execution_count": 93,
      "outputs": [
        {
          "output_type": "stream",
          "name": "stdout",
          "text": [
            "[jrogjo, jfojntj]\n"
          ]
        },
        {
          "output_type": "execute_result",
          "data": {
            "text/plain": [
              "str"
            ]
          },
          "metadata": {},
          "execution_count": 93
        }
      ]
    },
    {
      "cell_type": "markdown",
      "metadata": {
        "id": "1MJKOuZt-j9v"
      },
      "source": [
        "6. Modify the skills values by adding one or two skills."
      ]
    },
    {
      "cell_type": "code",
      "metadata": {
        "id": "2bSviBXw-j9w"
      },
      "source": [
        "studentdictionary[\"skills\"] =[\"ofijrfjir\", \"kgirogjrog\"]\n",
        "print(studentdictionary)\n"
      ],
      "execution_count": 11,
      "outputs": [
        {
          "output_type": "error",
          "ename": "AttributeError",
          "evalue": "'str' object has no attribute 'append'",
          "traceback": [
            "\u001b[1;31m---------------------------------------------------------------------------\u001b[0m",
            "\u001b[1;31mAttributeError\u001b[0m                            Traceback (most recent call last)",
            "\u001b[1;32m<ipython-input-11-33abb7330ca7>\u001b[0m in \u001b[0;36m<module>\u001b[1;34m\u001b[0m\n\u001b[1;32m----> 1\u001b[1;33m \u001b[0mstudentdictionary\u001b[0m\u001b[1;33m[\u001b[0m\u001b[1;34m\"skills\"\u001b[0m\u001b[1;33m]\u001b[0m\u001b[1;33m.\u001b[0m\u001b[0mappend\u001b[0m\u001b[1;33m(\u001b[0m\u001b[1;34m\"ofijrfjir\"\u001b[0m\u001b[1;33m)\u001b[0m\u001b[1;33m\u001b[0m\u001b[1;33m\u001b[0m\u001b[0m\n\u001b[0m\u001b[0;32m      2\u001b[0m \u001b[0mprint\u001b[0m\u001b[1;33m(\u001b[0m\u001b[0mstudentdictionary\u001b[0m\u001b[1;33m)\u001b[0m\u001b[1;33m\u001b[0m\u001b[1;33m\u001b[0m\u001b[0m\n",
            "\u001b[1;31mAttributeError\u001b[0m: 'str' object has no attribute 'append'"
          ]
        }
      ]
    },
    {
      "cell_type": "markdown",
      "metadata": {
        "id": "g947FxTa-j9w"
      },
      "source": [
        "7. Get the dictionary keys as a list."
      ]
    },
    {
      "cell_type": "code",
      "metadata": {
        "id": "vp5dMYrk-j9w"
      },
      "source": [
        "lista = studentdictionary.keys()\n",
        "print(lista)"
      ],
      "execution_count": 97,
      "outputs": [
        {
          "output_type": "stream",
          "name": "stdout",
          "text": [
            "dict_keys(['first_name', 'last_name', 'age', 'skills', 'country', 'city', 'adress'])\n"
          ]
        }
      ]
    },
    {
      "cell_type": "markdown",
      "metadata": {
        "id": "eR8iUBSA-j9w"
      },
      "source": [
        "8. Get the dictionary values as a list.\n"
      ]
    },
    {
      "cell_type": "code",
      "metadata": {
        "id": "BU-Y_QG--j9w"
      },
      "source": [
        "lista_v = studentdictionary.values()\n",
        "print(lista_v)"
      ],
      "execution_count": 98,
      "outputs": [
        {
          "output_type": "stream",
          "name": "stdout",
          "text": [
            "dict_values(['Isabel', 'Palomares', '24', '[jrogjo, jfojntj]', 'Spain', 'Madrid', 'Vinateros'])\n"
          ]
        }
      ]
    },
    {
      "cell_type": "markdown",
      "metadata": {
        "id": "F4PWzsrS-j9w"
      },
      "source": [
        "9. Change the dictionary to a list of tuples using `items()` method"
      ]
    },
    {
      "cell_type": "code",
      "metadata": {
        "id": "GgqM5FD3-j9w"
      },
      "source": [
        "\n",
        "tuplalist = studentdictionary.items()\n",
        "print(tuplalist)"
      ],
      "execution_count": 5,
      "outputs": [
        {
          "output_type": "stream",
          "name": "stdout",
          "text": [
            "dict_items([('first_name', 'Isabel'), ('last_name', 'Palomares'), ('age', '24'), ('skills', '[jrogjo, jfojntj]'), ('country', 'Spain'), ('city', 'Madrid'), ('adress', 'Vinateros')])\n"
          ]
        }
      ]
    },
    {
      "cell_type": "code",
      "execution_count": null,
      "metadata": {},
      "outputs": [],
      "source": []
    },
    {
      "cell_type": "markdown",
      "metadata": {
        "id": "ZGkkG2I3-j9x"
      },
      "source": [
        "10. Delete one of the items in the dictionary.\n"
      ]
    },
    {
      "cell_type": "code",
      "metadata": {
        "id": "dYAZYzS2-j9x"
      },
      "source": [
        "del studentdictionary[\"first_name\"]\n",
        "print(studentdictionary)"
      ],
      "execution_count": 7,
      "outputs": [
        {
          "output_type": "stream",
          "name": "stdout",
          "text": [
            "{'last_name': 'Palomares', 'age': '24', 'skills': '[jrogjo, jfojntj]', 'country': 'Spain', 'city': 'Madrid', 'adress': 'Vinateros'}\n"
          ]
        }
      ]
    },
    {
      "cell_type": "markdown",
      "metadata": {
        "id": "ctby2UZu-j9x"
      },
      "source": [
        "### Bonus Track"
      ]
    },
    {
      "cell_type": "markdown",
      "metadata": {
        "id": "IiziAS7U-j9x"
      },
      "source": [
        "**Tómate un zumito a tu salud.**"
      ]
    },
    {
      "cell_type": "markdown",
      "metadata": {
        "id": "anZYnCw1-j9x"
      },
      "source": [
        "!['daughter'](https://i.pinimg.com/originals/8f/35/28/8f35281e742e71be09697e7e6789b819.png)"
      ]
    },
    {
      "cell_type": "code",
      "metadata": {
        "id": "F8sIxh9i-j9x"
      },
      "source": [],
      "execution_count": null,
      "outputs": []
    }
  ]
}