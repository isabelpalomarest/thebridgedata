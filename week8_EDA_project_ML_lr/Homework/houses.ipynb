{
 "cells": [
  {
   "cell_type": "markdown",
   "metadata": {},
   "source": [
    "### Se pide:\n",
    "\n",
    "A partir del archivo \"USA_Housing.csv\", realizar la regresión lineal entre cada columna numérica con la columna 'price'. \n",
    "\n",
    "Cuando existe una columna(variable) que es la que se quiere comparar, se le llama 'target'. "
   ]
  },
  {
   "cell_type": "code",
   "execution_count": 5,
   "metadata": {},
   "outputs": [
    {
     "output_type": "execute_result",
     "data": {
      "text/plain": [
       "            Avg. Area Income     Avg. Area House Age  \\\n",
       "0      7.954.545.857.431.670   5.682.861.321.615.580   \n",
       "1      7.924.864.245.482.560  60.028.998.082.752.400   \n",
       "2     61.287.067.178.656.700   5.865.889.840.310.000   \n",
       "3      6.334.524.004.622.790  71.882.360.945.186.400   \n",
       "4     59.982.197.225.708.000   5.040.554.523.106.280   \n",
       "...                      ...                     ...   \n",
       "4995  60.567.944.139.865.900   7.830.362.443.635.720   \n",
       "4996   7.849.127.543.459.780   6.999.134.987.291.410   \n",
       "4997   6.339.068.688.550.460   7.250.590.614.779.540   \n",
       "4998   6.800.133.123.508.690   5.534.388.416.220.340   \n",
       "4999  65.510.581.803.666.200   5.992.305.307.333.970   \n",
       "\n",
       "     Avg. Area Number of Rooms  Avg. Area Number of Bedrooms  \\\n",
       "0        7.009.188.142.792.230                          4.09   \n",
       "1        6.730.821.019.094.910                          3.09   \n",
       "2        8.512.727.430.375.090                          5.13   \n",
       "3        5.586.728.664.827.650                          3.26   \n",
       "4        7.839.387.785.120.480                          4.23   \n",
       "...                        ...                           ...   \n",
       "4995       613.735.622.764.076                          3.46   \n",
       "4996     6.576.762.660.738.700                          4.02   \n",
       "4997     4.805.080.980.291.150                          2.13   \n",
       "4998     7.130.143.864.349.470                          5.44   \n",
       "4999     6.792.336.104.424.980                          4.07   \n",
       "\n",
       "             Area Population                   Price  \\\n",
       "0     23.086.800.502.686.400  10.590.335.578.701.200   \n",
       "1      4.017.307.217.364.480     150.589.091.484.695   \n",
       "2      3.688.215.939.970.450  10.589.879.878.760.800   \n",
       "3      3.431.024.283.090.700  12.606.168.066.294.400   \n",
       "4     26.354.109.472.103.100   6.309.434.893.385.400   \n",
       "...                      ...                     ...   \n",
       "4995  22.837.361.034.746.400   1.060.193.785.884.600   \n",
       "4996   2.561.611.548.906.120   1.482.617.728.622.020   \n",
       "4997  33.266.145.489.652.100  10.307.295.831.522.800   \n",
       "4998   4.262.562.015.585.080  11.986.568.724.076.800   \n",
       "4999   4.650.128.380.314.160  12.989.504.802.669.500   \n",
       "\n",
       "                                                Address  \n",
       "0     208 Michael Ferry Apt. 674\\nLaurabury, NE 3701...  \n",
       "1     188 Johnson Views Suite 079\\nLake Kathleen, CA...  \n",
       "2     9127 Elizabeth Stravenue\\nDanieltown, WI 06482...  \n",
       "3                             USS Barnett\\nFPO AP 44820  \n",
       "4                            USNS Raymond\\nFPO AE 09386  \n",
       "...                                                 ...  \n",
       "4995                   USNS Williams\\nFPO AP 30153-7653  \n",
       "4996              PSC 9258, Box 8489\\nAPO AA 42991-3352  \n",
       "4997  4215 Tracy Garden Suite 076\\nJoshualand, VA 01...  \n",
       "4998                          USS Wallace\\nFPO AE 73316  \n",
       "4999  37778 George Ridges Apt. 509\\nEast Holly, NV 2...  \n",
       "\n",
       "[5000 rows x 7 columns]"
      ],
      "text/html": "<div>\n<style scoped>\n    .dataframe tbody tr th:only-of-type {\n        vertical-align: middle;\n    }\n\n    .dataframe tbody tr th {\n        vertical-align: top;\n    }\n\n    .dataframe thead th {\n        text-align: right;\n    }\n</style>\n<table border=\"1\" class=\"dataframe\">\n  <thead>\n    <tr style=\"text-align: right;\">\n      <th></th>\n      <th>Avg. Area Income</th>\n      <th>Avg. Area House Age</th>\n      <th>Avg. Area Number of Rooms</th>\n      <th>Avg. Area Number of Bedrooms</th>\n      <th>Area Population</th>\n      <th>Price</th>\n      <th>Address</th>\n    </tr>\n  </thead>\n  <tbody>\n    <tr>\n      <th>0</th>\n      <td>7.954.545.857.431.670</td>\n      <td>5.682.861.321.615.580</td>\n      <td>7.009.188.142.792.230</td>\n      <td>4.09</td>\n      <td>23.086.800.502.686.400</td>\n      <td>10.590.335.578.701.200</td>\n      <td>208 Michael Ferry Apt. 674\\nLaurabury, NE 3701...</td>\n    </tr>\n    <tr>\n      <th>1</th>\n      <td>7.924.864.245.482.560</td>\n      <td>60.028.998.082.752.400</td>\n      <td>6.730.821.019.094.910</td>\n      <td>3.09</td>\n      <td>4.017.307.217.364.480</td>\n      <td>150.589.091.484.695</td>\n      <td>188 Johnson Views Suite 079\\nLake Kathleen, CA...</td>\n    </tr>\n    <tr>\n      <th>2</th>\n      <td>61.287.067.178.656.700</td>\n      <td>5.865.889.840.310.000</td>\n      <td>8.512.727.430.375.090</td>\n      <td>5.13</td>\n      <td>3.688.215.939.970.450</td>\n      <td>10.589.879.878.760.800</td>\n      <td>9127 Elizabeth Stravenue\\nDanieltown, WI 06482...</td>\n    </tr>\n    <tr>\n      <th>3</th>\n      <td>6.334.524.004.622.790</td>\n      <td>71.882.360.945.186.400</td>\n      <td>5.586.728.664.827.650</td>\n      <td>3.26</td>\n      <td>3.431.024.283.090.700</td>\n      <td>12.606.168.066.294.400</td>\n      <td>USS Barnett\\nFPO AP 44820</td>\n    </tr>\n    <tr>\n      <th>4</th>\n      <td>59.982.197.225.708.000</td>\n      <td>5.040.554.523.106.280</td>\n      <td>7.839.387.785.120.480</td>\n      <td>4.23</td>\n      <td>26.354.109.472.103.100</td>\n      <td>6.309.434.893.385.400</td>\n      <td>USNS Raymond\\nFPO AE 09386</td>\n    </tr>\n    <tr>\n      <th>...</th>\n      <td>...</td>\n      <td>...</td>\n      <td>...</td>\n      <td>...</td>\n      <td>...</td>\n      <td>...</td>\n      <td>...</td>\n    </tr>\n    <tr>\n      <th>4995</th>\n      <td>60.567.944.139.865.900</td>\n      <td>7.830.362.443.635.720</td>\n      <td>613.735.622.764.076</td>\n      <td>3.46</td>\n      <td>22.837.361.034.746.400</td>\n      <td>1.060.193.785.884.600</td>\n      <td>USNS Williams\\nFPO AP 30153-7653</td>\n    </tr>\n    <tr>\n      <th>4996</th>\n      <td>7.849.127.543.459.780</td>\n      <td>6.999.134.987.291.410</td>\n      <td>6.576.762.660.738.700</td>\n      <td>4.02</td>\n      <td>2.561.611.548.906.120</td>\n      <td>1.482.617.728.622.020</td>\n      <td>PSC 9258, Box 8489\\nAPO AA 42991-3352</td>\n    </tr>\n    <tr>\n      <th>4997</th>\n      <td>6.339.068.688.550.460</td>\n      <td>7.250.590.614.779.540</td>\n      <td>4.805.080.980.291.150</td>\n      <td>2.13</td>\n      <td>33.266.145.489.652.100</td>\n      <td>10.307.295.831.522.800</td>\n      <td>4215 Tracy Garden Suite 076\\nJoshualand, VA 01...</td>\n    </tr>\n    <tr>\n      <th>4998</th>\n      <td>6.800.133.123.508.690</td>\n      <td>5.534.388.416.220.340</td>\n      <td>7.130.143.864.349.470</td>\n      <td>5.44</td>\n      <td>4.262.562.015.585.080</td>\n      <td>11.986.568.724.076.800</td>\n      <td>USS Wallace\\nFPO AE 73316</td>\n    </tr>\n    <tr>\n      <th>4999</th>\n      <td>65.510.581.803.666.200</td>\n      <td>5.992.305.307.333.970</td>\n      <td>6.792.336.104.424.980</td>\n      <td>4.07</td>\n      <td>4.650.128.380.314.160</td>\n      <td>12.989.504.802.669.500</td>\n      <td>37778 George Ridges Apt. 509\\nEast Holly, NV 2...</td>\n    </tr>\n  </tbody>\n</table>\n<p>5000 rows × 7 columns</p>\n</div>"
     },
     "metadata": {},
     "execution_count": 5
    }
   ],
   "source": [
    "import pandas as pd\n",
    "\n",
    "df = pd.read_csv(\"USA_Housing.csv\", sep=\",\")\n",
    "df"
   ]
  },
  {
   "cell_type": "code",
   "execution_count": null,
   "metadata": {},
   "outputs": [],
   "source": []
  },
  {
   "cell_type": "code",
   "execution_count": null,
   "metadata": {},
   "outputs": [],
   "source": []
  }
 ],
 "metadata": {
  "kernelspec": {
   "name": "python374jvsc74a57bd0182e3b849e87c789b13dcf4169d6d9922ca2e40dd3044e82b295bff17932e6e2",
   "display_name": "Python 3.7.4 64-bit"
  },
  "language_info": {
   "codemirror_mode": {
    "name": "ipython",
    "version": 3
   },
   "file_extension": ".py",
   "mimetype": "text/x-python",
   "name": "python",
   "nbconvert_exporter": "python",
   "pygments_lexer": "ipython3",
   "version": "3.7.4"
  },
  "metadata": {
   "interpreter": {
    "hash": "182e3b849e87c789b13dcf4169d6d9922ca2e40dd3044e82b295bff17932e6e2"
   }
  }
 },
 "nbformat": 4,
 "nbformat_minor": 2
}