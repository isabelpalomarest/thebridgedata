{
 "cells": [
  {
   "cell_type": "markdown",
   "metadata": {},
   "source": [
    "![](ppp.png)"
   ]
  },
  {
   "source": [
    "#### Modifiers"
   ],
   "cell_type": "markdown",
   "metadata": {}
  },
  {
   "cell_type": "code",
   "execution_count": null,
   "metadata": {},
   "outputs": [],
   "source": [
    "import pandas as pd\n",
    "\n",
    "df = pd.DataFrame()\n",
    "df.info()\n"
   ]
  },
  {
   "cell_type": "code",
   "execution_count": null,
   "metadata": {},
   "outputs": [],
   "source": [
    "x = 2  # Public -- Everywhere\n",
    "_x = 2  # Protected -- Inside class or sub-class\n",
    "__x = 2  # Private  -- Inside class or file\n"
   ]
  },
  {
   "cell_type": "code",
   "execution_count": null,
   "metadata": {},
   "outputs": [],
   "source": [
    "# Ejemplo en Java\n",
    "private Integer variable = 2;"
   ]
  },
  {
   "cell_type": "code",
   "execution_count": null,
   "metadata": {},
   "outputs": [],
   "source": [
    "class Humano:\n",
    "\n",
    "    def __init__(self):\n",
    "        pass\n",
    "\n",
    "    def __str__(self):\n",
    "        pass\n",
    "\n",
    "#c++\n",
    "# built-in"
   ]
  },
  {
   "cell_type": "code",
   "execution_count": null,
   "metadata": {
    "tags": []
   },
   "outputs": [],
   "source": [
    "# Public \n",
    "\n",
    "def public_function():\n",
    "    print(\"public\")\n",
    "\n",
    "# Protected\n",
    "\n",
    "def _protected_function():\n",
    "    print(\"Protected\")\n",
    "\n",
    "# Private\n",
    "\n",
    "def __private_function():\n",
    "    print(\"Private\")\n",
    "\n",
    "if __name__ == \"__main__\":\n",
    "    print(\"We are going to test the functions: \\n\\n\\n\\n\")\n",
    "    print(\"--------------------------\")\n",
    "    print(\"Testing public...\")\n",
    "    public_function()\n",
    "    print(\"--------------------------\")\n",
    "    print(\"Testing protected...\")\n",
    "    _protected_function()\n",
    "    print(\"--------------------------\")\n",
    "    print(\"Testing private...\")\n",
    "    __private_function()\n",
    "    print(\"--------------------------\")"
   ]
  },
  {
   "cell_type": "code",
   "execution_count": null,
   "metadata": {},
   "outputs": [],
   "source": [
    "def __f_priv():\n",
    "    print(\"Soy priv\")"
   ]
  },
  {
   "cell_type": "code",
   "execution_count": null,
   "metadata": {
    "tags": []
   },
   "outputs": [],
   "source": [
    "class Human:\n",
    "\n",
    "    def __init__(self):\n",
    "        print(\"Hola\")\n",
    "\n",
    "    # Public \n",
    "    def public_function(self):\n",
    "        print(\"public\")\n",
    "\n",
    "    # Protected\n",
    "    def _protected_function(self):\n",
    "        print(\"Protected\")\n",
    "\n",
    "    # Private\n",
    "    def __private_function(self):\n",
    "        print(\"Private\")\n",
    "\n",
    "    def mi_funcion(self):\n",
    "        self.__private_function()\n",
    "\n",
    "if __name__ == \"__main__\":\n",
    "    p = Human()\n",
    "    print(\"We are going to test the functions: \\n\\n\\n\\n\")\n",
    "    print(\"--------------------------\")\n",
    "    print(\"Testing public...\")\n",
    "    p.public_function()\n",
    "    print(\"--------------------------\")\n",
    "    print(\"Testing protected...\")\n",
    "    p._protected_function()\n",
    "    print(\"--------------------------\")\n",
    "    print(\"Testing private...\")\n",
    "    p.__private_function()\n",
    "    print(\"--------------------------\")"
   ]
  },
  {
   "cell_type": "code",
   "execution_count": null,
   "metadata": {
    "tags": []
   },
   "outputs": [],
   "source": [
    "__f_priv()"
   ]
  },
  {
   "cell_type": "code",
   "execution_count": null,
   "metadata": {
    "tags": []
   },
   "outputs": [],
   "source": [
    "p.mi_funcion()"
   ]
  },
  {
   "cell_type": "code",
   "execution_count": null,
   "metadata": {
    "tags": []
   },
   "outputs": [],
   "source": [
    "p.__init__()\n",
    "# Built-in"
   ]
  }
 ],
 "metadata": {
  "language_info": {
   "name": "python",
   "codemirror_mode": {
    "name": "ipython",
    "version": 3
   },
   "version": "3.6.4-final"
  },
  "orig_nbformat": 2,
  "file_extension": ".py",
  "mimetype": "text/x-python",
  "name": "python",
  "npconvert_exporter": "python",
  "pygments_lexer": "ipython3",
  "version": 3,
  "kernelspec": {
   "name": "python36464bitc2077ed07ea84d23aa5b518d224882ab",
   "display_name": "Python 3.6.4 64-bit",
   "language": "python"
  }
 },
 "nbformat": 4,
 "nbformat_minor": 2
}