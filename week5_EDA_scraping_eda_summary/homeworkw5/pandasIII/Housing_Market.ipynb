{
  "nbformat": 4,
  "nbformat_minor": 0,
  "metadata": {
    "kernelspec": {
      "name": "python374jvsc74a57bd0182e3b849e87c789b13dcf4169d6d9922ca2e40dd3044e82b295bff17932e6e2",
      "display_name": "Python 3.7.4 64-bit"
    },
    "language_info": {
      "codemirror_mode": {
        "name": "ipython",
        "version": 3
      },
      "file_extension": ".py",
      "mimetype": "text/x-python",
      "name": "python",
      "nbconvert_exporter": "python",
      "pygments_lexer": "ipython3",
      "version": "3.7.4"
    },
    "colab": {
      "name": "Housing Market.ipynb",
      "provenance": []
    },
    "metadata": {
      "interpreter": {
        "hash": "182e3b849e87c789b13dcf4169d6d9922ca2e40dd3044e82b295bff17932e6e2"
      }
    }
  },
  "cells": [
    {
      "cell_type": "markdown",
      "metadata": {
        "id": "jw35eAKJzhuG"
      },
      "source": [
        "# 06 - Combining datasets"
      ]
    },
    {
      "cell_type": "markdown",
      "metadata": {
        "id": "0mDLLQdhzhuI"
      },
      "source": [
        "### Introduction:\n",
        "\n",
        "This time we will create our own dataset with fictional numbers to describe a house market. As we are going to create random data don't try to reason of the numbers.\n",
        "\n",
        "### Step 1. Import the necessary libraries"
      ]
    },
    {
      "cell_type": "code",
      "metadata": {
        "id": "RCehEa24zhuJ"
      },
      "source": [
        "import pandas as pd \n",
        "import numpy as np \n"
      ],
      "execution_count": 9,
      "outputs": []
    },
    {
      "cell_type": "markdown",
      "metadata": {
        "id": "nMfl6k6QzhuJ"
      },
      "source": [
        "### Step 2. Create 3 differents Series, each of length 100, as follows: \n",
        "1. The first a random number from 1 to 4 \n",
        "2. The second a random number from 1 to 3\n",
        "3. The third a random number from 10,000 to 30,000"
      ]
    },
    {
      "cell_type": "code",
      "metadata": {
        "tags": [],
        "id": "HIoPhW_TzhuK"
      },
      "source": [
        "first = pd.Series(np.random.randint(1,5,100))\n",
        "second = pd.Series(np.random.randint(1,4,100))\n",
        "third = pd.Series(np.random.randint(10000,30001,100))"
      ],
      "execution_count": 10,
      "outputs": []
    },
    {
      "cell_type": "markdown",
      "metadata": {
        "id": "4HovnwT4zhuK"
      },
      "source": [
        "### Step 3. Let's create a DataFrame by joinning the Series by column"
      ]
    },
    {
      "cell_type": "code",
      "metadata": {
        "id": "YHrrAYLFzhuK"
      },
      "source": [
        "df = pd.concat([first,second,third],axis=1)\n",
        "df"
      ],
      "execution_count": 11,
      "outputs": [
        {
          "output_type": "execute_result",
          "data": {
            "text/plain": [
              "    0  1      2\n",
              "0   2  2  15685\n",
              "1   1  1  10193\n",
              "2   2  2  26897\n",
              "3   1  1  26348\n",
              "4   4  1  10126\n",
              ".. .. ..    ...\n",
              "95  1  3  14167\n",
              "96  1  1  23356\n",
              "97  4  1  22042\n",
              "98  4  2  13466\n",
              "99  1  2  13014\n",
              "\n",
              "[100 rows x 3 columns]"
            ],
            "text/html": "<div>\n<style scoped>\n    .dataframe tbody tr th:only-of-type {\n        vertical-align: middle;\n    }\n\n    .dataframe tbody tr th {\n        vertical-align: top;\n    }\n\n    .dataframe thead th {\n        text-align: right;\n    }\n</style>\n<table border=\"1\" class=\"dataframe\">\n  <thead>\n    <tr style=\"text-align: right;\">\n      <th></th>\n      <th>0</th>\n      <th>1</th>\n      <th>2</th>\n    </tr>\n  </thead>\n  <tbody>\n    <tr>\n      <th>0</th>\n      <td>2</td>\n      <td>2</td>\n      <td>15685</td>\n    </tr>\n    <tr>\n      <th>1</th>\n      <td>1</td>\n      <td>1</td>\n      <td>10193</td>\n    </tr>\n    <tr>\n      <th>2</th>\n      <td>2</td>\n      <td>2</td>\n      <td>26897</td>\n    </tr>\n    <tr>\n      <th>3</th>\n      <td>1</td>\n      <td>1</td>\n      <td>26348</td>\n    </tr>\n    <tr>\n      <th>4</th>\n      <td>4</td>\n      <td>1</td>\n      <td>10126</td>\n    </tr>\n    <tr>\n      <th>...</th>\n      <td>...</td>\n      <td>...</td>\n      <td>...</td>\n    </tr>\n    <tr>\n      <th>95</th>\n      <td>1</td>\n      <td>3</td>\n      <td>14167</td>\n    </tr>\n    <tr>\n      <th>96</th>\n      <td>1</td>\n      <td>1</td>\n      <td>23356</td>\n    </tr>\n    <tr>\n      <th>97</th>\n      <td>4</td>\n      <td>1</td>\n      <td>22042</td>\n    </tr>\n    <tr>\n      <th>98</th>\n      <td>4</td>\n      <td>2</td>\n      <td>13466</td>\n    </tr>\n    <tr>\n      <th>99</th>\n      <td>1</td>\n      <td>2</td>\n      <td>13014</td>\n    </tr>\n  </tbody>\n</table>\n<p>100 rows × 3 columns</p>\n</div>"
          },
          "metadata": {},
          "execution_count": 11
        }
      ]
    },
    {
      "cell_type": "markdown",
      "metadata": {
        "id": "fbMHRCgAzhuL"
      },
      "source": [
        "### Step 4. Change the name of the columns to bedrs, bathrs, price_sqr_meter"
      ]
    },
    {
      "cell_type": "code",
      "metadata": {
        "id": "sm2iV1CbzhuL"
      },
      "source": [
        "df.rename(columns={0: 'bedrs', 1: 'bathrs', 2: 'price_sqr_meter'}, inplace=True)\n",
        "df"
      ],
      "execution_count": 12,
      "outputs": [
        {
          "output_type": "execute_result",
          "data": {
            "text/plain": [
              "    bedrs  bathrs  price_sqr_meter\n",
              "0       2       2            15685\n",
              "1       1       1            10193\n",
              "2       2       2            26897\n",
              "3       1       1            26348\n",
              "4       4       1            10126\n",
              "..    ...     ...              ...\n",
              "95      1       3            14167\n",
              "96      1       1            23356\n",
              "97      4       1            22042\n",
              "98      4       2            13466\n",
              "99      1       2            13014\n",
              "\n",
              "[100 rows x 3 columns]"
            ],
            "text/html": "<div>\n<style scoped>\n    .dataframe tbody tr th:only-of-type {\n        vertical-align: middle;\n    }\n\n    .dataframe tbody tr th {\n        vertical-align: top;\n    }\n\n    .dataframe thead th {\n        text-align: right;\n    }\n</style>\n<table border=\"1\" class=\"dataframe\">\n  <thead>\n    <tr style=\"text-align: right;\">\n      <th></th>\n      <th>bedrs</th>\n      <th>bathrs</th>\n      <th>price_sqr_meter</th>\n    </tr>\n  </thead>\n  <tbody>\n    <tr>\n      <th>0</th>\n      <td>2</td>\n      <td>2</td>\n      <td>15685</td>\n    </tr>\n    <tr>\n      <th>1</th>\n      <td>1</td>\n      <td>1</td>\n      <td>10193</td>\n    </tr>\n    <tr>\n      <th>2</th>\n      <td>2</td>\n      <td>2</td>\n      <td>26897</td>\n    </tr>\n    <tr>\n      <th>3</th>\n      <td>1</td>\n      <td>1</td>\n      <td>26348</td>\n    </tr>\n    <tr>\n      <th>4</th>\n      <td>4</td>\n      <td>1</td>\n      <td>10126</td>\n    </tr>\n    <tr>\n      <th>...</th>\n      <td>...</td>\n      <td>...</td>\n      <td>...</td>\n    </tr>\n    <tr>\n      <th>95</th>\n      <td>1</td>\n      <td>3</td>\n      <td>14167</td>\n    </tr>\n    <tr>\n      <th>96</th>\n      <td>1</td>\n      <td>1</td>\n      <td>23356</td>\n    </tr>\n    <tr>\n      <th>97</th>\n      <td>4</td>\n      <td>1</td>\n      <td>22042</td>\n    </tr>\n    <tr>\n      <th>98</th>\n      <td>4</td>\n      <td>2</td>\n      <td>13466</td>\n    </tr>\n    <tr>\n      <th>99</th>\n      <td>1</td>\n      <td>2</td>\n      <td>13014</td>\n    </tr>\n  </tbody>\n</table>\n<p>100 rows × 3 columns</p>\n</div>"
          },
          "metadata": {},
          "execution_count": 12
        }
      ]
    },
    {
      "cell_type": "markdown",
      "metadata": {
        "id": "KUFCqG2-zhuL"
      },
      "source": [
        "### Step 5. Create a column DataFrame with the values of the 3 Series and assign it to 'bigcolumn'"
      ]
    },
    {
      "cell_type": "code",
      "metadata": {
        "id": "z9rH5iXxzhuL"
      },
      "source": [
        "bigcolum =pd.concat([first,second,third],axis=0)\n",
        "bigcolum"
      ],
      "execution_count": 13,
      "outputs": [
        {
          "output_type": "execute_result",
          "data": {
            "text/plain": [
              "0         2\n",
              "1         1\n",
              "2         2\n",
              "3         1\n",
              "4         4\n",
              "      ...  \n",
              "95    14167\n",
              "96    23356\n",
              "97    22042\n",
              "98    13466\n",
              "99    13014\n",
              "Length: 300, dtype: int32"
            ]
          },
          "metadata": {},
          "execution_count": 13
        }
      ]
    },
    {
      "cell_type": "markdown",
      "metadata": {
        "id": "1LImpwJ0zhuL"
      },
      "source": [
        "### Step 6. Oops, it seems it is going only until index 99. Is it true?"
      ]
    },
    {
      "cell_type": "code",
      "metadata": {
        "id": "bTy7o5OvzhuM"
      },
      "source": [
        "len(bigcolum)\n",
        "#No es cierto, tiene 300 filas"
      ],
      "execution_count": 14,
      "outputs": [
        {
          "output_type": "execute_result",
          "data": {
            "text/plain": [
              "300"
            ]
          },
          "metadata": {},
          "execution_count": 14
        }
      ]
    },
    {
      "cell_type": "markdown",
      "metadata": {
        "id": "qMypmd8yzhuM"
      },
      "source": [
        "### Step 7. Reindex the DataFrame so it goes from 0 to 299"
      ]
    },
    {
      "cell_type": "code",
      "metadata": {
        "id": "DYgjOVjnzhuN"
      },
      "source": [
        "bigcolum.reset_index(drop=True, inplace=True)\n",
        "bigcolum"
      ],
      "execution_count": 16,
      "outputs": [
        {
          "output_type": "execute_result",
          "data": {
            "text/plain": [
              "0          2\n",
              "1          1\n",
              "2          2\n",
              "3          1\n",
              "4          4\n",
              "       ...  \n",
              "295    14167\n",
              "296    23356\n",
              "297    22042\n",
              "298    13466\n",
              "299    13014\n",
              "Length: 300, dtype: int32"
            ]
          },
          "metadata": {},
          "execution_count": 16
        }
      ]
    },
    {
      "cell_type": "code",
      "execution_count": null,
      "metadata": {},
      "outputs": [],
      "source": []
    }
  ]
}