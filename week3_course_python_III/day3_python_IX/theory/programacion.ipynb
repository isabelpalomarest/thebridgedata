{
 "metadata": {
  "language_info": {
   "codemirror_mode": {
    "name": "ipython",
    "version": 3
   },
   "file_extension": ".py",
   "mimetype": "text/x-python",
   "name": "python",
   "nbconvert_exporter": "python",
   "pygments_lexer": "ipython3",
   "version": "3.7.4"
  },
  "orig_nbformat": 2,
  "kernelspec": {
   "name": "python374jvsc74a57bd0182e3b849e87c789b13dcf4169d6d9922ca2e40dd3044e82b295bff17932e6e2",
   "display_name": "Python 3.7.4 64-bit"
  },
  "metadata": {
   "interpreter": {
    "hash": "182e3b849e87c789b13dcf4169d6d9922ca2e40dd3044e82b295bff17932e6e2"
   }
  }
 },
 "nbformat": 4,
 "nbformat_minor": 2,
 "cells": [
  {
   "cell_type": "code",
   "execution_count": 4,
   "metadata": {},
   "outputs": [
    {
     "output_type": "execute_result",
     "data": {
      "text/plain": [
       "48"
      ]
     },
     "metadata": {},
     "execution_count": 4
    }
   ],
   "source": [
    "mult = lambda x,y,z : x*y*z\n",
    "mult(2,4,6)"
   ]
  },
  {
   "cell_type": "code",
   "execution_count": 5,
   "metadata": {},
   "outputs": [
    {
     "output_type": "execute_result",
     "data": {
      "text/plain": [
       "3.0"
      ]
     },
     "metadata": {},
     "execution_count": 5
    }
   ],
   "source": [
    "raiz = lambda x : x**0.5\n",
    "raiz(9)"
   ]
  },
  {
   "cell_type": "code",
   "execution_count": 6,
   "metadata": {},
   "outputs": [
    {
     "output_type": "execute_result",
     "data": {
      "text/plain": [
       "[False, True, False, False, True]"
      ]
     },
     "metadata": {},
     "execution_count": 6
    }
   ],
   "source": [
    "my_boolean = [True, False, True, True, False]\n",
    "my_boolean_con = list(map(lambda x: not x, my_boolean))\n",
    "my_boolean_con"
   ]
  },
  {
   "cell_type": "code",
   "execution_count": 9,
   "metadata": {},
   "outputs": [],
   "source": [
    "my_list = [\"1\", \"5\", \"4\",\"6\",\"8\",\"11\",\"3\",\"12\"]"
   ]
  },
  {
   "cell_type": "code",
   "execution_count": 7,
   "metadata": {},
   "outputs": [],
   "source": [
    "my_dict = {\"a\": 1, \"b\": 2, \"c\" : 3}"
   ]
  },
  {
   "cell_type": "code",
   "execution_count": 15,
   "metadata": {},
   "outputs": [
    {
     "output_type": "stream",
     "name": "stdout",
     "text": [
      "[1, 5, 4, 6, 8, 11, 3, 12]\n"
     ]
    },
    {
     "output_type": "execute_result",
     "data": {
      "text/plain": [
       "[1, 5, 4, 6, 8, 11, 3, 12]"
      ]
     },
     "metadata": {},
     "execution_count": 15
    }
   ],
   "source": [
    "my_list_int = list(map(lambda x: int(x), my_list))\n",
    "print(my_list_int)\n",
    "# también se puede hacer \n",
    "my_list_int2 = list(map(int, my_list))\n",
    "my_list_int2"
   ]
  },
  {
   "cell_type": "code",
   "execution_count": null,
   "metadata": {},
   "outputs": [],
   "source": []
  },
  {
   "cell_type": "code",
   "execution_count": 19,
   "metadata": {},
   "outputs": [
    {
     "output_type": "execute_result",
     "data": {
      "text/plain": [
       "{'a': 1, 'b': 2}"
      ]
     },
     "metadata": {},
     "execution_count": 19
    }
   ],
   "source": [
    "my_dict_key = list(map(lambda x: \"W-\" + x, my_dict.keys()))\n",
    "my_dict_key\n",
    "my_dict1 = {k : v for k, v in [(\"a\",1), (\"b\",2)]}\n",
    "my_dict1\n"
   ]
  },
  {
   "cell_type": "code",
   "execution_count": 22,
   "metadata": {},
   "outputs": [
    {
     "output_type": "execute_result",
     "data": {
      "text/plain": [
       "{'W-a': 1, 'W-b': 2, 'W-c': 3}"
      ]
     },
     "metadata": {},
     "execution_count": 22
    }
   ],
   "source": [
    "my_dict2 = {k:v for k,v in (zip(list(map(lambda x: \"W-\" + x, my_dict.keys())),my_dict.values()))}\n",
    "my_dict2"
   ]
  },
  {
   "cell_type": "code",
   "execution_count": 26,
   "metadata": {},
   "outputs": [
    {
     "output_type": "execute_result",
     "data": {
      "text/plain": [
       "120"
      ]
     },
     "metadata": {},
     "execution_count": 26
    }
   ],
   "source": [
    "from functools import reduce\n",
    "tupla = (2,3,4,5)\n",
    "producto = reduce(lambda x, y : x * y, tupla)\n",
    "producto"
   ]
  },
  {
   "cell_type": "code",
   "execution_count": 28,
   "metadata": {},
   "outputs": [
    {
     "output_type": "execute_result",
     "data": {
      "text/plain": [
       "'python - java - javascript - ruby'"
      ]
     },
     "metadata": {},
     "execution_count": 28
    }
   ],
   "source": [
    "lista_strings = [\"python\", \"java\", \"javascript\", \"ruby\"]\n",
    "reduce(lambda x, y: x + \" - \" + y, lista_strings)"
   ]
  },
  {
   "cell_type": "code",
   "execution_count": 34,
   "metadata": {},
   "outputs": [
    {
     "output_type": "execute_result",
     "data": {
      "text/plain": [
       "[4.0, 3.0, 9.0]"
      ]
     },
     "metadata": {},
     "execution_count": 34
    }
   ],
   "source": [
    "min_no_floats = (1,4.,5,3.,9.)\n",
    "float_list = list(filter(lambda x: isinstance( x, float),min_no_floats))\n",
    "float_list"
   ]
  },
  {
   "cell_type": "code",
   "execution_count": null,
   "metadata": {},
   "outputs": [],
   "source": []
  }
 ]
}