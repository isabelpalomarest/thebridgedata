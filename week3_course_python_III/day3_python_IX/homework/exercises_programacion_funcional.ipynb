{
  "nbformat": 4,
  "nbformat_minor": 0,
  "metadata": {
    "kernelspec": {
      "name": "python374jvsc74a57bd0182e3b849e87c789b13dcf4169d6d9922ca2e40dd3044e82b295bff17932e6e2",
      "display_name": "Python 3.7.4 64-bit"
    },
    "language_info": {
      "codemirror_mode": {
        "name": "ipython",
        "version": 3
      },
      "file_extension": ".py",
      "mimetype": "text/x-python",
      "name": "python",
      "nbconvert_exporter": "python",
      "pygments_lexer": "ipython3",
      "version": "3.7.4"
    },
    "colab": {
      "name": "exercises_programacion_funcional.ipynb",
      "provenance": []
    },
    "metadata": {
      "interpreter": {
        "hash": "182e3b849e87c789b13dcf4169d6d9922ca2e40dd3044e82b295bff17932e6e2"
      }
    }
  },
  "cells": [
    {
      "cell_type": "markdown",
      "metadata": {
        "id": "7MOgw3Npw7lH"
      },
      "source": [
        "# Python | Programación funcional\n",
        "\n",
        "### Ejercicio 1.\n",
        "\n",
        "1. Utiliza `reduce` para concatenar estas palabras en una frase\n",
        "```Python\n",
        "ejer_1 = (\"to\", \"be\", \"or\", \"not\", \"to\", \"be\", \"that\", \"is\", \"the\", \"question\")\n",
        "```"
      ]
    },
    {
      "cell_type": "code",
      "metadata": {
        "id": "KinelSGow7lO"
      },
      "source": [
        "ejer_1 = (\"to\", \"be\", \"or\", \"not\", \"to\", \"be\", \"that\", \"is\", \"the\", \"question\")\n",
        "from functools import reduce\n",
        "reduce(lambda x, y: x + \" \" + y, ejer_1)"
      ],
      "execution_count": 2,
      "outputs": [
        {
          "output_type": "execute_result",
          "data": {
            "text/plain": [
              "'to be or not to be that is the question'"
            ]
          },
          "metadata": {},
          "execution_count": 2
        }
      ]
    },
    {
      "cell_type": "markdown",
      "metadata": {
        "id": "eaAYZy2zw7lO"
      },
      "source": [
        "2. Obtén una nueva tupla con el cuadrado de cada elemento de la siguiente tupla\n",
        "\n",
        "```Python\n",
        "ejer_2 = (1,2,3,4,5)\n",
        "```"
      ]
    },
    {
      "cell_type": "code",
      "metadata": {
        "id": "m8exE2yBw7lP"
      },
      "source": [
        "ejer_2 = (1,2,3,4,5)\n",
        "lista_ejer_2 = tuple(map(lambda x: x** 2, ejer_2))\n",
        "lista_ejer_2"
      ],
      "execution_count": 4,
      "outputs": [
        {
          "output_type": "execute_result",
          "data": {
            "text/plain": [
              "(1, 4, 9, 16, 25)"
            ]
          },
          "metadata": {},
          "execution_count": 4
        }
      ]
    },
    {
      "cell_type": "markdown",
      "metadata": {
        "id": "dXJDiiqjw7lP"
      },
      "source": [
        "3. Filtra aquellos elementos que sean multiplos de 3 o de 5\n",
        "```Python\n",
        "ejer_3 = (1,2,3,4,5,15,21,22,33,34,35)\n",
        "```"
      ]
    },
    {
      "cell_type": "code",
      "metadata": {
        "id": "sx6Pv2BEw7lP"
      },
      "source": [
        "ejer_3 = (1,2,3,4,5,15,21,22,33,34,35)\n",
        "lista_filtrada = list(filter(lambda x: x%3 == 0 or x%5 == 0,ejer_3))\n",
        "lista_filtrada"
      ],
      "execution_count": 6,
      "outputs": [
        {
          "output_type": "execute_result",
          "data": {
            "text/plain": [
              "[3, 5, 15, 21, 33, 35]"
            ]
          },
          "metadata": {},
          "execution_count": 6
        }
      ]
    },
    {
      "cell_type": "markdown",
      "metadata": {
        "id": "U_pAKf6sw7lQ"
      },
      "source": [
        "4. Convierte la siguiente tupla de pesetas a euros\n",
        "```Python\n",
        "ejer_4 = (1000, 8000, 20000000, 40000000)\n",
        "```"
      ]
    },
    {
      "cell_type": "code",
      "metadata": {
        "id": "7lHvGsSUw7lQ"
      },
      "source": [
        "ejer_4 = (1000, 8000, 20000000, 40000000)\n",
        "euros = list(map(lambda x: str(round(x/166.386, 2)) + \"€\" , ejer_4))\n",
        "euros"
      ],
      "execution_count": 11,
      "outputs": [
        {
          "output_type": "execute_result",
          "data": {
            "text/plain": [
              "['6.01€', '48.08€', '120202.42€', '240404.84€']"
            ]
          },
          "metadata": {},
          "execution_count": 11
        }
      ]
    },
    {
      "cell_type": "markdown",
      "metadata": {
        "id": "eodsVLkZw7lQ"
      },
      "source": [
        "5. Convierte la siguiente lista de desconocidos a mayusculas\n",
        "```Python\n",
        "ejer_5 = (\"Arya\", \"John\", \"Robb\", \"Bran\", \"Sansa\", \"Rickon\")\n",
        "```"
      ]
    },
    {
      "cell_type": "code",
      "metadata": {
        "id": "FPoBGqmAw7lR"
      },
      "source": [
        "ejer_5 = (\"Arya\", \"John\", \"Robb\", \"Bran\", \"Sansa\", \"Rickon\")\n",
        "got = list(map(lambda x : x.upper(),ejer_5))\n",
        "got"
      ],
      "execution_count": 14,
      "outputs": [
        {
          "output_type": "execute_result",
          "data": {
            "text/plain": [
              "['ARYA', 'JOHN', 'ROBB', 'BRAN', 'SANSA', 'RICKON']"
            ]
          },
          "metadata": {},
          "execution_count": 14
        }
      ]
    },
    {
      "cell_type": "markdown",
      "metadata": {
        "id": "vrQ2Zuugw7lR"
      },
      "source": [
        "6. Realiza un conversor de dias de la semana en texto a numerico (1-7), usando `map`.\n",
        "```Python\n",
        "ejer_6 = (\"Lunes\", \"Martes\", \"Miércoles\", \"Jueves\", \"Viernes\", \"Sábado\", \"Domingo\")\n",
        "```"
      ]
    },
    {
      "cell_type": "code",
      "metadata": {
        "id": "PaCeqXHbw7lR"
      },
      "source": [
        "ejer_6 = (\"Lunes\", \"Martes\", \"Miércoles\", \"Jueves\", \"Viernes\", \"Sábado\", \"Domingo\")\n",
        "cont = [1,2,3,4,5,6,7]\n",
        "diccionario = dict(zip(ejer_6,cont))\n",
        "diccionario\n",
        "semana = list(map(lambda value: value, diccionario.values()))\n",
        "semana"
      ],
      "execution_count": 11,
      "outputs": [
        {
          "output_type": "execute_result",
          "data": {
            "text/plain": [
              "[1, 2, 3, 4, 5, 6, 7]"
            ]
          },
          "metadata": {},
          "execution_count": 11
        }
      ]
    },
    {
      "cell_type": "markdown",
      "metadata": {
        "id": "5wWZy3I6w7lS"
      },
      "source": [
        "7. Utiliza `map` para multiplicar elemento a elemento estas dos tuplas\n",
        "```Python\n",
        "ejer_7_1 = (2, 5, 8)\n",
        "ejer_7_2 = (6, 3, 2)\n",
        "```"
      ]
    },
    {
      "cell_type": "code",
      "metadata": {
        "id": "3b1-KSTGw7lS"
      },
      "source": [
        "ejer_7_1 = (2, 5, 8)\n",
        "ejer_7_2 = (6, 3, 2)\n",
        "\n",
        "lista_mult = list(map(lambda x,y: x*y, ejer_7_1,ejer_7_2 ))\n",
        "lista_mult\n"
      ],
      "execution_count": 42,
      "outputs": [
        {
          "output_type": "execute_result",
          "data": {
            "text/plain": [
              "[12, 15, 16]"
            ]
          },
          "metadata": {},
          "execution_count": 42
        }
      ]
    },
    {
      "cell_type": "markdown",
      "metadata": {
        "id": "Fz5IIR9Fw7lS"
      },
      "source": [
        "8. Crea una tupla nueva con todos los coches que no sean VW :)\n",
        "\n",
        "```Python\n",
        "ejer_8 = (\"VW\", \"Audi\", \"Renault\", \"VW\", \"BMW\")\n",
        "```"
      ]
    },
    {
      "cell_type": "code",
      "metadata": {
        "id": "EOy72HNuw7lS"
      },
      "source": [
        "ejer_8 = (\"VW\", \"Audi\", \"Renault\", \"VW\", \"BMW\")\n",
        "\n",
        "nueva_t = tuple(filter(lambda x: x != \"VW\", ejer_8))\n",
        "nueva_t"
      ],
      "execution_count": 24,
      "outputs": [
        {
          "output_type": "execute_result",
          "data": {
            "text/plain": [
              "('Audi', 'Renault', 'BMW')"
            ]
          },
          "metadata": {},
          "execution_count": 24
        }
      ]
    },
    {
      "cell_type": "markdown",
      "metadata": {
        "id": "Si9ugVCvw7lS"
      },
      "source": [
        "9. Dadas las siguientes fechas en formato string, quedate con aquellas del año 2020\n",
        "\n",
        "```Python\n",
        "ejer_9 = (\"2019-04-08\", \"2020-10-10\", \"2020-01-22\", \"2019-07-13\", \"2019-02-01\")\n",
        "```"
      ]
    },
    {
      "cell_type": "code",
      "metadata": {
        "id": "XQrdKIwIw7lT"
      },
      "source": [
        "ejer_9 = (\"2019-04-08\", \"2020-10-10\", \"2020-01-22\", \"2019-07-13\", \"2019-02-01\")\n",
        "list_2020 = list(filter(lambda x: \"2020\" in x , ejer_9))\n",
        "list_2020"
      ],
      "execution_count": 31,
      "outputs": [
        {
          "output_type": "execute_result",
          "data": {
            "text/plain": [
              "['2020-10-10', '2020-01-22']"
            ]
          },
          "metadata": {},
          "execution_count": 31
        }
      ]
    },
    {
      "cell_type": "markdown",
      "metadata": {
        "id": "cZwSCEKTw7lT"
      },
      "source": [
        "10. Filtra aquellos strings que sean [palíndromos](https://es.wikipedia.org/wiki/Pal%C3%ADndromo)\n",
        "```Python\n",
        "ejer_10 = (\"php\", \"w3r\", \"Python\", \"abcd\", \"Java\", \"aaa\")\n",
        "```"
      ]
    },
    {
      "cell_type": "code",
      "metadata": {
        "id": "3uoJTFqfw7lT"
      },
      "source": [
        "ejer_10 = (\"php\", \"w3r\", \"Python\", \"abcd\", \"Java\", \"aaa\")\n",
        "palindromos = list(filter(lambda x: x == x[::-1], ejer_10))\n",
        "palindromos"
      ],
      "execution_count": 34,
      "outputs": [
        {
          "output_type": "execute_result",
          "data": {
            "text/plain": [
              "['php', 'aaa']"
            ]
          },
          "metadata": {},
          "execution_count": 34
        }
      ]
    },
    {
      "cell_type": "markdown",
      "metadata": {
        "id": "IP1q6_cDw7lT"
      },
      "source": [
        "### Bonus Track.\n",
        "\n",
        "- Resuelve esta kata usando `map`\n",
        "https://www.codewars.com/kata/554b4ac871d6813a03000035\n",
        "\n",
        "Nota: si es demasiado difícil intenta resolverla sin usar `map` y si lo consigues, vuelve a resolverla usando `map`."
      ]
    },
    {
      "cell_type": "code",
      "metadata": {
        "id": "bu7060TOw7lT"
      },
      "source": [
        "string = \"1 2 3 4 5\"\n",
        "def high_low(numbers :str):\n",
        "    return max(numbers.split(\" \")), min(numbers.split(\" \"))\n",
        "\n",
        "high_low(string)\n",
        "\n",
        "\n"
      ],
      "execution_count": 18,
      "outputs": [
        {
          "output_type": "execute_result",
          "data": {
            "text/plain": [
              "('5', '1')"
            ]
          },
          "metadata": {},
          "execution_count": 18
        }
      ]
    },
    {
      "cell_type": "code",
      "execution_count": null,
      "metadata": {},
      "outputs": [],
      "source": []
    }
  ]
}