{
  "nbformat": 4,
  "nbformat_minor": 0,
  "metadata": {
    "kernelspec": {
      "name": "python374jvsc74a57bd0182e3b849e87c789b13dcf4169d6d9922ca2e40dd3044e82b295bff17932e6e2",
      "display_name": "Python 3.7.4 64-bit"
    },
    "language_info": {
      "codemirror_mode": {
        "name": "ipython",
        "version": 3
      },
      "file_extension": ".py",
      "mimetype": "text/x-python",
      "name": "python",
      "nbconvert_exporter": "python",
      "pygments_lexer": "ipython3",
      "version": "3.7.4"
    },
    "colab": {
      "name": "exercise_OOP_dinosaurs.ipynb",
      "provenance": []
    },
    "metadata": {
      "interpreter": {
        "hash": "182e3b849e87c789b13dcf4169d6d9922ca2e40dd3044e82b295bff17932e6e2"
      }
    }
  },
  "cells": [
    {
      "cell_type": "markdown",
      "metadata": {
        "id": "A2qFKawoknn3"
      },
      "source": [
        "# Python | day 11 | object oriented programming"
      ]
    },
    {
      "cell_type": "markdown",
      "metadata": {
        "id": "yr7qVsj8knn8"
      },
      "source": [
        "#### ¡Practice what you already know and keep learning!"
      ]
    },
    {
      "cell_type": "markdown",
      "metadata": {
        "id": "lY386eeWknn9"
      },
      "source": [
        "![\"con_clase\"](https://cdn.ttgtmedia.com/rms/onlineimages/whatis-object_oriented_programming_half_column_mobile.png)"
      ]
    },
    {
      "cell_type": "markdown",
      "metadata": {
        "id": "k9H4XZb5knn9"
      },
      "source": [
        "https://realpython.com/python3-object-oriented-programming/"
      ]
    },
    {
      "cell_type": "markdown",
      "metadata": {
        "id": "wRGj7aJiknn9"
      },
      "source": [
        "## Exercise 1. "
      ]
    },
    {
      "cell_type": "markdown",
      "metadata": {
        "id": "aS7Muj37knn-"
      },
      "source": [
        "A friend of yours have asked you to define a class so they can use it at the Natural History Museum in London in order to describe dinosaurs. \n",
        "\n",
        "Since you have no idea about dinosaurs he has given you a couple of instructions:\n",
        "\n",
        "   - Dinosaurs have four attributes all along the whole kind:\n",
        "        - They all have teeth, although every one of them have a different number of those\n",
        "        - Special skills which will be an empty list \n",
        "        - He finds interesting to specify if they are dangerous with a boolean, he also told you to set it False since usually they are very nice \n",
        "        - All of them have an only head\n",
        "        \n",
        "        \n",
        "   - Define also a couple of methods:\n",
        "   \n",
        "       - `many_teeth` --> number of teeth gives you a clue of how old the dinosaurs are, that's why it could be interesting to be able to change the number of teeth they have.\n",
        "       - `add_skill` --> this method add skills to each dinosaurs instance. \n",
        "       - `is_dangerous` --> not all of the dinosaurs are nice, some of them are a little bit dangerous and could attacks you, with this method you should be able to change the boolean set. Make sure, using `if`, the argument is always a boolean, if not print something like \"Remember you should give a boolean, True or False?\"\n"
      ]
    },
    {
      "cell_type": "code",
      "metadata": {
        "id": "ku2vsm8aknn-"
      },
      "source": [
        "# define a class Dinosaur\n",
        "class Dinosaur:\n",
        "    def __init__(self, teeth, skills = [], dangerous= False, head = 1):\n",
        "        self.teeth = teeth\n",
        "        self.skills = skills\n",
        "        self.dangerous = dangerous\n",
        "        self.head = head\n",
        "    def many_teeth(self,x):\n",
        "        self.teeth = x\n",
        "        return self.teeth\n",
        "    def add_skills(self,x):\n",
        "        self.skills.append(x)\n",
        "        return self.skills\n",
        "    def is_dangerous(self,x):\n",
        "        if type(x) == bool:\n",
        "            self.dangerous = x\n",
        "            return self.dangerous\n",
        "        else:\n",
        "            print(\"enter a bool\")"
      ],
      "execution_count": 1,
      "outputs": []
    },
    {
      "cell_type": "markdown",
      "metadata": {
        "id": "dNEjg5dSknn_"
      },
      "source": [
        "Once you have the class Dinosaur and its methods defined, create an instance **tyrannosaurus**. Your friend has told you that Tyrannosaurus rex had 50 to 60 solid cone-shaped teeth as big as bananas. Set the number of teeth as 60 since you will have the opportunity of changing it later using the method `many_teeth`. "
      ]
    },
    {
      "cell_type": "code",
      "metadata": {
        "id": "GBD4Efk2knoA"
      },
      "source": [
        "# create an Tyrannosaurus rex with 60 teeth\n",
        "tyrannosaurus = Dinosaur(teeth=60)\n",
        "print(tyrannosaurus.teeth)"
      ],
      "execution_count": 2,
      "outputs": [
        {
          "output_type": "stream",
          "name": "stdout",
          "text": [
            "60\n"
          ]
        }
      ]
    },
    {
      "cell_type": "markdown",
      "metadata": {
        "id": "MXPzdwivknoA"
      },
      "source": [
        "Tyrannosaurus rex are the most dangerous dinosaurs so please, use the method `is_dangerous` with the argument \"yes, it is dangerous\", to set this up. It should return a message telling you to give a boolean, True or False, instead of the string you used as argument. "
      ]
    },
    {
      "cell_type": "code",
      "metadata": {
        "id": "27jvuGxTknoA"
      },
      "source": [
        "# call is_dangerous method saying \"yes, it is dangerous\"\n",
        "tyrannosaurus.is_dangerous(\"yes, it's dangerous\")"
      ],
      "execution_count": 3,
      "outputs": [
        {
          "output_type": "stream",
          "name": "stdout",
          "text": [
            "enter a bool\n"
          ]
        }
      ]
    },
    {
      "cell_type": "markdown",
      "metadata": {
        "id": "dQU9wN1IknoB"
      },
      "source": [
        "Good try! But you need to set this with a boolean. Since tyrannosaurus rex are dangerous give True as an argument to the method `is_dangerous`."
      ]
    },
    {
      "cell_type": "code",
      "metadata": {
        "id": "9_6MkYXKknoB"
      },
      "source": [
        "# call is_dangerous method with True as an argument\n",
        "tyrannosaurus.is_dangerous(True)"
      ],
      "execution_count": 4,
      "outputs": [
        {
          "output_type": "execute_result",
          "data": {
            "text/plain": [
              "True"
            ]
          },
          "metadata": {},
          "execution_count": 4
        }
      ]
    },
    {
      "cell_type": "markdown",
      "metadata": {
        "id": "-EuvtcfxknoB"
      },
      "source": [
        "Set \"lethality\" as an special skill of the tyrannosaurus rex using the `add_skill` method. "
      ]
    },
    {
      "cell_type": "code",
      "metadata": {
        "id": "JjFsf2aaknoB"
      },
      "source": [
        "# give lethality as an argument to the method add_skill\n",
        "tyrannosaurus.add_skills(\"lethality\")"
      ],
      "execution_count": 5,
      "outputs": [
        {
          "output_type": "execute_result",
          "data": {
            "text/plain": [
              "['lethality']"
            ]
          },
          "metadata": {},
          "execution_count": 5
        }
      ]
    },
    {
      "cell_type": "markdown",
      "metadata": {
        "id": "vxTY5tP5knoC"
      },
      "source": [
        "Show its `special_skill` to make sure you add the skill as expected."
      ]
    },
    {
      "cell_type": "code",
      "metadata": {
        "id": "VL-20YRGknoC"
      },
      "source": [
        "# show its special_skill \n",
        "tyrannosaurus.skills"
      ],
      "execution_count": 6,
      "outputs": [
        {
          "output_type": "execute_result",
          "data": {
            "text/plain": [
              "['lethality']"
            ]
          },
          "metadata": {},
          "execution_count": 6
        }
      ]
    },
    {
      "cell_type": "markdown",
      "metadata": {
        "id": "U9g6fPY1knoC"
      },
      "source": [
        "If you could add \"lethality\" to the tyrannosaurus special skills, let's try now adding \"strength\"."
      ]
    },
    {
      "cell_type": "code",
      "metadata": {
        "id": "6vyon3NqknoC"
      },
      "source": [
        "# add strength to the list of special_skill\n",
        "tyrannosaurus.add_skills(\"strength\")"
      ],
      "execution_count": 7,
      "outputs": [
        {
          "output_type": "execute_result",
          "data": {
            "text/plain": [
              "['lethality', 'strength']"
            ]
          },
          "metadata": {},
          "execution_count": 7
        }
      ]
    },
    {
      "cell_type": "markdown",
      "metadata": {
        "id": "2d3vU7RWknoC"
      },
      "source": [
        "Now, you know a lot about tyrannosaurus rex and found out the most of them lose some teeth due to their diet during their life, so 50 teeth should be more realistic. Use `many_teeth` method. "
      ]
    },
    {
      "cell_type": "code",
      "metadata": {
        "id": "jiLiVQT_knoC"
      },
      "source": [
        "# set 50 teeth as the number of teeth\n",
        "tyrannosaurus.many_teeth(50)"
      ],
      "execution_count": 8,
      "outputs": [
        {
          "output_type": "execute_result",
          "data": {
            "text/plain": [
              "50"
            ]
          },
          "metadata": {},
          "execution_count": 8
        }
      ]
    },
    {
      "cell_type": "markdown",
      "metadata": {
        "id": "BKCxAD-eknoD"
      },
      "source": [
        "Show the tyrannosaurus rex's attributes defining a dictionary called `tyrannosaurus_data`. The keys should be the attributes: `teeth`, `danger`, `head`, `special_skill`, and the values those given to the attributes during the exercise.\n",
        "\n",
        "*Hint: You could solve this exercise using a function. Try google.* "
      ]
    },
    {
      "cell_type": "code",
      "metadata": {
        "id": "YOVZ0IbQknoD"
      },
      "source": [
        "# create the tyrannosaurus_data dictionary\n",
        "tyrannosaurus.__dict__"
      ],
      "execution_count": 9,
      "outputs": [
        {
          "output_type": "execute_result",
          "data": {
            "text/plain": [
              "{'teeth': 50,\n",
              " 'skills': ['lethality', 'strength'],\n",
              " 'dangerous': True,\n",
              " 'head': 1}"
            ]
          },
          "metadata": {},
          "execution_count": 9
        }
      ]
    },
    {
      "cell_type": "markdown",
      "metadata": {
        "id": "FKjOkVtfknoD"
      },
      "source": [
        "### Bonus\n",
        "\n",
        "Try to define a function named `if_danger` which check if **Dinosaur** is dangerous and if it is, then return something like \"RUN FOR YOUR LIFE, THIS GUY IS HUNGRY AND EAT PEOPLE\", in case the dinosaur isn't dangerous return \"all good, nothing to fear\".\n",
        "\n",
        "Call the function using as an argument the attribute `danger` of the **tyrannosaurus**."
      ]
    },
    {
      "cell_type": "code",
      "metadata": {
        "id": "fChr2Y8JknoD"
      },
      "source": [
        "# define if_danger with one parameter\n",
        "def if_danger(dinosaurio):\n",
        "    if dinosaurio.dangerous == True:\n",
        "        return \"RUN FOR YOUR LIFE, THIS GUY IS HUNGRY AND EAT PEOPLE\"\n",
        "    else:\n",
        "        return \"all good, nothing to fear\"\n"
      ],
      "execution_count": 10,
      "outputs": []
    },
    {
      "cell_type": "code",
      "metadata": {
        "id": "Uyf6JtbAknoE"
      },
      "source": [
        "# invoked the if_danger function\n",
        "if_danger(tyrannosaurus)"
      ],
      "execution_count": 12,
      "outputs": [
        {
          "output_type": "execute_result",
          "data": {
            "text/plain": [
              "'RUN FOR YOUR LIFE, THIS GUY IS HUNGRY AND EAT PEOPLE'"
            ]
          },
          "metadata": {},
          "execution_count": 12
        }
      ]
    },
    {
      "cell_type": "markdown",
      "metadata": {
        "id": "70oTrokmknoE"
      },
      "source": [
        "## Exercise 2. "
      ]
    },
    {
      "cell_type": "markdown",
      "metadata": {
        "id": "c5iXFHZmknoE"
      },
      "source": [
        "A company is opening a bank, but the coder who is designing the user class made some errors. They need you to help them.\n",
        "\n",
        "You must include the following:\n",
        "\n",
        "**A withdraw method**\n",
        "- Subtracts money from balance\n",
        "- One parameter, money to withdraw\n",
        "- Raise ValueError if there isn't enough money to withdraw\n",
        "- Return a string with name and balence(see examples)\n",
        "\n",
        "**A check method**\n",
        "- Adds money to baleance\n",
        "- Two parameters, other user and money\n",
        "- Other user will always be valid\n",
        "- Raise a ValueError if other user doesn't have enough money\n",
        "- Raise a ValueError if checking_account isn't true for other user\n",
        "- Return a string with name and balance plus other name and other balance(see examples)\n",
        "\n",
        "**An add_cash method**\n",
        "- Adds money to balance\n",
        "- One parameter, money to add\n",
        "- Return a string with name and balance(see examples)\n",
        "\n",
        "**Additional Notes:**\n",
        "\n",
        "- Checking_account should be stored as a boolean\n",
        "- No input numbers will be negitive\n",
        "- Output must end with period\n",
        "- Float numbers will not be used so, balance should be integer\n",
        "- No currency will be used"
      ]
    },
    {
      "cell_type": "markdown",
      "metadata": {
        "id": "QWnyTrZlknoF"
      },
      "source": [
        "KATA --> https://www.codewars.com/kata/5a03af9606d5b65ff7000009"
      ]
    },
    {
      "cell_type": "markdown",
      "metadata": {
        "id": "rrNxlGawknoF"
      },
      "source": [
        "**If you dare trying to solve this problem, you'll need this:** https://www.w3schools.com/python/gloss_python_raise.asp"
      ]
    },
    {
      "cell_type": "code",
      "metadata": {
        "id": "D1aElRuaknoF"
      },
      "source": [
        "#your code here\n",
        "class User(object):\n",
        "    pass\n"
      ],
      "execution_count": 24,
      "outputs": []
    }
  ]
}