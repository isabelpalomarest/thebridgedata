{
  "nbformat": 4,
  "nbformat_minor": 0,
  "metadata": {
    "kernelspec": {
      "name": "python374jvsc74a57bd0182e3b849e87c789b13dcf4169d6d9922ca2e40dd3044e82b295bff17932e6e2",
      "display_name": "Python 3.7.4 64-bit"
    },
    "language_info": {
      "codemirror_mode": {
        "name": "ipython",
        "version": 3
      },
      "file_extension": ".py",
      "mimetype": "text/x-python",
      "name": "python",
      "nbconvert_exporter": "python",
      "pygments_lexer": "ipython3",
      "version": "3.7.4"
    },
    "colab": {
      "name": "exercise_dictlist_comprehension.ipynb",
      "provenance": []
    },
    "metadata": {
      "interpreter": {
        "hash": "182e3b849e87c789b13dcf4169d6d9922ca2e40dd3044e82b295bff17932e6e2"
      }
    }
  },
  "cells": [
    {
      "cell_type": "markdown",
      "metadata": {
        "id": "qsJz9vrcY16y"
      },
      "source": [
        "# Python | list/dict comprehension"
      ]
    },
    {
      "cell_type": "markdown",
      "metadata": {
        "id": "sfLP8hUpY16z"
      },
      "source": [
        "List comprehension in Python is a compact way of creating a list from a sequence. It is a short way to create a new list. List comprehension is considerably faster than processing a list using the for loop."
      ]
    },
    {
      "cell_type": "markdown",
      "metadata": {
        "id": "snVoG2ofY160"
      },
      "source": [
        "```python\n",
        "# syntax\n",
        "[i for i in iterable if expression]\n",
        "```"
      ]
    },
    {
      "cell_type": "markdown",
      "metadata": {
        "id": "qQl75i8lY160"
      },
      "source": [
        "Dictionary comprehension is the same as list comprehension but with dictionaries. I know, you didn't see that coming. "
      ]
    },
    {
      "cell_type": "markdown",
      "metadata": {
        "id": "YHtjP53oY160"
      },
      "source": [
        "```python\n",
        "# syntax\n",
        "\n",
        "{key: value for i in iterable}\n",
        "```\n"
      ]
    },
    {
      "cell_type": "markdown",
      "metadata": {
        "id": "irma23BeY161"
      },
      "source": [
        "- https://www.programiz.com/python-programming/list-comprehension\n",
        "- https://www.programiz.com/python-programming/dictionary-comprehension"
      ]
    },
    {
      "cell_type": "markdown",
      "metadata": {
        "id": "mBQrPgzVY161"
      },
      "source": [
        "### Exercise 1.\n",
        "\n",
        "Use list comprehension and print the result to solve these problems: "
      ]
    },
    {
      "cell_type": "markdown",
      "metadata": {
        "id": "e--MKB2_Y161"
      },
      "source": [
        "1. Make a list with the square number of numbers from 0 to 20. "
      ]
    },
    {
      "cell_type": "code",
      "metadata": {
        "id": "nCAqY1sBY162"
      },
      "source": [
        "lista_cuadrados = [n ** 2 for n in range(21)]\n",
        "print(lista_cuadrados)"
      ],
      "execution_count": 68,
      "outputs": [
        {
          "output_type": "stream",
          "name": "stdout",
          "text": [
            "[0, 1, 4, 9, 16, 25, 36, 49, 64, 81, 100, 121, 144, 169, 196, 225, 256, 289, 324, 361, 400]\n"
          ]
        }
      ]
    },
    {
      "cell_type": "markdown",
      "metadata": {
        "id": "hLp01JLvY162"
      },
      "source": [
        "2. Make a list with the first 50 power of two. "
      ]
    },
    {
      "cell_type": "code",
      "metadata": {
        "id": "Fj2hnljwY162"
      },
      "source": [
        "power_two = [2 ** n for n in range(50)]\n",
        "print(power_two)"
      ],
      "execution_count": 69,
      "outputs": [
        {
          "output_type": "stream",
          "name": "stdout",
          "text": [
            "[1, 2, 4, 8, 16, 32, 64, 128, 256, 512, 1024, 2048, 4096, 8192, 16384, 32768, 65536, 131072, 262144, 524288, 1048576, 2097152, 4194304, 8388608, 16777216, 33554432, 67108864, 134217728, 268435456, 536870912, 1073741824, 2147483648, 4294967296, 8589934592, 17179869184, 34359738368, 68719476736, 137438953472, 274877906944, 549755813888, 1099511627776, 2199023255552, 4398046511104, 8796093022208, 17592186044416, 35184372088832, 70368744177664, 140737488355328, 281474976710656, 562949953421312]\n"
          ]
        }
      ]
    },
    {
      "cell_type": "markdown",
      "metadata": {
        "id": "ibfIowBhY163"
      },
      "source": [
        "3. Calculate the square root of the first 100 numbers. \n",
        "\n",
        "**You will probably need to install math library with pip and import it in this file.** \n",
        "\n",
        "\n",
        "\n"
      ]
    },
    {
      "cell_type": "code",
      "metadata": {
        "id": "Q5qFTyrPY163"
      },
      "source": [
        "[n ** 0.5 for n in range(100)]"
      ],
      "execution_count": 7,
      "outputs": [
        {
          "output_type": "execute_result",
          "data": {
            "text/plain": [
              "[0.0,\n",
              " 1.0,\n",
              " 1.4142135623730951,\n",
              " 1.7320508075688772,\n",
              " 2.0,\n",
              " 2.23606797749979,\n",
              " 2.449489742783178,\n",
              " 2.6457513110645907,\n",
              " 2.8284271247461903,\n",
              " 3.0,\n",
              " 3.1622776601683795,\n",
              " 3.3166247903554,\n",
              " 3.4641016151377544,\n",
              " 3.605551275463989,\n",
              " 3.7416573867739413,\n",
              " 3.872983346207417,\n",
              " 4.0,\n",
              " 4.123105625617661,\n",
              " 4.242640687119285,\n",
              " 4.358898943540674,\n",
              " 4.47213595499958,\n",
              " 4.58257569495584,\n",
              " 4.69041575982343,\n",
              " 4.795831523312719,\n",
              " 4.898979485566356,\n",
              " 5.0,\n",
              " 5.0990195135927845,\n",
              " 5.196152422706632,\n",
              " 5.291502622129181,\n",
              " 5.385164807134504,\n",
              " 5.477225575051661,\n",
              " 5.5677643628300215,\n",
              " 5.656854249492381,\n",
              " 5.744562646538029,\n",
              " 5.830951894845301,\n",
              " 5.916079783099616,\n",
              " 6.0,\n",
              " 6.082762530298219,\n",
              " 6.164414002968976,\n",
              " 6.244997998398398,\n",
              " 6.324555320336759,\n",
              " 6.4031242374328485,\n",
              " 6.48074069840786,\n",
              " 6.557438524302,\n",
              " 6.6332495807108,\n",
              " 6.708203932499369,\n",
              " 6.782329983125268,\n",
              " 6.855654600401044,\n",
              " 6.928203230275509,\n",
              " 7.0,\n",
              " 7.0710678118654755,\n",
              " 7.14142842854285,\n",
              " 7.211102550927978,\n",
              " 7.280109889280518,\n",
              " 7.3484692283495345,\n",
              " 7.416198487095663,\n",
              " 7.483314773547883,\n",
              " 7.54983443527075,\n",
              " 7.615773105863909,\n",
              " 7.681145747868608,\n",
              " 7.745966692414834,\n",
              " 7.810249675906654,\n",
              " 7.874007874011811,\n",
              " 7.937253933193772,\n",
              " 8.0,\n",
              " 8.06225774829855,\n",
              " 8.12403840463596,\n",
              " 8.18535277187245,\n",
              " 8.246211251235321,\n",
              " 8.306623862918075,\n",
              " 8.366600265340756,\n",
              " 8.426149773176359,\n",
              " 8.48528137423857,\n",
              " 8.54400374531753,\n",
              " 8.602325267042627,\n",
              " 8.660254037844387,\n",
              " 8.717797887081348,\n",
              " 8.774964387392123,\n",
              " 8.831760866327848,\n",
              " 8.888194417315589,\n",
              " 8.94427190999916,\n",
              " 9.0,\n",
              " 9.055385138137417,\n",
              " 9.1104335791443,\n",
              " 9.16515138991168,\n",
              " 9.219544457292887,\n",
              " 9.273618495495704,\n",
              " 9.327379053088816,\n",
              " 9.38083151964686,\n",
              " 9.433981132056603,\n",
              " 9.486832980505138,\n",
              " 9.539392014169456,\n",
              " 9.591663046625438,\n",
              " 9.643650760992955,\n",
              " 9.695359714832659,\n",
              " 9.746794344808963,\n",
              " 9.797958971132712,\n",
              " 9.848857801796104,\n",
              " 9.899494936611665,\n",
              " 9.9498743710662]"
            ]
          },
          "metadata": {},
          "execution_count": 7
        }
      ]
    },
    {
      "cell_type": "markdown",
      "metadata": {
        "id": "OFL4_ktDY163"
      },
      "source": [
        "4. Create this list `[-10,-9,-8,-7,-6,-5,-4,-3,-2,-1,0]`. "
      ]
    },
    {
      "cell_type": "code",
      "metadata": {
        "id": "lBgN_Fl3Y164"
      },
      "source": [
        "[-i for i in range (10,-1,-1)]"
      ],
      "execution_count": 22,
      "outputs": [
        {
          "output_type": "execute_result",
          "data": {
            "text/plain": [
              "[-10, -9, -8, -7, -6, -5, -4, -3, -2, -1, 0]"
            ]
          },
          "metadata": {},
          "execution_count": 22
        }
      ]
    },
    {
      "cell_type": "markdown",
      "metadata": {
        "id": "9oC0K2cdY164"
      },
      "source": [
        "5. Filter only negative and zero in the list `numbers`."
      ]
    },
    {
      "cell_type": "code",
      "metadata": {
        "id": "3YfHupcTY164"
      },
      "source": [
        "\n",
        "numbers = [-4, -3, -2, -1, 0, 2, 4, 6]"
      ],
      "execution_count": 28,
      "outputs": []
    },
    {
      "cell_type": "code",
      "metadata": {
        "id": "vD-1p4BwY165"
      },
      "source": [
        "[x for x in numbers if x >= 0]"
      ],
      "execution_count": 34,
      "outputs": [
        {
          "output_type": "execute_result",
          "data": {
            "text/plain": [
              "[0, 2, 4, 6]"
            ]
          },
          "metadata": {},
          "execution_count": 34
        }
      ]
    },
    {
      "cell_type": "markdown",
      "metadata": {
        "id": "TbSxSdIlY165"
      },
      "source": [
        "6. Find the odd numbers from 1-100 and put them on a list. \n",
        "\n",
        "\n"
      ]
    },
    {
      "cell_type": "code",
      "metadata": {
        "id": "Zmx9tILtY165"
      },
      "source": [
        "list_odd = [n for n in range(100) if n%2 != 0]\n",
        "print(list_odd)"
      ],
      "execution_count": 70,
      "outputs": [
        {
          "output_type": "stream",
          "name": "stdout",
          "text": [
            "[1, 3, 5, 7, 9, 11, 13, 15, 17, 19, 21, 23, 25, 27, 29, 31, 33, 35, 37, 39, 41, 43, 45, 47, 49, 51, 53, 55, 57, 59, 61, 63, 65, 67, 69, 71, 73, 75, 77, 79, 81, 83, 85, 87, 89, 91, 93, 95, 97, 99]\n"
          ]
        }
      ]
    },
    {
      "cell_type": "markdown",
      "metadata": {
        "id": "P0DWoXYZY165"
      },
      "source": [
        "7. Find all of the numbers from 1-1000 that are divisible by 7.\n",
        "\n"
      ]
    },
    {
      "cell_type": "code",
      "metadata": {
        "id": "sYc9IK6MY165"
      },
      "source": [
        "seven_division = [x for x in range(1001) if x%7 == 0 ]\n",
        "seven_division"
      ],
      "execution_count": 13,
      "outputs": [
        {
          "output_type": "execute_result",
          "data": {
            "text/plain": [
              "[0,\n",
              " 7,\n",
              " 14,\n",
              " 21,\n",
              " 28,\n",
              " 35,\n",
              " 42,\n",
              " 49,\n",
              " 56,\n",
              " 63,\n",
              " 70,\n",
              " 77,\n",
              " 84,\n",
              " 91,\n",
              " 98,\n",
              " 105,\n",
              " 112,\n",
              " 119,\n",
              " 126,\n",
              " 133,\n",
              " 140,\n",
              " 147,\n",
              " 154,\n",
              " 161,\n",
              " 168,\n",
              " 175,\n",
              " 182,\n",
              " 189,\n",
              " 196,\n",
              " 203,\n",
              " 210,\n",
              " 217,\n",
              " 224,\n",
              " 231,\n",
              " 238,\n",
              " 245,\n",
              " 252,\n",
              " 259,\n",
              " 266,\n",
              " 273,\n",
              " 280,\n",
              " 287,\n",
              " 294,\n",
              " 301,\n",
              " 308,\n",
              " 315,\n",
              " 322,\n",
              " 329,\n",
              " 336,\n",
              " 343,\n",
              " 350,\n",
              " 357,\n",
              " 364,\n",
              " 371,\n",
              " 378,\n",
              " 385,\n",
              " 392,\n",
              " 399,\n",
              " 406,\n",
              " 413,\n",
              " 420,\n",
              " 427,\n",
              " 434,\n",
              " 441,\n",
              " 448,\n",
              " 455,\n",
              " 462,\n",
              " 469,\n",
              " 476,\n",
              " 483,\n",
              " 490,\n",
              " 497,\n",
              " 504,\n",
              " 511,\n",
              " 518,\n",
              " 525,\n",
              " 532,\n",
              " 539,\n",
              " 546,\n",
              " 553,\n",
              " 560,\n",
              " 567,\n",
              " 574,\n",
              " 581,\n",
              " 588,\n",
              " 595,\n",
              " 602,\n",
              " 609,\n",
              " 616,\n",
              " 623,\n",
              " 630,\n",
              " 637,\n",
              " 644,\n",
              " 651,\n",
              " 658,\n",
              " 665,\n",
              " 672,\n",
              " 679,\n",
              " 686,\n",
              " 693,\n",
              " 700,\n",
              " 707,\n",
              " 714,\n",
              " 721,\n",
              " 728,\n",
              " 735,\n",
              " 742,\n",
              " 749,\n",
              " 756,\n",
              " 763,\n",
              " 770,\n",
              " 777,\n",
              " 784,\n",
              " 791,\n",
              " 798,\n",
              " 805,\n",
              " 812,\n",
              " 819,\n",
              " 826,\n",
              " 833,\n",
              " 840,\n",
              " 847,\n",
              " 854,\n",
              " 861,\n",
              " 868,\n",
              " 875,\n",
              " 882,\n",
              " 889,\n",
              " 896,\n",
              " 903,\n",
              " 910,\n",
              " 917,\n",
              " 924,\n",
              " 931,\n",
              " 938,\n",
              " 945,\n",
              " 952,\n",
              " 959,\n",
              " 966,\n",
              " 973,\n",
              " 980,\n",
              " 987,\n",
              " 994]"
            ]
          },
          "metadata": {},
          "execution_count": 13
        }
      ]
    },
    {
      "cell_type": "markdown",
      "metadata": {
        "id": "XIOS0rhTY166"
      },
      "source": [
        "8. Remove all of the vowels in a string. \n",
        "\n",
        "   Hint: make a list of the non-vowels. \n",
        "\n",
        "\n",
        "\n",
        "\n"
      ]
    },
    {
      "cell_type": "code",
      "metadata": {
        "id": "DHNVauV-Y166"
      },
      "source": [
        "teststring = \"When you reach the end of your rope, tie a knot in it and hang on.\""
      ],
      "execution_count": 56,
      "outputs": []
    },
    {
      "cell_type": "code",
      "metadata": {
        "id": "pxWavDlgY166"
      },
      "source": [
        "non_vowels =\"bcdfghjklmnpqrstvwxyz\"\n",
        "lista_consonantes = [x for x in teststring.lower() if x in non_vowels]\n",
        "print(lista_consonantes)"
      ],
      "execution_count": 67,
      "outputs": [
        {
          "output_type": "stream",
          "name": "stdout",
          "text": [
            "['w', 'h', 'n', 'y', 'r', 'c', 'h', 't', 'h', 'n', 'd', 'f', 'y', 'r', 'r', 'p', 't', 'k', 'n', 't', 'n', 't', 'n', 'd', 'h', 'n', 'g', 'n']\n"
          ]
        }
      ]
    },
    {
      "cell_type": "markdown",
      "metadata": {
        "id": "E8YC4zACY166"
      },
      "source": [
        "9. Find the capital letters (and not white space) in the sentence `\"The Way To Get Started Is To Quit Talking And Begin Doing.\"`. \n"
      ]
    },
    {
      "cell_type": "code",
      "metadata": {
        "id": "70fmn2XQY166"
      },
      "source": [
        "capital = \"ABCDEFGHIJKLMNOPQRSTUVWXYZ\"\n",
        "sentence = \"The Way To Get Started Is To Quit Talking And Begin Doing.\"\n",
        "[i for i in sentence if i in capital]\n"
      ],
      "execution_count": 71,
      "outputs": [
        {
          "output_type": "execute_result",
          "data": {
            "text/plain": [
              "['T', 'W', 'T', 'G', 'S', 'I', 'T', 'Q', 'T', 'A', 'B', 'D']"
            ]
          },
          "metadata": {},
          "execution_count": 71
        }
      ]
    },
    {
      "cell_type": "markdown",
      "metadata": {
        "id": "GDP10mwRY166"
      },
      "source": [
        "10. Find all the consonants in the sentence `\"Tell me and I forget. Teach me and I remember. Involve me and I learn.\"`.\n"
      ]
    },
    {
      "cell_type": "code",
      "metadata": {
        "id": "pfL1dwUFY167"
      },
      "source": [
        "sentence2 = \"Tell me and I forget. Teach me and I remember. Involve me and I learn.\"\n",
        "[i for i in sentence2 if i.lower() in non_vowels]"
      ],
      "execution_count": 74,
      "outputs": [
        {
          "output_type": "execute_result",
          "data": {
            "text/plain": [
              "['T',\n",
              " 'l',\n",
              " 'l',\n",
              " 'm',\n",
              " 'n',\n",
              " 'd',\n",
              " 'f',\n",
              " 'r',\n",
              " 'g',\n",
              " 't',\n",
              " 'T',\n",
              " 'c',\n",
              " 'h',\n",
              " 'm',\n",
              " 'n',\n",
              " 'd',\n",
              " 'r',\n",
              " 'm',\n",
              " 'm',\n",
              " 'b',\n",
              " 'r',\n",
              " 'n',\n",
              " 'v',\n",
              " 'l',\n",
              " 'v',\n",
              " 'm',\n",
              " 'n',\n",
              " 'd',\n",
              " 'l',\n",
              " 'r',\n",
              " 'n']"
            ]
          },
          "metadata": {},
          "execution_count": 74
        }
      ]
    },
    {
      "cell_type": "markdown",
      "metadata": {
        "id": "L_9uTG4cY167"
      },
      "source": [
        "11. Create 4 lists of 10 random numbers between 0 and 100 each. \n",
        "\n",
        "**You will probably need to import random module.**\n",
        "\n"
      ]
    },
    {
      "cell_type": "code",
      "metadata": {
        "id": "PGdoDUEMY167"
      },
      "source": [
        "import random\n",
        "lista_1r = [i for i in random.sample(range(101),10)]\n",
        "lista_2r = [i for i in random.sample(range(101),10)]\n",
        "lista_3r = [i for i in random.sample(range(101),10)]\n",
        "lista_4r = [i for i in random.sample(range(101),10)]\n",
        "print(lista_1r,lista_2r,lista_3r,lista_4r)"
      ],
      "execution_count": 19,
      "outputs": [
        {
          "output_type": "stream",
          "name": "stdout",
          "text": [
            "[57, 55, 39, 61, 70, 98, 9, 7, 72, 69] [97, 87, 2, 22, 33, 51, 40, 82, 83, 28] [40, 37, 35, 29, 57, 64, 98, 1, 94, 19] [13, 36, 67, 79, 39, 34, 31, 0, 75, 41]\n"
          ]
        }
      ]
    },
    {
      "cell_type": "markdown",
      "metadata": {
        "id": "zm1B9n7dY167"
      },
      "source": [
        "### Exercise 2. "
      ]
    },
    {
      "cell_type": "markdown",
      "metadata": {
        "id": "6A-oRckyY167"
      },
      "source": [
        "1. Flatten the following list of lists of lists to a one dimensional list **using list-comprehension**:\n",
        "```python\n",
        "expected output:\n",
        "[1, 2, 3, 4, 5, 6, 7, 8, 9]\n",
        "```"
      ]
    },
    {
      "cell_type": "code",
      "metadata": {
        "id": "FBgBHCACY167"
      },
      "source": [
        "list_of_lists =[[1, 2, 3], [4, 5, 6], [7, 8, 9]]"
      ],
      "execution_count": 1,
      "outputs": []
    },
    {
      "cell_type": "code",
      "metadata": {
        "id": "iWY5q8JuY168"
      },
      "source": [
        "lista_mediana = [lista_mediana for lista_mediana in list_of_lists]\n",
        "lista_pe = [lista_pe for lista_mediana in list_of_lists for lista_pe in lista_mediana]\n",
        "lista_pe"
      ],
      "execution_count": 26,
      "outputs": [
        {
          "output_type": "execute_result",
          "data": {
            "text/plain": [
              "[1, 2, 3, 4, 5, 6, 7, 8, 9]"
            ]
          },
          "metadata": {},
          "execution_count": 26
        }
      ]
    },
    {
      "cell_type": "markdown",
      "metadata": {
        "id": "9y0Pg9D5Y168"
      },
      "source": [
        "2. Flatten the following list to a new list, and capitalize the elements of the new list **using list-comprehension**:\n",
        "```python\n",
        "expected output:\n",
        "['SPAIN', 'MADRID', 'FRANCE', 'PARIS', 'PORTUGAL', 'LISBON']\n",
        "```"
      ]
    },
    {
      "cell_type": "code",
      "metadata": {
        "id": "8fZ5-IzkY168"
      },
      "source": [
        "countries = [[('Spain', 'Madrid')], [('France', 'Paris')], [('Portugal', 'Lisbon')]]"
      ],
      "execution_count": 47,
      "outputs": []
    },
    {
      "cell_type": "code",
      "metadata": {
        "id": "ObSKSZvfY168"
      },
      "source": [
        "countries2 = [countries2 for countries2 in countries]\n",
        "countries3 = [countries3 for countries2 in countries for countries3 in countries2]\n",
        "countries4 = [countries4.upper() for countries2 in countries for countries3 in countries2 for countries4 in countries3]\n",
        "countries4"
      ],
      "execution_count": 42,
      "outputs": [
        {
          "output_type": "execute_result",
          "data": {
            "text/plain": [
              "['SPAIN', 'MADRID', 'FRANCE', 'PARIS', 'PORTUGAL', 'LISBON']"
            ]
          },
          "metadata": {},
          "execution_count": 42
        }
      ]
    },
    {
      "cell_type": "markdown",
      "metadata": {
        "id": "YS9V2sFOY168"
      },
      "source": [
        "3. Change the `countries` list to a list of dictionaries:\n",
        "```python\n",
        "expected output:\n",
        "[{'country': 'SPAIN', 'city': 'MADRID'},\n",
        "{'country': 'FRANCE', 'city': 'PARIS'},\n",
        "{'country': 'PORTUGAL', 'city': 'LISBON'}]\n",
        "```"
      ]
    },
    {
      "cell_type": "code",
      "metadata": {
        "id": "VRR25JBTY169"
      },
      "source": [
        "countriesdic =  [{\"country\":i[0][0].upper(), \"city\": i[0][1].upper()} for i in countries]\n",
        "countriesdic"
      ],
      "execution_count": 50,
      "outputs": [
        {
          "output_type": "execute_result",
          "data": {
            "text/plain": [
              "[{'country': 'SPAIN', 'city': 'MADRID'},\n",
              " {'country': 'FRANCE', 'city': 'PARIS'},\n",
              " {'country': 'PORTUGAL', 'city': 'LISBON'}]"
            ]
          },
          "metadata": {},
          "execution_count": 50
        }
      ]
    },
    {
      "cell_type": "markdown",
      "metadata": {
        "id": "eqbK3iUbY169"
      },
      "source": [
        "4. Change the following list of lists to a list of concatenated strings **using list-comprehension**:\n",
        "```python\n",
        "expected output:\n",
        "['Gabriel Vazquez', 'Clara Piniella', 'Diomedes Barbero']\n",
        "```"
      ]
    },
    {
      "cell_type": "code",
      "metadata": {
        "id": "fJ6CV3pVY169"
      },
      "source": [
        "names = [[('Gabriel', 'Vazquez')], [('Clara', 'Piniella')], [('Diomedes', 'Barbero')]]"
      ],
      "execution_count": 51,
      "outputs": []
    },
    {
      "cell_type": "code",
      "metadata": {
        "id": "rQH0j0ydY169"
      },
      "source": [
        "names1 = [i[0][0]+ \" \" + i[0][1]for i in names]\n",
        "names1"
      ],
      "execution_count": 54,
      "outputs": [
        {
          "output_type": "execute_result",
          "data": {
            "text/plain": [
              "['Gabriel Vazquez', 'Clara Piniella', 'Diomedes Barbero']"
            ]
          },
          "metadata": {},
          "execution_count": 54
        }
      ]
    },
    {
      "cell_type": "markdown",
      "metadata": {
        "id": "cX_gUwB6Y169"
      },
      "source": [
        "5. Convert the numbers of the following nested list to floats. Use **floats_list** as the name of the list. **using list-comprehension**"
      ]
    },
    {
      "cell_type": "code",
      "metadata": {
        "id": "P05klyVnY169"
      },
      "source": [
        "big_list_of_lists = [['40', '20', '10', '30'], ['20', '20', '20', '20', '20', '30', '20'], \\\n",
        "['30', '20', '30', '50', '10', '30', '20', '20', '20'], ['100', '100'], ['100', '100', '100', '100', '100'], \\\n",
        "['100', '100', '100', '100']]"
      ],
      "execution_count": 55,
      "outputs": []
    },
    {
      "cell_type": "code",
      "metadata": {
        "id": "6bwteYG9Y16-"
      },
      "source": [
        "mediana_floats = [mediana_floats for mediana_floats in big_list_of_lists]\n",
        "floats_list = [ float(floats_list) for mediana_floats in big_list_of_lists for floats_list in mediana_floats]\n",
        "print(floats_list)"
      ],
      "execution_count": 65,
      "outputs": [
        {
          "output_type": "stream",
          "name": "stdout",
          "text": [
            "[40.0, 20.0, 10.0, 30.0, 20.0, 20.0, 20.0, 20.0, 20.0, 30.0, 20.0, 30.0, 20.0, 30.0, 50.0, 10.0, 30.0, 20.0, 20.0, 20.0, 100.0, 100.0, 100.0, 100.0, 100.0, 100.0, 100.0, 100.0, 100.0, 100.0, 100.0]\n"
          ]
        }
      ]
    },
    {
      "cell_type": "markdown",
      "metadata": {
        "id": "_E85ec-EY16-"
      },
      "source": [
        "6. Using list comprehension create the following list of tuples:\n",
        "```python\n",
        "expected output: \n",
        "[(0, 1, 0, 0, 0, 0, 0),\n",
        "(1, 1, 1, 1, 1, 1, 1),\n",
        "(2, 1, 2, 4, 8, 16, 32),\n",
        "(3, 1, 3, 9, 27, 81, 243),\n",
        "(4, 1, 4, 16, 64, 256, 1024),\n",
        "(5, 1, 5, 25, 125, 625, 3125),\n",
        "(6, 1, 6, 36, 216, 1296, 7776),\n",
        "(7, 1, 7, 49, 343, 2401, 16807),\n",
        "(8, 1, 8, 64, 512, 4096, 32768),\n",
        "(9, 1, 9, 81, 729, 6561, 59049),\n",
        "(10, 1, 10, 100, 1000, 10000, 100000)]\n",
        "```\n",
        "\n",
        "\n"
      ]
    },
    {
      "cell_type": "code",
      "metadata": {
        "id": "Y-J7B6JgY16-"
      },
      "source": [
        "listapotencias=[tuple([x]+[x**i for i in range (6)]) for x in range(11)]\n",
        "print(listapotencias)"
      ],
      "execution_count": 53,
      "outputs": [
        {
          "output_type": "stream",
          "name": "stdout",
          "text": [
            "[(0, 1, 0, 0, 0, 0, 0), (1, 1, 1, 1, 1, 1, 1), (2, 1, 2, 4, 8, 16, 32), (3, 1, 3, 9, 27, 81, 243), (4, 1, 4, 16, 64, 256, 1024), (5, 1, 5, 25, 125, 625, 3125), (6, 1, 6, 36, 216, 1296, 7776), (7, 1, 7, 49, 343, 2401, 16807), (8, 1, 8, 64, 512, 4096, 32768), (9, 1, 9, 81, 729, 6561, 59049), (10, 1, 10, 100, 1000, 10000, 100000)]\n"
          ]
        }
      ]
    },
    {
      "cell_type": "markdown",
      "metadata": {
        "id": "OIq-S1iSY16-"
      },
      "source": [
        "### Exercise 3. "
      ]
    },
    {
      "cell_type": "markdown",
      "metadata": {
        "id": "bbY1m9W8Y16-"
      },
      "source": [
        "1. First, create a range from 100 to 160 with steps of 10.\n",
        "   Second, using **dict comprehension**, create a dictionary where each number in the range is the key and each item divided by 100 is the value."
      ]
    },
    {
      "cell_type": "code",
      "metadata": {
        "id": "bIFqV7KPY16-"
      },
      "source": [
        "rango_160 = [x for x in range(100,161,10)]\n",
        "rango_160\n",
        "dict_160 = {posicion : valor for posicion, valor in enumerate(rango_160)}\n",
        "dict_160"
      ],
      "execution_count": 18,
      "outputs": [
        {
          "output_type": "execute_result",
          "data": {
            "text/plain": [
              "{0: 100, 1: 110, 2: 120, 3: 130, 4: 140, 5: 150, 6: 160}"
            ]
          },
          "metadata": {},
          "execution_count": 18
        }
      ]
    },
    {
      "cell_type": "markdown",
      "metadata": {
        "id": "FvKF__zxY16_"
      },
      "source": [
        "2. Using **dict comprehension** and a conditional argument create a dictionary from `curr_dict` where only the key:value pairs with value above 2000 are taken to the new dictionary.\n",
        "    "
      ]
    },
    {
      "cell_type": "code",
      "metadata": {
        "id": "9e-gjLl6Y16_"
      },
      "source": [
        "curr_dict = {\"Netflix\":4950,\"HBO\":2400,\"Amazon\":1800, \"Movistar\":1700}"
      ],
      "execution_count": 20,
      "outputs": []
    },
    {
      "cell_type": "code",
      "metadata": {
        "id": "ZdnVQk8YY16_"
      },
      "source": [
        "#intento 1, solo me sale con la segunda condicion\n",
        "nuevo_diccionario = { key: value for key, value in curr_dict.items() if value >2000 for x in range(curr_dict) if x % 2 == 0}\n",
        "nuevo_diccionario\n",
        "\n"
      ],
      "execution_count": 56,
      "outputs": [
        {
          "output_type": "error",
          "ename": "TypeError",
          "evalue": "'dict' object cannot be interpreted as an integer",
          "traceback": [
            "\u001b[1;31m---------------------------------------------------------------------------\u001b[0m",
            "\u001b[1;31mTypeError\u001b[0m                                 Traceback (most recent call last)",
            "\u001b[1;32m<ipython-input-56-49ea9b81c84c>\u001b[0m in \u001b[0;36m<module>\u001b[1;34m\u001b[0m\n\u001b[0;32m      1\u001b[0m \u001b[1;31m#intento 1, solo me sale con la segunda condicion\u001b[0m\u001b[1;33m\u001b[0m\u001b[1;33m\u001b[0m\u001b[1;33m\u001b[0m\u001b[0m\n\u001b[1;32m----> 2\u001b[1;33m \u001b[0mnuevo_diccionario\u001b[0m \u001b[1;33m=\u001b[0m \u001b[1;33m{\u001b[0m \u001b[0mkey\u001b[0m\u001b[1;33m:\u001b[0m \u001b[0mvalue\u001b[0m \u001b[1;32mfor\u001b[0m \u001b[0mkey\u001b[0m\u001b[1;33m,\u001b[0m \u001b[0mvalue\u001b[0m \u001b[1;32min\u001b[0m \u001b[0mcurr_dict\u001b[0m\u001b[1;33m.\u001b[0m\u001b[0mitems\u001b[0m\u001b[1;33m(\u001b[0m\u001b[1;33m)\u001b[0m \u001b[1;32mif\u001b[0m \u001b[0mvalue\u001b[0m \u001b[1;33m>\u001b[0m\u001b[1;36m2000\u001b[0m \u001b[1;32mfor\u001b[0m \u001b[0mx\u001b[0m \u001b[1;32min\u001b[0m \u001b[0mrange\u001b[0m\u001b[1;33m(\u001b[0m\u001b[0mcurr_dict\u001b[0m\u001b[1;33m)\u001b[0m \u001b[1;32mif\u001b[0m \u001b[0mx\u001b[0m \u001b[1;33m%\u001b[0m \u001b[1;36m2\u001b[0m \u001b[1;33m==\u001b[0m \u001b[1;36m0\u001b[0m\u001b[1;33m}\u001b[0m\u001b[1;33m\u001b[0m\u001b[1;33m\u001b[0m\u001b[0m\n\u001b[0m\u001b[0;32m      3\u001b[0m \u001b[0mnuevo_diccionario\u001b[0m\u001b[1;33m\u001b[0m\u001b[1;33m\u001b[0m\u001b[0m\n\u001b[0;32m      4\u001b[0m \u001b[1;33m\u001b[0m\u001b[0m\n",
            "\u001b[1;32m<ipython-input-56-49ea9b81c84c>\u001b[0m in \u001b[0;36m<dictcomp>\u001b[1;34m(.0)\u001b[0m\n\u001b[0;32m      1\u001b[0m \u001b[1;31m#intento 1, solo me sale con la segunda condicion\u001b[0m\u001b[1;33m\u001b[0m\u001b[1;33m\u001b[0m\u001b[1;33m\u001b[0m\u001b[0m\n\u001b[1;32m----> 2\u001b[1;33m \u001b[0mnuevo_diccionario\u001b[0m \u001b[1;33m=\u001b[0m \u001b[1;33m{\u001b[0m \u001b[0mkey\u001b[0m\u001b[1;33m:\u001b[0m \u001b[0mvalue\u001b[0m \u001b[1;32mfor\u001b[0m \u001b[0mkey\u001b[0m\u001b[1;33m,\u001b[0m \u001b[0mvalue\u001b[0m \u001b[1;32min\u001b[0m \u001b[0mcurr_dict\u001b[0m\u001b[1;33m.\u001b[0m\u001b[0mitems\u001b[0m\u001b[1;33m(\u001b[0m\u001b[1;33m)\u001b[0m \u001b[1;32mif\u001b[0m \u001b[0mvalue\u001b[0m \u001b[1;33m>\u001b[0m\u001b[1;36m2000\u001b[0m \u001b[1;32mfor\u001b[0m \u001b[0mx\u001b[0m \u001b[1;32min\u001b[0m \u001b[0mrange\u001b[0m\u001b[1;33m(\u001b[0m\u001b[0mcurr_dict\u001b[0m\u001b[1;33m)\u001b[0m \u001b[1;32mif\u001b[0m \u001b[0mx\u001b[0m \u001b[1;33m%\u001b[0m \u001b[1;36m2\u001b[0m \u001b[1;33m==\u001b[0m \u001b[1;36m0\u001b[0m\u001b[1;33m}\u001b[0m\u001b[1;33m\u001b[0m\u001b[1;33m\u001b[0m\u001b[0m\n\u001b[0m\u001b[0;32m      3\u001b[0m \u001b[0mnuevo_diccionario\u001b[0m\u001b[1;33m\u001b[0m\u001b[1;33m\u001b[0m\u001b[0m\n\u001b[0;32m      4\u001b[0m \u001b[1;33m\u001b[0m\u001b[0m\n",
            "\u001b[1;31mTypeError\u001b[0m: 'dict' object cannot be interpreted as an integer"
          ]
        }
      ]
    },
    {
      "cell_type": "markdown",
      "metadata": {
        "id": "Tdp87_VUY16_"
      },
      "source": [
        "3. Create a function that receives two lists `list1` and `list2` by parameter and returns a dictionary with each element of `list1` as keys and the elements of `list2` as values. This time use **dict comprehension** to do so.  "
      ]
    },
    {
      "cell_type": "code",
      "metadata": {
        "id": "50C44citY16_"
      },
      "source": [
        "list1 = [1,2,3,4]\n",
        "list2 = [5,6,7,8]\n",
        "[i: x for i in list1 for x in list2]\n"
      ],
      "execution_count": 52,
      "outputs": [
        {
          "output_type": "error",
          "ename": "SyntaxError",
          "evalue": "invalid syntax (<ipython-input-52-53db31e0ee7c>, line 3)",
          "traceback": [
            "\u001b[1;36m  File \u001b[1;32m\"<ipython-input-52-53db31e0ee7c>\"\u001b[1;36m, line \u001b[1;32m3\u001b[0m\n\u001b[1;33m    [i: x for i in list1 for x in list2]\u001b[0m\n\u001b[1;37m      ^\u001b[0m\n\u001b[1;31mSyntaxError\u001b[0m\u001b[1;31m:\u001b[0m invalid syntax\n"
          ]
        }
      ]
    },
    {
      "cell_type": "markdown",
      "metadata": {
        "id": "0GrUUfiiY17A"
      },
      "source": [
        "### Bonus Track.\n",
        "\n",
        "1. Make a Python program that, from the strings `\" | \"` and `\" _ \"`, shows an 8x8 **chessboard** on the screen.\n",
        "\n",
        "   Develop the program in a `.py` file that will be run through the terminal. \n",
        " \n",
        "   From the folder that contains the corresponding `.py`, it will be executed with the following command:` python3 program_name.py`"
      ]
    },
    {
      "cell_type": "code",
      "metadata": {
        "id": "cBtI6n33Y17A"
      },
      "source": [],
      "execution_count": null,
      "outputs": []
    },
    {
      "cell_type": "markdown",
      "metadata": {
        "id": "XRKVCadnY17B"
      },
      "source": [
        "!['togood'](https://i.pinimg.com/originals/de/f5/2f/def52fe41d695d8feebd2cdc194da929.png)"
      ]
    },
    {
      "cell_type": "code",
      "metadata": {
        "id": "siag7wwXY17B"
      },
      "source": [],
      "execution_count": null,
      "outputs": []
    }
  ]
}