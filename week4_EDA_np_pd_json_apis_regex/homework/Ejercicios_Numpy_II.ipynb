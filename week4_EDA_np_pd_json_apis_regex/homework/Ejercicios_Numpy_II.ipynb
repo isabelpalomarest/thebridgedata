{
  "nbformat": 4,
  "nbformat_minor": 0,
  "metadata": {
    "kernelspec": {
      "name": "python374jvsc74a57bd0182e3b849e87c789b13dcf4169d6d9922ca2e40dd3044e82b295bff17932e6e2",
      "display_name": "Python 3.7.4 64-bit"
    },
    "language_info": {
      "codemirror_mode": {
        "name": "ipython",
        "version": 3
      },
      "file_extension": ".py",
      "mimetype": "text/x-python",
      "name": "python",
      "nbconvert_exporter": "python",
      "pygments_lexer": "ipython3",
      "version": "3.7.4"
    },
    "colab": {
      "name": "Ejercicios Numpy II.ipynb",
      "provenance": []
    },
    "metadata": {
      "interpreter": {
        "hash": "182e3b849e87c789b13dcf4169d6d9922ca2e40dd3044e82b295bff17932e6e2"
      }
    }
  },
  "cells": [
    {
      "cell_type": "markdown",
      "metadata": {
        "id": "AFr2bdyaxVp4"
      },
      "source": [
        "# Ejercicios Numpy II"
      ]
    },
    {
      "cell_type": "markdown",
      "metadata": {
        "id": "yZlJ6NTVxVp5"
      },
      "source": [
        "## Ejercicio 1\n",
        "1. Crea un array que vaya del 0 al 9 y que se llame `my_array`\n",
        "2. Imprime por pantalla los elementos [9 7 5 3 1] en ese orden."
      ]
    },
    {
      "cell_type": "code",
      "metadata": {
        "id": "wpSNX8a7xVp5"
      },
      "source": [
        "import numpy as np\n",
        "my_array = np.arange(10)\n",
        "print(my_array[-1::-2])"
      ],
      "execution_count": 2,
      "outputs": [
        {
          "output_type": "stream",
          "name": "stdout",
          "text": [
            "[9 7 5 3 1]\n"
          ]
        }
      ]
    },
    {
      "cell_type": "markdown",
      "metadata": {
        "id": "G3a2GSvAxVp5"
      },
      "source": [
        "## Ejercicio 2\n",
        "Imprime por pantalla la secuencia [[8 7]] del array `my_array`"
      ]
    },
    {
      "cell_type": "code",
      "metadata": {
        "id": "OmfcArt2xVp6"
      },
      "source": [
        "print(my_array[-2:-4:-1])"
      ],
      "execution_count": 3,
      "outputs": [
        {
          "output_type": "stream",
          "name": "stdout",
          "text": [
            "[8 7]\n"
          ]
        }
      ]
    },
    {
      "cell_type": "markdown",
      "metadata": {
        "id": "DbF2DVPYxVp6"
      },
      "source": [
        "## Ejercicio 3\n",
        "Imprime por pantalla la secuencia [[2 1 0]] de `my_array`"
      ]
    },
    {
      "cell_type": "code",
      "metadata": {
        "id": "ydUChgLmxVp6"
      },
      "source": [
        "print(my_array[2::-1])"
      ],
      "execution_count": 4,
      "outputs": [
        {
          "output_type": "stream",
          "name": "stdout",
          "text": [
            "[2 1 0]\n"
          ]
        }
      ]
    },
    {
      "cell_type": "markdown",
      "metadata": {
        "id": "oJy3eAW6xVp7"
      },
      "source": [
        "## Ejercicio 4\n",
        "1. Crea una matriz de 4x5, con una secuencia del 1 al 20\n",
        "2. Invierte totalmente la matriz. Tanto las filas, como las columnas"
      ]
    },
    {
      "cell_type": "code",
      "metadata": {
        "id": "ZvWX1YcexVp8"
      },
      "source": [
        "matrix_4 = np.arange(1,21)\n",
        "matrix_4= matrix_4.reshape((4,5))\n",
        "print(matrix_4)\n",
        "matrix_5 = np.flip(matrix_4)\n",
        "matrix_5"
      ],
      "execution_count": 5,
      "outputs": [
        {
          "output_type": "stream",
          "name": "stdout",
          "text": [
            "[[ 1  2  3  4  5]\n [ 6  7  8  9 10]\n [11 12 13 14 15]\n [16 17 18 19 20]]\n"
          ]
        },
        {
          "output_type": "execute_result",
          "data": {
            "text/plain": [
              "array([[20, 19, 18, 17, 16],\n",
              "       [15, 14, 13, 12, 11],\n",
              "       [10,  9,  8,  7,  6],\n",
              "       [ 5,  4,  3,  2,  1]])"
            ]
          },
          "metadata": {},
          "execution_count": 5
        }
      ]
    },
    {
      "cell_type": "markdown",
      "metadata": {
        "id": "XsJU--zJxVp9"
      },
      "source": [
        "## Ejercicio 5\n",
        "\n",
        "Obtén el siguiente array, partiendo de la matriz del ejercicio 4\n",
        "```Python\n",
        "array([[1, 2],\n",
        "       [6, 7]])\n",
        "```"
      ]
    },
    {
      "cell_type": "code",
      "metadata": {
        "id": "Yfqc34B3xVp-"
      },
      "source": [
        "matrix_4[0:2,0:2]"
      ],
      "execution_count": 6,
      "outputs": [
        {
          "output_type": "execute_result",
          "data": {
            "text/plain": [
              "array([[1, 2],\n",
              "       [6, 7]])"
            ]
          },
          "metadata": {},
          "execution_count": 6
        }
      ]
    },
    {
      "cell_type": "markdown",
      "metadata": {
        "id": "MZgms22AxVp-"
      },
      "source": [
        "## Ejercicio 6\n",
        "Obtén el siguiente array, partiendo de la matriz del ejercicio 4\n",
        "```Python\n",
        "array([[ 1,  3,  5],\n",
        "       [11, 13, 15]])\n",
        "```"
      ]
    },
    {
      "cell_type": "code",
      "execution_count": 74,
      "metadata": {},
      "outputs": [
        {
          "output_type": "execute_result",
          "data": {
            "text/plain": [
              "array([[ 1,  3,  5],\n",
              "       [11, 13, 15]])"
            ]
          },
          "metadata": {},
          "execution_count": 74
        }
      ],
      "source": [
        "matrix_4[0::2,0::2]"
      ]
    },
    {
      "cell_type": "markdown",
      "metadata": {
        "id": "lKbtUBo9xVp-"
      },
      "source": [
        "## Ejercicio 7\n",
        "Obtén el siguiente array, partiendo de la matriz del ejercicio 4\n",
        "```Python\n",
        "array([[ 5,  4,  3,  2,  1],\n",
        "       [10,  9,  8,  7,  6],\n",
        "       [15, 14, 13, 12, 11]])\n",
        "```"
      ]
    },
    {
      "cell_type": "code",
      "metadata": {
        "id": "XCqbu8mQxVp_"
      },
      "source": [
        "matrix_4"
      ],
      "execution_count": 82,
      "outputs": [
        {
          "output_type": "execute_result",
          "data": {
            "text/plain": [
              "array([[ 1,  2,  3,  4,  5],\n",
              "       [ 6,  7,  8,  9, 10],\n",
              "       [11, 12, 13, 14, 15],\n",
              "       [16, 17, 18, 19, 20]])"
            ]
          },
          "metadata": {},
          "execution_count": 82
        }
      ]
    },
    {
      "cell_type": "code",
      "execution_count": 88,
      "metadata": {},
      "outputs": [
        {
          "output_type": "execute_result",
          "data": {
            "text/plain": [
              "array([[ 5,  4,  3,  2,  1],\n",
              "       [10,  9,  8,  7,  6],\n",
              "       [15, 14, 13, 12, 11]])"
            ]
          },
          "metadata": {},
          "execution_count": 88
        }
      ],
      "source": [
        "matrix_4[:3:,::-1]"
      ]
    },
    {
      "cell_type": "markdown",
      "metadata": {
        "id": "oVzLaYtFxVp_"
      },
      "source": [
        "## Ejercicio 8\n",
        "Dado el siguiente array:\n",
        "\n",
        "```Python\n",
        "x = np.array([\"Loro\", \"Perro\", \"Gato\", \"Loro\", \"Perro\"])\n",
        "```\n",
        "\n",
        "Filtra el array para quedarte únicamente con los loros.\n",
        "\n",
        "Resuélvelo de dos maneras diferentes"
      ]
    },
    {
      "cell_type": "code",
      "metadata": {
        "id": "U_WaEZVNxVp_"
      },
      "source": [
        "x = np.array([\"Loro\", \"Perro\", \"Gato\", \"Loro\", \"Perro\"])\n",
        "lista= []\n",
        "for i in x:\n",
        "    if i == \"Loro\":\n",
        "        lista.append(i)\n",
        "array_x = np.array(lista)\n",
        "array_x"
      ],
      "execution_count": 70,
      "outputs": [
        {
          "output_type": "execute_result",
          "data": {
            "text/plain": [
              "array(['Loro', 'Loro'], dtype='<U4')"
            ]
          },
          "metadata": {},
          "execution_count": 70
        }
      ]
    },
    {
      "cell_type": "code",
      "metadata": {
        "id": "AewE4N9OxVp_"
      },
      "source": [
        "sin_loro = x[x == \"Loro\"]\n",
        "sin_loro"
      ],
      "execution_count": 71,
      "outputs": [
        {
          "output_type": "execute_result",
          "data": {
            "text/plain": [
              "array(['Loro', 'Loro'], dtype='<U5')"
            ]
          },
          "metadata": {},
          "execution_count": 71
        }
      ]
    },
    {
      "cell_type": "markdown",
      "metadata": {
        "id": "9ZaOsKzvxVp_"
      },
      "source": [
        "## Ejercicio 9\n",
        "Crea una secuencia de 20 elementos y transformala en un array compuesto por 2 matrices de 5x2"
      ]
    },
    {
      "cell_type": "code",
      "metadata": {
        "id": "M83Z8wVsxVqA"
      },
      "source": [
        "array_6 = np.arange(20)\n",
        "array_6 = np.reshape(array_6,(2,5,2))\n",
        "array_6"
      ],
      "execution_count": 38,
      "outputs": [
        {
          "output_type": "execute_result",
          "data": {
            "text/plain": [
              "array([[[ 0,  1],\n",
              "        [ 2,  3],\n",
              "        [ 4,  5],\n",
              "        [ 6,  7],\n",
              "        [ 8,  9]],\n",
              "\n",
              "       [[10, 11],\n",
              "        [12, 13],\n",
              "        [14, 15],\n",
              "        [16, 17],\n",
              "        [18, 19]]])"
            ]
          },
          "metadata": {},
          "execution_count": 38
        }
      ]
    },
    {
      "cell_type": "markdown",
      "metadata": {
        "id": "2X18zV-zxVqA"
      },
      "source": [
        "## Ejercicio 10\n",
        "Obtén el siguiente array, partiendo de la matriz del **ejercicio 4**\n",
        "```Python\n",
        "array([[20, 19, 18, 17, 16],\n",
        "       [15, 14, 13, 12, 11],\n",
        "       [10,  9,  8,  7,  6],\n",
        "       [ 5,  4,  3,  2,  1]])\n",
        "```"
      ]
    },
    {
      "cell_type": "code",
      "metadata": {
        "id": "Jvt6ExmyxVqA"
      },
      "source": [
        "array_7 = np.flip(matrix_4)\n",
        "array_7"
      ],
      "execution_count": 40,
      "outputs": [
        {
          "output_type": "execute_result",
          "data": {
            "text/plain": [
              "array([[20, 19, 18, 17, 16],\n",
              "       [15, 14, 13, 12, 11],\n",
              "       [10,  9,  8,  7,  6],\n",
              "       [ 5,  4,  3,  2,  1]])"
            ]
          },
          "metadata": {},
          "execution_count": 40
        }
      ]
    },
    {
      "cell_type": "markdown",
      "metadata": {
        "id": "WJBXPcG3xVqA"
      },
      "source": [
        "## Ejercicio 11\n",
        "Crea un array de 10 0s. ¿Cuánto ocupa en memoria?\n",
        "\n",
        "Sustituye el 4to elemento por 1, e imprime el array por pantalla"
      ]
    },
    {
      "cell_type": "code",
      "metadata": {
        "id": "qh7Edg-TxVqA"
      },
      "source": [
        "import sys\n",
        "array_zero = np.zeros(10)\n",
        "print(sys.getsizeof(array_zero))\n",
        "array_zero[3] = 1\n",
        "array_zero"
      ],
      "execution_count": 51,
      "outputs": [
        {
          "output_type": "stream",
          "name": "stdout",
          "text": [
            "184\n"
          ]
        },
        {
          "output_type": "execute_result",
          "data": {
            "text/plain": [
              "array([0., 0., 0., 1., 0., 0., 0., 0., 0., 0.])"
            ]
          },
          "metadata": {},
          "execution_count": 51
        }
      ]
    },
    {
      "cell_type": "markdown",
      "metadata": {
        "id": "lptc9K7JxVqB"
      },
      "source": [
        "## Ejercicio 12\n",
        "Crea un vector que vaya del 10 al 49\n",
        "\n",
        "Inviértelo"
      ]
    },
    {
      "cell_type": "code",
      "metadata": {
        "id": "DKUXqyLFxVqB"
      },
      "source": [
        "vector_1c = np.arange(10,50)\n",
        "print(vector_1c)\n",
        "vector_2c = np.flip(vector_1c)\n",
        "print(vector_2c)"
      ],
      "execution_count": 49,
      "outputs": [
        {
          "output_type": "stream",
          "name": "stdout",
          "text": [
            "[10 11 12 13 14 15 16 17 18 19 20 21 22 23 24 25 26 27 28 29 30 31 32 33\n 34 35 36 37 38 39 40 41 42 43 44 45 46 47 48 49]\n[49 48 47 46 45 44 43 42 41 40 39 38 37 36 35 34 33 32 31 30 29 28 27 26\n 25 24 23 22 21 20 19 18 17 16 15 14 13 12 11 10]\n"
          ]
        }
      ]
    },
    {
      "cell_type": "markdown",
      "metadata": {
        "id": "1n8E3MSKxVqB"
      },
      "source": [
        "## Ejericio 13\n",
        "Encuentra los indices de los valores que no sean 0 del siguiente vector [[1,2,0,0,4,0]]. El output sería [[0, 1, 4]]. [Encuentra el método apropiado en la documentación.](https://numpy.org/doc/)"
      ]
    },
    {
      "cell_type": "code",
      "metadata": {
        "id": "sWSqp2xyxVqB"
      },
      "source": [
        "ve = [1,2,0,0,4,0]\n",
        "ve_1 = np.nonzero(ve)\n",
        "print(ve_1)\n"
      ],
      "execution_count": 84,
      "outputs": [
        {
          "output_type": "stream",
          "name": "stdout",
          "text": [
            "(array([0, 1, 4], dtype=int64),)\n"
          ]
        }
      ]
    },
    {
      "cell_type": "markdown",
      "metadata": {
        "id": "w_o_NZXxxVqB"
      },
      "source": [
        "## Ejercicio 14\n",
        "Crea una matriz de numeros aleatorios 10x10. Encuentra los valores mínimo y máximo."
      ]
    },
    {
      "cell_type": "code",
      "metadata": {
        "id": "SAtTy7o4xVqB"
      },
      "source": [
        "array_8 = np.random.randint(1000,size=(10,10))\n",
        "array_8"
      ],
      "execution_count": 56,
      "outputs": [
        {
          "output_type": "execute_result",
          "data": {
            "text/plain": [
              "array([[792, 729, 663, 290, 267, 727, 722,  81,  37, 835],\n",
              "       [781, 618, 545, 678, 852, 585, 160, 345, 834, 334],\n",
              "       [682, 409, 523, 638, 754, 898, 178, 740, 409, 555],\n",
              "       [171, 838, 837,  63, 624, 443, 492, 670, 880, 710],\n",
              "       [796, 595, 716, 908, 959, 258, 253, 413,  51, 849],\n",
              "       [685, 785, 102, 779, 203, 167, 371, 430, 579, 659],\n",
              "       [119, 298, 363, 254, 296, 483,   4, 826,  99, 256],\n",
              "       [722,  46, 996, 403, 279, 831, 184, 656, 129, 944],\n",
              "       [896, 373, 873,  72, 846,   5, 706, 835, 437,   2],\n",
              "       [768, 631, 642, 791, 580, 582, 419, 529, 686, 360]])"
            ]
          },
          "metadata": {},
          "execution_count": 56
        }
      ]
    },
    {
      "cell_type": "code",
      "execution_count": 57,
      "metadata": {},
      "outputs": [
        {
          "output_type": "execute_result",
          "data": {
            "text/plain": [
              "996"
            ]
          },
          "metadata": {},
          "execution_count": 57
        }
      ],
      "source": [
        "np.amax(array_8)"
      ]
    },
    {
      "cell_type": "code",
      "execution_count": 58,
      "metadata": {},
      "outputs": [
        {
          "output_type": "execute_result",
          "data": {
            "text/plain": [
              "2"
            ]
          },
          "metadata": {},
          "execution_count": 58
        }
      ],
      "source": [
        "np.amin(array_8)"
      ]
    },
    {
      "cell_type": "markdown",
      "metadata": {
        "id": "iAO1Ji0sxVqC"
      },
      "source": [
        "## Ejercicio 15\n",
        "Crea un vector aleatorio de tamaño 30 y calcula su media"
      ]
    },
    {
      "cell_type": "code",
      "metadata": {
        "id": "8AKtIwC3xVqC"
      },
      "source": [
        "vector_3 = np.random.randint(30,size=30)\n",
        "print(vector_3)\n",
        "np.mean(vector_3)"
      ],
      "execution_count": 67,
      "outputs": [
        {
          "output_type": "stream",
          "name": "stdout",
          "text": [
            "[11 18 12 21 19 24 15  4 21 12 20  3 11  9  5 28 26 21 25 11 14 16 19 12\n 10  0 18 26 25 29]\n"
          ]
        },
        {
          "output_type": "execute_result",
          "data": {
            "text/plain": [
              "16.166666666666668"
            ]
          },
          "metadata": {},
          "execution_count": 67
        }
      ]
    },
    {
      "cell_type": "markdown",
      "metadata": {
        "id": "ksiMwZ0xxVqC"
      },
      "source": [
        "## Ejercicio 16\n",
        "Crea un array cuadrado de 2D, con las dimensiones que quieras, pero que todo el borde esté compuesto por 1s, y el interior por 0s"
      ]
    },
    {
      "cell_type": "code",
      "metadata": {
        "id": "3Qzj8OqkxVqC"
      },
      "source": [
        "ones_matrix = np.ones((3,3),dtype=int)\n",
        "print(ones_matrix)\n",
        "ones_matrix[1][1] = 0\n",
        "ones_matrix\n"
      ],
      "execution_count": 91,
      "outputs": [
        {
          "output_type": "stream",
          "name": "stdout",
          "text": [
            "[[1 1 1]\n [1 1 1]\n [1 1 1]]\n"
          ]
        },
        {
          "output_type": "execute_result",
          "data": {
            "text/plain": [
              "array([[1, 1, 1],\n",
              "       [1, 0, 1],\n",
              "       [1, 1, 1]])"
            ]
          },
          "metadata": {},
          "execution_count": 91
        }
      ]
    },
    {
      "cell_type": "markdown",
      "metadata": {
        "id": "d3Yy4Vq4xVqC"
      },
      "source": [
        "## Ejercicio 17\n",
        "Crea una matriz de 8x8, y rellénala con 0s y 1s. Tienes que replicar:\n",
        "```Python\n",
        "[[0 1 0 1 0 1 0 1]\n",
        " [1 0 1 0 1 0 1 0]\n",
        " [0 1 0 1 0 1 0 1]\n",
        " [1 0 1 0 1 0 1 0]\n",
        " [0 1 0 1 0 1 0 1]\n",
        " [1 0 1 0 1 0 1 0]\n",
        " [0 1 0 1 0 1 0 1]\n",
        " [1 0 1 0 1 0 1 0]]\n",
        "```"
      ]
    },
    {
      "cell_type": "code",
      "metadata": {
        "id": "ztu5FrvGxVqD"
      },
      "source": [
        "matrix_CE = np.zeros((8,8),dtype=int)\n",
        "print(matrix_CE)"
      ],
      "execution_count": 58,
      "outputs": [
        {
          "output_type": "stream",
          "name": "stdout",
          "text": [
            "[[0 0 0 0 0 0 0 0]\n [0 0 0 0 0 0 0 0]\n [0 0 0 0 0 0 0 0]\n [0 0 0 0 0 0 0 0]\n [0 0 0 0 0 0 0 0]\n [0 0 0 0 0 0 0 0]\n [0 0 0 0 0 0 0 0]\n [0 0 0 0 0 0 0 0]]\n"
          ]
        }
      ]
    },
    {
      "cell_type": "code",
      "execution_count": 61,
      "metadata": {},
      "outputs": [
        {
          "output_type": "stream",
          "name": "stdout",
          "text": [
            "[[0 1 0 1 0 1 0 1]\n [1 0 1 0 1 0 1 0]\n [0 1 0 1 0 1 0 1]\n [1 0 1 0 1 0 1 0]\n [0 1 0 1 0 1 0 1]\n [1 0 1 0 1 0 1 0]\n [0 1 0 1 0 1 0 1]\n [1 0 1 0 1 0 1 0]]\n"
          ]
        }
      ],
      "source": [
        "matrix_CE[::2,1::2]=1\n",
        "matrix_CE[1::2,::2]=1\n",
        "print(matrix_CE)"
      ]
    },
    {
      "cell_type": "markdown",
      "metadata": {
        "id": "nRsoby5SxVqD"
      },
      "source": [
        "## Ejercicio 18\n",
        "Replica la matriz del apartado anterior, pero en este caso usando [la función `tile`](https://numpy.org/doc/stable/reference/generated/numpy.tile.html)"
      ]
    },
    {
      "cell_type": "code",
      "metadata": {
        "id": "xZGAM5frxVqD"
      },
      "source": [
        "a = np.array([[0,1],[1,0]])\n",
        "print(np.tile(a,(4,4)))"
      ],
      "execution_count": 68,
      "outputs": [
        {
          "output_type": "stream",
          "name": "stdout",
          "text": [
            "[[0 1 0 1 0 1 0 1]\n [1 0 1 0 1 0 1 0]\n [0 1 0 1 0 1 0 1]\n [1 0 1 0 1 0 1 0]\n [0 1 0 1 0 1 0 1]\n [1 0 1 0 1 0 1 0]\n [0 1 0 1 0 1 0 1]\n [1 0 1 0 1 0 1 0]]\n"
          ]
        }
      ]
    },
    {
      "cell_type": "markdown",
      "metadata": {
        "id": "1hDmDYo9xVqD"
      },
      "source": [
        "## Ejercicio 19\n",
        "Crea una matriz aleatoria de 5x5 y normaliza sus valores. Para normalizar tienes que restar sus valores por la media(`np.mean`) y dividir el resultado por la desviación estándar(`np.std`)."
      ]
    },
    {
      "cell_type": "code",
      "metadata": {
        "id": "OhsfK3sgxVqD"
      },
      "source": [
        "matrix_19 = np.random.randint(50,size=(5,5))\n",
        "media =np.mean(matrix_19)\n",
        "d_tip =np.std(matrix_19)\n",
        "\n",
        "print(matrix_19)\n",
        "print(media)\n",
        "print(d_tip)\n",
        "matrix_20 = matrix_19-media\n",
        "normalizada = matrix_20/d_tip\n",
        "normalizada"
      ],
      "execution_count": 28,
      "outputs": [
        {
          "output_type": "stream",
          "name": "stdout",
          "text": [
            "[[30 10 21 47 37]\n [12 45 48 47 20]\n [28 31 40  3 14]\n [34 21  1  0 14]\n [42  5 35  1 25]]\n24.44\n15.687141230957284\n"
          ]
        },
        {
          "output_type": "execute_result",
          "data": {
            "text/plain": [
              "array([[ 0.35443042, -0.92049914, -0.21928788,  1.43812054,  0.80065576],\n",
              "       [-0.79300618,  1.31062758,  1.50186702,  1.43812054, -0.28303436],\n",
              "       [ 0.22693746,  0.41817689,  0.99189519, -1.36672448, -0.66551323],\n",
              "       [ 0.60941633, -0.21928788, -1.49421744, -1.55796392, -0.66551323],\n",
              "       [ 1.11938815, -1.23923153,  0.67316281, -1.49421744,  0.03569803]])"
            ]
          },
          "metadata": {},
          "execution_count": 28
        }
      ]
    },
    {
      "cell_type": "markdown",
      "metadata": {
        "id": "9mF16dtQxVqE"
      },
      "source": [
        "## Ejercicio 20\n",
        "1. Crea una secuencia de números que vayan del 0 al 10.\n",
        "2. Crea un nuevo array, que parta del anterior, pero sustituya todos los elementos entre el 3 y el 8, por el valor -1\n",
        "3. Crea un nuevo array que niegue todos los elementos entre el 3 y el 8"
      ]
    },
    {
      "cell_type": "code",
      "metadata": {
        "id": "o9QXxyYWxVqE"
      },
      "source": [
        "secuencia = np.arange(11)\n"
      ],
      "execution_count": 43,
      "outputs": []
    },
    {
      "cell_type": "code",
      "execution_count": 47,
      "metadata": {},
      "outputs": [
        {
          "output_type": "execute_result",
          "data": {
            "text/plain": [
              "array([ 0,  1,  2, -1, -1, -1, -1, -1, -1,  9, 10])"
            ]
          },
          "metadata": {},
          "execution_count": 47
        }
      ],
      "source": [
        "secuencia1 = np.arange(11)\n",
        "secuencia1[3:9]= -1\n",
        "secuencia1"
      ]
    },
    {
      "cell_type": "code",
      "execution_count": 49,
      "metadata": {},
      "outputs": [
        {
          "output_type": "execute_result",
          "data": {
            "text/plain": [
              "array([ 0,  1,  2, -3, -4, -5, -6, -7, -8,  9, 10])"
            ]
          },
          "metadata": {},
          "execution_count": 49
        }
      ],
      "source": [
        "secuencia2 = np.arange(11)\n",
        "secuencia2[3:9]= -secuencia2[3:9]\n",
        "secuencia2\n"
      ]
    },
    {
      "cell_type": "markdown",
      "metadata": {
        "id": "0aP8g411xVqE"
      },
      "source": [
        "## Ejercicio 21 \n",
        "#### Bonus track. Mini hundir la flota para ir practicando.\n",
        "##### Te ayudará a entender la lógica de la tarea Hundir la Flota.\n",
        "1. Crea un tablero de 10x10 relleno del carácter espacio ( ).\n",
        "2. Posiciona un par de barcos en [(0,1), (1,1)] y [(1,3), (1,4), (1,5), (1,6)]. Los barcos serán Os mayúsculas. Como ves, un barco de dos posiciones de eslora y otro de cuatro.\n",
        "3. Recibe un disparo en uno de los barcos, sustituyendo la O por una X\n",
        "4. Recibe un disparo en agua, sustituyendo uno de los espacios por un guión: -\n",
        "5. Ignorando los disparos recibidos, ahora prueba a posicionar otro barco de 4 posiciones dentro del tablero, pero **de manera ALEATORIA.**\n",
        "\n",
        "**TIP apartado 5**: El barco tendrá una posición inicial aleatoria dentro del tablero, y una orientación también aleatoria (N,S,E,O).\n",
        "\n",
        "Por ejemplo, si tu posicion inicial fuese (5,0) y la orientación O, no podrias ponerlo porque se sale del tablero. Ahora bien, si fuese orientación este, si podrías, y ocuparía las posiciones [(5,0), (5,1), (5,2), (5,3)]. Por tanto tendrás que iterar con un bucle si es posible encajar el barco en el tablero, y el bucle terminará cuando lo consigas encajar. **Ojo con las posiciones donde ya hay barco!!!**\n",
        "\n",
        "Usa `import random` para elegir las coordenadas aleatorias."
      ]
    },
    {
      "cell_type": "code",
      "metadata": {
        "id": "EJSdxESLxVqE"
      },
      "source": [],
      "execution_count": null,
      "outputs": []
    }
  ]
}