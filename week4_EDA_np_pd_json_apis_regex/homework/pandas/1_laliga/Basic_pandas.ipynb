{
  "nbformat": 4,
  "nbformat_minor": 0,
  "metadata": {
    "kernelspec": {
      "name": "python374jvsc74a57bd0182e3b849e87c789b13dcf4169d6d9922ca2e40dd3044e82b295bff17932e6e2",
      "display_name": "Python 3.7.4 64-bit"
    },
    "language_info": {
      "codemirror_mode": {
        "name": "ipython",
        "version": 3
      },
      "file_extension": ".py",
      "mimetype": "text/x-python",
      "name": "python",
      "nbconvert_exporter": "python",
      "pygments_lexer": "ipython3",
      "version": "3.7.4"
    },
    "colab": {
      "name": "Basic_pandas.ipynb",
      "provenance": []
    },
    "metadata": {
      "interpreter": {
        "hash": "182e3b849e87c789b13dcf4169d6d9922ca2e40dd3044e82b295bff17932e6e2"
      }
    }
  },
  "cells": [
    {
      "cell_type": "markdown",
      "metadata": {
        "id": "atE4z5Nw1hh9"
      },
      "source": [
        "## Ejercicio 1\n",
        "Importa la libreria de `pandas` y `numpy`. ¿Qué versión de la librería `pandas` tienes?"
      ]
    },
    {
      "cell_type": "code",
      "metadata": {
        "id": "jhXvSaOZ1hiE"
      },
      "source": [
        "import numpy as np\n",
        "import pandas as pd\n",
        "import matplotlib.pyplot as plt\n",
        "import glob\n",
        "import re\n",
        "import math\n",
        "print(pd.__version__)"
      ],
      "execution_count": 2,
      "outputs": [
        {
          "output_type": "stream",
          "name": "stdout",
          "text": [
            "1.2.4\n"
          ]
        }
      ]
    },
    {
      "cell_type": "markdown",
      "metadata": {
        "id": "JP4NjXJ_1hiH"
      },
      "source": [
        "## Ejercicio 2\n",
        "Lee el archivo CSV de la liga. Guarda el DataFrame en una variable llamada `df`. [Usa el método `read_csv` de `pandas`](https://pandas.pydata.org/pandas-docs/stable/reference/api/pandas.read_csv.html)."
      ]
    },
    {
      "cell_type": "code",
      "metadata": {
        "id": "r20k4Pc61hiJ"
      },
      "source": [
        "df = pd.read_csv('laliga.csv')"
      ],
      "execution_count": 3,
      "outputs": []
    },
    {
      "cell_type": "markdown",
      "metadata": {
        "id": "Stik7ddZ1hiK"
      },
      "source": [
        "## Ejercicio 3\n",
        "Obtén por pantalla los 4 primero registros"
      ]
    },
    {
      "cell_type": "code",
      "metadata": {
        "id": "JLYN6ULG1hiL"
      },
      "source": [
        "df[:5]"
      ],
      "execution_count": 4,
      "outputs": [
        {
          "output_type": "execute_result",
          "data": {
            "text/plain": [
              "   Unnamed: 0   season  division  round           localTeam    visitorTeam  \\\n",
              "0       26201  2005-06         1      1  Atletico de Bilbao  Real Sociedad   \n",
              "1       26202  2005-06         1      1              Alaves      Barcelona   \n",
              "2       26203  2005-06         1      1            Valencia          Betis   \n",
              "3       26204  2005-06         1      1  Atletico de Madrid       Zaragoza   \n",
              "4       26205  2005-06         1      1               Cadiz    Real Madrid   \n",
              "\n",
              "   localGoals  visitorGoals        date   timestamp  \n",
              "0           3             0  27/08/2005  1125093600  \n",
              "1           0             0  27/08/2005  1125093600  \n",
              "2           1             0  27/08/2005  1125093600  \n",
              "3           0             0  28/08/2005  1125180000  \n",
              "4           1             2  28/08/2005  1125180000  "
            ],
            "text/html": "<div>\n<style scoped>\n    .dataframe tbody tr th:only-of-type {\n        vertical-align: middle;\n    }\n\n    .dataframe tbody tr th {\n        vertical-align: top;\n    }\n\n    .dataframe thead th {\n        text-align: right;\n    }\n</style>\n<table border=\"1\" class=\"dataframe\">\n  <thead>\n    <tr style=\"text-align: right;\">\n      <th></th>\n      <th>Unnamed: 0</th>\n      <th>season</th>\n      <th>division</th>\n      <th>round</th>\n      <th>localTeam</th>\n      <th>visitorTeam</th>\n      <th>localGoals</th>\n      <th>visitorGoals</th>\n      <th>date</th>\n      <th>timestamp</th>\n    </tr>\n  </thead>\n  <tbody>\n    <tr>\n      <th>0</th>\n      <td>26201</td>\n      <td>2005-06</td>\n      <td>1</td>\n      <td>1</td>\n      <td>Atletico de Bilbao</td>\n      <td>Real Sociedad</td>\n      <td>3</td>\n      <td>0</td>\n      <td>27/08/2005</td>\n      <td>1125093600</td>\n    </tr>\n    <tr>\n      <th>1</th>\n      <td>26202</td>\n      <td>2005-06</td>\n      <td>1</td>\n      <td>1</td>\n      <td>Alaves</td>\n      <td>Barcelona</td>\n      <td>0</td>\n      <td>0</td>\n      <td>27/08/2005</td>\n      <td>1125093600</td>\n    </tr>\n    <tr>\n      <th>2</th>\n      <td>26203</td>\n      <td>2005-06</td>\n      <td>1</td>\n      <td>1</td>\n      <td>Valencia</td>\n      <td>Betis</td>\n      <td>1</td>\n      <td>0</td>\n      <td>27/08/2005</td>\n      <td>1125093600</td>\n    </tr>\n    <tr>\n      <th>3</th>\n      <td>26204</td>\n      <td>2005-06</td>\n      <td>1</td>\n      <td>1</td>\n      <td>Atletico de Madrid</td>\n      <td>Zaragoza</td>\n      <td>0</td>\n      <td>0</td>\n      <td>28/08/2005</td>\n      <td>1125180000</td>\n    </tr>\n    <tr>\n      <th>4</th>\n      <td>26205</td>\n      <td>2005-06</td>\n      <td>1</td>\n      <td>1</td>\n      <td>Cadiz</td>\n      <td>Real Madrid</td>\n      <td>1</td>\n      <td>2</td>\n      <td>28/08/2005</td>\n      <td>1125180000</td>\n    </tr>\n  </tbody>\n</table>\n</div>"
          },
          "metadata": {},
          "execution_count": 4
        }
      ]
    },
    {
      "cell_type": "markdown",
      "metadata": {
        "id": "i9a3DPWW1hiL"
      },
      "source": [
        "## Ejercicio 4\n",
        "Obtén en un array de `numpy` todos los valores del DataFrame"
      ]
    },
    {
      "cell_type": "code",
      "metadata": {
        "id": "SZqH6_SA1hiM"
      },
      "source": [
        "array = np.array(df)\n",
        "array"
      ],
      "execution_count": 5,
      "outputs": [
        {
          "output_type": "execute_result",
          "data": {
            "text/plain": [
              "array([[26201, '2005-06', 1, ..., 0, '27/08/2005', 1125093600],\n",
              "       [26202, '2005-06', 1, ..., 0, '27/08/2005', 1125093600],\n",
              "       [26203, '2005-06', 1, ..., 0, '27/08/2005', 1125093600],\n",
              "       ...,\n",
              "       [36682, '2017-18', 1, ..., 0, '20/05/2018', 1526767200],\n",
              "       [36683, '2017-18', 1, ..., 1, '20/05/2018', 1526767200],\n",
              "       [36684, '2017-18', 1, ..., 2, '20/05/2018', 1526767200]],\n",
              "      dtype=object)"
            ]
          },
          "metadata": {},
          "execution_count": 5
        }
      ]
    },
    {
      "cell_type": "markdown",
      "metadata": {
        "id": "OanCMkUA1hiN"
      },
      "source": [
        "## Ejercicio 5\n",
        "¿Cuáles son las columnas de `df`?"
      ]
    },
    {
      "cell_type": "code",
      "metadata": {
        "id": "lrIgrO181hiO"
      },
      "source": [
        "print(df.columns)"
      ],
      "execution_count": 6,
      "outputs": [
        {
          "output_type": "stream",
          "name": "stdout",
          "text": [
            "Index(['Unnamed: 0', 'season', 'division', 'round', 'localTeam', 'visitorTeam',\n       'localGoals', 'visitorGoals', 'date', 'timestamp'],\n      dtype='object')\n"
          ]
        }
      ]
    },
    {
      "cell_type": "markdown",
      "metadata": {
        "id": "0xzo--Zu1hiO"
      },
      "source": [
        "## Ejercicio 6\n",
        "Crea un `Series` con la [población de Madrid, Galicia, Murcia y Andalucía](https://es.wikipedia.org/wiki/Anexo:Comunidades_y_ciudades_aut%C3%B3nomas_de_Espa%C3%B1a). Llamalo `poblacion`.\n",
        "\n",
        "- Madrid: 6685471\n",
        "- Galicia: 2698764\n",
        "- Murcia: 1494442\n",
        "- Andalucía: 8446561\n"
      ]
    },
    {
      "cell_type": "code",
      "metadata": {
        "id": "1pG1Ax3B1hiQ"
      },
      "source": [
        "comunidades = {\"Madrid\":6685471,\"Galicia\": 2698764,\"Murcia\": 1494442,\"Andalucía\": 8446561}\n",
        "serie_com = pd.Series(comunidades)\n",
        "serie_com"
      ],
      "execution_count": 7,
      "outputs": [
        {
          "output_type": "execute_result",
          "data": {
            "text/plain": [
              "Madrid       6685471\n",
              "Galicia      2698764\n",
              "Murcia       1494442\n",
              "Andalucía    8446561\n",
              "dtype: int64"
            ]
          },
          "metadata": {},
          "execution_count": 7
        }
      ]
    },
    {
      "cell_type": "markdown",
      "metadata": {
        "id": "TVk-XsSq1hiQ"
      },
      "source": [
        "## Ejercicio 7\n",
        "Obtén un array de `numpy` con los valores del `Series`.\n",
        "\n",
        "Saca también sus índices, y los valores de sus índices."
      ]
    },
    {
      "cell_type": "code",
      "metadata": {
        "id": "ndvLJHcs1hiR"
      },
      "source": [
        "array1 = np.array(serie_com)\n",
        "print(array1)\n",
        "array2 = np.array(serie_com.index.values)\n",
        "print(array2)"
      ],
      "execution_count": 8,
      "outputs": [
        {
          "output_type": "stream",
          "name": "stdout",
          "text": [
            "[6685471 2698764 1494442 8446561]\n['Madrid' 'Galicia' 'Murcia' 'Andalucía']\n"
          ]
        }
      ]
    },
    {
      "cell_type": "markdown",
      "metadata": {
        "id": "zh2zIZqF1hiR"
      },
      "source": [
        "## Ejercicio 8\n",
        "1. ¿Qué población hay en el primer elemento del `Series`?\n",
        "2. ¿Qué población hay en Galicia?\n",
        "3. Imprime por pantalla las poblaciones de Galicia, Andalucía y las comunidades autónomas que se encuentren entre ambas, dentro del `Series`.\n",
        "4. Comprueba con un output booleano que `Galicia` se encuentra entre los índices del `Index`.\n",
        "5. Realiza los apartados 1,2,3 pero esta vez de una manera diferente."
      ]
    },
    {
      "cell_type": "code",
      "metadata": {
        "id": "MoUmoPq91hiS"
      },
      "source": [
        "# Población primer elemento\n",
        "print(\"Primer elemento:\", serie_com[0])\n",
        "#Población Galicia\n",
        "print(\"Galicia :\",serie_com[\"Galicia\"])\n",
        "# Población de entre galicia y andalucía\n",
        "print(serie_com[1:])\n",
        "# bool galicia\n",
        "print(serie_com.index.str.contains(\"Galicia\"))\n",
        "\"Galicia\" in serie_com\n",
        "\n"
      ],
      "execution_count": 11,
      "outputs": [
        {
          "output_type": "stream",
          "name": "stdout",
          "text": [
            "Primer elemento: 6685471\nGalicia : 2698764\nGalicia      2698764\nMurcia       1494442\nAndalucía    8446561\ndtype: int64\n[False  True False False]\n"
          ]
        },
        {
          "output_type": "execute_result",
          "data": {
            "text/plain": [
              "True"
            ]
          },
          "metadata": {},
          "execution_count": 11
        }
      ]
    },
    {
      "cell_type": "markdown",
      "metadata": {
        "id": "LK-e5grW1hiT"
      },
      "source": [
        "## Ejercicio 9\n",
        "A partir de las comunidades autónomas anteriores, crea un `Series` con [la tasa de paro](https://es.statista.com/estadisticas/941646/prevision-de-la-tasa-de-paro-por-comunidad-autonoma-espana/) en dichas comunidades autónomas.\n",
        "\n",
        "Con la tasa de paro y las poblaciones, crea un DataFrame de pandas. Llámalo `data`.\n",
        "\n",
        "- Madrid: 9.99\n",
        "- Galicia: 11.74\n",
        "- Murcia: 16.08\n",
        "- Andalucía: 20.8"
      ]
    },
    {
      "cell_type": "code",
      "metadata": {
        "id": "OvA0_ZGQ1hiT"
      },
      "source": [
        "tparo = {\"Madrid\": 9.99,\"Galicia\": 11.74,\"Murcia\": 16.08,\"Andalucía\": 20.8}\n",
        "paro = pd.Series(tparo)\n",
        "data = pd.DataFrame({\"Población\":serie_com,\"Tasa de paro\":paro})\n",
        "data\n"
      ],
      "execution_count": 15,
      "outputs": [
        {
          "output_type": "execute_result",
          "data": {
            "text/plain": [
              "           Población  Tasa de paro\n",
              "Madrid       6685471          9.99\n",
              "Galicia      2698764         11.74\n",
              "Murcia       1494442         16.08\n",
              "Andalucía    8446561         20.80"
            ],
            "text/html": "<div>\n<style scoped>\n    .dataframe tbody tr th:only-of-type {\n        vertical-align: middle;\n    }\n\n    .dataframe tbody tr th {\n        vertical-align: top;\n    }\n\n    .dataframe thead th {\n        text-align: right;\n    }\n</style>\n<table border=\"1\" class=\"dataframe\">\n  <thead>\n    <tr style=\"text-align: right;\">\n      <th></th>\n      <th>Población</th>\n      <th>Tasa de paro</th>\n    </tr>\n  </thead>\n  <tbody>\n    <tr>\n      <th>Madrid</th>\n      <td>6685471</td>\n      <td>9.99</td>\n    </tr>\n    <tr>\n      <th>Galicia</th>\n      <td>2698764</td>\n      <td>11.74</td>\n    </tr>\n    <tr>\n      <th>Murcia</th>\n      <td>1494442</td>\n      <td>16.08</td>\n    </tr>\n    <tr>\n      <th>Andalucía</th>\n      <td>8446561</td>\n      <td>20.80</td>\n    </tr>\n  </tbody>\n</table>\n</div>"
          },
          "metadata": {},
          "execution_count": 15
        }
      ]
    },
    {
      "cell_type": "markdown",
      "metadata": {
        "id": "k4IURVne1hiU"
      },
      "source": [
        "## Ejercicio 10\n",
        "Imprime por pantalla la población, y la tasa de paro. Por separado"
      ]
    },
    {
      "cell_type": "code",
      "metadata": {
        "id": "d_gvQsSo1hiU"
      },
      "source": [
        "print(serie_com)\n",
        "print(paro)"
      ],
      "execution_count": 25,
      "outputs": [
        {
          "output_type": "stream",
          "name": "stdout",
          "text": [
            "Madrid       6685471\nGalicia      2698764\nMurcia       1494442\nAndalucía    8446561\ndtype: int64\nMadrid        9.99\nGalicia      11.74\nMurcia       16.08\nAndalucía    20.80\ndtype: float64\n"
          ]
        }
      ]
    },
    {
      "cell_type": "markdown",
      "metadata": {
        "id": "93WrhIvt1hiV"
      },
      "source": [
        "## Ejercicio 11\n",
        "Crea un nuevo Data Frame (`data2`), que sea igual que `data`, pero con una nueva columna, que lleve [la superficie de las Comunidades Autónomas](https://es.wikipedia.org/wiki/Anexo:Comunidades_y_ciudades_aut%C3%B3nomas_de_Espa%C3%B1a).\n",
        "\n",
        "- Madrid: 8028\n",
        "- Galicia: 29575\n",
        "- Murcia: 11314\n",
        "- Andalucía: 87599"
      ]
    },
    {
      "cell_type": "code",
      "metadata": {
        "id": "Sw6P5RIH1hiV"
      },
      "source": [
        "superfice = pd.Series({\"Madrid\": 8028,\"Galicia\": 29575,\"Murcia\": 11314,\"Andalucía\": 87599})\n",
        "data2 = pd.DataFrame({\"Población\":serie_com,\"Tasa de paro\":paro,\"Superficie\":superfice})\n",
        "data2"
      ],
      "execution_count": 16,
      "outputs": [
        {
          "output_type": "execute_result",
          "data": {
            "text/plain": [
              "           Población  Tasa de paro  Superficie\n",
              "Madrid       6685471          9.99        8028\n",
              "Galicia      2698764         11.74       29575\n",
              "Murcia       1494442         16.08       11314\n",
              "Andalucía    8446561         20.80       87599"
            ],
            "text/html": "<div>\n<style scoped>\n    .dataframe tbody tr th:only-of-type {\n        vertical-align: middle;\n    }\n\n    .dataframe tbody tr th {\n        vertical-align: top;\n    }\n\n    .dataframe thead th {\n        text-align: right;\n    }\n</style>\n<table border=\"1\" class=\"dataframe\">\n  <thead>\n    <tr style=\"text-align: right;\">\n      <th></th>\n      <th>Población</th>\n      <th>Tasa de paro</th>\n      <th>Superficie</th>\n    </tr>\n  </thead>\n  <tbody>\n    <tr>\n      <th>Madrid</th>\n      <td>6685471</td>\n      <td>9.99</td>\n      <td>8028</td>\n    </tr>\n    <tr>\n      <th>Galicia</th>\n      <td>2698764</td>\n      <td>11.74</td>\n      <td>29575</td>\n    </tr>\n    <tr>\n      <th>Murcia</th>\n      <td>1494442</td>\n      <td>16.08</td>\n      <td>11314</td>\n    </tr>\n    <tr>\n      <th>Andalucía</th>\n      <td>8446561</td>\n      <td>20.80</td>\n      <td>87599</td>\n    </tr>\n  </tbody>\n</table>\n</div>"
          },
          "metadata": {},
          "execution_count": 16
        }
      ]
    },
    {
      "cell_type": "markdown",
      "metadata": {
        "id": "g2x0DQaj1hiV"
      },
      "source": [
        "## Ejercicio 12\n",
        "Calcula la densidad de población (hab/km^2) en una nueva columna del dataframe `data2` que se llame `Densidad`."
      ]
    },
    {
      "cell_type": "code",
      "metadata": {
        "id": "ic0ltyrV1hiW"
      },
      "source": [
        "data2 = pd.DataFrame({\"Población\":serie_com,\"Tasa de paro\":paro,\"Superficie\":superfice, \"Densidad\":serie_com/superfice**2})"
      ],
      "execution_count": 20,
      "outputs": []
    },
    {
      "cell_type": "code",
      "execution_count": 21,
      "metadata": {},
      "outputs": [
        {
          "output_type": "execute_result",
          "data": {
            "text/plain": [
              "           Población  Tasa de paro  Superficie  Densidad\n",
              "Madrid       6685471          9.99        8028  0.103733\n",
              "Galicia      2698764         11.74       29575  0.003085\n",
              "Murcia       1494442         16.08       11314  0.011675\n",
              "Andalucía    8446561         20.80       87599  0.001101"
            ],
            "text/html": "<div>\n<style scoped>\n    .dataframe tbody tr th:only-of-type {\n        vertical-align: middle;\n    }\n\n    .dataframe tbody tr th {\n        vertical-align: top;\n    }\n\n    .dataframe thead th {\n        text-align: right;\n    }\n</style>\n<table border=\"1\" class=\"dataframe\">\n  <thead>\n    <tr style=\"text-align: right;\">\n      <th></th>\n      <th>Población</th>\n      <th>Tasa de paro</th>\n      <th>Superficie</th>\n      <th>Densidad</th>\n    </tr>\n  </thead>\n  <tbody>\n    <tr>\n      <th>Madrid</th>\n      <td>6685471</td>\n      <td>9.99</td>\n      <td>8028</td>\n      <td>0.103733</td>\n    </tr>\n    <tr>\n      <th>Galicia</th>\n      <td>2698764</td>\n      <td>11.74</td>\n      <td>29575</td>\n      <td>0.003085</td>\n    </tr>\n    <tr>\n      <th>Murcia</th>\n      <td>1494442</td>\n      <td>16.08</td>\n      <td>11314</td>\n      <td>0.011675</td>\n    </tr>\n    <tr>\n      <th>Andalucía</th>\n      <td>8446561</td>\n      <td>20.80</td>\n      <td>87599</td>\n      <td>0.001101</td>\n    </tr>\n  </tbody>\n</table>\n</div>"
          },
          "metadata": {},
          "execution_count": 21
        }
      ],
      "source": [
        "data2"
      ]
    },
    {
      "cell_type": "code",
      "execution_count": null,
      "metadata": {},
      "outputs": [],
      "source": []
    }
  ]
}