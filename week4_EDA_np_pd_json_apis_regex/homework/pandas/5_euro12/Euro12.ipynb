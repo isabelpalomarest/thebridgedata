{
  "nbformat": 4,
  "nbformat_minor": 0,
  "metadata": {
    "anaconda-cloud": {},
    "kernelspec": {
      "display_name": "Python 3",
      "language": "python",
      "name": "python3"
    },
    "language_info": {
      "codemirror_mode": {
        "name": "ipython",
        "version": 3
      },
      "file_extension": ".py",
      "mimetype": "text/x-python",
      "name": "python",
      "nbconvert_exporter": "python",
      "pygments_lexer": "ipython3",
      "version": "3.8.3"
    },
    "colab": {
      "name": "Euro12.ipynb",
      "provenance": []
    }
  },
  "cells": [
    {
      "cell_type": "markdown",
      "metadata": {
        "id": "w62S4s2D1_vb"
      },
      "source": [
        "# 02 - Filtering and Sorting Data"
      ]
    },
    {
      "cell_type": "markdown",
      "metadata": {
        "id": "uTxzkDds1_ve"
      },
      "source": [
        "### Step 1. Import the necessary libraries"
      ]
    },
    {
      "cell_type": "code",
      "metadata": {
        "id": "la6mFbS_1_vf"
      },
      "source": [
        ""
      ],
      "execution_count": null,
      "outputs": []
    },
    {
      "cell_type": "markdown",
      "metadata": {
        "id": "F7N0A4sp1_vg"
      },
      "source": [
        "### Step 2. Import the dataset `Euro_2012_stats_TEAM` from folder `data`. Assign it to a variable called euro12"
      ]
    },
    {
      "cell_type": "code",
      "metadata": {
        "id": "xb0VOCAM1_vh"
      },
      "source": [
        ""
      ],
      "execution_count": null,
      "outputs": []
    },
    {
      "cell_type": "markdown",
      "metadata": {
        "id": "Hk3XCo0L1_vi"
      },
      "source": [
        "### Step 3. Use `.info()` to get a glimpse of the dataframe"
      ]
    },
    {
      "cell_type": "code",
      "metadata": {
        "id": "2dpczyCk1_vi"
      },
      "source": [
        ""
      ],
      "execution_count": null,
      "outputs": []
    },
    {
      "cell_type": "markdown",
      "metadata": {
        "id": "_Sf9A7HM1_vj"
      },
      "source": [
        "### Step 4. Select only the `Goal` column"
      ]
    },
    {
      "cell_type": "code",
      "metadata": {
        "id": "w3XXI2_21_vj"
      },
      "source": [
        ""
      ],
      "execution_count": null,
      "outputs": []
    },
    {
      "cell_type": "markdown",
      "metadata": {
        "id": "1-pC3Ryg1_vk"
      },
      "source": [
        "### Step 5. How many teams participated in the Euro2012?"
      ]
    },
    {
      "cell_type": "code",
      "metadata": {
        "id": "mP4M3oW01_vk"
      },
      "source": [
        ""
      ],
      "execution_count": null,
      "outputs": []
    },
    {
      "cell_type": "markdown",
      "metadata": {
        "id": "dDrGMRbO1_vk"
      },
      "source": [
        "### Step 6. What is the number of columns in the dataset?"
      ]
    },
    {
      "cell_type": "code",
      "metadata": {
        "id": "MJ4CbFa91_vl"
      },
      "source": [
        ""
      ],
      "execution_count": null,
      "outputs": []
    },
    {
      "cell_type": "markdown",
      "metadata": {
        "id": "r6V8nEWw1_vl"
      },
      "source": [
        "### Step 7. View only the columns Team, Yellow Cards and Red Cards and assign them to a dataframe called `discipline`"
      ]
    },
    {
      "cell_type": "code",
      "metadata": {
        "id": "7IQQZw2f1_vm"
      },
      "source": [
        ""
      ],
      "execution_count": null,
      "outputs": []
    },
    {
      "cell_type": "markdown",
      "metadata": {
        "id": "fcfnTfvQ1_vm"
      },
      "source": [
        "### Step 8. Sort the teams by Red Cards, then to Yellow Cards"
      ]
    },
    {
      "cell_type": "code",
      "metadata": {
        "id": "QZhxPWoj1_vm"
      },
      "source": [
        ""
      ],
      "execution_count": null,
      "outputs": []
    },
    {
      "cell_type": "markdown",
      "metadata": {
        "id": "OvW3cZuN1_vm"
      },
      "source": [
        "### Step 9. Calculate the mean Yellow Cards given per Team"
      ]
    },
    {
      "cell_type": "code",
      "metadata": {
        "id": "OX7_WR4Z1_vn"
      },
      "source": [
        ""
      ],
      "execution_count": null,
      "outputs": []
    },
    {
      "cell_type": "markdown",
      "metadata": {
        "id": "FgLQrpcb1_vn"
      },
      "source": [
        "### Step 10. Filter teams that scored more than 6 goals"
      ]
    },
    {
      "cell_type": "code",
      "metadata": {
        "id": "xyY4tqPs1_vn"
      },
      "source": [
        ""
      ],
      "execution_count": null,
      "outputs": []
    },
    {
      "cell_type": "markdown",
      "metadata": {
        "id": "bTX-EYh41_vn"
      },
      "source": [
        "### Step 11. Select the teams that start with G"
      ]
    },
    {
      "cell_type": "code",
      "metadata": {
        "id": "WhDpXMqJ1_vo"
      },
      "source": [
        ""
      ],
      "execution_count": null,
      "outputs": []
    },
    {
      "cell_type": "markdown",
      "metadata": {
        "id": "iULzB_a91_vo"
      },
      "source": [
        "### Step 12. Select the first 7 columns"
      ]
    },
    {
      "cell_type": "code",
      "metadata": {
        "jupyter": {
          "outputs_hidden": false
        },
        "id": "l4R2gL311_vo"
      },
      "source": [
        ""
      ],
      "execution_count": null,
      "outputs": []
    },
    {
      "cell_type": "markdown",
      "metadata": {
        "id": "8ncVMqBp1_vo"
      },
      "source": [
        "### Step 13. Select all columns except the last 3"
      ]
    },
    {
      "cell_type": "code",
      "metadata": {
        "jupyter": {
          "outputs_hidden": false
        },
        "id": "0-xTLZcu1_vp"
      },
      "source": [
        ""
      ],
      "execution_count": null,
      "outputs": []
    },
    {
      "cell_type": "markdown",
      "metadata": {
        "id": "Qp1P81yg1_vp"
      },
      "source": [
        "### Step 14. Present only the Shooting Accuracy from England, Italy and Russia"
      ]
    },
    {
      "cell_type": "code",
      "metadata": {
        "id": "dItHX8Xx1_vp"
      },
      "source": [
        ""
      ],
      "execution_count": null,
      "outputs": []
    }
  ]
}