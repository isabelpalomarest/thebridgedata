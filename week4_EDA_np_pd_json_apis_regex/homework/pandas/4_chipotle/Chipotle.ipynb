{
  "nbformat": 4,
  "nbformat_minor": 0,
  "metadata": {
    "anaconda-cloud": {},
    "kernelspec": {
      "display_name": "Python 3",
      "language": "python",
      "name": "python3"
    },
    "language_info": {
      "codemirror_mode": {
        "name": "ipython",
        "version": 3
      },
      "file_extension": ".py",
      "mimetype": "text/x-python",
      "name": "python",
      "nbconvert_exporter": "python",
      "pygments_lexer": "ipython3",
      "version": "3.8.3"
    },
    "colab": {
      "name": "Chipotle.ipynb",
      "provenance": []
    }
  },
  "cells": [
    {
      "cell_type": "markdown",
      "metadata": {
        "id": "JAmvm5o_1-7x"
      },
      "source": [
        "# 02 - Filtering and Sorting Data"
      ]
    },
    {
      "cell_type": "markdown",
      "metadata": {
        "id": "Htc83fUv1-70"
      },
      "source": [
        "\n",
        "\n",
        "### Step 1. Import the necessary libraries"
      ]
    },
    {
      "cell_type": "code",
      "metadata": {
        "id": "L79_X6Ks1-72"
      },
      "source": [
        ""
      ],
      "execution_count": null,
      "outputs": []
    },
    {
      "cell_type": "markdown",
      "metadata": {
        "id": "snrvdfLk1-73"
      },
      "source": [
        "### Step 2. Import the dataset from this [address](https://raw.githubusercontent.com/justmarkham/DAT8/master/data/chipotle.tsv). Assign it to a variable called chipo.\n",
        "\n",
        "This time we are going to pull data directly from the internet."
      ]
    },
    {
      "cell_type": "code",
      "metadata": {
        "id": "tyoQphh21-74"
      },
      "source": [
        "address = \"https://raw.githubusercontent.com/justmarkham/DAT8/master/data/chipotle.tsv\""
      ],
      "execution_count": null,
      "outputs": []
    },
    {
      "cell_type": "markdown",
      "metadata": {
        "id": "8c4SIL2u1-75"
      },
      "source": [
        "### Step 3. Name of the most expensive products (item_name)\n",
        "\n",
        "¿Recuerdas el `map`? En **pandas** tienes el método [`apply`](https://pandas.pydata.org/pandas-docs/stable/reference/api/pandas.DataFrame.apply.html) y en para resolver este ejercicio te puede ser muy útil. \n",
        "\n",
        "Pero no acaba ahí https://stackoverflow.com/questions/19798153/difference-between-map-applymap-and-apply-methods-in-pandas"
      ]
    },
    {
      "cell_type": "code",
      "metadata": {
        "id": "zKb_EE-S1-76"
      },
      "source": [
        ""
      ],
      "execution_count": null,
      "outputs": []
    },
    {
      "cell_type": "markdown",
      "metadata": {
        "id": "G8wPVT1a1-77"
      },
      "source": [
        "### Step 4. How many products cost more than $10.00?"
      ]
    },
    {
      "cell_type": "code",
      "metadata": {
        "id": "4yOwW-L-1-78"
      },
      "source": [
        ""
      ],
      "execution_count": null,
      "outputs": []
    },
    {
      "cell_type": "markdown",
      "metadata": {
        "id": "03UKrZus1-78"
      },
      "source": [
        "### Step 5. What is the price of each item? \n",
        "###### print a data frame with only two columns item_name and item_price"
      ]
    },
    {
      "cell_type": "code",
      "metadata": {
        "id": "ytVCB8nE1-79"
      },
      "source": [
        ""
      ],
      "execution_count": null,
      "outputs": []
    },
    {
      "cell_type": "markdown",
      "metadata": {
        "id": "vS4yHZNQ1-7-"
      },
      "source": [
        "### Step 6. Sort by the name of the item"
      ]
    },
    {
      "cell_type": "code",
      "metadata": {
        "id": "W_fCC-Jl1-7-"
      },
      "source": [
        ""
      ],
      "execution_count": null,
      "outputs": []
    },
    {
      "cell_type": "markdown",
      "metadata": {
        "id": "AFBJwcFI1-7_"
      },
      "source": [
        "### Step 7. What was the quantity of the most expensive item ordered? 2 ways"
      ]
    },
    {
      "cell_type": "markdown",
      "metadata": {
        "id": "G-YU5blh1-7_"
      },
      "source": [
        "V1"
      ]
    },
    {
      "cell_type": "code",
      "metadata": {
        "id": "G7SF06iQ1-8A"
      },
      "source": [
        ""
      ],
      "execution_count": null,
      "outputs": []
    },
    {
      "cell_type": "markdown",
      "metadata": {
        "id": "yz_47RPR1-8A"
      },
      "source": [
        "V2"
      ]
    },
    {
      "cell_type": "code",
      "metadata": {
        "id": "LoblGtXJ1-8B"
      },
      "source": [
        ""
      ],
      "execution_count": null,
      "outputs": []
    },
    {
      "cell_type": "markdown",
      "metadata": {
        "id": "BgFdtKrN1-8B"
      },
      "source": [
        "### Step 8. How many times was a Veggie Salad Bowl ordered?"
      ]
    },
    {
      "cell_type": "code",
      "metadata": {
        "id": "Qx-k_FcZ1-8C"
      },
      "source": [
        ""
      ],
      "execution_count": null,
      "outputs": []
    },
    {
      "cell_type": "markdown",
      "metadata": {
        "id": "zj2a-cJA1-8C"
      },
      "source": [
        "### Step 9. How many times did someone order more than one Canned Soda?"
      ]
    },
    {
      "cell_type": "code",
      "metadata": {
        "id": "wiDZEAbW1-8C"
      },
      "source": [
        ""
      ],
      "execution_count": null,
      "outputs": []
    }
  ]
}