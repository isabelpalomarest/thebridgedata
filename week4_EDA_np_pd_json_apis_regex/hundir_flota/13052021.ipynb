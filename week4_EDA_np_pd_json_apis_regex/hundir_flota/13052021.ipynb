{
 "metadata": {
  "language_info": {
   "codemirror_mode": {
    "name": "ipython",
    "version": 3
   },
   "file_extension": ".py",
   "mimetype": "text/x-python",
   "name": "python",
   "nbconvert_exporter": "python",
   "pygments_lexer": "ipython3",
   "version": "3.7.4"
  },
  "orig_nbformat": 2,
  "kernelspec": {
   "name": "python374jvsc74a57bd0182e3b849e87c789b13dcf4169d6d9922ca2e40dd3044e82b295bff17932e6e2",
   "display_name": "Python 3.7.4 64-bit"
  },
  "metadata": {
   "interpreter": {
    "hash": "182e3b849e87c789b13dcf4169d6d9922ca2e40dd3044e82b295bff17932e6e2"
   }
  }
 },
 "nbformat": 4,
 "nbformat_minor": 2,
 "cells": [
  {
   "cell_type": "code",
   "execution_count": 1,
   "metadata": {},
   "outputs": [],
   "source": [
    "import pandas as pd "
   ]
  },
  {
   "cell_type": "code",
   "execution_count": 28,
   "metadata": {},
   "outputs": [
    {
     "output_type": "execute_result",
     "data": {
      "text/plain": [
       "   1  2  3  4  5  6  7  8  9  10\n",
       "1   ~  ~  ~  ~  ~  ~  ~  ~  ~  ~\n",
       "2   ~  ~  ~  ~  ~  ~  ~  ~  ~  ~\n",
       "3   ~  ~  ~  ~  ~  ~  ~  ~  ~  ~\n",
       "4   ~  ~  ~  ~  ~  ~  ~  ~  ~  ~\n",
       "5   ~  ~  ~  ~  ~  ~  ~  ~  ~  ~\n",
       "6   ~  ~  ~  ~  ~  ~  ~  ~  ~  ~\n",
       "7   ~  ~  ~  ~  ~  ~  ~  ~  ~  ~\n",
       "8   ~  ~  ~  ~  ~  ~  ~  ~  ~  ~\n",
       "9   ~  ~  ~  ~  ~  ~  ~  ~  ~  ~\n",
       "10  ~  ~  ~  ~  ~  ~  ~  ~  ~  ~"
      ],
      "text/html": "<div>\n<style scoped>\n    .dataframe tbody tr th:only-of-type {\n        vertical-align: middle;\n    }\n\n    .dataframe tbody tr th {\n        vertical-align: top;\n    }\n\n    .dataframe thead th {\n        text-align: right;\n    }\n</style>\n<table border=\"1\" class=\"dataframe\">\n  <thead>\n    <tr style=\"text-align: right;\">\n      <th></th>\n      <th>1</th>\n      <th>2</th>\n      <th>3</th>\n      <th>4</th>\n      <th>5</th>\n      <th>6</th>\n      <th>7</th>\n      <th>8</th>\n      <th>9</th>\n      <th>10</th>\n    </tr>\n  </thead>\n  <tbody>\n    <tr>\n      <th>1</th>\n      <td>~</td>\n      <td>~</td>\n      <td>~</td>\n      <td>~</td>\n      <td>~</td>\n      <td>~</td>\n      <td>~</td>\n      <td>~</td>\n      <td>~</td>\n      <td>~</td>\n    </tr>\n    <tr>\n      <th>2</th>\n      <td>~</td>\n      <td>~</td>\n      <td>~</td>\n      <td>~</td>\n      <td>~</td>\n      <td>~</td>\n      <td>~</td>\n      <td>~</td>\n      <td>~</td>\n      <td>~</td>\n    </tr>\n    <tr>\n      <th>3</th>\n      <td>~</td>\n      <td>~</td>\n      <td>~</td>\n      <td>~</td>\n      <td>~</td>\n      <td>~</td>\n      <td>~</td>\n      <td>~</td>\n      <td>~</td>\n      <td>~</td>\n    </tr>\n    <tr>\n      <th>4</th>\n      <td>~</td>\n      <td>~</td>\n      <td>~</td>\n      <td>~</td>\n      <td>~</td>\n      <td>~</td>\n      <td>~</td>\n      <td>~</td>\n      <td>~</td>\n      <td>~</td>\n    </tr>\n    <tr>\n      <th>5</th>\n      <td>~</td>\n      <td>~</td>\n      <td>~</td>\n      <td>~</td>\n      <td>~</td>\n      <td>~</td>\n      <td>~</td>\n      <td>~</td>\n      <td>~</td>\n      <td>~</td>\n    </tr>\n    <tr>\n      <th>6</th>\n      <td>~</td>\n      <td>~</td>\n      <td>~</td>\n      <td>~</td>\n      <td>~</td>\n      <td>~</td>\n      <td>~</td>\n      <td>~</td>\n      <td>~</td>\n      <td>~</td>\n    </tr>\n    <tr>\n      <th>7</th>\n      <td>~</td>\n      <td>~</td>\n      <td>~</td>\n      <td>~</td>\n      <td>~</td>\n      <td>~</td>\n      <td>~</td>\n      <td>~</td>\n      <td>~</td>\n      <td>~</td>\n    </tr>\n    <tr>\n      <th>8</th>\n      <td>~</td>\n      <td>~</td>\n      <td>~</td>\n      <td>~</td>\n      <td>~</td>\n      <td>~</td>\n      <td>~</td>\n      <td>~</td>\n      <td>~</td>\n      <td>~</td>\n    </tr>\n    <tr>\n      <th>9</th>\n      <td>~</td>\n      <td>~</td>\n      <td>~</td>\n      <td>~</td>\n      <td>~</td>\n      <td>~</td>\n      <td>~</td>\n      <td>~</td>\n      <td>~</td>\n      <td>~</td>\n    </tr>\n    <tr>\n      <th>10</th>\n      <td>~</td>\n      <td>~</td>\n      <td>~</td>\n      <td>~</td>\n      <td>~</td>\n      <td>~</td>\n      <td>~</td>\n      <td>~</td>\n      <td>~</td>\n      <td>~</td>\n    </tr>\n  </tbody>\n</table>\n</div>"
     },
     "metadata": {},
     "execution_count": 28
    }
   ],
   "source": [
    "tablero1 = pd.DataFrame({1: \"~\", 2: \"~\",3: \"~\",4: \"~\",5: \"~\",6: \"~\",7: \"~\",8: \"~\",9: \"~\",10: \"~\"},index=[1, 2,3,4,5,6,7,8,9,10])\n",
    "tablero1"
   ]
  },
  {
   "cell_type": "code",
   "execution_count": 22,
   "metadata": {},
   "outputs": [],
   "source": [
    "class Barco:\n",
    "    def __init__(self, df): \n",
    "        self.df = df\n",
    "\n",
    "    def colocar_barco(self, size, df):\n",
    "        self.size = size\n",
    "\n",
    "        fil = int(input(\"Introduce la coordenada fila\"))\n",
    "        col = int(input(\"Introduce la coordenada columna\"))\n",
    "\n",
    "        if df.loc[fil,col] == \"#\" :\n",
    "            print(\"Ops! There´s already a boat,try again!\")\n",
    "            return False\n",
    "\n",
    "\n",
    "        else:\n",
    "            h_v = input(\"escribe 'h' si quieres horizontal o 'v' si quieres vertical\")\n",
    "\n",
    "            if h_v == \"h\":\n",
    "                if col == 10:\n",
    "                    print(\"You´re out of range\")\n",
    "                    return False\n",
    "                else:\n",
    "                    fil = fil \n",
    "                    col_f = col + size -1\n",
    "            # Creo que aquí habría que meter un if\n",
    "                    df.loc[fil,col:col_f] = \"#\"\n",
    "                    print(tablero1)\n",
    "                    return df\n",
    "            #df.loc[4,5:5+2-1]\n",
    "\n",
    "            if h_v == \"v\":\n",
    "                if fil == 10:\n",
    "                    print(\"You´re boat is out of range\")\n",
    "                    return False\n",
    "                else: \n",
    "                    fil_f = fil + size -1\n",
    "                    col = col\n",
    "                    df.loc[fil:fil_f,col] = \"#\"\n",
    "                    print(tablero1)\n",
    "                    return df"
   ]
  },
  {
   "cell_type": "code",
   "execution_count": 23,
   "metadata": {},
   "outputs": [],
   "source": [
    "barco_pequeño = Barco(tablero1)"
   ]
  },
  {
   "cell_type": "code",
   "execution_count": 27,
   "metadata": {},
   "outputs": [
    {
     "output_type": "stream",
     "name": "stdout",
     "text": [
      "Coloca el barco1 de tamaño pequeño\n",
      "contador: 1\n",
      "Ops! There´s already a boat,try again!\n",
      "   1  2  3  4  5  6  7  8  9  10\n",
      "1   #  #  #  ~  ~  ~  ~  ~  ~  ~\n",
      "2   #  ~  ~  ~  ~  ~  ~  ~  ~  ~\n",
      "3   ~  ~  ~  #  ~  ~  ~  ~  ~  ~\n",
      "4   ~  ~  ~  #  #  #  ~  ~  ~  ~\n",
      "5   ~  ~  ~  ~  ~  ~  ~  ~  ~  ~\n",
      "6   ~  ~  ~  ~  ~  ~  ~  ~  ~  ~\n",
      "7   ~  ~  ~  ~  ~  ~  ~  ~  ~  ~\n",
      "8   ~  ~  ~  ~  ~  ~  ~  ~  ~  ~\n",
      "9   ~  ~  ~  ~  ~  ~  ~  ~  ~  ~\n",
      "10  ~  ~  ~  ~  ~  ~  ~  ~  ~  ~\n"
     ]
    },
    {
     "output_type": "error",
     "ename": "ValueError",
     "evalue": "The truth value of a DataFrame is ambiguous. Use a.empty, a.bool(), a.item(), a.any() or a.all().",
     "traceback": [
      "\u001b[1;31m---------------------------------------------------------------------------\u001b[0m",
      "\u001b[1;31mValueError\u001b[0m                                Traceback (most recent call last)",
      "\u001b[1;32m<ipython-input-27-891bec9e9303>\u001b[0m in \u001b[0;36m<module>\u001b[1;34m\u001b[0m\n\u001b[0;32m     13\u001b[0m     \u001b[1;32mreturn\u001b[0m \u001b[0mtablero1\u001b[0m\u001b[1;33m\u001b[0m\u001b[1;33m\u001b[0m\u001b[0m\n\u001b[0;32m     14\u001b[0m \u001b[1;33m\u001b[0m\u001b[0m\n\u001b[1;32m---> 15\u001b[1;33m \u001b[0mcoloca_tus_barcos\u001b[0m\u001b[1;33m(\u001b[0m\u001b[1;36m5\u001b[0m\u001b[1;33m,\u001b[0m \u001b[0mbarco_pequeño\u001b[0m\u001b[1;33m,\u001b[0m \u001b[1;34m\"pequeño\"\u001b[0m\u001b[1;33m)\u001b[0m\u001b[1;33m\u001b[0m\u001b[1;33m\u001b[0m\u001b[0m\n\u001b[0m",
      "\u001b[1;32m<ipython-input-27-891bec9e9303>\u001b[0m in \u001b[0;36mcoloca_tus_barcos\u001b[1;34m(n, barco, tamaño)\u001b[0m\n\u001b[0;32m      6\u001b[0m         \u001b[0mbarco\u001b[0m\u001b[1;33m.\u001b[0m\u001b[0mcolocar_barco\u001b[0m\u001b[1;33m(\u001b[0m\u001b[1;36m2\u001b[0m\u001b[1;33m,\u001b[0m\u001b[0mtablero1\u001b[0m\u001b[1;33m)\u001b[0m\u001b[1;33m\u001b[0m\u001b[1;33m\u001b[0m\u001b[0m\n\u001b[0;32m      7\u001b[0m         \u001b[0mcontador\u001b[0m \u001b[1;33m+=\u001b[0m \u001b[1;36m1\u001b[0m\u001b[1;33m\u001b[0m\u001b[1;33m\u001b[0m\u001b[0m\n\u001b[1;32m----> 8\u001b[1;33m         \u001b[1;32mif\u001b[0m \u001b[0mbarco\u001b[0m\u001b[1;33m.\u001b[0m\u001b[0mcolocar_barco\u001b[0m\u001b[1;33m(\u001b[0m\u001b[1;36m2\u001b[0m\u001b[1;33m,\u001b[0m\u001b[0mtablero1\u001b[0m\u001b[1;33m)\u001b[0m \u001b[1;33m==\u001b[0m \u001b[1;32mFalse\u001b[0m\u001b[1;33m:\u001b[0m\u001b[1;33m\u001b[0m\u001b[1;33m\u001b[0m\u001b[0m\n\u001b[0m\u001b[0;32m      9\u001b[0m             \u001b[0mprint\u001b[0m\u001b[1;33m(\u001b[0m\u001b[1;34m\"Try Again!\"\u001b[0m\u001b[1;33m)\u001b[0m\u001b[1;33m\u001b[0m\u001b[1;33m\u001b[0m\u001b[0m\n\u001b[0;32m     10\u001b[0m             \u001b[0mcontador\u001b[0m \u001b[1;33m-=\u001b[0m \u001b[1;36m1\u001b[0m\u001b[1;33m\u001b[0m\u001b[1;33m\u001b[0m\u001b[0m\n",
      "\u001b[1;32m~\\AppData\\Local\\Programs\\Python\\Python37\\lib\\site-packages\\pandas\\core\\generic.py\u001b[0m in \u001b[0;36m__nonzero__\u001b[1;34m(self)\u001b[0m\n\u001b[0;32m   1441\u001b[0m     \u001b[1;32mdef\u001b[0m \u001b[0m__nonzero__\u001b[0m\u001b[1;33m(\u001b[0m\u001b[0mself\u001b[0m\u001b[1;33m)\u001b[0m\u001b[1;33m:\u001b[0m\u001b[1;33m\u001b[0m\u001b[1;33m\u001b[0m\u001b[0m\n\u001b[0;32m   1442\u001b[0m         raise ValueError(\n\u001b[1;32m-> 1443\u001b[1;33m             \u001b[1;34mf\"The truth value of a {type(self).__name__} is ambiguous. \"\u001b[0m\u001b[1;33m\u001b[0m\u001b[1;33m\u001b[0m\u001b[0m\n\u001b[0m\u001b[0;32m   1444\u001b[0m             \u001b[1;34m\"Use a.empty, a.bool(), a.item(), a.any() or a.all().\"\u001b[0m\u001b[1;33m\u001b[0m\u001b[1;33m\u001b[0m\u001b[0m\n\u001b[0;32m   1445\u001b[0m         )\n",
      "\u001b[1;31mValueError\u001b[0m: The truth value of a DataFrame is ambiguous. Use a.empty, a.bool(), a.item(), a.any() or a.all()."
     ]
    }
   ],
   "source": [
    "def coloca_tus_barcos(n,barco,tamaño):\n",
    "    contador = 1\n",
    "    while contador < n: \n",
    "        print(f'Coloca el barco{contador} de tamaño {tamaño}')\n",
    "        print(\"contador:\",contador)\n",
    "        barco.colocar_barco(2,tablero1)\n",
    "        contador += 1\n",
    "        if barco.colocar_barco(2,tablero1) == False:\n",
    "            print(\"Try Again!\")\n",
    "            contador -= 1 \n",
    "\n",
    "\n",
    "    return tablero1\n",
    "\n",
    "coloca_tus_barcos(5, barco_pequeño, \"pequeño\")"
   ]
  },
  {
   "cell_type": "code",
   "execution_count": 13,
   "metadata": {},
   "outputs": [],
   "source": [
    "from random import randint, uniform,random"
   ]
  },
  {
   "cell_type": "code",
   "execution_count": 54,
   "metadata": {},
   "outputs": [],
   "source": [
    "x= randint(0,6)\n",
    "y= randint(0,6)\n",
    "def func_random(jugador1,jugador2):\n",
    "    print(x)\n",
    "    if x > y:\n",
    "        print(x)\n",
    "        return Jugador1\n",
    "    else:\n",
    "        print(y) \n",
    "        return jugador2\n",
    "        \n",
    "func_random(input(\"Nombre 1\"),input(\"Nombre 2\"))"
   ]
  },
  {
   "cell_type": "code",
   "execution_count": 55,
   "metadata": {},
   "outputs": [
    {
     "output_type": "stream",
     "name": "stdout",
     "text": [
      "4\n6\n"
     ]
    },
    {
     "output_type": "execute_result",
     "data": {
      "text/plain": [
       "'jdjdo'"
      ]
     },
     "metadata": {},
     "execution_count": 55
    }
   ],
   "source": [
    "func_random(input(\"Nombre 1\"),input(\"Nombre 2\"))"
   ]
  },
  {
   "cell_type": "code",
   "execution_count": null,
   "metadata": {},
   "outputs": [],
   "source": []
  },
  {
   "cell_type": "code",
   "execution_count": null,
   "metadata": {},
   "outputs": [],
   "source": []
  }
 ]
}