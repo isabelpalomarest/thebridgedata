{
 "metadata": {
  "language_info": {
   "codemirror_mode": {
    "name": "ipython",
    "version": 3
   },
   "file_extension": ".py",
   "mimetype": "text/x-python",
   "name": "python",
   "nbconvert_exporter": "python",
   "pygments_lexer": "ipython3",
   "version": "3.6.4"
  },
  "orig_nbformat": 2,
  "kernelspec": {
   "name": "python36464bitc2077ed07ea84d23aa5b518d224882ab",
   "display_name": "Python 3.6.4 64-bit"
  },
  "metadata": {
   "interpreter": {
    "hash": "5c4d2f1fdcd3716c7a5eea90ad07be30193490dd4e63617705244f5fd89ea793"
   }
  }
 },
 "nbformat": 4,
 "nbformat_minor": 2,
 "cells": [
  {
   "cell_type": "code",
   "execution_count": 6,
   "metadata": {},
   "outputs": [
    {
     "output_type": "stream",
     "name": "stdout",
     "text": [
      "Mauro Garcia-Oliva\n"
     ]
    }
   ],
   "source": [
    "lista_alumnos = [(\"Nacho Fontal\", 1.82),(\"Javier Araiz\", 1.80),('Jonathan Suarez', 1.86),('Sonia Cobo', 1.73), ('Jorge García', 1.79), (\"Mary Meza\", 1.52), ('Leonardo Frazzetto', 1.75), (\"Nacho Astorga\",1.78),(\"José Carlos Batista\",1.70), (\"Isabel Palomares\", 1.78),(\"Marina Serrano\", 1.54), (\"Daniel Walker\", 1.87), (\"Gina Garrido\", 1.63), (\"Adrià Gallardo\", 1.70), (\"Mauro Garcia-Oliva\", 1.77), (\"Juan Bayon\", 1.64), (\"Miguel Barquero\", 1.85), (\"Xinru Yang\", 1.60),(\"Pablo Martínez\", 1.84),(\"Karina Inche\",1.61)]\n",
    "lista_alumnos = [student[0] for student in lista_alumnos]\n",
    "\n",
    "import random\n",
    "\n",
    "alumno_aleatorio = random.choice(lista_alumnos)\n",
    "print(alumno_aleatorio)"
   ]
  },
  {
   "cell_type": "code",
   "execution_count": 7,
   "metadata": {},
   "outputs": [
    {
     "output_type": "stream",
     "name": "stdout",
     "text": [
      "seed: 17122004\n"
     ]
    },
    {
     "output_type": "execute_result",
     "data": {
      "text/plain": [
       "{1: 'José Carlos Batista',\n",
       " 2: 'Jonathan Suarez',\n",
       " 3: 'Leonardo Frazzetto',\n",
       " 4: 'Gina Garrido',\n",
       " 5: 'Pablo Martínez',\n",
       " 6: 'Javier Araiz',\n",
       " 7: 'Sonia Cobo',\n",
       " 8: 'Juan Bayon',\n",
       " 9: 'Adrià Gallardo',\n",
       " 10: 'Isabel Palomares',\n",
       " 11: 'Nacho Astorga',\n",
       " 12: 'Mary Meza',\n",
       " 13: 'Jorge García',\n",
       " 14: 'Xinru Yang',\n",
       " 15: 'Nacho Fontal',\n",
       " 16: 'Daniel Walker',\n",
       " 17: 'Marina Serrano',\n",
       " 18: 'Mauro Garcia-Oliva',\n",
       " 19: 'Karina Inche',\n",
       " 20: 'Miguel Barquero'}"
      ]
     },
     "metadata": {},
     "execution_count": 7
    }
   ],
   "source": [
    "seed = 17122003\n",
    "random.seed(seed)\n",
    "\n",
    "def get_key_from_value(dictionary, alumn):\n",
    "    return list(dictionary.keys())[list(dictionary.values()).index(alumn)]\n",
    "\n",
    "def create_presentation_shifts(students):\n",
    "    range_list = list(range(1, len(students) + 1))\n",
    "    random.shuffle(range_list)\n",
    "    student_turn_dict = dict(zip(range_list, students))\n",
    "    return {k: student_turn_dict[k] for k in sorted(student_turn_dict)}\n",
    "\n",
    "#l = \"Daniel Walker\"\n",
    "j = \"José Carlos Batista\"\n",
    "\n",
    "turns = create_presentation_shifts(students=lista_alumnos)\n",
    "\n",
    "#d = get_key_from_value(dictionary=turns, alumn=l)\n",
    "s = get_key_from_value(dictionary=turns, alumn=j)\n",
    "\n",
    "while s > 1:\n",
    "    seed += 1\n",
    "    turns = create_presentation_shifts(students=lista_alumnos)\n",
    "    s = get_key_from_value(dictionary=turns, alumn=j)\n",
    "    #d = get_key_from_value(dictionary=turns, alumn=l)\n",
    "\n",
    "print(\"seed:\", seed)\n",
    "turns"
   ]
  },
  {
   "cell_type": "code",
   "execution_count": null,
   "metadata": {},
   "outputs": [],
   "source": []
  }
 ]
}