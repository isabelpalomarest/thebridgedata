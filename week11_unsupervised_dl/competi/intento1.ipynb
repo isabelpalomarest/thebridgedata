{
 "cells": [
  {
   "cell_type": "markdown",
   "metadata": {},
   "source": [
    "![image](competi.png)"
   ]
  },
  {
   "cell_type": "markdown",
   "metadata": {},
   "source": [
    "#### Aquí encontrarás todo lo que necesitas saber: https://www.kaggle.com/t/ab8726f0cfc84544abbae69a6be88071"
   ]
  },
  {
   "cell_type": "code",
   "execution_count": 86,
   "metadata": {},
   "outputs": [],
   "source": [
    "import numpy as np\n",
    "import pandas as pd\n",
    "\n",
    "import urllib.request\n",
    "from PIL import Image\n",
    "\n",
    "from sklearn.linear_model import LinearRegression\n",
    "from sklearn.model_selection import train_test_split\n",
    "from sklearn.metrics import mean_squared_error\n",
    "from sklearn.preprocessing import LabelEncoder"
   ]
  },
  {
   "cell_type": "code",
   "execution_count": 87,
   "metadata": {},
   "outputs": [],
   "source": [
    "### Para que funcione necesitas bajarte los archivos de datos de Kaggle \n",
    "df = pd.read_csv(\"diamonds_train.csv\", index_col=0)"
   ]
  },
  {
   "cell_type": "code",
   "execution_count": 88,
   "metadata": {},
   "outputs": [
    {
     "output_type": "stream",
     "name": "stdout",
     "text": [
      "<class 'pandas.core.frame.DataFrame'>\nInt64Index: 40345 entries, 0 to 40344\nData columns (total 10 columns):\n #   Column   Non-Null Count  Dtype  \n---  ------   --------------  -----  \n 0   carat    40345 non-null  float64\n 1   cut      40345 non-null  object \n 2   color    40345 non-null  object \n 3   clarity  40345 non-null  object \n 4   depth    40345 non-null  float64\n 5   table    40345 non-null  float64\n 6   x        40345 non-null  float64\n 7   y        40345 non-null  float64\n 8   z        40345 non-null  float64\n 9   price    40345 non-null  int64  \ndtypes: float64(6), int64(1), object(3)\nmemory usage: 3.4+ MB\n"
     ]
    }
   ],
   "source": [
    "df.info()"
   ]
  },
  {
   "cell_type": "code",
   "execution_count": 89,
   "metadata": {},
   "outputs": [],
   "source": [
    "le = LabelEncoder()"
   ]
  },
  {
   "cell_type": "code",
   "execution_count": 90,
   "metadata": {},
   "outputs": [],
   "source": [
    "df[\"clarity\"] = le.fit_transform(df[\"clarity\"])\n",
    "df[\"color\"] = le.fit_transform(df[\"color\"])\n",
    "df[\"cut\"] = le.fit_transform(df[\"cut\"])"
   ]
  },
  {
   "cell_type": "code",
   "execution_count": 91,
   "metadata": {},
   "outputs": [
    {
     "output_type": "execute_result",
     "data": {
      "text/plain": [
       "            carat       cut     color   clarity     depth     table         x  \\\n",
       "carat    1.000000  0.018551  0.285737 -0.213653  0.029414  0.181273  0.975077   \n",
       "cut      0.018551  1.000000 -0.000943  0.026981 -0.195392  0.149833  0.023399   \n",
       "color    0.285737 -0.000943  1.000000 -0.030010  0.048637  0.022557  0.263915   \n",
       "clarity -0.213653  0.026981 -0.030010  1.000000 -0.054952 -0.088440 -0.225114   \n",
       "depth    0.029414 -0.195392  0.048637 -0.054952  1.000000 -0.288987 -0.023389   \n",
       "table    0.181273  0.149833  0.022557 -0.088440 -0.288987  1.000000  0.193986   \n",
       "x        0.975077  0.023399  0.263915 -0.225114 -0.023389  0.193986  1.000000   \n",
       "y        0.944445  0.028351  0.255262 -0.215307 -0.027880  0.180449  0.966827   \n",
       "z        0.967289  0.002183  0.266589 -0.226675  0.097399  0.153175  0.985080   \n",
       "price    0.921887  0.039499  0.166340 -0.070364 -0.009228  0.127338  0.883163   \n",
       "\n",
       "                y         z     price  \n",
       "carat    0.944445  0.967289  0.921887  \n",
       "cut      0.028351  0.002183  0.039499  \n",
       "color    0.255262  0.266589  0.166340  \n",
       "clarity -0.215307 -0.226675 -0.070364  \n",
       "depth   -0.027880  0.097399 -0.009228  \n",
       "table    0.180449  0.153175  0.127338  \n",
       "x        0.966827  0.985080  0.883163  \n",
       "y        1.000000  0.959957  0.857564  \n",
       "z        0.959957  1.000000  0.872855  \n",
       "price    0.857564  0.872855  1.000000  "
      ],
      "text/html": "<div>\n<style scoped>\n    .dataframe tbody tr th:only-of-type {\n        vertical-align: middle;\n    }\n\n    .dataframe tbody tr th {\n        vertical-align: top;\n    }\n\n    .dataframe thead th {\n        text-align: right;\n    }\n</style>\n<table border=\"1\" class=\"dataframe\">\n  <thead>\n    <tr style=\"text-align: right;\">\n      <th></th>\n      <th>carat</th>\n      <th>cut</th>\n      <th>color</th>\n      <th>clarity</th>\n      <th>depth</th>\n      <th>table</th>\n      <th>x</th>\n      <th>y</th>\n      <th>z</th>\n      <th>price</th>\n    </tr>\n  </thead>\n  <tbody>\n    <tr>\n      <th>carat</th>\n      <td>1.000000</td>\n      <td>0.018551</td>\n      <td>0.285737</td>\n      <td>-0.213653</td>\n      <td>0.029414</td>\n      <td>0.181273</td>\n      <td>0.975077</td>\n      <td>0.944445</td>\n      <td>0.967289</td>\n      <td>0.921887</td>\n    </tr>\n    <tr>\n      <th>cut</th>\n      <td>0.018551</td>\n      <td>1.000000</td>\n      <td>-0.000943</td>\n      <td>0.026981</td>\n      <td>-0.195392</td>\n      <td>0.149833</td>\n      <td>0.023399</td>\n      <td>0.028351</td>\n      <td>0.002183</td>\n      <td>0.039499</td>\n    </tr>\n    <tr>\n      <th>color</th>\n      <td>0.285737</td>\n      <td>-0.000943</td>\n      <td>1.000000</td>\n      <td>-0.030010</td>\n      <td>0.048637</td>\n      <td>0.022557</td>\n      <td>0.263915</td>\n      <td>0.255262</td>\n      <td>0.266589</td>\n      <td>0.166340</td>\n    </tr>\n    <tr>\n      <th>clarity</th>\n      <td>-0.213653</td>\n      <td>0.026981</td>\n      <td>-0.030010</td>\n      <td>1.000000</td>\n      <td>-0.054952</td>\n      <td>-0.088440</td>\n      <td>-0.225114</td>\n      <td>-0.215307</td>\n      <td>-0.226675</td>\n      <td>-0.070364</td>\n    </tr>\n    <tr>\n      <th>depth</th>\n      <td>0.029414</td>\n      <td>-0.195392</td>\n      <td>0.048637</td>\n      <td>-0.054952</td>\n      <td>1.000000</td>\n      <td>-0.288987</td>\n      <td>-0.023389</td>\n      <td>-0.027880</td>\n      <td>0.097399</td>\n      <td>-0.009228</td>\n    </tr>\n    <tr>\n      <th>table</th>\n      <td>0.181273</td>\n      <td>0.149833</td>\n      <td>0.022557</td>\n      <td>-0.088440</td>\n      <td>-0.288987</td>\n      <td>1.000000</td>\n      <td>0.193986</td>\n      <td>0.180449</td>\n      <td>0.153175</td>\n      <td>0.127338</td>\n    </tr>\n    <tr>\n      <th>x</th>\n      <td>0.975077</td>\n      <td>0.023399</td>\n      <td>0.263915</td>\n      <td>-0.225114</td>\n      <td>-0.023389</td>\n      <td>0.193986</td>\n      <td>1.000000</td>\n      <td>0.966827</td>\n      <td>0.985080</td>\n      <td>0.883163</td>\n    </tr>\n    <tr>\n      <th>y</th>\n      <td>0.944445</td>\n      <td>0.028351</td>\n      <td>0.255262</td>\n      <td>-0.215307</td>\n      <td>-0.027880</td>\n      <td>0.180449</td>\n      <td>0.966827</td>\n      <td>1.000000</td>\n      <td>0.959957</td>\n      <td>0.857564</td>\n    </tr>\n    <tr>\n      <th>z</th>\n      <td>0.967289</td>\n      <td>0.002183</td>\n      <td>0.266589</td>\n      <td>-0.226675</td>\n      <td>0.097399</td>\n      <td>0.153175</td>\n      <td>0.985080</td>\n      <td>0.959957</td>\n      <td>1.000000</td>\n      <td>0.872855</td>\n    </tr>\n    <tr>\n      <th>price</th>\n      <td>0.921887</td>\n      <td>0.039499</td>\n      <td>0.166340</td>\n      <td>-0.070364</td>\n      <td>-0.009228</td>\n      <td>0.127338</td>\n      <td>0.883163</td>\n      <td>0.857564</td>\n      <td>0.872855</td>\n      <td>1.000000</td>\n    </tr>\n  </tbody>\n</table>\n</div>"
     },
     "metadata": {},
     "execution_count": 91
    }
   ],
   "source": [
    "df.corr()"
   ]
  },
  {
   "cell_type": "code",
   "execution_count": 92,
   "metadata": {},
   "outputs": [],
   "source": [
    "df.drop(\"depth\",inplace=True,axis=1)\n",
    "df.drop(\"table\",inplace=True,axis=1)\n"
   ]
  },
  {
   "cell_type": "code",
   "execution_count": null,
   "metadata": {},
   "outputs": [],
   "source": []
  },
  {
   "cell_type": "markdown",
   "metadata": {},
   "source": [
    "**Importante:**\n",
    "\n",
    "   - Si quitas columnas o creas columnas nuevas a partir de otras, o cualquier modificación column-wise tendrás que aplicarlo al dataset de `diamonds_test.csv` de cara a hacer la predicción.\n",
    "   - Si por lo contrario, decides por ejemplo, quitar los outliers o hacer un `dropna()`, o cualquier modificación row-wise eso NO PODRÁS (ni debes) aplicarlo al dataset de `diamonds_test.csv` de cara a hacer la predicción. ¿Por qué? Porque si el conjunto de test tiene 50 observaciones (filas) la predicción se espera que tenga 50 filas."
   ]
  },
  {
   "cell_type": "markdown",
   "metadata": {},
   "source": [
    "#### ¿Y si lo que hago es estandarizar los datos o hacer un encoding, también se lo tengo que hacer al test antes de predecir?"
   ]
  },
  {
   "cell_type": "markdown",
   "metadata": {},
   "source": [
    "### 1. Definir X e y"
   ]
  },
  {
   "cell_type": "code",
   "execution_count": 93,
   "metadata": {},
   "outputs": [
    {
     "output_type": "execute_result",
     "data": {
      "text/plain": [
       "Index(['carat', 'cut', 'color', 'clarity', 'x', 'y', 'z', 'price'], dtype='object')"
      ]
     },
     "metadata": {},
     "execution_count": 93
    }
   ],
   "source": [
    "df.columns"
   ]
  },
  {
   "cell_type": "code",
   "execution_count": 94,
   "metadata": {},
   "outputs": [
    {
     "output_type": "execute_result",
     "data": {
      "text/plain": [
       "(40345, 7)"
      ]
     },
     "metadata": {},
     "execution_count": 94
    }
   ],
   "source": [
    "# coger las columnas \"x\", \"y\", \"z\" tiene solo valor ilustrativo, NO LO COPIÉIS\n",
    "X = np.array(df[[\"carat\",\"cut\",\"color\",\"clarity\",\"x\",\"y\",\"z\"]])\n",
    "y = np.array(df[\"price\"])\n",
    "X.shape"
   ]
  },
  {
   "cell_type": "code",
   "execution_count": 95,
   "metadata": {},
   "outputs": [
    {
     "output_type": "execute_result",
     "data": {
      "text/plain": [
       "(40345,)"
      ]
     },
     "metadata": {},
     "execution_count": 95
    }
   ],
   "source": [
    "y.shape"
   ]
  },
  {
   "cell_type": "markdown",
   "metadata": {},
   "source": [
    "### 2. Dividir X_train, X_test, y_train, y_test"
   ]
  },
  {
   "cell_type": "code",
   "execution_count": 96,
   "metadata": {},
   "outputs": [],
   "source": [
    "# el test_size 0.20 y el random_state puede cambiar\n",
    "X_train, X_test, y_train, y_test = train_test_split(X, y, test_size = 0.20, random_state = 42)"
   ]
  },
  {
   "cell_type": "code",
   "execution_count": 97,
   "metadata": {},
   "outputs": [
    {
     "output_type": "execute_result",
     "data": {
      "text/plain": [
       "array([[1.09, 4.  , 5.  , ..., 6.5 , 6.55, 4.16],\n",
       "       [0.58, 4.  , 4.  , ..., 5.34, 5.38, 3.31],\n",
       "       [0.32, 3.  , 4.  , ..., 4.41, 4.38, 2.7 ],\n",
       "       ...,\n",
       "       [0.83, 4.  , 5.  , ..., 6.05, 6.07, 3.73],\n",
       "       [1.04, 2.  , 2.  , ..., 6.5 , 6.53, 3.99],\n",
       "       [1.09, 3.  , 2.  , ..., 6.51, 6.56, 4.1 ]])"
      ]
     },
     "metadata": {},
     "execution_count": 97
    }
   ],
   "source": [
    "X_train"
   ]
  },
  {
   "cell_type": "markdown",
   "metadata": {},
   "source": [
    "### 3. Asignar el modelo (vacío) a una variable\n",
    "Aquí meteríais los parámetros. \n",
    "\n",
    "**Consejo**: Usa GridSearch y vuélvete loca o loco probando modelos e hiperparámetros."
   ]
  },
  {
   "cell_type": "code",
   "execution_count": 98,
   "metadata": {},
   "outputs": [],
   "source": [
    "model = LinearRegression()"
   ]
  },
  {
   "cell_type": "markdown",
   "metadata": {},
   "source": [
    "Siempre hay tiempo para una historia:\n",
    "https://catboost.ai/docs/concepts/python-reference_catboostregressor.html"
   ]
  },
  {
   "cell_type": "markdown",
   "metadata": {},
   "source": [
    "### 4. Entrenar el modelo con X_train, y_train"
   ]
  },
  {
   "cell_type": "code",
   "execution_count": 99,
   "metadata": {},
   "outputs": [
    {
     "output_type": "execute_result",
     "data": {
      "text/plain": [
       "LinearRegression()"
      ]
     },
     "metadata": {},
     "execution_count": 99
    }
   ],
   "source": [
    "model.fit(X_train, y_train)"
   ]
  },
  {
   "cell_type": "markdown",
   "metadata": {},
   "source": [
    "### 5. Predecir con el modelo ya entrenado con X_test"
   ]
  },
  {
   "cell_type": "code",
   "execution_count": 100,
   "metadata": {},
   "outputs": [
    {
     "output_type": "stream",
     "name": "stdout",
     "text": [
      "[6629.48196232 4549.14535689  606.58206448 ... 1261.85490612 5234.24736724\n 2886.78183527]\n"
     ]
    }
   ],
   "source": [
    "predictions = model.predict(X_test)\n",
    "print(predictions)"
   ]
  },
  {
   "cell_type": "markdown",
   "metadata": {},
   "source": [
    "### 6. Sacar métricas, valorar el modelo \n",
    "\n",
    "Recuerdo que en la competición se va a evaluar con la métrica de RMSE."
   ]
  },
  {
   "cell_type": "code",
   "execution_count": 101,
   "metadata": {},
   "outputs": [
    {
     "output_type": "execute_result",
     "data": {
      "text/plain": [
       "1344.7215204661898"
      ]
     },
     "metadata": {},
     "execution_count": 101
    }
   ],
   "source": [
    "np.sqrt(mean_squared_error(y_test, predictions))"
   ]
  },
  {
   "cell_type": "markdown",
   "metadata": {},
   "source": [
    "-----------------------------------------------------------------"
   ]
  },
  {
   "cell_type": "markdown",
   "metadata": {},
   "source": [
    "## Una vez listo el modelo, toca predecir con el dataset de predicción "
   ]
  },
  {
   "cell_type": "markdown",
   "metadata": {},
   "source": [
    "Definición de **modelo que está listo**. \n",
    "\n",
    "_Tras hacer suficientes pruebas, analizar los datos, hacer feature engineering, probar diferentes modelos con diferentes parámetros, es con este con el que observo mejores métricas y menos overfitting. ¡Cuidado con el overfitting aquí! Si vuestro modelo aprende muy bien de estos datos pero hay overfitting cuando le pasemos los datos desconocidos de `diamonds_test.csv` nos arriesgamos a que digamos, no salga lo esperado._"
   ]
  },
  {
   "cell_type": "markdown",
   "metadata": {},
   "source": [
    "### 1. Entrena dicho modelo con TODOS tus datos de train, esto es con `diamonds_train.csv` al completo.\n",
    "\n",
    "**CON LAS TRANSFORMACIONES QUE LE HAYAS REALIZADO A `X` INCLUÍDAS.**\n",
    "\n",
    "Véase:\n",
    "- Estandarización/Normalización\n",
    "- Eliminación de Outliers\n",
    "- Eliminación de columnas\n",
    "- Creación de columnas nuevas\n",
    "- Gestión de valores nulos\n",
    "- Y un largo etcétera de técnicas que como Data Scientist hayas considerado las mejores para tu dataset."
   ]
  },
  {
   "cell_type": "markdown",
   "metadata": {},
   "source": [
    "### 2. Carga los datos de `diamonds_test.csv` para predecir.\n",
    "\n",
    "**¿De dónde saco `diamonds_test.csv`?**"
   ]
  },
  {
   "cell_type": "code",
   "execution_count": 102,
   "metadata": {},
   "outputs": [
    {
     "output_type": "execute_result",
     "data": {
      "text/plain": [
       "   carat        cut color clarity  depth  table     x     y     z\n",
       "0   0.30      Ideal     H     SI2   60.0   56.0  4.41  4.43  2.65\n",
       "1   0.34      Ideal     D      IF   62.1   57.0  4.52  4.46  2.79\n",
       "2   1.57  Very Good     I     VS2   60.3   58.0  7.58  7.55  4.56\n",
       "3   0.31      Ideal     H     VS2   61.8   57.0  4.32  4.36  2.68\n",
       "4   1.51       Good     I    VVS1   64.0   60.0  7.26  7.21  4.63"
      ],
      "text/html": "<div>\n<style scoped>\n    .dataframe tbody tr th:only-of-type {\n        vertical-align: middle;\n    }\n\n    .dataframe tbody tr th {\n        vertical-align: top;\n    }\n\n    .dataframe thead th {\n        text-align: right;\n    }\n</style>\n<table border=\"1\" class=\"dataframe\">\n  <thead>\n    <tr style=\"text-align: right;\">\n      <th></th>\n      <th>carat</th>\n      <th>cut</th>\n      <th>color</th>\n      <th>clarity</th>\n      <th>depth</th>\n      <th>table</th>\n      <th>x</th>\n      <th>y</th>\n      <th>z</th>\n    </tr>\n  </thead>\n  <tbody>\n    <tr>\n      <th>0</th>\n      <td>0.30</td>\n      <td>Ideal</td>\n      <td>H</td>\n      <td>SI2</td>\n      <td>60.0</td>\n      <td>56.0</td>\n      <td>4.41</td>\n      <td>4.43</td>\n      <td>2.65</td>\n    </tr>\n    <tr>\n      <th>1</th>\n      <td>0.34</td>\n      <td>Ideal</td>\n      <td>D</td>\n      <td>IF</td>\n      <td>62.1</td>\n      <td>57.0</td>\n      <td>4.52</td>\n      <td>4.46</td>\n      <td>2.79</td>\n    </tr>\n    <tr>\n      <th>2</th>\n      <td>1.57</td>\n      <td>Very Good</td>\n      <td>I</td>\n      <td>VS2</td>\n      <td>60.3</td>\n      <td>58.0</td>\n      <td>7.58</td>\n      <td>7.55</td>\n      <td>4.56</td>\n    </tr>\n    <tr>\n      <th>3</th>\n      <td>0.31</td>\n      <td>Ideal</td>\n      <td>H</td>\n      <td>VS2</td>\n      <td>61.8</td>\n      <td>57.0</td>\n      <td>4.32</td>\n      <td>4.36</td>\n      <td>2.68</td>\n    </tr>\n    <tr>\n      <th>4</th>\n      <td>1.51</td>\n      <td>Good</td>\n      <td>I</td>\n      <td>VVS1</td>\n      <td>64.0</td>\n      <td>60.0</td>\n      <td>7.26</td>\n      <td>7.21</td>\n      <td>4.63</td>\n    </tr>\n  </tbody>\n</table>\n</div>"
     },
     "metadata": {},
     "execution_count": 102
    }
   ],
   "source": [
    "X_pred = pd.read_csv(\"diamonds_test.csv\", index_col = 0)\n",
    "X_pred.head()"
   ]
  },
  {
   "cell_type": "code",
   "execution_count": 103,
   "metadata": {},
   "outputs": [],
   "source": [
    "X_pred.drop(\"depth\",inplace=True,axis=1)\n",
    "X_pred.drop(\"table\",inplace=True,axis=1)\n"
   ]
  },
  {
   "cell_type": "code",
   "execution_count": 104,
   "metadata": {},
   "outputs": [],
   "source": [
    "X_pred[\"clarity\"] = le.fit_transform(X_pred[\"clarity\"])\n",
    "X_pred[\"color\"] = le.fit_transform(X_pred[\"color\"])\n",
    "X_pred[\"cut\"] = le.fit_transform(X_pred[\"cut\"])"
   ]
  },
  {
   "cell_type": "code",
   "execution_count": 106,
   "metadata": {},
   "outputs": [
    {
     "output_type": "execute_result",
     "data": {
      "text/plain": [
       "       carat  cut  color  clarity     x     y     z\n",
       "0       0.30    2      4        3  4.41  4.43  2.65\n",
       "1       0.34    2      0        1  4.52  4.46  2.79\n",
       "2       1.57    4      5        5  7.58  7.55  4.56\n",
       "3       0.31    2      4        5  4.32  4.36  2.68\n",
       "4       1.51    1      5        6  7.26  7.21  4.63\n",
       "...      ...  ...    ...      ...   ...   ...   ...\n",
       "13444   1.05    2      2        3  6.55  6.68  3.99\n",
       "13445   0.27    4      3        4  4.13  4.16  2.56\n",
       "13446   1.50    3      0        5  7.30  7.37  4.53\n",
       "13447   1.70    3      2        3  7.79  7.68  4.66\n",
       "13448   0.30    2      0        5  4.29  4.34  2.64\n",
       "\n",
       "[13449 rows x 7 columns]"
      ],
      "text/html": "<div>\n<style scoped>\n    .dataframe tbody tr th:only-of-type {\n        vertical-align: middle;\n    }\n\n    .dataframe tbody tr th {\n        vertical-align: top;\n    }\n\n    .dataframe thead th {\n        text-align: right;\n    }\n</style>\n<table border=\"1\" class=\"dataframe\">\n  <thead>\n    <tr style=\"text-align: right;\">\n      <th></th>\n      <th>carat</th>\n      <th>cut</th>\n      <th>color</th>\n      <th>clarity</th>\n      <th>x</th>\n      <th>y</th>\n      <th>z</th>\n    </tr>\n  </thead>\n  <tbody>\n    <tr>\n      <th>0</th>\n      <td>0.30</td>\n      <td>2</td>\n      <td>4</td>\n      <td>3</td>\n      <td>4.41</td>\n      <td>4.43</td>\n      <td>2.65</td>\n    </tr>\n    <tr>\n      <th>1</th>\n      <td>0.34</td>\n      <td>2</td>\n      <td>0</td>\n      <td>1</td>\n      <td>4.52</td>\n      <td>4.46</td>\n      <td>2.79</td>\n    </tr>\n    <tr>\n      <th>2</th>\n      <td>1.57</td>\n      <td>4</td>\n      <td>5</td>\n      <td>5</td>\n      <td>7.58</td>\n      <td>7.55</td>\n      <td>4.56</td>\n    </tr>\n    <tr>\n      <th>3</th>\n      <td>0.31</td>\n      <td>2</td>\n      <td>4</td>\n      <td>5</td>\n      <td>4.32</td>\n      <td>4.36</td>\n      <td>2.68</td>\n    </tr>\n    <tr>\n      <th>4</th>\n      <td>1.51</td>\n      <td>1</td>\n      <td>5</td>\n      <td>6</td>\n      <td>7.26</td>\n      <td>7.21</td>\n      <td>4.63</td>\n    </tr>\n    <tr>\n      <th>...</th>\n      <td>...</td>\n      <td>...</td>\n      <td>...</td>\n      <td>...</td>\n      <td>...</td>\n      <td>...</td>\n      <td>...</td>\n    </tr>\n    <tr>\n      <th>13444</th>\n      <td>1.05</td>\n      <td>2</td>\n      <td>2</td>\n      <td>3</td>\n      <td>6.55</td>\n      <td>6.68</td>\n      <td>3.99</td>\n    </tr>\n    <tr>\n      <th>13445</th>\n      <td>0.27</td>\n      <td>4</td>\n      <td>3</td>\n      <td>4</td>\n      <td>4.13</td>\n      <td>4.16</td>\n      <td>2.56</td>\n    </tr>\n    <tr>\n      <th>13446</th>\n      <td>1.50</td>\n      <td>3</td>\n      <td>0</td>\n      <td>5</td>\n      <td>7.30</td>\n      <td>7.37</td>\n      <td>4.53</td>\n    </tr>\n    <tr>\n      <th>13447</th>\n      <td>1.70</td>\n      <td>3</td>\n      <td>2</td>\n      <td>3</td>\n      <td>7.79</td>\n      <td>7.68</td>\n      <td>4.66</td>\n    </tr>\n    <tr>\n      <th>13448</th>\n      <td>0.30</td>\n      <td>2</td>\n      <td>0</td>\n      <td>5</td>\n      <td>4.29</td>\n      <td>4.34</td>\n      <td>2.64</td>\n    </tr>\n  </tbody>\n</table>\n<p>13449 rows × 7 columns</p>\n</div>"
     },
     "metadata": {},
     "execution_count": 106
    }
   ],
   "source": [
    "X_pred = np.array(X_pred[['x','y','z']])"
   ]
  },
  {
   "cell_type": "code",
   "execution_count": 107,
   "metadata": {},
   "outputs": [
    {
     "output_type": "execute_result",
     "data": {
      "text/plain": [
       "(40345, 7)"
      ]
     },
     "metadata": {},
     "execution_count": 107
    }
   ],
   "source": [
    "X.shape"
   ]
  },
  {
   "cell_type": "code",
   "execution_count": 108,
   "metadata": {},
   "outputs": [
    {
     "output_type": "execute_result",
     "data": {
      "text/plain": [
       "(13449, 7)"
      ]
     },
     "metadata": {},
     "execution_count": 108
    }
   ],
   "source": [
    "X_pred.shape"
   ]
  },
  {
   "cell_type": "markdown",
   "metadata": {},
   "source": [
    "**¿Por qué da error?** "
   ]
  },
  {
   "cell_type": "code",
   "execution_count": 109,
   "metadata": {},
   "outputs": [
    {
     "output_type": "execute_result",
     "data": {
      "text/plain": [
       "array([ -600.21889576,   140.05191854, 10137.8535493 , ...,\n",
       "       10894.30078538, 11493.51559385,  1170.68308441])"
      ]
     },
     "metadata": {},
     "execution_count": 109
    }
   ],
   "source": [
    "predictions_submit = model.predict(X_pred)\n",
    "predictions_submit"
   ]
  },
  {
   "cell_type": "markdown",
   "metadata": {},
   "source": [
    "## IMPORTANTE: APLICAR LO MISMO A ESTOS DATOS QUE HAYÁIS APLICADO A LOS DATOS DE ENTRENAMIENTO\n",
    "\n",
    "- SI EL ARRAY CON EL QUE HICISTEIS `.fit()` ERA DE 4 COLUMNAS, PARA `.predict()` DEBEN SER LAS MISMAS\n",
    "- SI AL ARRAY CON EL QUE HICISTEIS `.fit()` LO NORMALIZASTEIS, PARA `.predict()` DEBÉIS NORMALIZARLO\n",
    "- TODO IGUAL SALVO BORRAR FILAS, EL NÚMERO DE ROWS SE DEBE MANTENER EN ESTE SET, PUES LA PREDICCIÓN DEBE TENER 13449 FILAS, SI O SI"
   ]
  },
  {
   "cell_type": "markdown",
   "metadata": {},
   "source": [
    "**Entonces, si al cargar los datos de train usé `index_col=0` para que utilizara la primera columna del conjunto de datos como índice, ¿tendré que hacerlo también para el conjunto `diamonds_test.csv`?**"
   ]
  },
  {
   "cell_type": "code",
   "execution_count": 111,
   "metadata": {},
   "outputs": [],
   "source": [
    "X_pred = np.array(X_pred[[\"carat\",\"cut\",\"color\",\"clarity\",\"x\",\"y\",\"z\"]])"
   ]
  },
  {
   "cell_type": "markdown",
   "metadata": {},
   "source": [
    "Porque:\n",
    "    - SI EL ARRAY CON EL QUE HICISTEIS `.fit()` ERA DE 3 COLUMNAS, PARA `.predict()` DEBEN SER LAS MISMAS"
   ]
  },
  {
   "cell_type": "code",
   "execution_count": 112,
   "metadata": {},
   "outputs": [
    {
     "output_type": "execute_result",
     "data": {
      "text/plain": [
       "array([[0.3 , 2.  , 4.  , ..., 4.41, 4.43, 2.65],\n",
       "       [0.34, 2.  , 0.  , ..., 4.52, 4.46, 2.79],\n",
       "       [1.57, 4.  , 5.  , ..., 7.58, 7.55, 4.56],\n",
       "       ...,\n",
       "       [1.5 , 3.  , 0.  , ..., 7.3 , 7.37, 4.53],\n",
       "       [1.7 , 3.  , 2.  , ..., 7.79, 7.68, 4.66],\n",
       "       [0.3 , 2.  , 0.  , ..., 4.29, 4.34, 2.64]])"
      ]
     },
     "metadata": {},
     "execution_count": 112
    }
   ],
   "source": [
    "X_pred"
   ]
  },
  {
   "cell_type": "markdown",
   "metadata": {},
   "source": [
    "### 3. AHORA puedo hacer la predicción que será lo que subirás a Kaggle. "
   ]
  },
  {
   "cell_type": "markdown",
   "metadata": {},
   "source": [
    "**¿Qué es lo que subirás a Kaggle?**"
   ]
  },
  {
   "cell_type": "code",
   "execution_count": 113,
   "metadata": {},
   "outputs": [],
   "source": [
    "# respuestas"
   ]
  },
  {
   "cell_type": "code",
   "execution_count": 114,
   "metadata": {},
   "outputs": [
    {
     "output_type": "execute_result",
     "data": {
      "text/plain": [
       "array([ -600.21889576,   140.05191854, 10137.8535493 , ...,\n",
       "       10894.30078538, 11493.51559385,  1170.68308441])"
      ]
     },
     "metadata": {},
     "execution_count": 114
    }
   ],
   "source": [
    "predictions_submit = model.predict(X_pred)\n",
    "predictions_submit"
   ]
  },
  {
   "cell_type": "markdown",
   "metadata": {},
   "source": [
    "**¡PERO! Para subir a Kaggle la predicción, ésta tendrá que tener una forma específica y no valdrá otra.**\n",
    "\n",
    "En este caso, la **MISMA** forma que `sample_submission.csv`. "
   ]
  },
  {
   "cell_type": "markdown",
   "metadata": {},
   "source": [
    "**¿De dónde saco `sample_submission.csv`?**"
   ]
  },
  {
   "cell_type": "code",
   "execution_count": 115,
   "metadata": {},
   "outputs": [],
   "source": [
    "sample = pd.read_csv(\"sample_submission.csv\")"
   ]
  },
  {
   "cell_type": "code",
   "execution_count": 116,
   "metadata": {},
   "outputs": [
    {
     "output_type": "execute_result",
     "data": {
      "text/plain": [
       "   id  price\n",
       "0   0  12132\n",
       "1   1  11786\n",
       "2   2  14684\n",
       "3   3  15425\n",
       "4   4   6724"
      ],
      "text/html": "<div>\n<style scoped>\n    .dataframe tbody tr th:only-of-type {\n        vertical-align: middle;\n    }\n\n    .dataframe tbody tr th {\n        vertical-align: top;\n    }\n\n    .dataframe thead th {\n        text-align: right;\n    }\n</style>\n<table border=\"1\" class=\"dataframe\">\n  <thead>\n    <tr style=\"text-align: right;\">\n      <th></th>\n      <th>id</th>\n      <th>price</th>\n    </tr>\n  </thead>\n  <tbody>\n    <tr>\n      <th>0</th>\n      <td>0</td>\n      <td>12132</td>\n    </tr>\n    <tr>\n      <th>1</th>\n      <td>1</td>\n      <td>11786</td>\n    </tr>\n    <tr>\n      <th>2</th>\n      <td>2</td>\n      <td>14684</td>\n    </tr>\n    <tr>\n      <th>3</th>\n      <td>3</td>\n      <td>15425</td>\n    </tr>\n    <tr>\n      <th>4</th>\n      <td>4</td>\n      <td>6724</td>\n    </tr>\n  </tbody>\n</table>\n</div>"
     },
     "metadata": {},
     "execution_count": 116
    }
   ],
   "source": [
    "sample.head()"
   ]
  },
  {
   "cell_type": "code",
   "execution_count": 117,
   "metadata": {},
   "outputs": [
    {
     "output_type": "execute_result",
     "data": {
      "text/plain": [
       "(13449, 2)"
      ]
     },
     "metadata": {},
     "execution_count": 117
    }
   ],
   "source": [
    "sample.shape"
   ]
  },
  {
   "cell_type": "markdown",
   "metadata": {},
   "source": [
    "### 4. Mete tus predicciones en un dataframe. \n",
    "\n",
    "En este caso, la **MISMA** forma que `sample_submission.csv`. "
   ]
  },
  {
   "cell_type": "code",
   "execution_count": 118,
   "metadata": {},
   "outputs": [],
   "source": [
    "submission = pd.DataFrame({\"id\": range(len(predictions_submit)), \"price\": predictions_submit})"
   ]
  },
  {
   "cell_type": "code",
   "execution_count": 119,
   "metadata": {},
   "outputs": [
    {
     "output_type": "execute_result",
     "data": {
      "text/plain": [
       "   id         price\n",
       "0   0   -600.218896\n",
       "1   1    140.051919\n",
       "2   2  10137.853549\n",
       "3   3    147.132992\n",
       "4   4   9770.037988"
      ],
      "text/html": "<div>\n<style scoped>\n    .dataframe tbody tr th:only-of-type {\n        vertical-align: middle;\n    }\n\n    .dataframe tbody tr th {\n        vertical-align: top;\n    }\n\n    .dataframe thead th {\n        text-align: right;\n    }\n</style>\n<table border=\"1\" class=\"dataframe\">\n  <thead>\n    <tr style=\"text-align: right;\">\n      <th></th>\n      <th>id</th>\n      <th>price</th>\n    </tr>\n  </thead>\n  <tbody>\n    <tr>\n      <th>0</th>\n      <td>0</td>\n      <td>-600.218896</td>\n    </tr>\n    <tr>\n      <th>1</th>\n      <td>1</td>\n      <td>140.051919</td>\n    </tr>\n    <tr>\n      <th>2</th>\n      <td>2</td>\n      <td>10137.853549</td>\n    </tr>\n    <tr>\n      <th>3</th>\n      <td>3</td>\n      <td>147.132992</td>\n    </tr>\n    <tr>\n      <th>4</th>\n      <td>4</td>\n      <td>9770.037988</td>\n    </tr>\n  </tbody>\n</table>\n</div>"
     },
     "metadata": {},
     "execution_count": 119
    }
   ],
   "source": [
    "submission.head()"
   ]
  },
  {
   "cell_type": "code",
   "execution_count": 120,
   "metadata": {},
   "outputs": [
    {
     "output_type": "execute_result",
     "data": {
      "text/plain": [
       "(13449, 2)"
      ]
     },
     "metadata": {},
     "execution_count": 120
    }
   ],
   "source": [
    "submission.shape"
   ]
  },
  {
   "cell_type": "markdown",
   "metadata": {},
   "source": [
    "### 5. Pásale el CHEQUEATOR para comprobar que efectivamente está listo para subir a Kaggle."
   ]
  },
  {
   "cell_type": "code",
   "execution_count": 121,
   "metadata": {},
   "outputs": [],
   "source": [
    "def chequeator(df_to_submit):\n",
    "    \"\"\"\n",
    "    Esta función se asegura de que tu submission tenga la forma requerida por Kaggle.\n",
    "    \n",
    "    Si es así, se guardará el dataframe en un `csv` y estará listo para subir a Kaggle.\n",
    "    \n",
    "    Si no, LEE EL MENSAJE Y HAZLE CASO.\n",
    "    \n",
    "    Si aún no:\n",
    "    - apaga tu ordenador, \n",
    "    - date una vuelta, \n",
    "    - enciendelo otra vez, \n",
    "    - abre este notebook y \n",
    "    - leelo todo de nuevo. \n",
    "    Todos nos merecemos una segunda oportunidad. También tú.\n",
    "    \"\"\"\n",
    "    if df_to_submit.shape == sample.shape:\n",
    "        if df_to_submit.columns.all() == sample.columns.all():\n",
    "            if df_to_submit.id.all() == sample.id.all():\n",
    "                print(\"You're ready to submit!\")\n",
    "                submission.to_csv(\"submission.csv\", index = False) #muy importante el index = False\n",
    "                urllib.request.urlretrieve(\"https://i.kym-cdn.com/photos/images/facebook/000/747/556/27a.jpg\", \"gfg.png\")     \n",
    "                img = Image.open(\"gfg.png\")\n",
    "                img.show()   \n",
    "            else:\n",
    "                print(\"Check the ids and try again\")\n",
    "        else:\n",
    "            print(\"Check the names of the columns and try again\")\n",
    "    else:\n",
    "        print(\"Check the number of rows and/or columns and try again\")\n",
    "        print(\"\\nMensaje secreto de Clara: No me puedo creer que después de todo este notebook hayas hecho algún cambio en las filas de `diamonds_test.csv`. Lloro.\")\n"
   ]
  },
  {
   "cell_type": "code",
   "execution_count": 122,
   "metadata": {},
   "outputs": [
    {
     "output_type": "stream",
     "name": "stdout",
     "text": [
      "Help on function chequeator in module __main__:\n\nchequeator(df_to_submit)\n    Esta función se asegura de que tu submission tenga la forma requerida por Kaggle.\n    \n    Si es así, se guardará el dataframe en un `csv` y estará listo para subir a Kaggle.\n    \n    Si no, LEE EL MENSAJE Y HAZLE CASO.\n    \n    Si aún no:\n    - apaga tu ordenador, \n    - date una vuelta, \n    - enciendelo otra vez, \n    - abre este notebook y \n    - leelo todo de nuevo. \n    Todos nos merecemos una segunda oportunidad. También tú.\n\n"
     ]
    }
   ],
   "source": [
    "help(chequeator)"
   ]
  },
  {
   "cell_type": "code",
   "execution_count": 123,
   "metadata": {},
   "outputs": [
    {
     "output_type": "stream",
     "name": "stdout",
     "text": [
      "You're ready to submit!\n"
     ]
    }
   ],
   "source": [
    "chequeator(submission)"
   ]
  },
  {
   "cell_type": "code",
   "execution_count": null,
   "metadata": {},
   "outputs": [],
   "source": []
  }
 ],
 "metadata": {
  "kernelspec": {
   "name": "python3",
   "display_name": "Python 3.7.4 64-bit"
  },
  "language_info": {
   "codemirror_mode": {
    "name": "ipython",
    "version": 3
   },
   "file_extension": ".py",
   "mimetype": "text/x-python",
   "name": "python",
   "nbconvert_exporter": "python",
   "pygments_lexer": "ipython3",
   "version": "3.7.4"
  },
  "interpreter": {
   "hash": "182e3b849e87c789b13dcf4169d6d9922ca2e40dd3044e82b295bff17932e6e2"
  }
 },
 "nbformat": 4,
 "nbformat_minor": 4
}