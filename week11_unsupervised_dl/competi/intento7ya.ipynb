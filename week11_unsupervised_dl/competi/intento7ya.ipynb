{
 "cells": [
  {
   "cell_type": "markdown",
   "metadata": {},
   "source": [
    "![image](competi.png)"
   ]
  },
  {
   "cell_type": "markdown",
   "metadata": {},
   "source": [
    "#### Aquí encontrarás todo lo que necesitas saber: https://www.kaggle.com/t/ab8726f0cfc84544abbae69a6be88071"
   ]
  },
  {
   "cell_type": "code",
   "execution_count": 1,
   "metadata": {},
   "outputs": [],
   "source": [
    "import numpy as np\n",
    "import pandas as pd\n",
    "\n",
    "import urllib.request\n",
    "from PIL import Image\n",
    "\n",
    "from sklearn.linear_model import LinearRegression\n",
    "from sklearn.model_selection import train_test_split\n",
    "from sklearn.metrics import mean_squared_error,r2_score\n",
    "from sklearn.preprocessing import LabelEncoder\n",
    "from sklearn.svm import SVR\n",
    "from sklearn import svm\n",
    "import pandas as pd \n",
    "import numpy as np\n",
    "from sklearn.decomposition import PCA\n",
    "from sklearn.cluster import KMeans\n",
    "import matplotlib.pyplot as plt \n",
    "from sklearn import metrics\n",
    "import seaborn as sns"
   ]
  },
  {
   "cell_type": "code",
   "execution_count": 6,
   "metadata": {},
   "outputs": [
    {
     "output_type": "execute_result",
     "data": {
      "text/plain": [
       "            0   1  2   3  4  5           6  7  8    9      10    11  \\\n",
       "0      161528   6  a   6  X  2  gynecology  R  F  4.0   45810   2.0   \n",
       "1      159472  23  a   6  X  4  gynecology  Q  F  2.0  128565  15.0   \n",
       "2      309765   2  c   5  Z  2  anesthesia  S  F  3.0   46565   5.0   \n",
       "3      279614  32  f   9  Y  3  gynecology  S  B  4.0  124546   6.0   \n",
       "4      147791  14  a   1  X  3  gynecology  S  E  2.0   22729   8.0   \n",
       "...       ...  .. ..  .. .. ..         ... .. ..  ...     ...   ...   \n",
       "99995  237869  12  a   9  Y  3  gynecology  R  B  3.0   82914   3.0   \n",
       "99996  254763  28  b  11  X  2  gynecology  R  F  2.0   40026   5.0   \n",
       "99997   69788   6  a   6  X  3  gynecology  Q  F  3.0   92346   2.0   \n",
       "99998  204442  32  f   9  Y  2  gynecology  S  B  4.0  113798  15.0   \n",
       "99999   69647  25  e   1  X  3  gynecology  Q  E  2.0  109237   8.0   \n",
       "\n",
       "              12        13  14     15      16                  17  \n",
       "0         Urgent  Moderate   2  21-30  2817.0                0-10  \n",
       "1         Trauma  Moderate   4  51-60  4498.0               21-30  \n",
       "2         Urgent  Moderate   2  71-80  4573.0               11-20  \n",
       "3      Emergency  Moderate   4  11-20  7202.0               51-60  \n",
       "4         Urgent  Moderate   2  51-60  3398.0               51-60  \n",
       "...          ...       ...  ..    ...     ...                 ...  \n",
       "99995  Emergency  Moderate   6  51-60  3966.0  More than 100 Days  \n",
       "99996     Urgent  Moderate   3  21-30  4005.0               51-60  \n",
       "99997     Trauma     Minor   2  31-40  5215.0               31-40  \n",
       "99998     Trauma  Moderate   3  41-50  5092.0               11-20  \n",
       "99999  Emergency  Moderate   2  41-50  3390.0               41-50  \n",
       "\n",
       "[100000 rows x 18 columns]"
      ],
      "text/html": "<div>\n<style scoped>\n    .dataframe tbody tr th:only-of-type {\n        vertical-align: middle;\n    }\n\n    .dataframe tbody tr th {\n        vertical-align: top;\n    }\n\n    .dataframe thead th {\n        text-align: right;\n    }\n</style>\n<table border=\"1\" class=\"dataframe\">\n  <thead>\n    <tr style=\"text-align: right;\">\n      <th></th>\n      <th>0</th>\n      <th>1</th>\n      <th>2</th>\n      <th>3</th>\n      <th>4</th>\n      <th>5</th>\n      <th>6</th>\n      <th>7</th>\n      <th>8</th>\n      <th>9</th>\n      <th>10</th>\n      <th>11</th>\n      <th>12</th>\n      <th>13</th>\n      <th>14</th>\n      <th>15</th>\n      <th>16</th>\n      <th>17</th>\n    </tr>\n  </thead>\n  <tbody>\n    <tr>\n      <th>0</th>\n      <td>161528</td>\n      <td>6</td>\n      <td>a</td>\n      <td>6</td>\n      <td>X</td>\n      <td>2</td>\n      <td>gynecology</td>\n      <td>R</td>\n      <td>F</td>\n      <td>4.0</td>\n      <td>45810</td>\n      <td>2.0</td>\n      <td>Urgent</td>\n      <td>Moderate</td>\n      <td>2</td>\n      <td>21-30</td>\n      <td>2817.0</td>\n      <td>0-10</td>\n    </tr>\n    <tr>\n      <th>1</th>\n      <td>159472</td>\n      <td>23</td>\n      <td>a</td>\n      <td>6</td>\n      <td>X</td>\n      <td>4</td>\n      <td>gynecology</td>\n      <td>Q</td>\n      <td>F</td>\n      <td>2.0</td>\n      <td>128565</td>\n      <td>15.0</td>\n      <td>Trauma</td>\n      <td>Moderate</td>\n      <td>4</td>\n      <td>51-60</td>\n      <td>4498.0</td>\n      <td>21-30</td>\n    </tr>\n    <tr>\n      <th>2</th>\n      <td>309765</td>\n      <td>2</td>\n      <td>c</td>\n      <td>5</td>\n      <td>Z</td>\n      <td>2</td>\n      <td>anesthesia</td>\n      <td>S</td>\n      <td>F</td>\n      <td>3.0</td>\n      <td>46565</td>\n      <td>5.0</td>\n      <td>Urgent</td>\n      <td>Moderate</td>\n      <td>2</td>\n      <td>71-80</td>\n      <td>4573.0</td>\n      <td>11-20</td>\n    </tr>\n    <tr>\n      <th>3</th>\n      <td>279614</td>\n      <td>32</td>\n      <td>f</td>\n      <td>9</td>\n      <td>Y</td>\n      <td>3</td>\n      <td>gynecology</td>\n      <td>S</td>\n      <td>B</td>\n      <td>4.0</td>\n      <td>124546</td>\n      <td>6.0</td>\n      <td>Emergency</td>\n      <td>Moderate</td>\n      <td>4</td>\n      <td>11-20</td>\n      <td>7202.0</td>\n      <td>51-60</td>\n    </tr>\n    <tr>\n      <th>4</th>\n      <td>147791</td>\n      <td>14</td>\n      <td>a</td>\n      <td>1</td>\n      <td>X</td>\n      <td>3</td>\n      <td>gynecology</td>\n      <td>S</td>\n      <td>E</td>\n      <td>2.0</td>\n      <td>22729</td>\n      <td>8.0</td>\n      <td>Urgent</td>\n      <td>Moderate</td>\n      <td>2</td>\n      <td>51-60</td>\n      <td>3398.0</td>\n      <td>51-60</td>\n    </tr>\n    <tr>\n      <th>...</th>\n      <td>...</td>\n      <td>...</td>\n      <td>...</td>\n      <td>...</td>\n      <td>...</td>\n      <td>...</td>\n      <td>...</td>\n      <td>...</td>\n      <td>...</td>\n      <td>...</td>\n      <td>...</td>\n      <td>...</td>\n      <td>...</td>\n      <td>...</td>\n      <td>...</td>\n      <td>...</td>\n      <td>...</td>\n      <td>...</td>\n    </tr>\n    <tr>\n      <th>99995</th>\n      <td>237869</td>\n      <td>12</td>\n      <td>a</td>\n      <td>9</td>\n      <td>Y</td>\n      <td>3</td>\n      <td>gynecology</td>\n      <td>R</td>\n      <td>B</td>\n      <td>3.0</td>\n      <td>82914</td>\n      <td>3.0</td>\n      <td>Emergency</td>\n      <td>Moderate</td>\n      <td>6</td>\n      <td>51-60</td>\n      <td>3966.0</td>\n      <td>More than 100 Days</td>\n    </tr>\n    <tr>\n      <th>99996</th>\n      <td>254763</td>\n      <td>28</td>\n      <td>b</td>\n      <td>11</td>\n      <td>X</td>\n      <td>2</td>\n      <td>gynecology</td>\n      <td>R</td>\n      <td>F</td>\n      <td>2.0</td>\n      <td>40026</td>\n      <td>5.0</td>\n      <td>Urgent</td>\n      <td>Moderate</td>\n      <td>3</td>\n      <td>21-30</td>\n      <td>4005.0</td>\n      <td>51-60</td>\n    </tr>\n    <tr>\n      <th>99997</th>\n      <td>69788</td>\n      <td>6</td>\n      <td>a</td>\n      <td>6</td>\n      <td>X</td>\n      <td>3</td>\n      <td>gynecology</td>\n      <td>Q</td>\n      <td>F</td>\n      <td>3.0</td>\n      <td>92346</td>\n      <td>2.0</td>\n      <td>Trauma</td>\n      <td>Minor</td>\n      <td>2</td>\n      <td>31-40</td>\n      <td>5215.0</td>\n      <td>31-40</td>\n    </tr>\n    <tr>\n      <th>99998</th>\n      <td>204442</td>\n      <td>32</td>\n      <td>f</td>\n      <td>9</td>\n      <td>Y</td>\n      <td>2</td>\n      <td>gynecology</td>\n      <td>S</td>\n      <td>B</td>\n      <td>4.0</td>\n      <td>113798</td>\n      <td>15.0</td>\n      <td>Trauma</td>\n      <td>Moderate</td>\n      <td>3</td>\n      <td>41-50</td>\n      <td>5092.0</td>\n      <td>11-20</td>\n    </tr>\n    <tr>\n      <th>99999</th>\n      <td>69647</td>\n      <td>25</td>\n      <td>e</td>\n      <td>1</td>\n      <td>X</td>\n      <td>3</td>\n      <td>gynecology</td>\n      <td>Q</td>\n      <td>E</td>\n      <td>2.0</td>\n      <td>109237</td>\n      <td>8.0</td>\n      <td>Emergency</td>\n      <td>Moderate</td>\n      <td>2</td>\n      <td>41-50</td>\n      <td>3390.0</td>\n      <td>41-50</td>\n    </tr>\n  </tbody>\n</table>\n<p>100000 rows × 18 columns</p>\n</div>"
     },
     "metadata": {},
     "execution_count": 6
    }
   ],
   "source": [
    "### Para que funcione necesitas bajarte los archivos de datos de Kaggle \n",
    "df = pd.read_csv(\"hospital_train.csv\")\n",
    "df"
   ]
  },
  {
   "cell_type": "code",
   "execution_count": 7,
   "metadata": {},
   "outputs": [],
   "source": [
    "df.drop([\"1\",\"2\"],axis=1,inplace=True)"
   ]
  },
  {
   "cell_type": "code",
   "execution_count": 8,
   "metadata": {},
   "outputs": [
    {
     "output_type": "execute_result",
     "data": {
      "text/plain": [
       "                        0      3      4      5      6      7      8      9  \\\n",
       "17                                                                           \n",
       "0-10                 7427   7427   7427   7427   7427   7427   7427   7426   \n",
       "11-20               24476  24476  24476  24476  24476  24476  24476  24469   \n",
       "21-30               27452  27452  27452  27452  27452  27452  27452  27444   \n",
       "31-40               17311  17311  17311  17311  17311  17311  17311  17303   \n",
       "41-50                3668   3668   3668   3668   3668   3668   3668   3665   \n",
       "51-60               10984  10984  10984  10984  10984  10984  10984  10980   \n",
       "61-70                 857    857    857    857    857    857    857    857   \n",
       "71-80                3297   3297   3297   3297   3297   3297   3297   3295   \n",
       "81-90                1470   1470   1470   1470   1470   1470   1470   1470   \n",
       "91-100                908    908    908    908    908    908    908    908   \n",
       "More than 100 Days   2150   2150   2150   2150   2150   2150   2150   2150   \n",
       "\n",
       "                       10     11     12     13     14     15     16  \n",
       "17                                                                   \n",
       "0-10                 7427   7306   7427   7427   7427   7427   7427  \n",
       "11-20               24476  24150  24476  24476  24476  24476  24476  \n",
       "21-30               27452  27065  27452  27452  27452  27452  27452  \n",
       "31-40               17311  17050  17311  17311  17311  17311  17311  \n",
       "41-50                3668   3602   3668   3668   3668   3668   3668  \n",
       "51-60               10984  10817  10984  10984  10984  10984  10984  \n",
       "61-70                 857    842    857    857    857    857    857  \n",
       "71-80                3297   3245   3297   3297   3297   3297   3297  \n",
       "81-90                1470   1447   1470   1470   1470   1470   1470  \n",
       "91-100                908    893    908    908    908    908    908  \n",
       "More than 100 Days   2150   2100   2150   2150   2150   2150   2150  "
      ],
      "text/html": "<div>\n<style scoped>\n    .dataframe tbody tr th:only-of-type {\n        vertical-align: middle;\n    }\n\n    .dataframe tbody tr th {\n        vertical-align: top;\n    }\n\n    .dataframe thead th {\n        text-align: right;\n    }\n</style>\n<table border=\"1\" class=\"dataframe\">\n  <thead>\n    <tr style=\"text-align: right;\">\n      <th></th>\n      <th>0</th>\n      <th>3</th>\n      <th>4</th>\n      <th>5</th>\n      <th>6</th>\n      <th>7</th>\n      <th>8</th>\n      <th>9</th>\n      <th>10</th>\n      <th>11</th>\n      <th>12</th>\n      <th>13</th>\n      <th>14</th>\n      <th>15</th>\n      <th>16</th>\n    </tr>\n    <tr>\n      <th>17</th>\n      <th></th>\n      <th></th>\n      <th></th>\n      <th></th>\n      <th></th>\n      <th></th>\n      <th></th>\n      <th></th>\n      <th></th>\n      <th></th>\n      <th></th>\n      <th></th>\n      <th></th>\n      <th></th>\n      <th></th>\n    </tr>\n  </thead>\n  <tbody>\n    <tr>\n      <th>0-10</th>\n      <td>7427</td>\n      <td>7427</td>\n      <td>7427</td>\n      <td>7427</td>\n      <td>7427</td>\n      <td>7427</td>\n      <td>7427</td>\n      <td>7426</td>\n      <td>7427</td>\n      <td>7306</td>\n      <td>7427</td>\n      <td>7427</td>\n      <td>7427</td>\n      <td>7427</td>\n      <td>7427</td>\n    </tr>\n    <tr>\n      <th>11-20</th>\n      <td>24476</td>\n      <td>24476</td>\n      <td>24476</td>\n      <td>24476</td>\n      <td>24476</td>\n      <td>24476</td>\n      <td>24476</td>\n      <td>24469</td>\n      <td>24476</td>\n      <td>24150</td>\n      <td>24476</td>\n      <td>24476</td>\n      <td>24476</td>\n      <td>24476</td>\n      <td>24476</td>\n    </tr>\n    <tr>\n      <th>21-30</th>\n      <td>27452</td>\n      <td>27452</td>\n      <td>27452</td>\n      <td>27452</td>\n      <td>27452</td>\n      <td>27452</td>\n      <td>27452</td>\n      <td>27444</td>\n      <td>27452</td>\n      <td>27065</td>\n      <td>27452</td>\n      <td>27452</td>\n      <td>27452</td>\n      <td>27452</td>\n      <td>27452</td>\n    </tr>\n    <tr>\n      <th>31-40</th>\n      <td>17311</td>\n      <td>17311</td>\n      <td>17311</td>\n      <td>17311</td>\n      <td>17311</td>\n      <td>17311</td>\n      <td>17311</td>\n      <td>17303</td>\n      <td>17311</td>\n      <td>17050</td>\n      <td>17311</td>\n      <td>17311</td>\n      <td>17311</td>\n      <td>17311</td>\n      <td>17311</td>\n    </tr>\n    <tr>\n      <th>41-50</th>\n      <td>3668</td>\n      <td>3668</td>\n      <td>3668</td>\n      <td>3668</td>\n      <td>3668</td>\n      <td>3668</td>\n      <td>3668</td>\n      <td>3665</td>\n      <td>3668</td>\n      <td>3602</td>\n      <td>3668</td>\n      <td>3668</td>\n      <td>3668</td>\n      <td>3668</td>\n      <td>3668</td>\n    </tr>\n    <tr>\n      <th>51-60</th>\n      <td>10984</td>\n      <td>10984</td>\n      <td>10984</td>\n      <td>10984</td>\n      <td>10984</td>\n      <td>10984</td>\n      <td>10984</td>\n      <td>10980</td>\n      <td>10984</td>\n      <td>10817</td>\n      <td>10984</td>\n      <td>10984</td>\n      <td>10984</td>\n      <td>10984</td>\n      <td>10984</td>\n    </tr>\n    <tr>\n      <th>61-70</th>\n      <td>857</td>\n      <td>857</td>\n      <td>857</td>\n      <td>857</td>\n      <td>857</td>\n      <td>857</td>\n      <td>857</td>\n      <td>857</td>\n      <td>857</td>\n      <td>842</td>\n      <td>857</td>\n      <td>857</td>\n      <td>857</td>\n      <td>857</td>\n      <td>857</td>\n    </tr>\n    <tr>\n      <th>71-80</th>\n      <td>3297</td>\n      <td>3297</td>\n      <td>3297</td>\n      <td>3297</td>\n      <td>3297</td>\n      <td>3297</td>\n      <td>3297</td>\n      <td>3295</td>\n      <td>3297</td>\n      <td>3245</td>\n      <td>3297</td>\n      <td>3297</td>\n      <td>3297</td>\n      <td>3297</td>\n      <td>3297</td>\n    </tr>\n    <tr>\n      <th>81-90</th>\n      <td>1470</td>\n      <td>1470</td>\n      <td>1470</td>\n      <td>1470</td>\n      <td>1470</td>\n      <td>1470</td>\n      <td>1470</td>\n      <td>1470</td>\n      <td>1470</td>\n      <td>1447</td>\n      <td>1470</td>\n      <td>1470</td>\n      <td>1470</td>\n      <td>1470</td>\n      <td>1470</td>\n    </tr>\n    <tr>\n      <th>91-100</th>\n      <td>908</td>\n      <td>908</td>\n      <td>908</td>\n      <td>908</td>\n      <td>908</td>\n      <td>908</td>\n      <td>908</td>\n      <td>908</td>\n      <td>908</td>\n      <td>893</td>\n      <td>908</td>\n      <td>908</td>\n      <td>908</td>\n      <td>908</td>\n      <td>908</td>\n    </tr>\n    <tr>\n      <th>More than 100 Days</th>\n      <td>2150</td>\n      <td>2150</td>\n      <td>2150</td>\n      <td>2150</td>\n      <td>2150</td>\n      <td>2150</td>\n      <td>2150</td>\n      <td>2150</td>\n      <td>2150</td>\n      <td>2100</td>\n      <td>2150</td>\n      <td>2150</td>\n      <td>2150</td>\n      <td>2150</td>\n      <td>2150</td>\n    </tr>\n  </tbody>\n</table>\n</div>"
     },
     "metadata": {},
     "execution_count": 8
    }
   ],
   "source": [
    "df.groupby(\"17\").count()"
   ]
  },
  {
   "cell_type": "code",
   "execution_count": 9,
   "metadata": {},
   "outputs": [
    {
     "output_type": "execute_result",
     "data": {
      "text/plain": [
       "           0         3         5         9        10        11        14  \\\n",
       "0   1.000000 -0.012569  0.044390  0.012169 -0.005268  0.065421 -0.000304   \n",
       "3  -0.012569  1.000000 -0.043746 -0.048573 -0.004483 -0.027284  0.021327   \n",
       "5   0.044390 -0.043746  1.000000 -0.118375  0.005043 -0.010412  0.091744   \n",
       "9   0.012169 -0.048573 -0.118375  1.000000  0.005770 -0.010966  0.093038   \n",
       "10 -0.005268 -0.004483  0.005043  0.005770  1.000000  0.006760  0.007707   \n",
       "11  0.065421 -0.027284 -0.010412 -0.010966  0.006760  1.000000 -0.008242   \n",
       "14 -0.000304  0.021327  0.091744  0.093038  0.007707 -0.008242  1.000000   \n",
       "16 -0.043202 -0.033820 -0.141999  0.071130 -0.001891  0.025461 -0.152946   \n",
       "\n",
       "          16  \n",
       "0  -0.043202  \n",
       "3  -0.033820  \n",
       "5  -0.141999  \n",
       "9   0.071130  \n",
       "10 -0.001891  \n",
       "11  0.025461  \n",
       "14 -0.152946  \n",
       "16  1.000000  "
      ],
      "text/html": "<div>\n<style scoped>\n    .dataframe tbody tr th:only-of-type {\n        vertical-align: middle;\n    }\n\n    .dataframe tbody tr th {\n        vertical-align: top;\n    }\n\n    .dataframe thead th {\n        text-align: right;\n    }\n</style>\n<table border=\"1\" class=\"dataframe\">\n  <thead>\n    <tr style=\"text-align: right;\">\n      <th></th>\n      <th>0</th>\n      <th>3</th>\n      <th>5</th>\n      <th>9</th>\n      <th>10</th>\n      <th>11</th>\n      <th>14</th>\n      <th>16</th>\n    </tr>\n  </thead>\n  <tbody>\n    <tr>\n      <th>0</th>\n      <td>1.000000</td>\n      <td>-0.012569</td>\n      <td>0.044390</td>\n      <td>0.012169</td>\n      <td>-0.005268</td>\n      <td>0.065421</td>\n      <td>-0.000304</td>\n      <td>-0.043202</td>\n    </tr>\n    <tr>\n      <th>3</th>\n      <td>-0.012569</td>\n      <td>1.000000</td>\n      <td>-0.043746</td>\n      <td>-0.048573</td>\n      <td>-0.004483</td>\n      <td>-0.027284</td>\n      <td>0.021327</td>\n      <td>-0.033820</td>\n    </tr>\n    <tr>\n      <th>5</th>\n      <td>0.044390</td>\n      <td>-0.043746</td>\n      <td>1.000000</td>\n      <td>-0.118375</td>\n      <td>0.005043</td>\n      <td>-0.010412</td>\n      <td>0.091744</td>\n      <td>-0.141999</td>\n    </tr>\n    <tr>\n      <th>9</th>\n      <td>0.012169</td>\n      <td>-0.048573</td>\n      <td>-0.118375</td>\n      <td>1.000000</td>\n      <td>0.005770</td>\n      <td>-0.010966</td>\n      <td>0.093038</td>\n      <td>0.071130</td>\n    </tr>\n    <tr>\n      <th>10</th>\n      <td>-0.005268</td>\n      <td>-0.004483</td>\n      <td>0.005043</td>\n      <td>0.005770</td>\n      <td>1.000000</td>\n      <td>0.006760</td>\n      <td>0.007707</td>\n      <td>-0.001891</td>\n    </tr>\n    <tr>\n      <th>11</th>\n      <td>0.065421</td>\n      <td>-0.027284</td>\n      <td>-0.010412</td>\n      <td>-0.010966</td>\n      <td>0.006760</td>\n      <td>1.000000</td>\n      <td>-0.008242</td>\n      <td>0.025461</td>\n    </tr>\n    <tr>\n      <th>14</th>\n      <td>-0.000304</td>\n      <td>0.021327</td>\n      <td>0.091744</td>\n      <td>0.093038</td>\n      <td>0.007707</td>\n      <td>-0.008242</td>\n      <td>1.000000</td>\n      <td>-0.152946</td>\n    </tr>\n    <tr>\n      <th>16</th>\n      <td>-0.043202</td>\n      <td>-0.033820</td>\n      <td>-0.141999</td>\n      <td>0.071130</td>\n      <td>-0.001891</td>\n      <td>0.025461</td>\n      <td>-0.152946</td>\n      <td>1.000000</td>\n    </tr>\n  </tbody>\n</table>\n</div>"
     },
     "metadata": {},
     "execution_count": 9
    }
   ],
   "source": [
    "df.corr()"
   ]
  },
  {
   "cell_type": "code",
   "execution_count": 23,
   "metadata": {},
   "outputs": [
    {
     "output_type": "stream",
     "name": "stdout",
     "text": [
      "<class 'pandas.core.frame.DataFrame'>\nRangeIndex: 100000 entries, 0 to 99999\nData columns (total 16 columns):\n #   Column  Non-Null Count   Dtype  \n---  ------  --------------   -----  \n 0   0       100000 non-null  int64  \n 1   3       100000 non-null  int64  \n 2   4       100000 non-null  object \n 3   5       100000 non-null  int64  \n 4   6       100000 non-null  object \n 5   7       100000 non-null  object \n 6   8       100000 non-null  object \n 7   9       99967 non-null   float64\n 8   10      100000 non-null  int64  \n 9   11      98517 non-null   float64\n 10  12      100000 non-null  object \n 11  13      100000 non-null  object \n 12  14      100000 non-null  int64  \n 13  15      100000 non-null  object \n 14  16      100000 non-null  float64\n 15  17      100000 non-null  object \ndtypes: float64(3), int64(5), object(8)\nmemory usage: 12.2+ MB\n"
     ]
    }
   ],
   "source": [
    "df.info()"
   ]
  },
  {
   "cell_type": "code",
   "execution_count": 28,
   "metadata": {},
   "outputs": [],
   "source": [
    "X = df[[\"5\",\"16\"]]\n",
    "y = df[\"17\"]\n",
    "X_train, X_test, y_train, y_test = train_test_split(X,\n",
    "                                                    y,\n",
    "                                                    test_size=0.2,\n",
    "                                                    random_state=42)"
   ]
  },
  {
   "cell_type": "code",
   "execution_count": 29,
   "metadata": {},
   "outputs": [
    {
     "output_type": "execute_result",
     "data": {
      "text/plain": [
       "PCA(n_components=2)"
      ]
     },
     "metadata": {},
     "execution_count": 29
    }
   ],
   "source": [
    "pca = PCA(n_components=2)\n",
    "pca.fit(X)"
   ]
  },
  {
   "cell_type": "code",
   "execution_count": 15,
   "metadata": {},
   "outputs": [
    {
     "output_type": "error",
     "ename": "NotFittedError",
     "evalue": "This PCA instance is not fitted yet. Call 'fit' with appropriate arguments before using this estimator.",
     "traceback": [
      "\u001b[1;31m---------------------------------------------------------------------------\u001b[0m",
      "\u001b[1;31mNotFittedError\u001b[0m                            Traceback (most recent call last)",
      "\u001b[1;32m<ipython-input-15-5d044256713b>\u001b[0m in \u001b[0;36m<module>\u001b[1;34m\u001b[0m\n\u001b[1;32m----> 1\u001b[1;33m \u001b[0mX_pca\u001b[0m \u001b[1;33m=\u001b[0m \u001b[0mpca\u001b[0m\u001b[1;33m.\u001b[0m\u001b[0mtransform\u001b[0m\u001b[1;33m(\u001b[0m\u001b[0mdf\u001b[0m\u001b[1;33m)\u001b[0m\u001b[1;33m\u001b[0m\u001b[1;33m\u001b[0m\u001b[0m\n\u001b[0m",
      "\u001b[1;32m~\\AppData\\Local\\Programs\\Python\\Python37\\lib\\site-packages\\sklearn\\decomposition\\_base.py\u001b[0m in \u001b[0;36mtransform\u001b[1;34m(self, X)\u001b[0m\n\u001b[0;32m    111\u001b[0m         \u001b[0mX_new\u001b[0m \u001b[1;33m:\u001b[0m \u001b[0marray\u001b[0m\u001b[1;33m-\u001b[0m\u001b[0mlike\u001b[0m\u001b[1;33m,\u001b[0m \u001b[0mshape\u001b[0m \u001b[1;33m(\u001b[0m\u001b[0mn_samples\u001b[0m\u001b[1;33m,\u001b[0m \u001b[0mn_components\u001b[0m\u001b[1;33m)\u001b[0m\u001b[1;33m\u001b[0m\u001b[1;33m\u001b[0m\u001b[0m\n\u001b[0;32m    112\u001b[0m         \"\"\"\n\u001b[1;32m--> 113\u001b[1;33m         \u001b[0mcheck_is_fitted\u001b[0m\u001b[1;33m(\u001b[0m\u001b[0mself\u001b[0m\u001b[1;33m)\u001b[0m\u001b[1;33m\u001b[0m\u001b[1;33m\u001b[0m\u001b[0m\n\u001b[0m\u001b[0;32m    114\u001b[0m \u001b[1;33m\u001b[0m\u001b[0m\n\u001b[0;32m    115\u001b[0m         \u001b[0mX\u001b[0m \u001b[1;33m=\u001b[0m \u001b[0mself\u001b[0m\u001b[1;33m.\u001b[0m\u001b[0m_validate_data\u001b[0m\u001b[1;33m(\u001b[0m\u001b[0mX\u001b[0m\u001b[1;33m,\u001b[0m \u001b[0mdtype\u001b[0m\u001b[1;33m=\u001b[0m\u001b[1;33m[\u001b[0m\u001b[0mnp\u001b[0m\u001b[1;33m.\u001b[0m\u001b[0mfloat64\u001b[0m\u001b[1;33m,\u001b[0m \u001b[0mnp\u001b[0m\u001b[1;33m.\u001b[0m\u001b[0mfloat32\u001b[0m\u001b[1;33m]\u001b[0m\u001b[1;33m,\u001b[0m \u001b[0mreset\u001b[0m\u001b[1;33m=\u001b[0m\u001b[1;32mFalse\u001b[0m\u001b[1;33m)\u001b[0m\u001b[1;33m\u001b[0m\u001b[1;33m\u001b[0m\u001b[0m\n",
      "\u001b[1;32m~\\AppData\\Local\\Programs\\Python\\Python37\\lib\\site-packages\\sklearn\\utils\\validation.py\u001b[0m in \u001b[0;36minner_f\u001b[1;34m(*args, **kwargs)\u001b[0m\n\u001b[0;32m     61\u001b[0m             \u001b[0mextra_args\u001b[0m \u001b[1;33m=\u001b[0m \u001b[0mlen\u001b[0m\u001b[1;33m(\u001b[0m\u001b[0margs\u001b[0m\u001b[1;33m)\u001b[0m \u001b[1;33m-\u001b[0m \u001b[0mlen\u001b[0m\u001b[1;33m(\u001b[0m\u001b[0mall_args\u001b[0m\u001b[1;33m)\u001b[0m\u001b[1;33m\u001b[0m\u001b[1;33m\u001b[0m\u001b[0m\n\u001b[0;32m     62\u001b[0m             \u001b[1;32mif\u001b[0m \u001b[0mextra_args\u001b[0m \u001b[1;33m<=\u001b[0m \u001b[1;36m0\u001b[0m\u001b[1;33m:\u001b[0m\u001b[1;33m\u001b[0m\u001b[1;33m\u001b[0m\u001b[0m\n\u001b[1;32m---> 63\u001b[1;33m                 \u001b[1;32mreturn\u001b[0m \u001b[0mf\u001b[0m\u001b[1;33m(\u001b[0m\u001b[1;33m*\u001b[0m\u001b[0margs\u001b[0m\u001b[1;33m,\u001b[0m \u001b[1;33m**\u001b[0m\u001b[0mkwargs\u001b[0m\u001b[1;33m)\u001b[0m\u001b[1;33m\u001b[0m\u001b[1;33m\u001b[0m\u001b[0m\n\u001b[0m\u001b[0;32m     64\u001b[0m \u001b[1;33m\u001b[0m\u001b[0m\n\u001b[0;32m     65\u001b[0m             \u001b[1;31m# extra_args > 0\u001b[0m\u001b[1;33m\u001b[0m\u001b[1;33m\u001b[0m\u001b[1;33m\u001b[0m\u001b[0m\n",
      "\u001b[1;32m~\\AppData\\Local\\Programs\\Python\\Python37\\lib\\site-packages\\sklearn\\utils\\validation.py\u001b[0m in \u001b[0;36mcheck_is_fitted\u001b[1;34m(estimator, attributes, msg, all_or_any)\u001b[0m\n\u001b[0;32m   1096\u001b[0m \u001b[1;33m\u001b[0m\u001b[0m\n\u001b[0;32m   1097\u001b[0m     \u001b[1;32mif\u001b[0m \u001b[1;32mnot\u001b[0m \u001b[0mattrs\u001b[0m\u001b[1;33m:\u001b[0m\u001b[1;33m\u001b[0m\u001b[1;33m\u001b[0m\u001b[0m\n\u001b[1;32m-> 1098\u001b[1;33m         \u001b[1;32mraise\u001b[0m \u001b[0mNotFittedError\u001b[0m\u001b[1;33m(\u001b[0m\u001b[0mmsg\u001b[0m \u001b[1;33m%\u001b[0m \u001b[1;33m{\u001b[0m\u001b[1;34m'name'\u001b[0m\u001b[1;33m:\u001b[0m \u001b[0mtype\u001b[0m\u001b[1;33m(\u001b[0m\u001b[0mestimator\u001b[0m\u001b[1;33m)\u001b[0m\u001b[1;33m.\u001b[0m\u001b[0m__name__\u001b[0m\u001b[1;33m}\u001b[0m\u001b[1;33m)\u001b[0m\u001b[1;33m\u001b[0m\u001b[1;33m\u001b[0m\u001b[0m\n\u001b[0m\u001b[0;32m   1099\u001b[0m \u001b[1;33m\u001b[0m\u001b[0m\n\u001b[0;32m   1100\u001b[0m \u001b[1;33m\u001b[0m\u001b[0m\n",
      "\u001b[1;31mNotFittedError\u001b[0m: This PCA instance is not fitted yet. Call 'fit' with appropriate arguments before using this estimator."
     ]
    }
   ],
   "source": [
    "X_pca = pca.transform(df)"
   ]
  },
  {
   "cell_type": "code",
   "execution_count": 12,
   "metadata": {},
   "outputs": [
    {
     "output_type": "error",
     "ename": "NameError",
     "evalue": "name 'X' is not defined",
     "traceback": [
      "\u001b[1;31m---------------------------------------------------------------------------\u001b[0m",
      "\u001b[1;31mNameError\u001b[0m                                 Traceback (most recent call last)",
      "\u001b[1;32m<ipython-input-12-5da227b2f3b2>\u001b[0m in \u001b[0;36m<module>\u001b[1;34m\u001b[0m\n\u001b[0;32m      1\u001b[0m \u001b[0mclf\u001b[0m \u001b[1;33m=\u001b[0m \u001b[0msvm\u001b[0m\u001b[1;33m.\u001b[0m\u001b[0mSVC\u001b[0m\u001b[1;33m(\u001b[0m \u001b[0mkernel\u001b[0m\u001b[1;33m=\u001b[0m\u001b[1;34m'rbf'\u001b[0m\u001b[1;33m)\u001b[0m\u001b[1;33m\u001b[0m\u001b[1;33m\u001b[0m\u001b[0m\n\u001b[1;32m----> 2\u001b[1;33m \u001b[0mclf\u001b[0m\u001b[1;33m.\u001b[0m\u001b[0mfit\u001b[0m\u001b[1;33m(\u001b[0m\u001b[0mX\u001b[0m\u001b[1;33m,\u001b[0m \u001b[0my\u001b[0m\u001b[1;33m)\u001b[0m\u001b[1;33m\u001b[0m\u001b[1;33m\u001b[0m\u001b[0m\n\u001b[0m\u001b[0;32m      3\u001b[0m \u001b[0mprint\u001b[0m \u001b[1;33m(\u001b[0m\u001b[1;34m'score:'\u001b[0m\u001b[1;33m,\u001b[0m \u001b[0mclf\u001b[0m\u001b[1;33m.\u001b[0m\u001b[0mscore\u001b[0m\u001b[1;33m(\u001b[0m\u001b[0mX\u001b[0m\u001b[1;33m,\u001b[0m \u001b[0my\u001b[0m\u001b[1;33m)\u001b[0m\u001b[1;33m)\u001b[0m\u001b[1;33m\u001b[0m\u001b[1;33m\u001b[0m\u001b[0m\n",
      "\u001b[1;31mNameError\u001b[0m: name 'X' is not defined"
     ]
    }
   ],
   "source": [
    "clf = svm.SVC( kernel='rbf')\n",
    "clf.fit(X, y)\n",
    "print ('score:', clf.score(X, y))\n"
   ]
  },
  {
   "cell_type": "code",
   "execution_count": null,
   "metadata": {},
   "outputs": [],
   "source": [
    "predictions = clf.predict(test_X)"
   ]
  },
  {
   "cell_type": "code",
   "execution_count": null,
   "metadata": {},
   "outputs": [],
   "source": [
    "errors = abs(predictions - test_y)\n",
    "# Print out the mean absolute error (mae)\n",
    "print('Mean Absolute Error:', round(np.mean(errors), 2), 'degrees.')"
   ]
  },
  {
   "cell_type": "code",
   "execution_count": null,
   "metadata": {},
   "outputs": [],
   "source": [
    "np.sqrt(mean_squared_error(test_y, predictions))"
   ]
  },
  {
   "cell_type": "markdown",
   "metadata": {},
   "source": [
    "-----------------------------------------------------------------"
   ]
  },
  {
   "cell_type": "code",
   "execution_count": null,
   "metadata": {},
   "outputs": [],
   "source": [
    "X_pred = pd.read_csv(\"hospital_test.csv\")\n",
    "X_pred.head()"
   ]
  },
  {
   "cell_type": "code",
   "execution_count": null,
   "metadata": {},
   "outputs": [],
   "source": [
    "X_pred.drop([\"1\",\"2\"],axis=1,inplace=True)"
   ]
  },
  {
   "cell_type": "code",
   "execution_count": null,
   "metadata": {},
   "outputs": [],
   "source": [
    "X_pred = np.array(X_pred[[\"3\",\"5\",\"10\",\"14\",\"16\"]])\n"
   ]
  },
  {
   "cell_type": "code",
   "execution_count": null,
   "metadata": {},
   "outputs": [],
   "source": [
    "X.shape"
   ]
  },
  {
   "cell_type": "code",
   "execution_count": null,
   "metadata": {},
   "outputs": [],
   "source": [
    "X_pred.shape"
   ]
  },
  {
   "cell_type": "code",
   "execution_count": null,
   "metadata": {},
   "outputs": [],
   "source": [
    "predictions_submit = clf.predict(X_pred)\n",
    "predictions_submit"
   ]
  },
  {
   "cell_type": "code",
   "execution_count": null,
   "metadata": {},
   "outputs": [],
   "source": [
    "X_pred"
   ]
  },
  {
   "cell_type": "markdown",
   "metadata": {},
   "source": [
    "**¿Qué es lo que subirás a Kaggle?**"
   ]
  },
  {
   "cell_type": "code",
   "execution_count": null,
   "metadata": {},
   "outputs": [],
   "source": [
    "sample = pd.read_csv(\"sample_submission.csv\")"
   ]
  },
  {
   "cell_type": "code",
   "execution_count": null,
   "metadata": {},
   "outputs": [],
   "source": [
    "sample.head()"
   ]
  },
  {
   "cell_type": "code",
   "execution_count": null,
   "metadata": {},
   "outputs": [],
   "source": [
    "sample.shape"
   ]
  },
  {
   "cell_type": "code",
   "execution_count": null,
   "metadata": {},
   "outputs": [],
   "source": [
    "submission = pd.DataFrame({\"id\": range(len(predictions_submit)), \"days\": predictions_submit})"
   ]
  },
  {
   "cell_type": "code",
   "execution_count": null,
   "metadata": {},
   "outputs": [],
   "source": [
    "submission.head()"
   ]
  },
  {
   "cell_type": "code",
   "execution_count": null,
   "metadata": {},
   "outputs": [],
   "source": [
    "submission.shape"
   ]
  },
  {
   "cell_type": "markdown",
   "metadata": {},
   "source": [
    "### 5. Pásale el CHEQUEATOR para comprobar que efectivamente está listo para subir a Kaggle."
   ]
  },
  {
   "cell_type": "code",
   "execution_count": null,
   "metadata": {},
   "outputs": [],
   "source": [
    "def chequeator(df_to_submit):\n",
    "    \"\"\"\n",
    "    Esta función se asegura de que tu submission tenga la forma requerida por Kaggle.\n",
    "    \n",
    "    Si es así, se guardará el dataframe en un `csv` y estará listo para subir a Kaggle.\n",
    "    \n",
    "    Si no, LEE EL MENSAJE Y HAZLE CASO.\n",
    "    \n",
    "    Si aún no:\n",
    "    - apaga tu ordenador, \n",
    "    - date una vuelta, \n",
    "    - enciendelo otra vez, \n",
    "    - abre este notebook y \n",
    "    - leelo todo de nuevo. \n",
    "    Todos nos merecemos una segunda oportunidad. También tú.\n",
    "    \"\"\"\n",
    "    if df_to_submit.shape == sample.shape:\n",
    "        if df_to_submit.columns.all() == sample.columns.all():\n",
    "            if df_to_submit.id.all() == sample.id.all():\n",
    "                print(\"You're ready to submit!\")\n",
    "                submission.to_csv(\"submission.csv\", index = False) #muy importante el index = False\n",
    "                urllib.request.urlretrieve(\"https://i.kym-cdn.com/photos/images/facebook/000/747/556/27a.jpg\", \"gfg.png\")     \n",
    "                img = Image.open(\"gfg.png\")\n",
    "                img.show()   \n",
    "            else:\n",
    "                print(\"Check the ids and try again\")\n",
    "        else:\n",
    "            print(\"Check the names of the columns and try again\")\n",
    "    else:\n",
    "        print(\"Check the number of rows and/or columns and try again\")\n",
    "        print(\"\\nMensaje secreto de Clara: No me puedo creer que después de todo este notebook hayas hecho algún cambio en las filas de `diamonds_test.csv`. Lloro.\")\n"
   ]
  },
  {
   "cell_type": "code",
   "execution_count": null,
   "metadata": {},
   "outputs": [],
   "source": [
    "chequeator(submission)"
   ]
  },
  {
   "cell_type": "code",
   "execution_count": null,
   "metadata": {},
   "outputs": [],
   "source": []
  },
  {
   "cell_type": "code",
   "execution_count": null,
   "metadata": {},
   "outputs": [],
   "source": []
  },
  {
   "cell_type": "code",
   "execution_count": null,
   "metadata": {},
   "outputs": [],
   "source": []
  }
 ],
 "metadata": {
  "kernelspec": {
   "name": "python3",
   "display_name": "Python 3.7.4 64-bit"
  },
  "language_info": {
   "codemirror_mode": {
    "name": "ipython",
    "version": 3
   },
   "file_extension": ".py",
   "mimetype": "text/x-python",
   "name": "python",
   "nbconvert_exporter": "python",
   "pygments_lexer": "ipython3",
   "version": "3.7.4"
  },
  "interpreter": {
   "hash": "182e3b849e87c789b13dcf4169d6d9922ca2e40dd3044e82b295bff17932e6e2"
  }
 },
 "nbformat": 4,
 "nbformat_minor": 4
}