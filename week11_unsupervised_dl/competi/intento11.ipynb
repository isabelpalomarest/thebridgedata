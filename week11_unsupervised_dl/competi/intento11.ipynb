{
 "cells": [
  {
   "cell_type": "markdown",
   "metadata": {},
   "source": [
    "![image](competi.png)"
   ]
  },
  {
   "cell_type": "markdown",
   "metadata": {},
   "source": [
    "#### Aquí encontrarás todo lo que necesitas saber: https://www.kaggle.com/t/ab8726f0cfc84544abbae69a6be88071"
   ]
  },
  {
   "cell_type": "code",
   "execution_count": 6,
   "metadata": {},
   "outputs": [],
   "source": [
    "import numpy as np\n",
    "import pandas as pd\n",
    "\n",
    "import urllib.request\n",
    "from PIL import Image\n",
    "\n",
    "from sklearn.linear_model import LinearRegression\n",
    "from sklearn.model_selection import train_test_split\n",
    "from sklearn.metrics import mean_squared_error,r2_score\n",
    "from sklearn.preprocessing import LabelEncoder\n",
    "from sklearn.svm import SVR\n",
    "from sklearn import svm\n",
    "import pandas as pd \n",
    "import numpy as np\n",
    "from sklearn.decomposition import PCA\n",
    "from sklearn.cluster import KMeans\n",
    "import matplotlib.pyplot as plt \n",
    "from sklearn import metrics\n",
    "import seaborn as sns\n",
    "from sklearn import preprocessing\n",
    "from sklearn.ensemble import RandomForestClassifier\n",
    "from sklearn.preprocessing import OrdinalEncoder"
   ]
  },
  {
   "cell_type": "code",
   "execution_count": 7,
   "metadata": {},
   "outputs": [
    {
     "output_type": "execute_result",
     "data": {
      "text/plain": [
       "         1  2   3  4  5           6  7  8    9      10    11         12  \\\n",
       "0                                                                         \n",
       "161528   6  a   6  X  2  gynecology  R  F  4.0   45810   2.0     Urgent   \n",
       "159472  23  a   6  X  4  gynecology  Q  F  2.0  128565  15.0     Trauma   \n",
       "309765   2  c   5  Z  2  anesthesia  S  F  3.0   46565   5.0     Urgent   \n",
       "279614  32  f   9  Y  3  gynecology  S  B  4.0  124546   6.0  Emergency   \n",
       "147791  14  a   1  X  3  gynecology  S  E  2.0   22729   8.0     Urgent   \n",
       "...     .. ..  .. .. ..         ... .. ..  ...     ...   ...        ...   \n",
       "237869  12  a   9  Y  3  gynecology  R  B  3.0   82914   3.0  Emergency   \n",
       "254763  28  b  11  X  2  gynecology  R  F  2.0   40026   5.0     Urgent   \n",
       "69788    6  a   6  X  3  gynecology  Q  F  3.0   92346   2.0     Trauma   \n",
       "204442  32  f   9  Y  2  gynecology  S  B  4.0  113798  15.0     Trauma   \n",
       "69647   25  e   1  X  3  gynecology  Q  E  2.0  109237   8.0  Emergency   \n",
       "\n",
       "              13  14     15      16                  17  \n",
       "0                                                        \n",
       "161528  Moderate   2  21-30  2817.0                0-10  \n",
       "159472  Moderate   4  51-60  4498.0               21-30  \n",
       "309765  Moderate   2  71-80  4573.0               11-20  \n",
       "279614  Moderate   4  11-20  7202.0               51-60  \n",
       "147791  Moderate   2  51-60  3398.0               51-60  \n",
       "...          ...  ..    ...     ...                 ...  \n",
       "237869  Moderate   6  51-60  3966.0  More than 100 Days  \n",
       "254763  Moderate   3  21-30  4005.0               51-60  \n",
       "69788      Minor   2  31-40  5215.0               31-40  \n",
       "204442  Moderate   3  41-50  5092.0               11-20  \n",
       "69647   Moderate   2  41-50  3390.0               41-50  \n",
       "\n",
       "[100000 rows x 17 columns]"
      ],
      "text/html": "<div>\n<style scoped>\n    .dataframe tbody tr th:only-of-type {\n        vertical-align: middle;\n    }\n\n    .dataframe tbody tr th {\n        vertical-align: top;\n    }\n\n    .dataframe thead th {\n        text-align: right;\n    }\n</style>\n<table border=\"1\" class=\"dataframe\">\n  <thead>\n    <tr style=\"text-align: right;\">\n      <th></th>\n      <th>1</th>\n      <th>2</th>\n      <th>3</th>\n      <th>4</th>\n      <th>5</th>\n      <th>6</th>\n      <th>7</th>\n      <th>8</th>\n      <th>9</th>\n      <th>10</th>\n      <th>11</th>\n      <th>12</th>\n      <th>13</th>\n      <th>14</th>\n      <th>15</th>\n      <th>16</th>\n      <th>17</th>\n    </tr>\n    <tr>\n      <th>0</th>\n      <th></th>\n      <th></th>\n      <th></th>\n      <th></th>\n      <th></th>\n      <th></th>\n      <th></th>\n      <th></th>\n      <th></th>\n      <th></th>\n      <th></th>\n      <th></th>\n      <th></th>\n      <th></th>\n      <th></th>\n      <th></th>\n      <th></th>\n    </tr>\n  </thead>\n  <tbody>\n    <tr>\n      <th>161528</th>\n      <td>6</td>\n      <td>a</td>\n      <td>6</td>\n      <td>X</td>\n      <td>2</td>\n      <td>gynecology</td>\n      <td>R</td>\n      <td>F</td>\n      <td>4.0</td>\n      <td>45810</td>\n      <td>2.0</td>\n      <td>Urgent</td>\n      <td>Moderate</td>\n      <td>2</td>\n      <td>21-30</td>\n      <td>2817.0</td>\n      <td>0-10</td>\n    </tr>\n    <tr>\n      <th>159472</th>\n      <td>23</td>\n      <td>a</td>\n      <td>6</td>\n      <td>X</td>\n      <td>4</td>\n      <td>gynecology</td>\n      <td>Q</td>\n      <td>F</td>\n      <td>2.0</td>\n      <td>128565</td>\n      <td>15.0</td>\n      <td>Trauma</td>\n      <td>Moderate</td>\n      <td>4</td>\n      <td>51-60</td>\n      <td>4498.0</td>\n      <td>21-30</td>\n    </tr>\n    <tr>\n      <th>309765</th>\n      <td>2</td>\n      <td>c</td>\n      <td>5</td>\n      <td>Z</td>\n      <td>2</td>\n      <td>anesthesia</td>\n      <td>S</td>\n      <td>F</td>\n      <td>3.0</td>\n      <td>46565</td>\n      <td>5.0</td>\n      <td>Urgent</td>\n      <td>Moderate</td>\n      <td>2</td>\n      <td>71-80</td>\n      <td>4573.0</td>\n      <td>11-20</td>\n    </tr>\n    <tr>\n      <th>279614</th>\n      <td>32</td>\n      <td>f</td>\n      <td>9</td>\n      <td>Y</td>\n      <td>3</td>\n      <td>gynecology</td>\n      <td>S</td>\n      <td>B</td>\n      <td>4.0</td>\n      <td>124546</td>\n      <td>6.0</td>\n      <td>Emergency</td>\n      <td>Moderate</td>\n      <td>4</td>\n      <td>11-20</td>\n      <td>7202.0</td>\n      <td>51-60</td>\n    </tr>\n    <tr>\n      <th>147791</th>\n      <td>14</td>\n      <td>a</td>\n      <td>1</td>\n      <td>X</td>\n      <td>3</td>\n      <td>gynecology</td>\n      <td>S</td>\n      <td>E</td>\n      <td>2.0</td>\n      <td>22729</td>\n      <td>8.0</td>\n      <td>Urgent</td>\n      <td>Moderate</td>\n      <td>2</td>\n      <td>51-60</td>\n      <td>3398.0</td>\n      <td>51-60</td>\n    </tr>\n    <tr>\n      <th>...</th>\n      <td>...</td>\n      <td>...</td>\n      <td>...</td>\n      <td>...</td>\n      <td>...</td>\n      <td>...</td>\n      <td>...</td>\n      <td>...</td>\n      <td>...</td>\n      <td>...</td>\n      <td>...</td>\n      <td>...</td>\n      <td>...</td>\n      <td>...</td>\n      <td>...</td>\n      <td>...</td>\n      <td>...</td>\n    </tr>\n    <tr>\n      <th>237869</th>\n      <td>12</td>\n      <td>a</td>\n      <td>9</td>\n      <td>Y</td>\n      <td>3</td>\n      <td>gynecology</td>\n      <td>R</td>\n      <td>B</td>\n      <td>3.0</td>\n      <td>82914</td>\n      <td>3.0</td>\n      <td>Emergency</td>\n      <td>Moderate</td>\n      <td>6</td>\n      <td>51-60</td>\n      <td>3966.0</td>\n      <td>More than 100 Days</td>\n    </tr>\n    <tr>\n      <th>254763</th>\n      <td>28</td>\n      <td>b</td>\n      <td>11</td>\n      <td>X</td>\n      <td>2</td>\n      <td>gynecology</td>\n      <td>R</td>\n      <td>F</td>\n      <td>2.0</td>\n      <td>40026</td>\n      <td>5.0</td>\n      <td>Urgent</td>\n      <td>Moderate</td>\n      <td>3</td>\n      <td>21-30</td>\n      <td>4005.0</td>\n      <td>51-60</td>\n    </tr>\n    <tr>\n      <th>69788</th>\n      <td>6</td>\n      <td>a</td>\n      <td>6</td>\n      <td>X</td>\n      <td>3</td>\n      <td>gynecology</td>\n      <td>Q</td>\n      <td>F</td>\n      <td>3.0</td>\n      <td>92346</td>\n      <td>2.0</td>\n      <td>Trauma</td>\n      <td>Minor</td>\n      <td>2</td>\n      <td>31-40</td>\n      <td>5215.0</td>\n      <td>31-40</td>\n    </tr>\n    <tr>\n      <th>204442</th>\n      <td>32</td>\n      <td>f</td>\n      <td>9</td>\n      <td>Y</td>\n      <td>2</td>\n      <td>gynecology</td>\n      <td>S</td>\n      <td>B</td>\n      <td>4.0</td>\n      <td>113798</td>\n      <td>15.0</td>\n      <td>Trauma</td>\n      <td>Moderate</td>\n      <td>3</td>\n      <td>41-50</td>\n      <td>5092.0</td>\n      <td>11-20</td>\n    </tr>\n    <tr>\n      <th>69647</th>\n      <td>25</td>\n      <td>e</td>\n      <td>1</td>\n      <td>X</td>\n      <td>3</td>\n      <td>gynecology</td>\n      <td>Q</td>\n      <td>E</td>\n      <td>2.0</td>\n      <td>109237</td>\n      <td>8.0</td>\n      <td>Emergency</td>\n      <td>Moderate</td>\n      <td>2</td>\n      <td>41-50</td>\n      <td>3390.0</td>\n      <td>41-50</td>\n    </tr>\n  </tbody>\n</table>\n<p>100000 rows × 17 columns</p>\n</div>"
     },
     "metadata": {},
     "execution_count": 7
    }
   ],
   "source": [
    "### Para que funcione necesitas bajarte los archivos de datos de Kaggle \n",
    "df = pd.read_csv(\"hospital_train.csv\",index_col=0)\n",
    "df"
   ]
  },
  {
   "cell_type": "code",
   "execution_count": 8,
   "metadata": {},
   "outputs": [],
   "source": [
    "df.drop([\"1\",\"4\"],axis=1,inplace=True)"
   ]
  },
  {
   "source": [
    "### Creamos una variable numerica del label para poder estudiar las posibles correlaciones del modelo "
   ],
   "cell_type": "markdown",
   "metadata": {}
  },
  {
   "cell_type": "code",
   "execution_count": 9,
   "metadata": {},
   "outputs": [],
   "source": [
    "encoder = OrdinalEncoder(categories=[[\"0-10\", \"11-20\", \"21-30\", \"31-40\", \"41-50\",\"51-60\", \"61-70\",\"71-80\",\"81-90\",\"91-100\",\"More than 100 Days\"]])\n",
    "encoder.fit(df[[\"17\"]])\n",
    "df[\"18\"] = encoder.transform(df[[\"17\"]])"
   ]
  },
  {
   "source": [
    "### Transformamos el restos de las variables categóricas."
   ],
   "cell_type": "markdown",
   "metadata": {}
  },
  {
   "cell_type": "code",
   "execution_count": 10,
   "metadata": {},
   "outputs": [
    {
     "output_type": "execute_result",
     "data": {
      "text/plain": [
       "                 3         5         9            10        11        14  \\\n",
       "13                                                                         \n",
       "Minor     4.628320  3.189451  2.993924  65948.145820  7.386775  3.197267   \n",
       "Moderate  4.818332  3.210152  2.562339  65958.584727  7.151935  3.294734   \n",
       "Extreme   4.872161  3.168705  2.251227  65943.410743  7.214514  3.447213   \n",
       "\n",
       "                   16        18  \n",
       "13                               \n",
       "Minor     4982.036705  2.328234  \n",
       "Moderate  4870.204126  2.749837  \n",
       "Extreme   4753.815681  3.141987  "
      ],
      "text/html": "<div>\n<style scoped>\n    .dataframe tbody tr th:only-of-type {\n        vertical-align: middle;\n    }\n\n    .dataframe tbody tr th {\n        vertical-align: top;\n    }\n\n    .dataframe thead th {\n        text-align: right;\n    }\n</style>\n<table border=\"1\" class=\"dataframe\">\n  <thead>\n    <tr style=\"text-align: right;\">\n      <th></th>\n      <th>3</th>\n      <th>5</th>\n      <th>9</th>\n      <th>10</th>\n      <th>11</th>\n      <th>14</th>\n      <th>16</th>\n      <th>18</th>\n    </tr>\n    <tr>\n      <th>13</th>\n      <th></th>\n      <th></th>\n      <th></th>\n      <th></th>\n      <th></th>\n      <th></th>\n      <th></th>\n      <th></th>\n    </tr>\n  </thead>\n  <tbody>\n    <tr>\n      <th>Minor</th>\n      <td>4.628320</td>\n      <td>3.189451</td>\n      <td>2.993924</td>\n      <td>65948.145820</td>\n      <td>7.386775</td>\n      <td>3.197267</td>\n      <td>4982.036705</td>\n      <td>2.328234</td>\n    </tr>\n    <tr>\n      <th>Moderate</th>\n      <td>4.818332</td>\n      <td>3.210152</td>\n      <td>2.562339</td>\n      <td>65958.584727</td>\n      <td>7.151935</td>\n      <td>3.294734</td>\n      <td>4870.204126</td>\n      <td>2.749837</td>\n    </tr>\n    <tr>\n      <th>Extreme</th>\n      <td>4.872161</td>\n      <td>3.168705</td>\n      <td>2.251227</td>\n      <td>65943.410743</td>\n      <td>7.214514</td>\n      <td>3.447213</td>\n      <td>4753.815681</td>\n      <td>3.141987</td>\n    </tr>\n  </tbody>\n</table>\n</div>"
     },
     "metadata": {},
     "execution_count": 10
    }
   ],
   "source": [
    "df.groupby(\"13\").mean().sort_values(\"18\")"
   ]
  },
  {
   "cell_type": "code",
   "execution_count": 11,
   "metadata": {},
   "outputs": [],
   "source": [
    "\n",
    "\n",
    "encoder = OrdinalEncoder(categories=[[\"a\", \"e\", \"c\", \"b\", \"d\",\"f\",\"g\"]])\n",
    "encoder.fit(df[[\"2\"]])\n",
    "df[\"2\"] = encoder.transform(df[[\"2\"]])\n",
    "\n",
    "\n",
    "encoder = OrdinalEncoder(categories=[[\"surgery\", \"radiotherapy\", \"gynecology\", \"anesthesia\", \"TB & Chest disease\"]])\n",
    "encoder.fit(df[[\"6\"]])\n",
    "df[\"6\"] = encoder.transform(df[[\"6\"]])\n",
    "\n",
    "encoder = OrdinalEncoder(categories=[[\"U\", \"P\", \"Q\", \"R\", \"T\",\"S\"]])\n",
    "encoder.fit(df[[\"7\"]])\n",
    "df[\"7\"] = encoder.transform(df[[\"7\"]])\n",
    "\n",
    "encoder = OrdinalEncoder(categories=[[\"C\", \"E\", \"F\", \"A\", \"D\",\"B\"]])\n",
    "encoder.fit(df[[\"8\"]])\n",
    "df[\"8\"] = encoder.transform(df[[\"8\"]])\n",
    "\n",
    "\n",
    "encoder = OrdinalEncoder(categories=[[\"Urgent\", \"Emergency\", \"Trauma\"]])\n",
    "encoder.fit(df[[\"12\"]])\n",
    "df[\"12\"] = encoder.transform(df[[\"12\"]])\n",
    "\n",
    "encoder = OrdinalEncoder(categories=[[\"Minor\", \"Moderate\", \"Extreme\"]])\n",
    "encoder.fit(df[[\"13\"]])\n",
    "df[\"13\"] = encoder.transform(df[[\"13\"]])"
   ]
  },
  {
   "source": [
    "### Rellenamos los Nan"
   ],
   "cell_type": "markdown",
   "metadata": {}
  },
  {
   "cell_type": "code",
   "execution_count": 12,
   "metadata": {},
   "outputs": [],
   "source": [
    "df.loc[:,'9'] =df.loc[:,'9'].fillna(df.loc[:,'9'].mean())\n",
    "df.loc[:,'11'] =df.loc[:,'11'].fillna(df.loc[:,'11'].mean())"
   ]
  },
  {
   "cell_type": "code",
   "execution_count": 13,
   "metadata": {},
   "outputs": [
    {
     "output_type": "execute_result",
     "data": {
      "text/plain": [
       "           2         3         5         6         7         8         9  \\\n",
       "2   1.000000  0.160653 -0.061166  0.007567  0.166113  0.667789  0.017539   \n",
       "3   0.160653  1.000000 -0.043746 -0.025421  0.078908  0.140531 -0.048572   \n",
       "5  -0.061166 -0.043746  1.000000 -0.048221 -0.412858 -0.033752 -0.118358   \n",
       "6   0.007567 -0.025421 -0.048221  1.000000 -0.000910  0.041826  0.098129   \n",
       "7   0.166113  0.078908 -0.412858 -0.000910  1.000000  0.078117 -0.019927   \n",
       "8   0.667789  0.140531 -0.033752  0.041826  0.078117  1.000000  0.042379   \n",
       "9   0.017539 -0.048572 -0.118358  0.098129 -0.019927  0.042379  1.000000   \n",
       "10 -0.002297 -0.004483  0.005043 -0.003809 -0.001257 -0.005469  0.005769   \n",
       "11  0.055460 -0.027092 -0.010329 -0.019157  0.028416  0.057429 -0.010877   \n",
       "12  0.002661 -0.029179 -0.042266  0.052443 -0.013103  0.023686  0.051248   \n",
       "13  0.011119  0.027724 -0.003820 -0.007247  0.005429 -0.005469 -0.286566   \n",
       "14 -0.021871  0.021327  0.091744 -0.025482 -0.074416 -0.012285  0.093029   \n",
       "16  0.045798 -0.033820 -0.141999  0.080486  0.038664  0.044741  0.071124   \n",
       "18  0.079047  0.008060 -0.122707 -0.033860  0.196842  0.074382  0.029385   \n",
       "\n",
       "          10        11        12        13        14        16        18  \n",
       "2  -0.002297  0.055460  0.002661  0.011119 -0.021871  0.045798  0.079047  \n",
       "3  -0.004483 -0.027092 -0.029179  0.027724  0.021327 -0.033820  0.008060  \n",
       "5   0.005043 -0.010329 -0.042266 -0.003820  0.091744 -0.141999 -0.122707  \n",
       "6  -0.003809 -0.019157  0.052443 -0.007247 -0.025482  0.080486 -0.033860  \n",
       "7  -0.001257  0.028416 -0.013103  0.005429 -0.074416  0.038664  0.196842  \n",
       "8  -0.005469  0.057429  0.023686 -0.005469 -0.012285  0.044741  0.074382  \n",
       "9   0.005769 -0.010877  0.051248 -0.286566  0.093029  0.071124  0.029385  \n",
       "10  1.000000  0.006709 -0.004442 -0.000015  0.007707 -0.001891  0.002740  \n",
       "11  0.006709  1.000000 -0.031348 -0.014363 -0.008165  0.025256 -0.002476  \n",
       "12 -0.004442 -0.031348  1.000000  0.047661  0.021817  0.076126  0.082380  \n",
       "13 -0.000015 -0.014363  0.047661  1.000000  0.045132 -0.069625  0.125333  \n",
       "14  0.007707 -0.008165  0.021817  0.045132  1.000000 -0.152946  0.543491  \n",
       "16 -0.001891  0.025256  0.076126 -0.069625 -0.152946  1.000000 -0.056711  \n",
       "18  0.002740 -0.002476  0.082380  0.125333  0.543491 -0.056711  1.000000  "
      ],
      "text/html": "<div>\n<style scoped>\n    .dataframe tbody tr th:only-of-type {\n        vertical-align: middle;\n    }\n\n    .dataframe tbody tr th {\n        vertical-align: top;\n    }\n\n    .dataframe thead th {\n        text-align: right;\n    }\n</style>\n<table border=\"1\" class=\"dataframe\">\n  <thead>\n    <tr style=\"text-align: right;\">\n      <th></th>\n      <th>2</th>\n      <th>3</th>\n      <th>5</th>\n      <th>6</th>\n      <th>7</th>\n      <th>8</th>\n      <th>9</th>\n      <th>10</th>\n      <th>11</th>\n      <th>12</th>\n      <th>13</th>\n      <th>14</th>\n      <th>16</th>\n      <th>18</th>\n    </tr>\n  </thead>\n  <tbody>\n    <tr>\n      <th>2</th>\n      <td>1.000000</td>\n      <td>0.160653</td>\n      <td>-0.061166</td>\n      <td>0.007567</td>\n      <td>0.166113</td>\n      <td>0.667789</td>\n      <td>0.017539</td>\n      <td>-0.002297</td>\n      <td>0.055460</td>\n      <td>0.002661</td>\n      <td>0.011119</td>\n      <td>-0.021871</td>\n      <td>0.045798</td>\n      <td>0.079047</td>\n    </tr>\n    <tr>\n      <th>3</th>\n      <td>0.160653</td>\n      <td>1.000000</td>\n      <td>-0.043746</td>\n      <td>-0.025421</td>\n      <td>0.078908</td>\n      <td>0.140531</td>\n      <td>-0.048572</td>\n      <td>-0.004483</td>\n      <td>-0.027092</td>\n      <td>-0.029179</td>\n      <td>0.027724</td>\n      <td>0.021327</td>\n      <td>-0.033820</td>\n      <td>0.008060</td>\n    </tr>\n    <tr>\n      <th>5</th>\n      <td>-0.061166</td>\n      <td>-0.043746</td>\n      <td>1.000000</td>\n      <td>-0.048221</td>\n      <td>-0.412858</td>\n      <td>-0.033752</td>\n      <td>-0.118358</td>\n      <td>0.005043</td>\n      <td>-0.010329</td>\n      <td>-0.042266</td>\n      <td>-0.003820</td>\n      <td>0.091744</td>\n      <td>-0.141999</td>\n      <td>-0.122707</td>\n    </tr>\n    <tr>\n      <th>6</th>\n      <td>0.007567</td>\n      <td>-0.025421</td>\n      <td>-0.048221</td>\n      <td>1.000000</td>\n      <td>-0.000910</td>\n      <td>0.041826</td>\n      <td>0.098129</td>\n      <td>-0.003809</td>\n      <td>-0.019157</td>\n      <td>0.052443</td>\n      <td>-0.007247</td>\n      <td>-0.025482</td>\n      <td>0.080486</td>\n      <td>-0.033860</td>\n    </tr>\n    <tr>\n      <th>7</th>\n      <td>0.166113</td>\n      <td>0.078908</td>\n      <td>-0.412858</td>\n      <td>-0.000910</td>\n      <td>1.000000</td>\n      <td>0.078117</td>\n      <td>-0.019927</td>\n      <td>-0.001257</td>\n      <td>0.028416</td>\n      <td>-0.013103</td>\n      <td>0.005429</td>\n      <td>-0.074416</td>\n      <td>0.038664</td>\n      <td>0.196842</td>\n    </tr>\n    <tr>\n      <th>8</th>\n      <td>0.667789</td>\n      <td>0.140531</td>\n      <td>-0.033752</td>\n      <td>0.041826</td>\n      <td>0.078117</td>\n      <td>1.000000</td>\n      <td>0.042379</td>\n      <td>-0.005469</td>\n      <td>0.057429</td>\n      <td>0.023686</td>\n      <td>-0.005469</td>\n      <td>-0.012285</td>\n      <td>0.044741</td>\n      <td>0.074382</td>\n    </tr>\n    <tr>\n      <th>9</th>\n      <td>0.017539</td>\n      <td>-0.048572</td>\n      <td>-0.118358</td>\n      <td>0.098129</td>\n      <td>-0.019927</td>\n      <td>0.042379</td>\n      <td>1.000000</td>\n      <td>0.005769</td>\n      <td>-0.010877</td>\n      <td>0.051248</td>\n      <td>-0.286566</td>\n      <td>0.093029</td>\n      <td>0.071124</td>\n      <td>0.029385</td>\n    </tr>\n    <tr>\n      <th>10</th>\n      <td>-0.002297</td>\n      <td>-0.004483</td>\n      <td>0.005043</td>\n      <td>-0.003809</td>\n      <td>-0.001257</td>\n      <td>-0.005469</td>\n      <td>0.005769</td>\n      <td>1.000000</td>\n      <td>0.006709</td>\n      <td>-0.004442</td>\n      <td>-0.000015</td>\n      <td>0.007707</td>\n      <td>-0.001891</td>\n      <td>0.002740</td>\n    </tr>\n    <tr>\n      <th>11</th>\n      <td>0.055460</td>\n      <td>-0.027092</td>\n      <td>-0.010329</td>\n      <td>-0.019157</td>\n      <td>0.028416</td>\n      <td>0.057429</td>\n      <td>-0.010877</td>\n      <td>0.006709</td>\n      <td>1.000000</td>\n      <td>-0.031348</td>\n      <td>-0.014363</td>\n      <td>-0.008165</td>\n      <td>0.025256</td>\n      <td>-0.002476</td>\n    </tr>\n    <tr>\n      <th>12</th>\n      <td>0.002661</td>\n      <td>-0.029179</td>\n      <td>-0.042266</td>\n      <td>0.052443</td>\n      <td>-0.013103</td>\n      <td>0.023686</td>\n      <td>0.051248</td>\n      <td>-0.004442</td>\n      <td>-0.031348</td>\n      <td>1.000000</td>\n      <td>0.047661</td>\n      <td>0.021817</td>\n      <td>0.076126</td>\n      <td>0.082380</td>\n    </tr>\n    <tr>\n      <th>13</th>\n      <td>0.011119</td>\n      <td>0.027724</td>\n      <td>-0.003820</td>\n      <td>-0.007247</td>\n      <td>0.005429</td>\n      <td>-0.005469</td>\n      <td>-0.286566</td>\n      <td>-0.000015</td>\n      <td>-0.014363</td>\n      <td>0.047661</td>\n      <td>1.000000</td>\n      <td>0.045132</td>\n      <td>-0.069625</td>\n      <td>0.125333</td>\n    </tr>\n    <tr>\n      <th>14</th>\n      <td>-0.021871</td>\n      <td>0.021327</td>\n      <td>0.091744</td>\n      <td>-0.025482</td>\n      <td>-0.074416</td>\n      <td>-0.012285</td>\n      <td>0.093029</td>\n      <td>0.007707</td>\n      <td>-0.008165</td>\n      <td>0.021817</td>\n      <td>0.045132</td>\n      <td>1.000000</td>\n      <td>-0.152946</td>\n      <td>0.543491</td>\n    </tr>\n    <tr>\n      <th>16</th>\n      <td>0.045798</td>\n      <td>-0.033820</td>\n      <td>-0.141999</td>\n      <td>0.080486</td>\n      <td>0.038664</td>\n      <td>0.044741</td>\n      <td>0.071124</td>\n      <td>-0.001891</td>\n      <td>0.025256</td>\n      <td>0.076126</td>\n      <td>-0.069625</td>\n      <td>-0.152946</td>\n      <td>1.000000</td>\n      <td>-0.056711</td>\n    </tr>\n    <tr>\n      <th>18</th>\n      <td>0.079047</td>\n      <td>0.008060</td>\n      <td>-0.122707</td>\n      <td>-0.033860</td>\n      <td>0.196842</td>\n      <td>0.074382</td>\n      <td>0.029385</td>\n      <td>0.002740</td>\n      <td>-0.002476</td>\n      <td>0.082380</td>\n      <td>0.125333</td>\n      <td>0.543491</td>\n      <td>-0.056711</td>\n      <td>1.000000</td>\n    </tr>\n  </tbody>\n</table>\n</div>"
     },
     "metadata": {},
     "execution_count": 13
    }
   ],
   "source": [
    "df.corr()"
   ]
  },
  {
   "cell_type": "code",
   "execution_count": 14,
   "metadata": {},
   "outputs": [],
   "source": [
    "X = df[[\"2\",\"5\",\"7\",\"10\",\"12\",\"13\",\"14\"]]\n",
    "y = df[\"17\"]\n",
    "train_X, test_X, train_y, test_y = train_test_split(X,\n",
    "                                                    y,\n",
    "                                                    test_size=0.2,\n",
    "                                                    random_state=42)"
   ]
  },
  {
   "cell_type": "code",
   "execution_count": 53,
   "metadata": {},
   "outputs": [],
   "source": [
    "\n",
    "from sklearn.naive_bayes import GaussianNB\n",
    "model = GaussianNB()\n",
    "model.fit(train_X, train_y)\n",
    "predictions = model.predict(test_X)\n"
   ]
  },
  {
   "cell_type": "code",
   "execution_count": 54,
   "metadata": {},
   "outputs": [],
   "source": [
    "from sklearn import metrics"
   ]
  },
  {
   "cell_type": "code",
   "execution_count": 55,
   "metadata": {},
   "outputs": [
    {
     "output_type": "execute_result",
     "data": {
      "text/plain": [
       "0.32915"
      ]
     },
     "metadata": {},
     "execution_count": 55
    }
   ],
   "source": [
    "metrics.accuracy_score(test_y, predictions)"
   ]
  },
  {
   "cell_type": "code",
   "execution_count": 56,
   "metadata": {},
   "outputs": [
    {
     "output_type": "execute_result",
     "data": {
      "text/plain": [
       "(20000,)"
      ]
     },
     "metadata": {},
     "execution_count": 56
    }
   ],
   "source": [
    "test_y.shape"
   ]
  },
  {
   "cell_type": "code",
   "execution_count": 57,
   "metadata": {},
   "outputs": [
    {
     "output_type": "execute_result",
     "data": {
      "text/plain": [
       "(20000,)"
      ]
     },
     "metadata": {},
     "execution_count": 57
    }
   ],
   "source": [
    "predictions.shape"
   ]
  },
  {
   "cell_type": "markdown",
   "metadata": {},
   "source": [
    "-----------------------------------------------------------------"
   ]
  },
  {
   "cell_type": "code",
   "execution_count": 58,
   "metadata": {},
   "outputs": [
    {
     "output_type": "execute_result",
     "data": {
      "text/plain": [
       "         1  2  3  4  5                   6  7  8    9      10    11  \\\n",
       "0                                                                     \n",
       "314114  19  a  7  Y  4          gynecology  S  C  2.0   59278   8.0   \n",
       "208989  15  c  5  Z  3          gynecology  S  F  2.0  102253  15.0   \n",
       "305872  17  e  1  X  4          gynecology  R  E  4.0    5828   4.0   \n",
       "266099   3  c  3  Z  4  TB & Chest disease  R  A  2.0   56642   9.0   \n",
       "13228    6  a  6  X  4          gynecology  R  F  1.0  116266   8.0   \n",
       "\n",
       "               12        13  14     15      16  \n",
       "0                                               \n",
       "314114  Emergency     Minor   2  41-50  4778.0  \n",
       "208989     Trauma  Moderate   3  31-40  5734.0  \n",
       "305872  Emergency     Minor   3  71-80  5064.0  \n",
       "266099     Urgent   Extreme   4  31-40  3254.0  \n",
       "13228   Emergency     Minor   3  21-30  4639.0  "
      ],
      "text/html": "<div>\n<style scoped>\n    .dataframe tbody tr th:only-of-type {\n        vertical-align: middle;\n    }\n\n    .dataframe tbody tr th {\n        vertical-align: top;\n    }\n\n    .dataframe thead th {\n        text-align: right;\n    }\n</style>\n<table border=\"1\" class=\"dataframe\">\n  <thead>\n    <tr style=\"text-align: right;\">\n      <th></th>\n      <th>1</th>\n      <th>2</th>\n      <th>3</th>\n      <th>4</th>\n      <th>5</th>\n      <th>6</th>\n      <th>7</th>\n      <th>8</th>\n      <th>9</th>\n      <th>10</th>\n      <th>11</th>\n      <th>12</th>\n      <th>13</th>\n      <th>14</th>\n      <th>15</th>\n      <th>16</th>\n    </tr>\n    <tr>\n      <th>0</th>\n      <th></th>\n      <th></th>\n      <th></th>\n      <th></th>\n      <th></th>\n      <th></th>\n      <th></th>\n      <th></th>\n      <th></th>\n      <th></th>\n      <th></th>\n      <th></th>\n      <th></th>\n      <th></th>\n      <th></th>\n      <th></th>\n    </tr>\n  </thead>\n  <tbody>\n    <tr>\n      <th>314114</th>\n      <td>19</td>\n      <td>a</td>\n      <td>7</td>\n      <td>Y</td>\n      <td>4</td>\n      <td>gynecology</td>\n      <td>S</td>\n      <td>C</td>\n      <td>2.0</td>\n      <td>59278</td>\n      <td>8.0</td>\n      <td>Emergency</td>\n      <td>Minor</td>\n      <td>2</td>\n      <td>41-50</td>\n      <td>4778.0</td>\n    </tr>\n    <tr>\n      <th>208989</th>\n      <td>15</td>\n      <td>c</td>\n      <td>5</td>\n      <td>Z</td>\n      <td>3</td>\n      <td>gynecology</td>\n      <td>S</td>\n      <td>F</td>\n      <td>2.0</td>\n      <td>102253</td>\n      <td>15.0</td>\n      <td>Trauma</td>\n      <td>Moderate</td>\n      <td>3</td>\n      <td>31-40</td>\n      <td>5734.0</td>\n    </tr>\n    <tr>\n      <th>305872</th>\n      <td>17</td>\n      <td>e</td>\n      <td>1</td>\n      <td>X</td>\n      <td>4</td>\n      <td>gynecology</td>\n      <td>R</td>\n      <td>E</td>\n      <td>4.0</td>\n      <td>5828</td>\n      <td>4.0</td>\n      <td>Emergency</td>\n      <td>Minor</td>\n      <td>3</td>\n      <td>71-80</td>\n      <td>5064.0</td>\n    </tr>\n    <tr>\n      <th>266099</th>\n      <td>3</td>\n      <td>c</td>\n      <td>3</td>\n      <td>Z</td>\n      <td>4</td>\n      <td>TB &amp; Chest disease</td>\n      <td>R</td>\n      <td>A</td>\n      <td>2.0</td>\n      <td>56642</td>\n      <td>9.0</td>\n      <td>Urgent</td>\n      <td>Extreme</td>\n      <td>4</td>\n      <td>31-40</td>\n      <td>3254.0</td>\n    </tr>\n    <tr>\n      <th>13228</th>\n      <td>6</td>\n      <td>a</td>\n      <td>6</td>\n      <td>X</td>\n      <td>4</td>\n      <td>gynecology</td>\n      <td>R</td>\n      <td>F</td>\n      <td>1.0</td>\n      <td>116266</td>\n      <td>8.0</td>\n      <td>Emergency</td>\n      <td>Minor</td>\n      <td>3</td>\n      <td>21-30</td>\n      <td>4639.0</td>\n    </tr>\n  </tbody>\n</table>\n</div>"
     },
     "metadata": {},
     "execution_count": 58
    }
   ],
   "source": [
    "X_pred = pd.read_csv(\"hospital_test.csv\",index_col=0)\n",
    "X_pred.head()"
   ]
  },
  {
   "cell_type": "code",
   "execution_count": 59,
   "metadata": {},
   "outputs": [],
   "source": [
    "X_pred.drop([\"1\",\"4\"],axis=1,inplace=True)"
   ]
  },
  {
   "cell_type": "code",
   "execution_count": 60,
   "metadata": {},
   "outputs": [],
   "source": [
    "X_pred.loc[:,'9'] =X_pred.loc[:,'9'].fillna(X_pred.loc[:,'9'].mean())\n",
    "X_pred.loc[:,'11'] =X_pred.loc[:,'11'].fillna(X_pred.loc[:,'11'].mean())"
   ]
  },
  {
   "cell_type": "code",
   "execution_count": 61,
   "metadata": {},
   "outputs": [],
   "source": [
    "\n",
    "encoder = OrdinalEncoder(categories=[[\"a\", \"e\", \"c\", \"b\", \"d\",\"f\",\"g\"]])\n",
    "encoder.fit(X_pred[[\"2\"]])\n",
    "X_pred[\"2\"] = encoder.transform(X_pred[[\"2\"]])\n",
    "\n",
    "encoder = OrdinalEncoder(categories=[[\"surgery\", \"radiotherapy\", \"gynecology\", \"anesthesia\", \"TB & Chest disease\"]])\n",
    "encoder.fit(X_pred[[\"6\"]])\n",
    "X_pred[\"6\"] = encoder.transform(X_pred[[\"6\"]])\n",
    "\n",
    "encoder = OrdinalEncoder(categories=[[\"U\", \"P\", \"Q\", \"R\", \"T\",\"S\"]])\n",
    "encoder.fit(X_pred[[\"7\"]])\n",
    "X_pred[\"7\"] = encoder.transform(X_pred[[\"7\"]])\n",
    "\n",
    "encoder = OrdinalEncoder(categories=[[\"C\", \"E\", \"F\", \"A\", \"D\",\"B\"]])\n",
    "encoder.fit(X_pred[[\"8\"]])\n",
    "X_pred[\"8\"] = encoder.transform(X_pred[[\"8\"]])\n",
    "\n",
    "encoder = OrdinalEncoder(categories=[[\"Urgent\", \"Emergency\", \"Trauma\"]])\n",
    "encoder.fit(X_pred[[\"12\"]])\n",
    "X_pred[\"12\"] = encoder.transform(X_pred[[\"12\"]])\n",
    "\n",
    "encoder = OrdinalEncoder(categories=[[\"Minor\", \"Moderate\", \"Extreme\"]])\n",
    "encoder.fit(X_pred[[\"13\"]])\n",
    "X_pred[\"13\"] = encoder.transform(X_pred[[\"13\"]])"
   ]
  },
  {
   "cell_type": "code",
   "execution_count": 62,
   "metadata": {},
   "outputs": [],
   "source": [
    "X_pred = X_pred[[\"2\",\"5\",\"7\",\"10\",\"12\",\"13\",\"14\"]]"
   ]
  },
  {
   "cell_type": "code",
   "execution_count": 63,
   "metadata": {},
   "outputs": [
    {
     "output_type": "execute_result",
     "data": {
      "text/plain": [
       "(100000, 7)"
      ]
     },
     "metadata": {},
     "execution_count": 63
    }
   ],
   "source": [
    "X.shape"
   ]
  },
  {
   "cell_type": "code",
   "execution_count": 64,
   "metadata": {},
   "outputs": [
    {
     "output_type": "execute_result",
     "data": {
      "text/plain": [
       "(133744, 7)"
      ]
     },
     "metadata": {},
     "execution_count": 64
    }
   ],
   "source": [
    "X_pred.shape"
   ]
  },
  {
   "cell_type": "code",
   "execution_count": 65,
   "metadata": {},
   "outputs": [
    {
     "output_type": "execute_result",
     "data": {
      "text/plain": [
       "array(['11-20', '21-30', '21-30', ..., '21-30', '21-30', '21-30'],\n",
       "      dtype='<U18')"
      ]
     },
     "metadata": {},
     "execution_count": 65
    }
   ],
   "source": [
    "predictions_submit = model.predict(X_pred)\n",
    "predictions_submit"
   ]
  },
  {
   "cell_type": "code",
   "execution_count": 66,
   "metadata": {},
   "outputs": [
    {
     "output_type": "execute_result",
     "data": {
      "text/plain": [
       "(133744,)"
      ]
     },
     "metadata": {},
     "execution_count": 66
    }
   ],
   "source": [
    "predictions_submit.shape"
   ]
  },
  {
   "cell_type": "markdown",
   "metadata": {},
   "source": [
    "**¿Qué es lo que subirás a Kaggle?**"
   ]
  },
  {
   "cell_type": "code",
   "execution_count": 67,
   "metadata": {},
   "outputs": [],
   "source": [
    "sample = pd.read_csv(\"sample_submission.csv\")"
   ]
  },
  {
   "cell_type": "code",
   "execution_count": 68,
   "metadata": {},
   "outputs": [
    {
     "output_type": "execute_result",
     "data": {
      "text/plain": [
       "       id   days\n",
       "0  314114  11-20\n",
       "1  208989  31-40\n",
       "2  305872  81-90\n",
       "3  266099  21-30\n",
       "4   13228  31-40"
      ],
      "text/html": "<div>\n<style scoped>\n    .dataframe tbody tr th:only-of-type {\n        vertical-align: middle;\n    }\n\n    .dataframe tbody tr th {\n        vertical-align: top;\n    }\n\n    .dataframe thead th {\n        text-align: right;\n    }\n</style>\n<table border=\"1\" class=\"dataframe\">\n  <thead>\n    <tr style=\"text-align: right;\">\n      <th></th>\n      <th>id</th>\n      <th>days</th>\n    </tr>\n  </thead>\n  <tbody>\n    <tr>\n      <th>0</th>\n      <td>314114</td>\n      <td>11-20</td>\n    </tr>\n    <tr>\n      <th>1</th>\n      <td>208989</td>\n      <td>31-40</td>\n    </tr>\n    <tr>\n      <th>2</th>\n      <td>305872</td>\n      <td>81-90</td>\n    </tr>\n    <tr>\n      <th>3</th>\n      <td>266099</td>\n      <td>21-30</td>\n    </tr>\n    <tr>\n      <th>4</th>\n      <td>13228</td>\n      <td>31-40</td>\n    </tr>\n  </tbody>\n</table>\n</div>"
     },
     "metadata": {},
     "execution_count": 68
    }
   ],
   "source": [
    "sample.head()"
   ]
  },
  {
   "cell_type": "code",
   "execution_count": 69,
   "metadata": {},
   "outputs": [
    {
     "output_type": "execute_result",
     "data": {
      "text/plain": [
       "(133744, 2)"
      ]
     },
     "metadata": {},
     "execution_count": 69
    }
   ],
   "source": [
    "sample.shape"
   ]
  },
  {
   "cell_type": "code",
   "execution_count": 70,
   "metadata": {},
   "outputs": [],
   "source": [
    "submission = pd.DataFrame({\"id\": X_pred.index, \"days\": predictions_submit})"
   ]
  },
  {
   "cell_type": "code",
   "execution_count": 71,
   "metadata": {},
   "outputs": [
    {
     "output_type": "execute_result",
     "data": {
      "text/plain": [
       "       id   days\n",
       "0  314114  11-20\n",
       "1  208989  21-30\n",
       "2  305872  21-30\n",
       "3  266099  21-30\n",
       "4   13228  21-30"
      ],
      "text/html": "<div>\n<style scoped>\n    .dataframe tbody tr th:only-of-type {\n        vertical-align: middle;\n    }\n\n    .dataframe tbody tr th {\n        vertical-align: top;\n    }\n\n    .dataframe thead th {\n        text-align: right;\n    }\n</style>\n<table border=\"1\" class=\"dataframe\">\n  <thead>\n    <tr style=\"text-align: right;\">\n      <th></th>\n      <th>id</th>\n      <th>days</th>\n    </tr>\n  </thead>\n  <tbody>\n    <tr>\n      <th>0</th>\n      <td>314114</td>\n      <td>11-20</td>\n    </tr>\n    <tr>\n      <th>1</th>\n      <td>208989</td>\n      <td>21-30</td>\n    </tr>\n    <tr>\n      <th>2</th>\n      <td>305872</td>\n      <td>21-30</td>\n    </tr>\n    <tr>\n      <th>3</th>\n      <td>266099</td>\n      <td>21-30</td>\n    </tr>\n    <tr>\n      <th>4</th>\n      <td>13228</td>\n      <td>21-30</td>\n    </tr>\n  </tbody>\n</table>\n</div>"
     },
     "metadata": {},
     "execution_count": 71
    }
   ],
   "source": [
    "submission.head()"
   ]
  },
  {
   "cell_type": "code",
   "execution_count": 72,
   "metadata": {},
   "outputs": [
    {
     "output_type": "execute_result",
     "data": {
      "text/plain": [
       "(133744, 2)"
      ]
     },
     "metadata": {},
     "execution_count": 72
    }
   ],
   "source": [
    "submission.shape"
   ]
  },
  {
   "cell_type": "markdown",
   "metadata": {},
   "source": [
    "### 5. Pásale el CHEQUEATOR para comprobar que efectivamente está listo para subir a Kaggle."
   ]
  },
  {
   "cell_type": "code",
   "execution_count": 73,
   "metadata": {},
   "outputs": [],
   "source": [
    "def chequeator(df_to_submit):\n",
    "    \"\"\"\n",
    "    Esta función se asegura de que tu submission tenga la forma requerida por Kaggle.\n",
    "    \n",
    "    Si es así, se guardará el dataframe en un `csv` y estará listo para subir a Kaggle.\n",
    "    \n",
    "    Si no, LEE EL MENSAJE Y HAZLE CASO.\n",
    "    \n",
    "    Si aún no:\n",
    "    - apaga tu ordenador, \n",
    "    - date una vuelta, \n",
    "    - enciendelo otra vez, \n",
    "    - abre este notebook y \n",
    "    - leelo todo de nuevo. \n",
    "    Todos nos merecemos una segunda oportunidad. También tú.\n",
    "    \"\"\"\n",
    "    if df_to_submit.shape == sample.shape:\n",
    "        if df_to_submit.columns.all() == sample.columns.all():\n",
    "            if df_to_submit.id.all() == sample.id.all():\n",
    "                print(\"You're ready to submit!\")\n",
    "                submission.to_csv(\"submission.csv\", index = False) #muy importante el index = False\n",
    "                urllib.request.urlretrieve(\"https://i.kym-cdn.com/photos/images/facebook/000/747/556/27a.jpg\", \"gfg.png\")     \n",
    "                img = Image.open(\"gfg.png\")\n",
    "                img.show()   \n",
    "            else:\n",
    "                print(\"Check the ids and try again\")\n",
    "        else:\n",
    "            print(\"Check the names of the columns and try again\")\n",
    "    else:\n",
    "        print(\"Check the number of rows and/or columns and try again\")\n",
    "        print(\"\\nMensaje secreto de Clara: No me puedo creer que después de todo este notebook hayas hecho algún cambio en las filas de `diamonds_test.csv`. Lloro.\")\n"
   ]
  },
  {
   "cell_type": "code",
   "execution_count": 74,
   "metadata": {},
   "outputs": [
    {
     "output_type": "stream",
     "name": "stdout",
     "text": [
      "You're ready to submit!\n"
     ]
    }
   ],
   "source": [
    "chequeator(submission)"
   ]
  },
  {
   "cell_type": "code",
   "execution_count": null,
   "metadata": {},
   "outputs": [],
   "source": []
  },
  {
   "cell_type": "code",
   "execution_count": null,
   "metadata": {},
   "outputs": [],
   "source": []
  },
  {
   "cell_type": "code",
   "execution_count": null,
   "metadata": {},
   "outputs": [],
   "source": []
  }
 ],
 "metadata": {
  "kernelspec": {
   "name": "python3",
   "display_name": "Python 3.7.4 64-bit"
  },
  "language_info": {
   "codemirror_mode": {
    "name": "ipython",
    "version": 3
   },
   "file_extension": ".py",
   "mimetype": "text/x-python",
   "name": "python",
   "nbconvert_exporter": "python",
   "pygments_lexer": "ipython3",
   "version": "3.7.4"
  },
  "interpreter": {
   "hash": "182e3b849e87c789b13dcf4169d6d9922ca2e40dd3044e82b295bff17932e6e2"
  }
 },
 "nbformat": 4,
 "nbformat_minor": 4
}