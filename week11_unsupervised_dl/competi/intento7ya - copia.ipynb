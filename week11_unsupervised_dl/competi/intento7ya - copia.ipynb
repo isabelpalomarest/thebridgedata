{
 "cells": [
  {
   "cell_type": "markdown",
   "metadata": {},
   "source": [
    "![image](competi.png)"
   ]
  },
  {
   "cell_type": "markdown",
   "metadata": {},
   "source": [
    "#### Aquí encontrarás todo lo que necesitas saber: https://www.kaggle.com/t/ab8726f0cfc84544abbae69a6be88071"
   ]
  },
  {
   "cell_type": "code",
   "execution_count": 38,
   "metadata": {},
   "outputs": [],
   "source": [
    "import numpy as np\n",
    "import pandas as pd\n",
    "\n",
    "import urllib.request\n",
    "from PIL import Image\n",
    "\n",
    "from sklearn.linear_model import LinearRegression\n",
    "from sklearn.model_selection import train_test_split\n",
    "from sklearn.metrics import mean_squared_error,r2_score\n",
    "from sklearn.preprocessing import LabelEncoder\n",
    "from sklearn.svm import SVR\n",
    "from sklearn.preprocessing import PolynomialFeatures\n",
    "from sklearn.preprocessing import OrdinalEncoder\n",
    "from sklearn.ensemble import RandomForestRegressor\n"
   ]
  },
  {
   "cell_type": "code",
   "execution_count": 73,
   "metadata": {},
   "outputs": [
    {
     "output_type": "execute_result",
     "data": {
      "text/plain": [
       "            0   1  2   3  4  5           6  7  8    9      10    11  \\\n",
       "0      161528   6  a   6  X  2  gynecology  R  F  4.0   45810   2.0   \n",
       "1      159472  23  a   6  X  4  gynecology  Q  F  2.0  128565  15.0   \n",
       "2      309765   2  c   5  Z  2  anesthesia  S  F  3.0   46565   5.0   \n",
       "3      279614  32  f   9  Y  3  gynecology  S  B  4.0  124546   6.0   \n",
       "4      147791  14  a   1  X  3  gynecology  S  E  2.0   22729   8.0   \n",
       "...       ...  .. ..  .. .. ..         ... .. ..  ...     ...   ...   \n",
       "99995  237869  12  a   9  Y  3  gynecology  R  B  3.0   82914   3.0   \n",
       "99996  254763  28  b  11  X  2  gynecology  R  F  2.0   40026   5.0   \n",
       "99997   69788   6  a   6  X  3  gynecology  Q  F  3.0   92346   2.0   \n",
       "99998  204442  32  f   9  Y  2  gynecology  S  B  4.0  113798  15.0   \n",
       "99999   69647  25  e   1  X  3  gynecology  Q  E  2.0  109237   8.0   \n",
       "\n",
       "              12        13  14     15      16                  17  \n",
       "0         Urgent  Moderate   2  21-30  2817.0                0-10  \n",
       "1         Trauma  Moderate   4  51-60  4498.0               21-30  \n",
       "2         Urgent  Moderate   2  71-80  4573.0               11-20  \n",
       "3      Emergency  Moderate   4  11-20  7202.0               51-60  \n",
       "4         Urgent  Moderate   2  51-60  3398.0               51-60  \n",
       "...          ...       ...  ..    ...     ...                 ...  \n",
       "99995  Emergency  Moderate   6  51-60  3966.0  More than 100 Days  \n",
       "99996     Urgent  Moderate   3  21-30  4005.0               51-60  \n",
       "99997     Trauma     Minor   2  31-40  5215.0               31-40  \n",
       "99998     Trauma  Moderate   3  41-50  5092.0               11-20  \n",
       "99999  Emergency  Moderate   2  41-50  3390.0               41-50  \n",
       "\n",
       "[100000 rows x 18 columns]"
      ],
      "text/html": "<div>\n<style scoped>\n    .dataframe tbody tr th:only-of-type {\n        vertical-align: middle;\n    }\n\n    .dataframe tbody tr th {\n        vertical-align: top;\n    }\n\n    .dataframe thead th {\n        text-align: right;\n    }\n</style>\n<table border=\"1\" class=\"dataframe\">\n  <thead>\n    <tr style=\"text-align: right;\">\n      <th></th>\n      <th>0</th>\n      <th>1</th>\n      <th>2</th>\n      <th>3</th>\n      <th>4</th>\n      <th>5</th>\n      <th>6</th>\n      <th>7</th>\n      <th>8</th>\n      <th>9</th>\n      <th>10</th>\n      <th>11</th>\n      <th>12</th>\n      <th>13</th>\n      <th>14</th>\n      <th>15</th>\n      <th>16</th>\n      <th>17</th>\n    </tr>\n  </thead>\n  <tbody>\n    <tr>\n      <th>0</th>\n      <td>161528</td>\n      <td>6</td>\n      <td>a</td>\n      <td>6</td>\n      <td>X</td>\n      <td>2</td>\n      <td>gynecology</td>\n      <td>R</td>\n      <td>F</td>\n      <td>4.0</td>\n      <td>45810</td>\n      <td>2.0</td>\n      <td>Urgent</td>\n      <td>Moderate</td>\n      <td>2</td>\n      <td>21-30</td>\n      <td>2817.0</td>\n      <td>0-10</td>\n    </tr>\n    <tr>\n      <th>1</th>\n      <td>159472</td>\n      <td>23</td>\n      <td>a</td>\n      <td>6</td>\n      <td>X</td>\n      <td>4</td>\n      <td>gynecology</td>\n      <td>Q</td>\n      <td>F</td>\n      <td>2.0</td>\n      <td>128565</td>\n      <td>15.0</td>\n      <td>Trauma</td>\n      <td>Moderate</td>\n      <td>4</td>\n      <td>51-60</td>\n      <td>4498.0</td>\n      <td>21-30</td>\n    </tr>\n    <tr>\n      <th>2</th>\n      <td>309765</td>\n      <td>2</td>\n      <td>c</td>\n      <td>5</td>\n      <td>Z</td>\n      <td>2</td>\n      <td>anesthesia</td>\n      <td>S</td>\n      <td>F</td>\n      <td>3.0</td>\n      <td>46565</td>\n      <td>5.0</td>\n      <td>Urgent</td>\n      <td>Moderate</td>\n      <td>2</td>\n      <td>71-80</td>\n      <td>4573.0</td>\n      <td>11-20</td>\n    </tr>\n    <tr>\n      <th>3</th>\n      <td>279614</td>\n      <td>32</td>\n      <td>f</td>\n      <td>9</td>\n      <td>Y</td>\n      <td>3</td>\n      <td>gynecology</td>\n      <td>S</td>\n      <td>B</td>\n      <td>4.0</td>\n      <td>124546</td>\n      <td>6.0</td>\n      <td>Emergency</td>\n      <td>Moderate</td>\n      <td>4</td>\n      <td>11-20</td>\n      <td>7202.0</td>\n      <td>51-60</td>\n    </tr>\n    <tr>\n      <th>4</th>\n      <td>147791</td>\n      <td>14</td>\n      <td>a</td>\n      <td>1</td>\n      <td>X</td>\n      <td>3</td>\n      <td>gynecology</td>\n      <td>S</td>\n      <td>E</td>\n      <td>2.0</td>\n      <td>22729</td>\n      <td>8.0</td>\n      <td>Urgent</td>\n      <td>Moderate</td>\n      <td>2</td>\n      <td>51-60</td>\n      <td>3398.0</td>\n      <td>51-60</td>\n    </tr>\n    <tr>\n      <th>...</th>\n      <td>...</td>\n      <td>...</td>\n      <td>...</td>\n      <td>...</td>\n      <td>...</td>\n      <td>...</td>\n      <td>...</td>\n      <td>...</td>\n      <td>...</td>\n      <td>...</td>\n      <td>...</td>\n      <td>...</td>\n      <td>...</td>\n      <td>...</td>\n      <td>...</td>\n      <td>...</td>\n      <td>...</td>\n      <td>...</td>\n    </tr>\n    <tr>\n      <th>99995</th>\n      <td>237869</td>\n      <td>12</td>\n      <td>a</td>\n      <td>9</td>\n      <td>Y</td>\n      <td>3</td>\n      <td>gynecology</td>\n      <td>R</td>\n      <td>B</td>\n      <td>3.0</td>\n      <td>82914</td>\n      <td>3.0</td>\n      <td>Emergency</td>\n      <td>Moderate</td>\n      <td>6</td>\n      <td>51-60</td>\n      <td>3966.0</td>\n      <td>More than 100 Days</td>\n    </tr>\n    <tr>\n      <th>99996</th>\n      <td>254763</td>\n      <td>28</td>\n      <td>b</td>\n      <td>11</td>\n      <td>X</td>\n      <td>2</td>\n      <td>gynecology</td>\n      <td>R</td>\n      <td>F</td>\n      <td>2.0</td>\n      <td>40026</td>\n      <td>5.0</td>\n      <td>Urgent</td>\n      <td>Moderate</td>\n      <td>3</td>\n      <td>21-30</td>\n      <td>4005.0</td>\n      <td>51-60</td>\n    </tr>\n    <tr>\n      <th>99997</th>\n      <td>69788</td>\n      <td>6</td>\n      <td>a</td>\n      <td>6</td>\n      <td>X</td>\n      <td>3</td>\n      <td>gynecology</td>\n      <td>Q</td>\n      <td>F</td>\n      <td>3.0</td>\n      <td>92346</td>\n      <td>2.0</td>\n      <td>Trauma</td>\n      <td>Minor</td>\n      <td>2</td>\n      <td>31-40</td>\n      <td>5215.0</td>\n      <td>31-40</td>\n    </tr>\n    <tr>\n      <th>99998</th>\n      <td>204442</td>\n      <td>32</td>\n      <td>f</td>\n      <td>9</td>\n      <td>Y</td>\n      <td>2</td>\n      <td>gynecology</td>\n      <td>S</td>\n      <td>B</td>\n      <td>4.0</td>\n      <td>113798</td>\n      <td>15.0</td>\n      <td>Trauma</td>\n      <td>Moderate</td>\n      <td>3</td>\n      <td>41-50</td>\n      <td>5092.0</td>\n      <td>11-20</td>\n    </tr>\n    <tr>\n      <th>99999</th>\n      <td>69647</td>\n      <td>25</td>\n      <td>e</td>\n      <td>1</td>\n      <td>X</td>\n      <td>3</td>\n      <td>gynecology</td>\n      <td>Q</td>\n      <td>E</td>\n      <td>2.0</td>\n      <td>109237</td>\n      <td>8.0</td>\n      <td>Emergency</td>\n      <td>Moderate</td>\n      <td>2</td>\n      <td>41-50</td>\n      <td>3390.0</td>\n      <td>41-50</td>\n    </tr>\n  </tbody>\n</table>\n<p>100000 rows × 18 columns</p>\n</div>"
     },
     "metadata": {},
     "execution_count": 73
    }
   ],
   "source": [
    "### Para que funcione necesitas bajarte los archivos de datos de Kaggle \n",
    "df = pd.read_csv(\"hospital_train.csv\")\n",
    "df"
   ]
  },
  {
   "cell_type": "code",
   "execution_count": 74,
   "metadata": {},
   "outputs": [],
   "source": [
    "df.drop([\"1\",\"2\"],axis=1,inplace=True)"
   ]
  },
  {
   "cell_type": "code",
   "execution_count": 75,
   "metadata": {},
   "outputs": [
    {
     "output_type": "execute_result",
     "data": {
      "text/plain": [
       "                        0      3      4      5      6      7      8      9  \\\n",
       "17                                                                           \n",
       "0-10                 7427   7427   7427   7427   7427   7427   7427   7426   \n",
       "11-20               24476  24476  24476  24476  24476  24476  24476  24469   \n",
       "21-30               27452  27452  27452  27452  27452  27452  27452  27444   \n",
       "31-40               17311  17311  17311  17311  17311  17311  17311  17303   \n",
       "41-50                3668   3668   3668   3668   3668   3668   3668   3665   \n",
       "51-60               10984  10984  10984  10984  10984  10984  10984  10980   \n",
       "61-70                 857    857    857    857    857    857    857    857   \n",
       "71-80                3297   3297   3297   3297   3297   3297   3297   3295   \n",
       "81-90                1470   1470   1470   1470   1470   1470   1470   1470   \n",
       "91-100                908    908    908    908    908    908    908    908   \n",
       "More than 100 Days   2150   2150   2150   2150   2150   2150   2150   2150   \n",
       "\n",
       "                       10     11     12     13     14     15     16  \n",
       "17                                                                   \n",
       "0-10                 7427   7306   7427   7427   7427   7427   7427  \n",
       "11-20               24476  24150  24476  24476  24476  24476  24476  \n",
       "21-30               27452  27065  27452  27452  27452  27452  27452  \n",
       "31-40               17311  17050  17311  17311  17311  17311  17311  \n",
       "41-50                3668   3602   3668   3668   3668   3668   3668  \n",
       "51-60               10984  10817  10984  10984  10984  10984  10984  \n",
       "61-70                 857    842    857    857    857    857    857  \n",
       "71-80                3297   3245   3297   3297   3297   3297   3297  \n",
       "81-90                1470   1447   1470   1470   1470   1470   1470  \n",
       "91-100                908    893    908    908    908    908    908  \n",
       "More than 100 Days   2150   2100   2150   2150   2150   2150   2150  "
      ],
      "text/html": "<div>\n<style scoped>\n    .dataframe tbody tr th:only-of-type {\n        vertical-align: middle;\n    }\n\n    .dataframe tbody tr th {\n        vertical-align: top;\n    }\n\n    .dataframe thead th {\n        text-align: right;\n    }\n</style>\n<table border=\"1\" class=\"dataframe\">\n  <thead>\n    <tr style=\"text-align: right;\">\n      <th></th>\n      <th>0</th>\n      <th>3</th>\n      <th>4</th>\n      <th>5</th>\n      <th>6</th>\n      <th>7</th>\n      <th>8</th>\n      <th>9</th>\n      <th>10</th>\n      <th>11</th>\n      <th>12</th>\n      <th>13</th>\n      <th>14</th>\n      <th>15</th>\n      <th>16</th>\n    </tr>\n    <tr>\n      <th>17</th>\n      <th></th>\n      <th></th>\n      <th></th>\n      <th></th>\n      <th></th>\n      <th></th>\n      <th></th>\n      <th></th>\n      <th></th>\n      <th></th>\n      <th></th>\n      <th></th>\n      <th></th>\n      <th></th>\n      <th></th>\n    </tr>\n  </thead>\n  <tbody>\n    <tr>\n      <th>0-10</th>\n      <td>7427</td>\n      <td>7427</td>\n      <td>7427</td>\n      <td>7427</td>\n      <td>7427</td>\n      <td>7427</td>\n      <td>7427</td>\n      <td>7426</td>\n      <td>7427</td>\n      <td>7306</td>\n      <td>7427</td>\n      <td>7427</td>\n      <td>7427</td>\n      <td>7427</td>\n      <td>7427</td>\n    </tr>\n    <tr>\n      <th>11-20</th>\n      <td>24476</td>\n      <td>24476</td>\n      <td>24476</td>\n      <td>24476</td>\n      <td>24476</td>\n      <td>24476</td>\n      <td>24476</td>\n      <td>24469</td>\n      <td>24476</td>\n      <td>24150</td>\n      <td>24476</td>\n      <td>24476</td>\n      <td>24476</td>\n      <td>24476</td>\n      <td>24476</td>\n    </tr>\n    <tr>\n      <th>21-30</th>\n      <td>27452</td>\n      <td>27452</td>\n      <td>27452</td>\n      <td>27452</td>\n      <td>27452</td>\n      <td>27452</td>\n      <td>27452</td>\n      <td>27444</td>\n      <td>27452</td>\n      <td>27065</td>\n      <td>27452</td>\n      <td>27452</td>\n      <td>27452</td>\n      <td>27452</td>\n      <td>27452</td>\n    </tr>\n    <tr>\n      <th>31-40</th>\n      <td>17311</td>\n      <td>17311</td>\n      <td>17311</td>\n      <td>17311</td>\n      <td>17311</td>\n      <td>17311</td>\n      <td>17311</td>\n      <td>17303</td>\n      <td>17311</td>\n      <td>17050</td>\n      <td>17311</td>\n      <td>17311</td>\n      <td>17311</td>\n      <td>17311</td>\n      <td>17311</td>\n    </tr>\n    <tr>\n      <th>41-50</th>\n      <td>3668</td>\n      <td>3668</td>\n      <td>3668</td>\n      <td>3668</td>\n      <td>3668</td>\n      <td>3668</td>\n      <td>3668</td>\n      <td>3665</td>\n      <td>3668</td>\n      <td>3602</td>\n      <td>3668</td>\n      <td>3668</td>\n      <td>3668</td>\n      <td>3668</td>\n      <td>3668</td>\n    </tr>\n    <tr>\n      <th>51-60</th>\n      <td>10984</td>\n      <td>10984</td>\n      <td>10984</td>\n      <td>10984</td>\n      <td>10984</td>\n      <td>10984</td>\n      <td>10984</td>\n      <td>10980</td>\n      <td>10984</td>\n      <td>10817</td>\n      <td>10984</td>\n      <td>10984</td>\n      <td>10984</td>\n      <td>10984</td>\n      <td>10984</td>\n    </tr>\n    <tr>\n      <th>61-70</th>\n      <td>857</td>\n      <td>857</td>\n      <td>857</td>\n      <td>857</td>\n      <td>857</td>\n      <td>857</td>\n      <td>857</td>\n      <td>857</td>\n      <td>857</td>\n      <td>842</td>\n      <td>857</td>\n      <td>857</td>\n      <td>857</td>\n      <td>857</td>\n      <td>857</td>\n    </tr>\n    <tr>\n      <th>71-80</th>\n      <td>3297</td>\n      <td>3297</td>\n      <td>3297</td>\n      <td>3297</td>\n      <td>3297</td>\n      <td>3297</td>\n      <td>3297</td>\n      <td>3295</td>\n      <td>3297</td>\n      <td>3245</td>\n      <td>3297</td>\n      <td>3297</td>\n      <td>3297</td>\n      <td>3297</td>\n      <td>3297</td>\n    </tr>\n    <tr>\n      <th>81-90</th>\n      <td>1470</td>\n      <td>1470</td>\n      <td>1470</td>\n      <td>1470</td>\n      <td>1470</td>\n      <td>1470</td>\n      <td>1470</td>\n      <td>1470</td>\n      <td>1470</td>\n      <td>1447</td>\n      <td>1470</td>\n      <td>1470</td>\n      <td>1470</td>\n      <td>1470</td>\n      <td>1470</td>\n    </tr>\n    <tr>\n      <th>91-100</th>\n      <td>908</td>\n      <td>908</td>\n      <td>908</td>\n      <td>908</td>\n      <td>908</td>\n      <td>908</td>\n      <td>908</td>\n      <td>908</td>\n      <td>908</td>\n      <td>893</td>\n      <td>908</td>\n      <td>908</td>\n      <td>908</td>\n      <td>908</td>\n      <td>908</td>\n    </tr>\n    <tr>\n      <th>More than 100 Days</th>\n      <td>2150</td>\n      <td>2150</td>\n      <td>2150</td>\n      <td>2150</td>\n      <td>2150</td>\n      <td>2150</td>\n      <td>2150</td>\n      <td>2150</td>\n      <td>2150</td>\n      <td>2100</td>\n      <td>2150</td>\n      <td>2150</td>\n      <td>2150</td>\n      <td>2150</td>\n      <td>2150</td>\n    </tr>\n  </tbody>\n</table>\n</div>"
     },
     "metadata": {},
     "execution_count": 75
    }
   ],
   "source": [
    "df.groupby(\"17\").count()"
   ]
  },
  {
   "cell_type": "code",
   "execution_count": 76,
   "metadata": {},
   "outputs": [],
   "source": [
    "encoder = OrdinalEncoder(categories=[[\"0-10\", \"11-20\", \"21-30\", \"31-40\", \"41-50\",\"51-60\", \"61-70\",\"71-80\",\"81-90\",\"91-100\",\"More than 100 Days\"]])\n",
    "encoder.fit(df[[\"17\"]])\n",
    "df[\"17\"] = encoder.transform(df[[\"17\"]])"
   ]
  },
  {
   "cell_type": "code",
   "execution_count": 77,
   "metadata": {},
   "outputs": [
    {
     "output_type": "execute_result",
     "data": {
      "text/plain": [
       "            0   3  4  5           6  7  8    9      10    11         12  \\\n",
       "0      161528   6  X  2  gynecology  R  F  4.0   45810   2.0     Urgent   \n",
       "1      159472   6  X  4  gynecology  Q  F  2.0  128565  15.0     Trauma   \n",
       "2      309765   5  Z  2  anesthesia  S  F  3.0   46565   5.0     Urgent   \n",
       "3      279614   9  Y  3  gynecology  S  B  4.0  124546   6.0  Emergency   \n",
       "4      147791   1  X  3  gynecology  S  E  2.0   22729   8.0     Urgent   \n",
       "...       ...  .. .. ..         ... .. ..  ...     ...   ...        ...   \n",
       "99995  237869   9  Y  3  gynecology  R  B  3.0   82914   3.0  Emergency   \n",
       "99996  254763  11  X  2  gynecology  R  F  2.0   40026   5.0     Urgent   \n",
       "99997   69788   6  X  3  gynecology  Q  F  3.0   92346   2.0     Trauma   \n",
       "99998  204442   9  Y  2  gynecology  S  B  4.0  113798  15.0     Trauma   \n",
       "99999   69647   1  X  3  gynecology  Q  E  2.0  109237   8.0  Emergency   \n",
       "\n",
       "             13  14     15      16    17  \n",
       "0      Moderate   2  21-30  2817.0   0.0  \n",
       "1      Moderate   4  51-60  4498.0   2.0  \n",
       "2      Moderate   2  71-80  4573.0   1.0  \n",
       "3      Moderate   4  11-20  7202.0   5.0  \n",
       "4      Moderate   2  51-60  3398.0   5.0  \n",
       "...         ...  ..    ...     ...   ...  \n",
       "99995  Moderate   6  51-60  3966.0  10.0  \n",
       "99996  Moderate   3  21-30  4005.0   5.0  \n",
       "99997     Minor   2  31-40  5215.0   3.0  \n",
       "99998  Moderate   3  41-50  5092.0   1.0  \n",
       "99999  Moderate   2  41-50  3390.0   4.0  \n",
       "\n",
       "[100000 rows x 16 columns]"
      ],
      "text/html": "<div>\n<style scoped>\n    .dataframe tbody tr th:only-of-type {\n        vertical-align: middle;\n    }\n\n    .dataframe tbody tr th {\n        vertical-align: top;\n    }\n\n    .dataframe thead th {\n        text-align: right;\n    }\n</style>\n<table border=\"1\" class=\"dataframe\">\n  <thead>\n    <tr style=\"text-align: right;\">\n      <th></th>\n      <th>0</th>\n      <th>3</th>\n      <th>4</th>\n      <th>5</th>\n      <th>6</th>\n      <th>7</th>\n      <th>8</th>\n      <th>9</th>\n      <th>10</th>\n      <th>11</th>\n      <th>12</th>\n      <th>13</th>\n      <th>14</th>\n      <th>15</th>\n      <th>16</th>\n      <th>17</th>\n    </tr>\n  </thead>\n  <tbody>\n    <tr>\n      <th>0</th>\n      <td>161528</td>\n      <td>6</td>\n      <td>X</td>\n      <td>2</td>\n      <td>gynecology</td>\n      <td>R</td>\n      <td>F</td>\n      <td>4.0</td>\n      <td>45810</td>\n      <td>2.0</td>\n      <td>Urgent</td>\n      <td>Moderate</td>\n      <td>2</td>\n      <td>21-30</td>\n      <td>2817.0</td>\n      <td>0.0</td>\n    </tr>\n    <tr>\n      <th>1</th>\n      <td>159472</td>\n      <td>6</td>\n      <td>X</td>\n      <td>4</td>\n      <td>gynecology</td>\n      <td>Q</td>\n      <td>F</td>\n      <td>2.0</td>\n      <td>128565</td>\n      <td>15.0</td>\n      <td>Trauma</td>\n      <td>Moderate</td>\n      <td>4</td>\n      <td>51-60</td>\n      <td>4498.0</td>\n      <td>2.0</td>\n    </tr>\n    <tr>\n      <th>2</th>\n      <td>309765</td>\n      <td>5</td>\n      <td>Z</td>\n      <td>2</td>\n      <td>anesthesia</td>\n      <td>S</td>\n      <td>F</td>\n      <td>3.0</td>\n      <td>46565</td>\n      <td>5.0</td>\n      <td>Urgent</td>\n      <td>Moderate</td>\n      <td>2</td>\n      <td>71-80</td>\n      <td>4573.0</td>\n      <td>1.0</td>\n    </tr>\n    <tr>\n      <th>3</th>\n      <td>279614</td>\n      <td>9</td>\n      <td>Y</td>\n      <td>3</td>\n      <td>gynecology</td>\n      <td>S</td>\n      <td>B</td>\n      <td>4.0</td>\n      <td>124546</td>\n      <td>6.0</td>\n      <td>Emergency</td>\n      <td>Moderate</td>\n      <td>4</td>\n      <td>11-20</td>\n      <td>7202.0</td>\n      <td>5.0</td>\n    </tr>\n    <tr>\n      <th>4</th>\n      <td>147791</td>\n      <td>1</td>\n      <td>X</td>\n      <td>3</td>\n      <td>gynecology</td>\n      <td>S</td>\n      <td>E</td>\n      <td>2.0</td>\n      <td>22729</td>\n      <td>8.0</td>\n      <td>Urgent</td>\n      <td>Moderate</td>\n      <td>2</td>\n      <td>51-60</td>\n      <td>3398.0</td>\n      <td>5.0</td>\n    </tr>\n    <tr>\n      <th>...</th>\n      <td>...</td>\n      <td>...</td>\n      <td>...</td>\n      <td>...</td>\n      <td>...</td>\n      <td>...</td>\n      <td>...</td>\n      <td>...</td>\n      <td>...</td>\n      <td>...</td>\n      <td>...</td>\n      <td>...</td>\n      <td>...</td>\n      <td>...</td>\n      <td>...</td>\n      <td>...</td>\n    </tr>\n    <tr>\n      <th>99995</th>\n      <td>237869</td>\n      <td>9</td>\n      <td>Y</td>\n      <td>3</td>\n      <td>gynecology</td>\n      <td>R</td>\n      <td>B</td>\n      <td>3.0</td>\n      <td>82914</td>\n      <td>3.0</td>\n      <td>Emergency</td>\n      <td>Moderate</td>\n      <td>6</td>\n      <td>51-60</td>\n      <td>3966.0</td>\n      <td>10.0</td>\n    </tr>\n    <tr>\n      <th>99996</th>\n      <td>254763</td>\n      <td>11</td>\n      <td>X</td>\n      <td>2</td>\n      <td>gynecology</td>\n      <td>R</td>\n      <td>F</td>\n      <td>2.0</td>\n      <td>40026</td>\n      <td>5.0</td>\n      <td>Urgent</td>\n      <td>Moderate</td>\n      <td>3</td>\n      <td>21-30</td>\n      <td>4005.0</td>\n      <td>5.0</td>\n    </tr>\n    <tr>\n      <th>99997</th>\n      <td>69788</td>\n      <td>6</td>\n      <td>X</td>\n      <td>3</td>\n      <td>gynecology</td>\n      <td>Q</td>\n      <td>F</td>\n      <td>3.0</td>\n      <td>92346</td>\n      <td>2.0</td>\n      <td>Trauma</td>\n      <td>Minor</td>\n      <td>2</td>\n      <td>31-40</td>\n      <td>5215.0</td>\n      <td>3.0</td>\n    </tr>\n    <tr>\n      <th>99998</th>\n      <td>204442</td>\n      <td>9</td>\n      <td>Y</td>\n      <td>2</td>\n      <td>gynecology</td>\n      <td>S</td>\n      <td>B</td>\n      <td>4.0</td>\n      <td>113798</td>\n      <td>15.0</td>\n      <td>Trauma</td>\n      <td>Moderate</td>\n      <td>3</td>\n      <td>41-50</td>\n      <td>5092.0</td>\n      <td>1.0</td>\n    </tr>\n    <tr>\n      <th>99999</th>\n      <td>69647</td>\n      <td>1</td>\n      <td>X</td>\n      <td>3</td>\n      <td>gynecology</td>\n      <td>Q</td>\n      <td>E</td>\n      <td>2.0</td>\n      <td>109237</td>\n      <td>8.0</td>\n      <td>Emergency</td>\n      <td>Moderate</td>\n      <td>2</td>\n      <td>41-50</td>\n      <td>3390.0</td>\n      <td>4.0</td>\n    </tr>\n  </tbody>\n</table>\n<p>100000 rows × 16 columns</p>\n</div>"
     },
     "metadata": {},
     "execution_count": 77
    }
   ],
   "source": [
    "df"
   ]
  },
  {
   "cell_type": "code",
   "execution_count": 78,
   "metadata": {},
   "outputs": [
    {
     "output_type": "execute_result",
     "data": {
      "text/plain": [
       "           0         3         5         9        10        11        14  \\\n",
       "0   1.000000 -0.012569  0.044390  0.012169 -0.005268  0.065421 -0.000304   \n",
       "3  -0.012569  1.000000 -0.043746 -0.048573 -0.004483 -0.027284  0.021327   \n",
       "5   0.044390 -0.043746  1.000000 -0.118375  0.005043 -0.010412  0.091744   \n",
       "9   0.012169 -0.048573 -0.118375  1.000000  0.005770 -0.010966  0.093038   \n",
       "10 -0.005268 -0.004483  0.005043  0.005770  1.000000  0.006760  0.007707   \n",
       "11  0.065421 -0.027284 -0.010412 -0.010966  0.006760  1.000000 -0.008242   \n",
       "14 -0.000304  0.021327  0.091744  0.093038  0.007707 -0.008242  1.000000   \n",
       "16 -0.043202 -0.033820 -0.141999  0.071130 -0.001891  0.025461 -0.152946   \n",
       "17 -0.055761  0.008060 -0.122707  0.029388  0.002740 -0.002498  0.543491   \n",
       "\n",
       "          16        17  \n",
       "0  -0.043202 -0.055761  \n",
       "3  -0.033820  0.008060  \n",
       "5  -0.141999 -0.122707  \n",
       "9   0.071130  0.029388  \n",
       "10 -0.001891  0.002740  \n",
       "11  0.025461 -0.002498  \n",
       "14 -0.152946  0.543491  \n",
       "16  1.000000 -0.056711  \n",
       "17 -0.056711  1.000000  "
      ],
      "text/html": "<div>\n<style scoped>\n    .dataframe tbody tr th:only-of-type {\n        vertical-align: middle;\n    }\n\n    .dataframe tbody tr th {\n        vertical-align: top;\n    }\n\n    .dataframe thead th {\n        text-align: right;\n    }\n</style>\n<table border=\"1\" class=\"dataframe\">\n  <thead>\n    <tr style=\"text-align: right;\">\n      <th></th>\n      <th>0</th>\n      <th>3</th>\n      <th>5</th>\n      <th>9</th>\n      <th>10</th>\n      <th>11</th>\n      <th>14</th>\n      <th>16</th>\n      <th>17</th>\n    </tr>\n  </thead>\n  <tbody>\n    <tr>\n      <th>0</th>\n      <td>1.000000</td>\n      <td>-0.012569</td>\n      <td>0.044390</td>\n      <td>0.012169</td>\n      <td>-0.005268</td>\n      <td>0.065421</td>\n      <td>-0.000304</td>\n      <td>-0.043202</td>\n      <td>-0.055761</td>\n    </tr>\n    <tr>\n      <th>3</th>\n      <td>-0.012569</td>\n      <td>1.000000</td>\n      <td>-0.043746</td>\n      <td>-0.048573</td>\n      <td>-0.004483</td>\n      <td>-0.027284</td>\n      <td>0.021327</td>\n      <td>-0.033820</td>\n      <td>0.008060</td>\n    </tr>\n    <tr>\n      <th>5</th>\n      <td>0.044390</td>\n      <td>-0.043746</td>\n      <td>1.000000</td>\n      <td>-0.118375</td>\n      <td>0.005043</td>\n      <td>-0.010412</td>\n      <td>0.091744</td>\n      <td>-0.141999</td>\n      <td>-0.122707</td>\n    </tr>\n    <tr>\n      <th>9</th>\n      <td>0.012169</td>\n      <td>-0.048573</td>\n      <td>-0.118375</td>\n      <td>1.000000</td>\n      <td>0.005770</td>\n      <td>-0.010966</td>\n      <td>0.093038</td>\n      <td>0.071130</td>\n      <td>0.029388</td>\n    </tr>\n    <tr>\n      <th>10</th>\n      <td>-0.005268</td>\n      <td>-0.004483</td>\n      <td>0.005043</td>\n      <td>0.005770</td>\n      <td>1.000000</td>\n      <td>0.006760</td>\n      <td>0.007707</td>\n      <td>-0.001891</td>\n      <td>0.002740</td>\n    </tr>\n    <tr>\n      <th>11</th>\n      <td>0.065421</td>\n      <td>-0.027284</td>\n      <td>-0.010412</td>\n      <td>-0.010966</td>\n      <td>0.006760</td>\n      <td>1.000000</td>\n      <td>-0.008242</td>\n      <td>0.025461</td>\n      <td>-0.002498</td>\n    </tr>\n    <tr>\n      <th>14</th>\n      <td>-0.000304</td>\n      <td>0.021327</td>\n      <td>0.091744</td>\n      <td>0.093038</td>\n      <td>0.007707</td>\n      <td>-0.008242</td>\n      <td>1.000000</td>\n      <td>-0.152946</td>\n      <td>0.543491</td>\n    </tr>\n    <tr>\n      <th>16</th>\n      <td>-0.043202</td>\n      <td>-0.033820</td>\n      <td>-0.141999</td>\n      <td>0.071130</td>\n      <td>-0.001891</td>\n      <td>0.025461</td>\n      <td>-0.152946</td>\n      <td>1.000000</td>\n      <td>-0.056711</td>\n    </tr>\n    <tr>\n      <th>17</th>\n      <td>-0.055761</td>\n      <td>0.008060</td>\n      <td>-0.122707</td>\n      <td>0.029388</td>\n      <td>0.002740</td>\n      <td>-0.002498</td>\n      <td>0.543491</td>\n      <td>-0.056711</td>\n      <td>1.000000</td>\n    </tr>\n  </tbody>\n</table>\n</div>"
     },
     "metadata": {},
     "execution_count": 78
    }
   ],
   "source": [
    "df.corr()"
   ]
  },
  {
   "cell_type": "code",
   "execution_count": 89,
   "metadata": {},
   "outputs": [],
   "source": []
  },
  {
   "cell_type": "code",
   "execution_count": 79,
   "metadata": {},
   "outputs": [
    {
     "output_type": "execute_result",
     "data": {
      "text/plain": [
       "(100000, 5)"
      ]
     },
     "metadata": {},
     "execution_count": 79
    }
   ],
   "source": [
    "\n",
    "X = np.array(df[[\"3\",\"5\",\"10\",\"14\",\"16\"]])\n",
    "y = np.array(df[\"17\"])\n",
    "X.shape\n"
   ]
  },
  {
   "cell_type": "code",
   "execution_count": 80,
   "metadata": {},
   "outputs": [
    {
     "output_type": "execute_result",
     "data": {
      "text/plain": [
       "(100000,)"
      ]
     },
     "metadata": {},
     "execution_count": 80
    }
   ],
   "source": [
    "y.shape"
   ]
  },
  {
   "cell_type": "code",
   "execution_count": 81,
   "metadata": {},
   "outputs": [],
   "source": [
    "# el test_size 0.20 y el random_state puede cambiar\n",
    "train_X, test_X, train_y, test_y = train_test_split(X, y, test_size=0.2, random_state=7)"
   ]
  },
  {
   "cell_type": "code",
   "execution_count": 82,
   "metadata": {},
   "outputs": [
    {
     "output_type": "execute_result",
     "data": {
      "text/plain": [
       "array([[6.0000e+00, 3.0000e+00, 2.2111e+04, 3.0000e+00, 4.6250e+03],\n",
       "       [6.0000e+00, 4.0000e+00, 9.9838e+04, 2.0000e+00, 6.2930e+03],\n",
       "       [5.0000e+00, 5.0000e+00, 2.2470e+03, 3.0000e+00, 6.0390e+03],\n",
       "       ...,\n",
       "       [9.0000e+00, 2.0000e+00, 5.2707e+04, 2.0000e+00, 4.5440e+03],\n",
       "       [5.0000e+00, 2.0000e+00, 4.7930e+04, 1.4000e+01, 2.9360e+03],\n",
       "       [1.1000e+01, 4.0000e+00, 4.9829e+04, 3.0000e+00, 5.2080e+03]])"
      ]
     },
     "metadata": {},
     "execution_count": 82
    }
   ],
   "source": [
    "train_X"
   ]
  },
  {
   "cell_type": "code",
   "execution_count": 83,
   "metadata": {},
   "outputs": [
    {
     "output_type": "stream",
     "name": "stdout",
     "text": [
      "<class 'pandas.core.frame.DataFrame'>\nRangeIndex: 100000 entries, 0 to 99999\nData columns (total 16 columns):\n #   Column  Non-Null Count   Dtype  \n---  ------  --------------   -----  \n 0   0       100000 non-null  int64  \n 1   3       100000 non-null  int64  \n 2   4       100000 non-null  object \n 3   5       100000 non-null  int64  \n 4   6       100000 non-null  object \n 5   7       100000 non-null  object \n 6   8       100000 non-null  object \n 7   9       99967 non-null   float64\n 8   10      100000 non-null  int64  \n 9   11      98517 non-null   float64\n 10  12      100000 non-null  object \n 11  13      100000 non-null  object \n 12  14      100000 non-null  int64  \n 13  15      100000 non-null  object \n 14  16      100000 non-null  float64\n 15  17      100000 non-null  float64\ndtypes: float64(4), int64(5), object(7)\nmemory usage: 12.2+ MB\n"
     ]
    }
   ],
   "source": [
    "df.info()"
   ]
  },
  {
   "cell_type": "code",
   "execution_count": 84,
   "metadata": {},
   "outputs": [
    {
     "output_type": "execute_result",
     "data": {
      "text/plain": [
       "RandomForestRegressor(n_estimators=500, n_jobs=5, random_state=7)"
      ]
     },
     "metadata": {},
     "execution_count": 84
    }
   ],
   "source": [
    "rf = RandomForestRegressor(n_estimators=500, random_state=7,n_jobs=5)\n",
    "rf.fit(train_X, train_y)\n"
   ]
  },
  {
   "cell_type": "code",
   "execution_count": 85,
   "metadata": {},
   "outputs": [],
   "source": [
    "predictions = rf.predict(test_X)"
   ]
  },
  {
   "cell_type": "code",
   "execution_count": 86,
   "metadata": {},
   "outputs": [
    {
     "output_type": "stream",
     "name": "stdout",
     "text": [
      "Mean Absolute Error: 1.32 degrees.\n"
     ]
    }
   ],
   "source": [
    "errors = abs(predictions - test_y)\n",
    "# Print out the mean absolute error (mae)\n",
    "print('Mean Absolute Error:', round(np.mean(errors), 2), 'degrees.')"
   ]
  },
  {
   "cell_type": "code",
   "execution_count": 87,
   "metadata": {},
   "outputs": [
    {
     "output_type": "execute_result",
     "data": {
      "text/plain": [
       "1.790203394005617"
      ]
     },
     "metadata": {},
     "execution_count": 87
    }
   ],
   "source": [
    "np.sqrt(mean_squared_error(test_y, predictions))"
   ]
  },
  {
   "cell_type": "markdown",
   "metadata": {},
   "source": [
    "-----------------------------------------------------------------"
   ]
  },
  {
   "cell_type": "code",
   "execution_count": 88,
   "metadata": {},
   "outputs": [
    {
     "output_type": "execute_result",
     "data": {
      "text/plain": [
       "        0   1  2  3  4  5                   6  7  8    9      10    11  \\\n",
       "0  314114  19  a  7  Y  4          gynecology  S  C  2.0   59278   8.0   \n",
       "1  208989  15  c  5  Z  3          gynecology  S  F  2.0  102253  15.0   \n",
       "2  305872  17  e  1  X  4          gynecology  R  E  4.0    5828   4.0   \n",
       "3  266099   3  c  3  Z  4  TB & Chest disease  R  A  2.0   56642   9.0   \n",
       "4   13228   6  a  6  X  4          gynecology  R  F  1.0  116266   8.0   \n",
       "\n",
       "          12        13  14     15      16  \n",
       "0  Emergency     Minor   2  41-50  4778.0  \n",
       "1     Trauma  Moderate   3  31-40  5734.0  \n",
       "2  Emergency     Minor   3  71-80  5064.0  \n",
       "3     Urgent   Extreme   4  31-40  3254.0  \n",
       "4  Emergency     Minor   3  21-30  4639.0  "
      ],
      "text/html": "<div>\n<style scoped>\n    .dataframe tbody tr th:only-of-type {\n        vertical-align: middle;\n    }\n\n    .dataframe tbody tr th {\n        vertical-align: top;\n    }\n\n    .dataframe thead th {\n        text-align: right;\n    }\n</style>\n<table border=\"1\" class=\"dataframe\">\n  <thead>\n    <tr style=\"text-align: right;\">\n      <th></th>\n      <th>0</th>\n      <th>1</th>\n      <th>2</th>\n      <th>3</th>\n      <th>4</th>\n      <th>5</th>\n      <th>6</th>\n      <th>7</th>\n      <th>8</th>\n      <th>9</th>\n      <th>10</th>\n      <th>11</th>\n      <th>12</th>\n      <th>13</th>\n      <th>14</th>\n      <th>15</th>\n      <th>16</th>\n    </tr>\n  </thead>\n  <tbody>\n    <tr>\n      <th>0</th>\n      <td>314114</td>\n      <td>19</td>\n      <td>a</td>\n      <td>7</td>\n      <td>Y</td>\n      <td>4</td>\n      <td>gynecology</td>\n      <td>S</td>\n      <td>C</td>\n      <td>2.0</td>\n      <td>59278</td>\n      <td>8.0</td>\n      <td>Emergency</td>\n      <td>Minor</td>\n      <td>2</td>\n      <td>41-50</td>\n      <td>4778.0</td>\n    </tr>\n    <tr>\n      <th>1</th>\n      <td>208989</td>\n      <td>15</td>\n      <td>c</td>\n      <td>5</td>\n      <td>Z</td>\n      <td>3</td>\n      <td>gynecology</td>\n      <td>S</td>\n      <td>F</td>\n      <td>2.0</td>\n      <td>102253</td>\n      <td>15.0</td>\n      <td>Trauma</td>\n      <td>Moderate</td>\n      <td>3</td>\n      <td>31-40</td>\n      <td>5734.0</td>\n    </tr>\n    <tr>\n      <th>2</th>\n      <td>305872</td>\n      <td>17</td>\n      <td>e</td>\n      <td>1</td>\n      <td>X</td>\n      <td>4</td>\n      <td>gynecology</td>\n      <td>R</td>\n      <td>E</td>\n      <td>4.0</td>\n      <td>5828</td>\n      <td>4.0</td>\n      <td>Emergency</td>\n      <td>Minor</td>\n      <td>3</td>\n      <td>71-80</td>\n      <td>5064.0</td>\n    </tr>\n    <tr>\n      <th>3</th>\n      <td>266099</td>\n      <td>3</td>\n      <td>c</td>\n      <td>3</td>\n      <td>Z</td>\n      <td>4</td>\n      <td>TB &amp; Chest disease</td>\n      <td>R</td>\n      <td>A</td>\n      <td>2.0</td>\n      <td>56642</td>\n      <td>9.0</td>\n      <td>Urgent</td>\n      <td>Extreme</td>\n      <td>4</td>\n      <td>31-40</td>\n      <td>3254.0</td>\n    </tr>\n    <tr>\n      <th>4</th>\n      <td>13228</td>\n      <td>6</td>\n      <td>a</td>\n      <td>6</td>\n      <td>X</td>\n      <td>4</td>\n      <td>gynecology</td>\n      <td>R</td>\n      <td>F</td>\n      <td>1.0</td>\n      <td>116266</td>\n      <td>8.0</td>\n      <td>Emergency</td>\n      <td>Minor</td>\n      <td>3</td>\n      <td>21-30</td>\n      <td>4639.0</td>\n    </tr>\n  </tbody>\n</table>\n</div>"
     },
     "metadata": {},
     "execution_count": 88
    }
   ],
   "source": [
    "X_pred = pd.read_csv(\"hospital_test.csv\")\n",
    "X_pred.head()"
   ]
  },
  {
   "cell_type": "code",
   "execution_count": 89,
   "metadata": {},
   "outputs": [],
   "source": [
    "X_pred.drop([\"1\",\"2\"],axis=1,inplace=True)"
   ]
  },
  {
   "cell_type": "code",
   "execution_count": 90,
   "metadata": {},
   "outputs": [],
   "source": [
    "X_pred = np.array(X_pred[[\"3\",\"5\",\"10\",\"14\",\"16\"]])\n"
   ]
  },
  {
   "cell_type": "code",
   "execution_count": 91,
   "metadata": {},
   "outputs": [
    {
     "output_type": "execute_result",
     "data": {
      "text/plain": [
       "(100000, 5)"
      ]
     },
     "metadata": {},
     "execution_count": 91
    }
   ],
   "source": [
    "X.shape"
   ]
  },
  {
   "cell_type": "code",
   "execution_count": 92,
   "metadata": {},
   "outputs": [
    {
     "output_type": "execute_result",
     "data": {
      "text/plain": [
       "(133744, 5)"
      ]
     },
     "metadata": {},
     "execution_count": 92
    }
   ],
   "source": [
    "X_pred.shape"
   ]
  },
  {
   "cell_type": "code",
   "execution_count": 93,
   "metadata": {},
   "outputs": [
    {
     "output_type": "execute_result",
     "data": {
      "text/plain": [
       "array([1.592, 1.918, 2.04 , ..., 1.936, 2.24 , 2.016])"
      ]
     },
     "metadata": {},
     "execution_count": 93
    }
   ],
   "source": [
    "predictions_submit = rf.predict(X_pred)\n",
    "predictions_submit"
   ]
  },
  {
   "cell_type": "code",
   "execution_count": 94,
   "metadata": {},
   "outputs": [
    {
     "output_type": "execute_result",
     "data": {
      "text/plain": [
       "array([[7.00000e+00, 4.00000e+00, 5.92780e+04, 2.00000e+00, 4.77800e+03],\n",
       "       [5.00000e+00, 3.00000e+00, 1.02253e+05, 3.00000e+00, 5.73400e+03],\n",
       "       [1.00000e+00, 4.00000e+00, 5.82800e+03, 3.00000e+00, 5.06400e+03],\n",
       "       ...,\n",
       "       [3.00000e+00, 3.00000e+00, 1.12921e+05, 3.00000e+00, 5.32600e+03],\n",
       "       [1.10000e+01, 4.00000e+00, 5.85000e+02, 2.00000e+00, 7.07200e+03],\n",
       "       [6.00000e+00, 4.00000e+00, 1.19482e+05, 4.00000e+00, 5.22100e+03]])"
      ]
     },
     "metadata": {},
     "execution_count": 94
    }
   ],
   "source": [
    "X_pred"
   ]
  },
  {
   "cell_type": "markdown",
   "metadata": {},
   "source": [
    "### 3. AHORA puedo hacer la predicción que será lo que subirás a Kaggle. "
   ]
  },
  {
   "cell_type": "markdown",
   "metadata": {},
   "source": [
    "**¿Qué es lo que subirás a Kaggle?**"
   ]
  },
  {
   "cell_type": "code",
   "execution_count": 95,
   "metadata": {},
   "outputs": [],
   "source": [
    "sample = pd.read_csv(\"sample_submission.csv\")"
   ]
  },
  {
   "cell_type": "code",
   "execution_count": 96,
   "metadata": {},
   "outputs": [
    {
     "output_type": "execute_result",
     "data": {
      "text/plain": [
       "       id   days\n",
       "0  314114  11-20\n",
       "1  208989  31-40\n",
       "2  305872  81-90\n",
       "3  266099  21-30\n",
       "4   13228  31-40"
      ],
      "text/html": "<div>\n<style scoped>\n    .dataframe tbody tr th:only-of-type {\n        vertical-align: middle;\n    }\n\n    .dataframe tbody tr th {\n        vertical-align: top;\n    }\n\n    .dataframe thead th {\n        text-align: right;\n    }\n</style>\n<table border=\"1\" class=\"dataframe\">\n  <thead>\n    <tr style=\"text-align: right;\">\n      <th></th>\n      <th>id</th>\n      <th>days</th>\n    </tr>\n  </thead>\n  <tbody>\n    <tr>\n      <th>0</th>\n      <td>314114</td>\n      <td>11-20</td>\n    </tr>\n    <tr>\n      <th>1</th>\n      <td>208989</td>\n      <td>31-40</td>\n    </tr>\n    <tr>\n      <th>2</th>\n      <td>305872</td>\n      <td>81-90</td>\n    </tr>\n    <tr>\n      <th>3</th>\n      <td>266099</td>\n      <td>21-30</td>\n    </tr>\n    <tr>\n      <th>4</th>\n      <td>13228</td>\n      <td>31-40</td>\n    </tr>\n  </tbody>\n</table>\n</div>"
     },
     "metadata": {},
     "execution_count": 96
    }
   ],
   "source": [
    "sample.head()"
   ]
  },
  {
   "cell_type": "code",
   "execution_count": 97,
   "metadata": {},
   "outputs": [
    {
     "output_type": "execute_result",
     "data": {
      "text/plain": [
       "(133744, 2)"
      ]
     },
     "metadata": {},
     "execution_count": 97
    }
   ],
   "source": [
    "sample.shape"
   ]
  },
  {
   "cell_type": "code",
   "execution_count": 98,
   "metadata": {},
   "outputs": [],
   "source": [
    "submission = pd.DataFrame({\"id\": range(len(predictions_submit)), \"days\": predictions_submit})"
   ]
  },
  {
   "cell_type": "code",
   "execution_count": 72,
   "metadata": {},
   "outputs": [
    {
     "output_type": "execute_result",
     "data": {
      "text/plain": [
       "   id   days\n",
       "0   0  1.592\n",
       "1   1  1.918\n",
       "2   2  2.040\n",
       "3   3  1.790\n",
       "4   4  2.376"
      ],
      "text/html": "<div>\n<style scoped>\n    .dataframe tbody tr th:only-of-type {\n        vertical-align: middle;\n    }\n\n    .dataframe tbody tr th {\n        vertical-align: top;\n    }\n\n    .dataframe thead th {\n        text-align: right;\n    }\n</style>\n<table border=\"1\" class=\"dataframe\">\n  <thead>\n    <tr style=\"text-align: right;\">\n      <th></th>\n      <th>id</th>\n      <th>days</th>\n    </tr>\n  </thead>\n  <tbody>\n    <tr>\n      <th>0</th>\n      <td>0</td>\n      <td>1.592</td>\n    </tr>\n    <tr>\n      <th>1</th>\n      <td>1</td>\n      <td>1.918</td>\n    </tr>\n    <tr>\n      <th>2</th>\n      <td>2</td>\n      <td>2.040</td>\n    </tr>\n    <tr>\n      <th>3</th>\n      <td>3</td>\n      <td>1.790</td>\n    </tr>\n    <tr>\n      <th>4</th>\n      <td>4</td>\n      <td>2.376</td>\n    </tr>\n  </tbody>\n</table>\n</div>"
     },
     "metadata": {},
     "execution_count": 72
    }
   ],
   "source": [
    "submission.head()"
   ]
  },
  {
   "cell_type": "code",
   "execution_count": 70,
   "metadata": {},
   "outputs": [
    {
     "output_type": "execute_result",
     "data": {
      "text/plain": [
       "(133744, 2)"
      ]
     },
     "metadata": {},
     "execution_count": 70
    }
   ],
   "source": [
    "submission.shape"
   ]
  },
  {
   "cell_type": "markdown",
   "metadata": {},
   "source": [
    "### 5. Pásale el CHEQUEATOR para comprobar que efectivamente está listo para subir a Kaggle."
   ]
  },
  {
   "cell_type": "code",
   "execution_count": 75,
   "metadata": {},
   "outputs": [],
   "source": [
    "def chequeator(df_to_submit):\n",
    "    \"\"\"\n",
    "    Esta función se asegura de que tu submission tenga la forma requerida por Kaggle.\n",
    "    \n",
    "    Si es así, se guardará el dataframe en un `csv` y estará listo para subir a Kaggle.\n",
    "    \n",
    "    Si no, LEE EL MENSAJE Y HAZLE CASO.\n",
    "    \n",
    "    Si aún no:\n",
    "    - apaga tu ordenador, \n",
    "    - date una vuelta, \n",
    "    - enciendelo otra vez, \n",
    "    - abre este notebook y \n",
    "    - leelo todo de nuevo. \n",
    "    Todos nos merecemos una segunda oportunidad. También tú.\n",
    "    \"\"\"\n",
    "    if df_to_submit.shape == sample.shape:\n",
    "        if df_to_submit.columns.all() == sample.columns.all():\n",
    "            if df_to_submit.id.all() == sample.id.all():\n",
    "                print(\"You're ready to submit!\")\n",
    "                submission.to_csv(\"submission.csv\", index = False) #muy importante el index = False\n",
    "                urllib.request.urlretrieve(\"https://i.kym-cdn.com/photos/images/facebook/000/747/556/27a.jpg\", \"gfg.png\")     \n",
    "                img = Image.open(\"gfg.png\")\n",
    "                img.show()   \n",
    "            else:\n",
    "                print(\"Check the ids and try again\")\n",
    "        else:\n",
    "            print(\"Check the names of the columns and try again\")\n",
    "    else:\n",
    "        print(\"Check the number of rows and/or columns and try again\")\n",
    "        print(\"\\nMensaje secreto de Clara: No me puedo creer que después de todo este notebook hayas hecho algún cambio en las filas de `diamonds_test.csv`. Lloro.\")\n"
   ]
  },
  {
   "cell_type": "code",
   "execution_count": 76,
   "metadata": {},
   "outputs": [
    {
     "output_type": "stream",
     "name": "stdout",
     "text": [
      "Help on function chequeator in module __main__:\n\nchequeator(df_to_submit)\n    Esta función se asegura de que tu submission tenga la forma requerida por Kaggle.\n    \n    Si es así, se guardará el dataframe en un `csv` y estará listo para subir a Kaggle.\n    \n    Si no, LEE EL MENSAJE Y HAZLE CASO.\n    \n    Si aún no:\n    - apaga tu ordenador, \n    - date una vuelta, \n    - enciendelo otra vez, \n    - abre este notebook y \n    - leelo todo de nuevo. \n    Todos nos merecemos una segunda oportunidad. También tú.\n\n"
     ]
    }
   ],
   "source": [
    "help(chequeator)"
   ]
  },
  {
   "cell_type": "code",
   "execution_count": 103,
   "metadata": {},
   "outputs": [
    {
     "output_type": "stream",
     "name": "stdout",
     "text": [
      "You're ready to submit!\n"
     ]
    }
   ],
   "source": [
    "chequeator(submission)"
   ]
  },
  {
   "cell_type": "code",
   "execution_count": null,
   "metadata": {},
   "outputs": [],
   "source": []
  },
  {
   "cell_type": "code",
   "execution_count": null,
   "metadata": {},
   "outputs": [],
   "source": []
  },
  {
   "cell_type": "code",
   "execution_count": null,
   "metadata": {},
   "outputs": [],
   "source": []
  }
 ],
 "metadata": {
  "kernelspec": {
   "name": "python3",
   "display_name": "Python 3.7.4 64-bit"
  },
  "language_info": {
   "codemirror_mode": {
    "name": "ipython",
    "version": 3
   },
   "file_extension": ".py",
   "mimetype": "text/x-python",
   "name": "python",
   "nbconvert_exporter": "python",
   "pygments_lexer": "ipython3",
   "version": "3.7.4"
  },
  "interpreter": {
   "hash": "182e3b849e87c789b13dcf4169d6d9922ca2e40dd3044e82b295bff17932e6e2"
  }
 },
 "nbformat": 4,
 "nbformat_minor": 4
}