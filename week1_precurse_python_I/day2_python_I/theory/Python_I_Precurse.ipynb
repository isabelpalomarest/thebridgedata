{
 "cells": [
  {
   "cell_type": "markdown",
   "metadata": {},
   "source": [
    "# Data Science Bootcamp - The Bridge \n",
    "## Precurso\n",
    "En este notebook vamos a ver, uno a uno, los conceptos básicos de Python. Constarán de ejercicios prácticos acompañados de una explicación teórica dada por el profesor.\n",
    "\n",
    "Los siguientes enlaces están recomendados para el alumno para profundizar y reforzar conceptos a partir de  ejercicios y ejemplos:\n",
    "\n",
    "- https://facundoq.github.io/courses/aa2018/res/02_python.html\n",
    "\n",
    "- https://www.w3resource.com/python-exercises/\n",
    "\n",
    "- https://www.practicepython.org/\n",
    "\n",
    "- https://es.slideshare.net/egutierrezru/python-paraprincipiantes\n",
    "\n",
    "- https://www.sololearn.com/Play/Python#\n",
    "\n",
    "- https://github.com/mhkmcp/Python-Bootcamp-from-Basic-to-Advanced\n",
    "\n",
    "Ejercicios avanzados:\n",
    "\n",
    "- https://github.com/darkprinx/100-plus-Python-programming-exercises-extended/tree/master/Status (++)\n",
    "\n",
    "- https://github.com/mahtab04/Python-Programming-Practice (++)\n",
    "\n",
    "- https://github.com/whojayantkumar/Python_Programs (+++)\n",
    "\n",
    "- https://www.w3resource.com/python-exercises/ (++++)\n",
    "\n",
    "- https://github.com/fupus/notebooks-ejercicios (+++++)\n",
    "\n",
    "Tutor de ayuda PythonTutor:\n",
    "\n",
    "- http://pythontutor.com/\n"
   ]
  },
  {
   "cell_type": "markdown",
   "metadata": {},
   "source": [
    "## 1. Variables y tipos\n",
    "\n",
    "### Cadenas"
   ]
  },
  {
   "cell_type": "code",
   "execution_count": 60,
   "metadata": {},
   "outputs": [
    {
     "output_type": "stream",
     "name": "stdout",
     "text": [
      "lorena\n7\n"
     ]
    }
   ],
   "source": [
    "# Entero - Integer - int\n",
    "x = 7\n",
    "# Cadena - String - Lista de caracteres\n",
    "x = \"lorena\"\n",
    "print(x)\n",
    "\n",
    "x = 7\n",
    "print(x)"
   ]
  },
  {
   "cell_type": "code",
   "execution_count": 61,
   "metadata": {},
   "outputs": [
    {
     "output_type": "execute_result",
     "data": {
      "text/plain": [
       "int"
      ]
     },
     "metadata": {},
     "execution_count": 61
    }
   ],
   "source": [
    "# built-in\n",
    "type (x)"
   ]
  },
  {
   "cell_type": "code",
   "execution_count": 62,
   "metadata": {},
   "outputs": [
    {
     "output_type": "stream",
     "name": "stdout",
     "text": [
      "12\n"
     ]
    }
   ],
   "source": [
    "x = 5\n",
    "y = 7\n",
    "\n",
    "z = x + y\n",
    "print(z)"
   ]
  },
  {
   "cell_type": "code",
   "execution_count": 64,
   "metadata": {},
   "outputs": [
    {
     "output_type": "stream",
     "name": "stdout",
     "text": [
      "'lorena' \" silvia----\n"
     ]
    }
   ],
   "source": [
    "x = \"'lorena' \\\" \"\n",
    "l = 'silvia----'\n",
    "\n",
    "g = x + l\n",
    "# Las cadenas se concatenan\n",
    "print(g)"
   ]
  },
  {
   "cell_type": "code",
   "execution_count": 65,
   "metadata": {},
   "outputs": [
    {
     "output_type": "stream",
     "name": "stdout",
     "text": [
      "'lorena' \" silvia----\n"
     ]
    }
   ],
   "source": [
    "print(g)"
   ]
  },
  {
   "cell_type": "code",
   "execution_count": 75,
   "metadata": {},
   "outputs": [
    {
     "output_type": "execute_result",
     "data": {
      "text/plain": [
       "str"
      ]
     },
     "metadata": {},
     "execution_count": 75
    }
   ],
   "source": [
    "# type muestra el tipo de la variable\n",
    "type(g)"
   ]
  },
  {
   "cell_type": "code",
   "execution_count": 67,
   "metadata": {},
   "outputs": [
    {
     "output_type": "execute_result",
     "data": {
      "text/plain": [
       "int"
      ]
     },
     "metadata": {},
     "execution_count": 67
    }
   ],
   "source": [
    "type(3)"
   ]
  },
  {
   "cell_type": "code",
   "execution_count": 68,
   "metadata": {},
   "outputs": [
    {
     "output_type": "stream",
     "name": "stdout",
     "text": [
      "'lorena' \" silvia---- 12 6 cadena\n'lorena' \" silvia---- 12 6 cadena\n"
     ]
    }
   ],
   "source": [
    "# print es una función que recibe varios argumentos y cada argumento está diferenciado por la coma. Después de cada coma, la función 'print' añade un espacio.\n",
    "\n",
    "# mala praxis\n",
    "print(    g,z  ,    6,     \"cadena\")\n",
    "\n",
    "# buena praxis - PEP8\n",
    "print(g, z, 6, \"cadena\")"
   ]
  },
  {
   "cell_type": "code",
   "execution_count": 77,
   "metadata": {},
   "outputs": [],
   "source": [
    "x = 5\n",
    "s = \"6\""
   ]
  },
  {
   "cell_type": "code",
   "execution_count": 78,
   "metadata": {},
   "outputs": [
    {
     "output_type": "error",
     "ename": "TypeError",
     "evalue": "unsupported operand type(s) for +: 'int' and 'str'",
     "traceback": [
      "\u001b[1;31m---------------------------------------------------------------------------\u001b[0m",
      "\u001b[1;31mTypeError\u001b[0m                                 Traceback (most recent call last)",
      "\u001b[1;32m<ipython-input-78-9d86e56cd3af>\u001b[0m in \u001b[0;36m<module>\u001b[1;34m\u001b[0m\n\u001b[1;32m----> 1\u001b[1;33m \u001b[0mprint\u001b[0m \u001b[1;33m(\u001b[0m\u001b[0mx\u001b[0m \u001b[1;33m+\u001b[0m \u001b[0ms\u001b[0m\u001b[1;33m)\u001b[0m\u001b[1;33m\u001b[0m\u001b[1;33m\u001b[0m\u001b[0m\n\u001b[0m",
      "\u001b[1;31mTypeError\u001b[0m: unsupported operand type(s) for +: 'int' and 'str'"
     ]
    }
   ],
   "source": [
    "print (x + s)"
   ]
  },
  {
   "cell_type": "code",
   "execution_count": 82,
   "metadata": {},
   "outputs": [
    {
     "output_type": "stream",
     "name": "stdout",
     "text": [
      "<class 'int'>\n<class 'str'>\n"
     ]
    }
   ],
   "source": [
    "# Cambiar de int a str\n",
    "# built-in\n",
    "x = 6\n",
    "print(type(x))\n",
    "x = str(6)\n",
    "print(type(x))"
   ]
  },
  {
   "cell_type": "code",
   "execution_count": 83,
   "metadata": {},
   "outputs": [
    {
     "output_type": "stream",
     "name": "stdout",
     "text": [
      "65\n"
     ]
    }
   ],
   "source": [
    "x = 5\n",
    "z = \"6\" + str(x)\n",
    "print(z)"
   ]
  },
  {
   "cell_type": "code",
   "execution_count": 85,
   "metadata": {},
   "outputs": [
    {
     "output_type": "stream",
     "name": "stdout",
     "text": [
      "56\n<class 'str'>\n56\n<class 'int'>\n63\n"
     ]
    }
   ],
   "source": [
    "# Cambiar de str a int\n",
    "s = \"56\"\n",
    "print (s)\n",
    "print(type(s))\n",
    "s = int(s)\n",
    "print(s)\n",
    "print(type(s))\n",
    "\n",
    "z = 7 + s\n",
    "print(z)"
   ]
  },
  {
   "cell_type": "code",
   "execution_count": 71,
   "metadata": {},
   "outputs": [],
   "source": [
    "# Para ver la longitud de una lista de caracteres (lista)\n"
   ]
  },
  {
   "cell_type": "code",
   "execution_count": 72,
   "metadata": {},
   "outputs": [],
   "source": [
    "# String, Integer, Float, List, None (NaN), bool\n",
    "# str, int, float, list, bool"
   ]
  },
  {
   "cell_type": "code",
   "execution_count": 86,
   "metadata": {},
   "outputs": [
    {
     "output_type": "stream",
     "name": "stdout",
     "text": [
      "<class 'float'>\n"
     ]
    }
   ],
   "source": [
    "x = 5.875\n",
    "print(type(x))"
   ]
  },
  {
   "cell_type": "code",
   "execution_count": 87,
   "metadata": {},
   "outputs": [
    {
     "output_type": "stream",
     "name": "stdout",
     "text": [
      "7.875\n"
     ]
    }
   ],
   "source": [
    "o = x + 2\n",
    "print (o)"
   ]
  },
  {
   "cell_type": "code",
   "execution_count": 88,
   "metadata": {},
   "outputs": [
    {
     "output_type": "stream",
     "name": "stdout",
     "text": [
      "5\n"
     ]
    }
   ],
   "source": [
    "x = int(x)\n",
    "print (x)\n",
    " "
   ]
  },
  {
   "cell_type": "code",
   "execution_count": 90,
   "metadata": {},
   "outputs": [
    {
     "output_type": "stream",
     "name": "stdout",
     "text": [
      "5.0\n"
     ]
    }
   ],
   "source": [
    "x = float(x)\n",
    "print(x)"
   ]
  },
  {
   "cell_type": "code",
   "execution_count": 73,
   "metadata": {},
   "outputs": [
    {
     "output_type": "execute_result",
     "data": {
      "text/plain": [
       "174"
      ]
     },
     "metadata": {},
     "execution_count": 73
    }
   ],
   "source": [
    "m = ((((65 + int(\"22\")) * 2)))\n",
    "m"
   ]
  },
  {
   "cell_type": "code",
   "execution_count": 93,
   "metadata": {},
   "outputs": [],
   "source": [
    "s = \"89\""
   ]
  },
  {
   "cell_type": "code",
   "execution_count": 91,
   "metadata": {},
   "outputs": [
    {
     "output_type": "stream",
     "name": "stdout",
     "text": [
      "<class 'int'>\n"
     ]
    }
   ],
   "source": [
    "print(type(int(s)))"
   ]
  },
  {
   "cell_type": "code",
   "execution_count": 94,
   "metadata": {},
   "outputs": [
    {
     "output_type": "stream",
     "name": "stdout",
     "text": [
      "8.2\n"
     ]
    }
   ],
   "source": [
    "# los decimales son float. Python permite las operaciones entre int y float\n",
    "x = 4\n",
    "y = 4.2\n",
    "\n",
    "print(x + y)"
   ]
  },
  {
   "cell_type": "code",
   "execution_count": 95,
   "metadata": {},
   "outputs": [
    {
     "output_type": "stream",
     "name": "stdout",
     "text": [
      "2.5\n"
     ]
    }
   ],
   "source": [
    "t = 5\n",
    "g = 2\n",
    "print(t / g)"
   ]
  },
  {
   "cell_type": "code",
   "execution_count": null,
   "metadata": {},
   "outputs": [],
   "source": []
  },
  {
   "cell_type": "code",
   "execution_count": 97,
   "metadata": {},
   "outputs": [
    {
     "output_type": "stream",
     "name": "stdout",
     "text": [
      "3\n"
     ]
    }
   ],
   "source": [
    "# La división normal (/) es siempre float\n",
    "# La división absoluta (//) puede ser: \n",
    "# - float si uno de los dos números (o los dos) son float\n",
    "# - int si los dos son int \n",
    "j = 15\n",
    "k = 4\n",
    "division = j // k\n",
    "print(division)"
   ]
  },
  {
   "cell_type": "code",
   "execution_count": null,
   "metadata": {},
   "outputs": [],
   "source": []
  },
  {
   "cell_type": "code",
   "execution_count": 98,
   "metadata": {},
   "outputs": [
    {
     "output_type": "stream",
     "name": "stdout",
     "text": [
      "suma: 15\nresta: 9\nmultiplicacion: 36\ndivision: 4.0\ndivision_absoluta: 4\n<class 'float'>\n<class 'int'>\n"
     ]
    }
   ],
   "source": [
    "num1 = 12\n",
    "num2 = 3\n",
    "\n",
    "suma = num1 + num2\n",
    "resta = num1 - num2\n",
    "multiplicacion = num1 * num2 \n",
    "division = num1 / num2\n",
    "division_absoluta = num1 // num2\n",
    "\n",
    "print(\"suma:\", suma)\n",
    "print(\"resta:\", resta)\n",
    "print(\"multiplicacion:\", multiplicacion)\n",
    "print(\"division:\", division)\n",
    "print(\"division_absoluta:\", division_absoluta)\n",
    "print(type(division))\n",
    "print(type(division_absoluta))"
   ]
  },
  {
   "cell_type": "code",
   "execution_count": null,
   "metadata": {},
   "outputs": [],
   "source": [
    "# Jupyter notebook permite que la última línea se imprima por pantalla ( la variable )\n"
   ]
  },
  {
   "cell_type": "code",
   "execution_count": null,
   "metadata": {},
   "outputs": [],
   "source": [
    "# Soy un comentario\n",
    "# print(\"Hello Python world!\")\n",
    "# Estoy creando una variable que vale 2\n",
    "\"\"\"\n",
    "Esto es otro comentario\n",
    "\"\"\""
   ]
  },
  {
   "cell_type": "markdown",
   "metadata": {},
   "source": [
    "## Ejercicio: \n",
    "### Crear una nueva celda.\n",
    "### Declarar tres variables: \n",
    "- Una con el nombre \"edad\" con valor vuestra edad\n",
    "- Otra \"edad_compañero_der\" que contengan la edad de tipo entero de vuestro compañero de la derecha\n",
    "- Otra \"suma_anterior\" que contenga la suma de las dos variables anteriormente declaradas\n",
    "\n",
    " Mostrar por pantalla la variable \"suma_anterior\"\n",
    "\n"
   ]
  },
  {
   "cell_type": "code",
   "execution_count": 101,
   "metadata": {},
   "outputs": [
    {
     "output_type": "stream",
     "name": "stdout",
     "text": [
      "49\n"
     ]
    }
   ],
   "source": [
    "edad = 24\n",
    "edad_companero_der = 25\n",
    "suma_anterior = edad + edad_companero_der\n",
    "print (suma_anterior)"
   ]
  },
  {
   "cell_type": "code",
   "execution_count": 121,
   "metadata": {},
   "outputs": [
    {
     "output_type": "stream",
     "name": "stdout",
     "text": [
      "HOLA\n"
     ]
    }
   ],
   "source": [
    "# funciones built-in de string\n",
    "\n",
    "string1 = \"Hola\"\n",
    "print(string1.upper())"
   ]
  },
  {
   "cell_type": "code",
   "execution_count": null,
   "metadata": {},
   "outputs": [],
   "source": []
  },
  {
   "cell_type": "markdown",
   "metadata": {},
   "source": [
    "## 2. Números y operadores"
   ]
  },
  {
   "cell_type": "code",
   "execution_count": null,
   "metadata": {},
   "outputs": [],
   "source": []
  },
  {
   "cell_type": "code",
   "execution_count": 105,
   "metadata": {},
   "outputs": [
    {
     "output_type": "stream",
     "name": "stdout",
     "text": [
      "- Tipo de x:\n<class 'int'>\n- Valor de x:\n3\n- x+1:\n4\n- x-1:\n2\n- x*2:\n6\n- x^2:\n9\n- x modificado:\n4\n- x modificado:\n8\n- El módulo de x con 40\n0\n- Varias cosas en una línea:\n1 2 8 10\n"
     ]
    }
   ],
   "source": [
    "### Enteros ###\n",
    "\n",
    "x = 3\n",
    "\n",
    "print(\"- Tipo de x:\")\n",
    "print(type(x)) # Imprime el tipo (o `clase`) de x\n",
    "print(\"- Valor de x:\")\n",
    "print(x)       # Imprimir un valor\n",
    "print(\"- x+1:\")\n",
    "print(x + 1)   # Suma: imprime \"4\"\n",
    "print(\"- x-1:\")\n",
    "print(x - 1)   # Resta; imprime \"2\"\n",
    "print(\"- x*2:\")\n",
    "print(x * 2)   # Multiplicación; imprime \"6\"\n",
    "print(\"- x^2:\")\n",
    "print(x ** 2)  # Exponenciación; imprime \"9\"\n",
    "# Modificación de x\n",
    "x += 1 \n",
    "print(\"- x modificado:\")\n",
    "print(x)  # Imprime \"4\"\n",
    "\n",
    "x *= 2\n",
    "print(\"- x modificado:\")\n",
    "print(x)  # Imprime \"8\"\n",
    "\n",
    "print(\"- El módulo de x con 40\")\n",
    "print(40 % x)\n",
    "\n",
    "print(\"- Varias cosas en una línea:\")\n",
    "print(1, 2, x, 5*2) # imprime varias cosas a la vez"
   ]
  },
  {
   "cell_type": "code",
   "execution_count": 106,
   "metadata": {},
   "outputs": [
    {
     "output_type": "execute_result",
     "data": {
      "text/plain": [
       "0"
      ]
     },
     "metadata": {},
     "execution_count": 106
    }
   ],
   "source": [
    "# El módulo muestra el resto de la división entre dos números\n",
    "4 % 2\n"
   ]
  },
  {
   "cell_type": "code",
   "execution_count": null,
   "metadata": {},
   "outputs": [],
   "source": [
    "numero = 99\n",
    "\n",
    "numero % 2  # Si el resto es 0, el número es par. Sino, impar."
   ]
  },
  {
   "source": [
    "## Título markdown"
   ],
   "cell_type": "markdown",
   "metadata": {}
  },
  {
   "source": [
    "# INPUT"
   ],
   "cell_type": "markdown",
   "metadata": {}
  },
  {
   "cell_type": "code",
   "execution_count": 117,
   "metadata": {},
   "outputs": [
    {
     "output_type": "stream",
     "name": "stdout",
     "text": [
      "56\n"
     ]
    }
   ],
   "source": [
    "x = input()\n",
    "print(x)"
   ]
  },
  {
   "cell_type": "code",
   "execution_count": 119,
   "metadata": {},
   "outputs": [],
   "source": [
    "x = int(input(\"escribe un numero:\"))"
   ]
  },
  {
   "cell_type": "markdown",
   "metadata": {},
   "source": [
    "## 3. Tipo None"
   ]
  },
  {
   "cell_type": "code",
   "execution_count": 120,
   "metadata": {},
   "outputs": [],
   "source": [
    "x = None"
   ]
  },
  {
   "cell_type": "markdown",
   "metadata": {},
   "source": [
    "## 4. Listas y colecciones "
   ]
  },
  {
   "cell_type": "code",
   "execution_count": 107,
   "metadata": {},
   "outputs": [],
   "source": [
    "# Lista de elementos:\n",
    "\n",
    "# Las posiciones se empiezan a contar desde 0\n",
    "s = \"Cadena\""
   ]
  },
  {
   "cell_type": "code",
   "execution_count": 123,
   "metadata": {},
   "outputs": [
    {
     "output_type": "stream",
     "name": "stdout",
     "text": [
      "hola\n"
     ]
    }
   ],
   "source": [
    "lista = [3, 7.2, \"hola\"]\n",
    "print(lista[2])"
   ]
  },
  {
   "cell_type": "code",
   "execution_count": 124,
   "metadata": {},
   "outputs": [
    {
     "output_type": "stream",
     "name": "stdout",
     "text": [
      "7.2\n"
     ]
    }
   ],
   "source": [
    "print(lista[-2])"
   ]
  },
  {
   "cell_type": "code",
   "execution_count": 108,
   "metadata": {},
   "outputs": [
    {
     "output_type": "stream",
     "name": "stdout",
     "text": [
      "aralC yos aloH\n"
     ]
    }
   ],
   "source": [
    "s = \"Hola soy Clara\"\n",
    "\n",
    "print(s[::-1])"
   ]
  },
  {
   "cell_type": "code",
   "execution_count": null,
   "metadata": {},
   "outputs": [],
   "source": []
  },
  {
   "cell_type": "code",
   "execution_count": 109,
   "metadata": {},
   "outputs": [
    {
     "output_type": "execute_result",
     "data": {
      "text/plain": [
       "'a soy Clara'"
      ]
     },
     "metadata": {},
     "execution_count": 109
    }
   ],
   "source": [
    "# Para acceder a varios elementos, se especifica con la nomenclatura \"[N:M]\". N es el primer elemento a obtener, M es el último elemento a obtener pero no incluido. Ejemplo: \n",
    "\n",
    "# Queremos mostrar desde las posiciones 3 a la 7. Debemos especificar: [3:8]\n",
    "\n",
    "# Si M no tiene ningún valor, se obtiene desde N hasta el final. \n",
    "# Si N no tiene ningún valor, es desde el principio de la colección hasta M\n",
    "s[3:len(s)]"
   ]
  },
  {
   "cell_type": "code",
   "execution_count": 10,
   "metadata": {},
   "outputs": [
    {
     "output_type": "stream",
     "name": "stdout",
     "text": [
      "[4, 'x', 7]\n"
     ]
    }
   ],
   "source": [
    "# Agrega un valor a la última posición de la lista\n",
    "lista = [4, \"x\"]\n",
    "lista.append(7)\n",
    "print(lista)"
   ]
  },
  {
   "cell_type": "code",
   "execution_count": 111,
   "metadata": {},
   "outputs": [],
   "source": [
    "# remove elimina el primer elemento que se encuentra que coincide con el valor del argumento"
   ]
  },
  {
   "cell_type": "code",
   "execution_count": 112,
   "metadata": {},
   "outputs": [],
   "source": [
    "# Accedemos a la posición 1 del elemento que está en la posición 2 de lista"
   ]
  },
  {
   "cell_type": "code",
   "execution_count": 113,
   "metadata": {},
   "outputs": [
    {
     "output_type": "error",
     "ename": "AttributeError",
     "evalue": "'str' object has no attribute 'reverse'",
     "traceback": [
      "\u001b[1;31m---------------------------------------------------------------------------\u001b[0m",
      "\u001b[1;31mAttributeError\u001b[0m                            Traceback (most recent call last)",
      "\u001b[1;32m<ipython-input-113-074c39a228cb>\u001b[0m in \u001b[0;36m<module>\u001b[1;34m\u001b[0m\n\u001b[1;32m----> 1\u001b[1;33m \u001b[0ml\u001b[0m\u001b[1;33m.\u001b[0m\u001b[0mreverse\u001b[0m\u001b[1;33m(\u001b[0m\u001b[1;33m)\u001b[0m\u001b[1;33m\u001b[0m\u001b[1;33m\u001b[0m\u001b[0m\n\u001b[0m",
      "\u001b[1;31mAttributeError\u001b[0m: 'str' object has no attribute 'reverse'"
     ]
    }
   ],
   "source": [
    "l.reverse()\n"
   ]
  },
  {
   "source": [
    "### Colecciones\n",
    "\n",
    "1. Listas\n",
    "2. String (colección de caracteres)\n",
    "3. Tuplas\n",
    "4. Conjuntos (Set)"
   ],
   "cell_type": "markdown",
   "metadata": {}
  },
  {
   "cell_type": "code",
   "execution_count": null,
   "metadata": {},
   "outputs": [],
   "source": [
    "# Listas --> Mutables\n",
    "lista = [2, 5, \"caract\", [9, \"g\", [\"j\"]]]\n",
    "print(lista[-1][-1][-1])\n",
    "lista[3][2][0]"
   ]
  },
  {
   "cell_type": "code",
   "execution_count": null,
   "metadata": {},
   "outputs": [],
   "source": [
    "# Tuplas --> Inmutables\n",
    "\n",
    "tupla = (2, 5, \"caract\", [9, \"g\", [\"j\"]])\n",
    "tupla"
   ]
  },
  {
   "cell_type": "code",
   "execution_count": null,
   "metadata": {},
   "outputs": [],
   "source": [
    "# Update listas\n",
    "lista = [2, \"6\", [\"k\", \"m\"]]\n",
    "lista[1] = 1\n",
    "lista"
   ]
  },
  {
   "cell_type": "code",
   "execution_count": null,
   "metadata": {},
   "outputs": [],
   "source": [
    "# Conjuntos\n",
    "\n",
    "conjunto = [2, 4, 6, \"a\", \"z\", \"h\", 2]\n",
    "conjunto = set(conjunto)\n",
    "conjunto"
   ]
  },
  {
   "cell_type": "code",
   "execution_count": null,
   "metadata": {},
   "outputs": [],
   "source": [
    "conjunto = [\"a\", \"z\", \"h\", 2, 2, 4, 6, True, True, False]\n",
    "conjunto = set(conjunto)\n",
    "conjunto"
   ]
  },
  {
   "cell_type": "code",
   "execution_count": null,
   "metadata": {},
   "outputs": [],
   "source": [
    "conjunto = [\"a\", \"z\", \"h\", 2, 2, 4, 6, 2.1, 2.4, 2.3, True, True, False]\n",
    "conjunto = set(conjunto)\n",
    "conjunto"
   ]
  },
  {
   "cell_type": "code",
   "execution_count": null,
   "metadata": {},
   "outputs": [],
   "source": [
    "conjunto_tupla = (\"a\", \"z\", \"h\", 2, 2, 4, 6, 2.1, 2.4, 2.3, True, True, False)\n",
    "conjunto = set(conjunto_tupla)\n",
    "conjunto"
   ]
  },
  {
   "cell_type": "code",
   "execution_count": null,
   "metadata": {},
   "outputs": [],
   "source": [
    "conjunto = {\"a\", \"z\", \"h\", 2, 2, 4, 6, 2.1, 2.4, 2.3, True, True, False}\n",
    "conjunto"
   ]
  },
  {
   "cell_type": "code",
   "execution_count": null,
   "metadata": {},
   "outputs": [],
   "source": [
    "s = \"String\"\n",
    "lista_s = list(s)\n",
    "lista_s"
   ]
  },
  {
   "cell_type": "code",
   "execution_count": null,
   "metadata": {},
   "outputs": [],
   "source": [
    "s = \"String\"\n",
    "conj = {s}\n",
    "conj"
   ]
  },
  {
   "cell_type": "code",
   "execution_count": null,
   "metadata": {},
   "outputs": [],
   "source": [
    "# Cambiar de tupla a lista, remover elemento y convertir en tupla\n"
   ]
  },
  {
   "cell_type": "code",
   "execution_count": null,
   "metadata": {},
   "outputs": [],
   "source": [
    "conjunto = {2, 5, \"h\"}\n",
    "lista_con_conjunto = [conjunto]\n",
    "lista_con_conjunto[0]"
   ]
  },
  {
   "cell_type": "code",
   "execution_count": null,
   "metadata": {},
   "outputs": [],
   "source": [
    "# No podemos acceder a elementos de un conjunto\n",
    "lista_con_conjunto[0][0]"
   ]
  },
  {
   "cell_type": "markdown",
   "metadata": {},
   "source": [
    "## 5. Condiciones: if, elif, else"
   ]
  },
  {
   "source": [
    "### Boolean"
   ],
   "cell_type": "markdown",
   "metadata": {}
  },
  {
   "cell_type": "code",
   "execution_count": null,
   "metadata": {},
   "outputs": [],
   "source": [
    "True\n",
    "False\n"
   ]
  },
  {
   "cell_type": "code",
   "execution_count": null,
   "metadata": {},
   "outputs": [],
   "source": [
    "# Operadores comparativos\n"
   ]
  },
  {
   "cell_type": "code",
   "execution_count": null,
   "metadata": {},
   "outputs": [],
   "source": [
    "# Diferente"
   ]
  },
  {
   "source": [
    "\"\"\"\n",
    "==  -> Igualdad\n",
    "!= -> Diferecia\n",
    "< -> Menor que\n",
    "> -> Mayor que\n",
    "<= -> Menor o igual\n",
    ">= -> Mayor o igual\n",
    "\"\"\"\n"
   ],
   "cell_type": "code",
   "metadata": {},
   "execution_count": null,
   "outputs": []
  },
  {
   "cell_type": "code",
   "execution_count": null,
   "metadata": {},
   "outputs": [],
   "source": [
    "# and solo devolverá True si TODOS son True\n",
    "True and False"
   ]
  },
  {
   "cell_type": "code",
   "execution_count": null,
   "metadata": {},
   "outputs": [],
   "source": [
    "# or devolverá True si UNO es True"
   ]
  },
  {
   "cell_type": "code",
   "execution_count": null,
   "metadata": {},
   "outputs": [],
   "source": [
    "# Sinónimos de False para las condiciones:\n",
    "# None\n",
    "# False\n",
    "# 0 (int or float)\n",
    "# Cualquier colección vacía --> [], \"\", (), {}\n",
    "\n",
    "# El None no actúa como un número al compararlo con otro número\n",
    "\"\"\"\n",
    "El True lo toma como un numérico 1\n",
    "\"\"\""
   ]
  },
  {
   "source": [],
   "cell_type": "markdown",
   "metadata": {}
  },
  {
   "cell_type": "markdown",
   "metadata": {},
   "source": []
  },
  {
   "cell_type": "markdown",
   "metadata": {},
   "source": [
    "# Bucles For, While"
   ]
  },
  {
   "source": [
    "# Lista alturas"
   ],
   "cell_type": "code",
   "metadata": {},
   "execution_count": null,
   "outputs": []
  },
  {
   "source": [
    "## Funciones"
   ],
   "cell_type": "markdown",
   "metadata": {}
  },
  {
   "cell_type": "code",
   "execution_count": null,
   "metadata": {},
   "outputs": [],
   "source": []
  }
 ],
 "metadata": {
  "language_info": {
   "name": "python",
   "codemirror_mode": {
    "name": "ipython",
    "version": 3
   },
   "version": "3.7.4"
  },
  "orig_nbformat": 2,
  "file_extension": ".py",
  "mimetype": "text/x-python",
  "name": "python",
  "npconvert_exporter": "python",
  "pygments_lexer": "ipython3",
  "version": 3,
  "kernelspec": {
   "name": "python374jvsc74a57bd0182e3b849e87c789b13dcf4169d6d9922ca2e40dd3044e82b295bff17932e6e2",
   "display_name": "Python 3.7.4 64-bit"
  },
  "metadata": {
   "interpreter": {
    "hash": "182e3b849e87c789b13dcf4169d6d9922ca2e40dd3044e82b295bff17932e6e2"
   }
  }
 },
 "nbformat": 4,
 "nbformat_minor": 2
}