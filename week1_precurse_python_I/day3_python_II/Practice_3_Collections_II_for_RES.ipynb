{
  "nbformat": 4,
  "nbformat_minor": 0,
  "metadata": {
    "kernelspec": {
      "display_name": "Python 3",
      "language": "python",
      "name": "python3"
    },
    "language_info": {
      "codemirror_mode": {
        "name": "ipython",
        "version": 3
      },
      "file_extension": ".py",
      "mimetype": "text/x-python",
      "name": "python",
      "nbconvert_exporter": "python",
      "pygments_lexer": "ipython3",
      "version": "3.8.3"
    },
    "colab": {
      "name": "Practice_3_Collections_II_for_RES.ipynb",
      "provenance": []
    }
  },
  "cells": [
    {
      "cell_type": "markdown",
      "metadata": {
        "id": "iBHEEEL5wQ5m"
      },
      "source": [
        "# Python | day 2 | collections & if/else & for"
      ]
    },
    {
      "cell_type": "markdown",
      "metadata": {
        "id": "Ai0izmDPwQ5s"
      },
      "source": [
        "### Exercise 1. "
      ]
    },
    {
      "cell_type": "markdown",
      "metadata": {
        "id": "ss6VVoWewQ5t"
      },
      "source": [
        "1. Create a variable called **num_bridge** with a value of 15."
      ]
    },
    {
      "cell_type": "code",
      "metadata": {
        "id": "vI3PJh5HwQ5t"
      },
      "source": [
        "num_bridge = 15"
      ],
      "execution_count": null,
      "outputs": []
    },
    {
      "cell_type": "markdown",
      "metadata": {
        "id": "bUCk1El8wQ5t"
      },
      "source": [
        "2. Create a variable called **name_street** with the value \"Recoletos\".\n",
        "\n"
      ]
    },
    {
      "cell_type": "code",
      "metadata": {
        "id": "U_Q1gxzywQ5u"
      },
      "source": [
        "name_street = 'Recoletos'"
      ],
      "execution_count": null,
      "outputs": []
    },
    {
      "cell_type": "markdown",
      "metadata": {
        "id": "InidcBoowQ5u"
      },
      "source": [
        "3. Create a variable called **personal_taste** which should be `True` if you like the beach better or `False` if you rather choose mountain. \n",
        "\n",
        "```python\n",
        "Example: \n",
        "personal_taste = True\n",
        "```"
      ]
    },
    {
      "cell_type": "code",
      "metadata": {
        "id": "uxKCa-DmwQ5v"
      },
      "source": [
        "personal_taste = False"
      ],
      "execution_count": null,
      "outputs": []
    },
    {
      "cell_type": "markdown",
      "metadata": {
        "id": "2Q3mKYLXwQ5v"
      },
      "source": [
        "4. Create a variable called **nothing** like follows: `nothing = None`. `None`doesn't represent any value, something you should keep in mind if you do `if nothing:` then `nothing` acts as a boolean `False`. "
      ]
    },
    {
      "cell_type": "code",
      "metadata": {
        "id": "AZgZN4EWwQ5v"
      },
      "source": [
        "nothing = None"
      ],
      "execution_count": null,
      "outputs": []
    },
    {
      "cell_type": "markdown",
      "metadata": {
        "id": "eqwWLUPhwQ5w"
      },
      "source": [
        "5. Create a variable called **address_list**. This should be a list which contains the following: first element **name_street** and second element **num_bridge**. "
      ]
    },
    {
      "cell_type": "code",
      "metadata": {
        "id": "ThH6KFLFwQ5w",
        "outputId": "53a64a0f-ae6c-44ef-9ce2-0fec13b5f93f"
      },
      "source": [
        "address_list = [name_street, num_bridge]\n",
        "address_list"
      ],
      "execution_count": null,
      "outputs": [
        {
          "output_type": "execute_result",
          "data": {
            "text/plain": [
              "['Recoletos', 15]"
            ]
          },
          "metadata": {
            "tags": []
          },
          "execution_count": 5
        }
      ]
    },
    {
      "cell_type": "markdown",
      "metadata": {
        "id": "YU7elixSwQ5x"
      },
      "source": [
        "6. Create a variable called **sleep_hours** that should contains, as a string, the hours you've slept today."
      ]
    },
    {
      "cell_type": "code",
      "metadata": {
        "id": "HWdwtnC4wQ5x"
      },
      "source": [
        "sleep_hours= '8'"
      ],
      "execution_count": null,
      "outputs": []
    },
    {
      "cell_type": "markdown",
      "metadata": {
        "id": "EAlzKNiXwQ5x"
      },
      "source": [
        "7. Create a list called **info_list** containing every variable you've just created in the order you have done it.\n",
        "\n",
        "```python\n",
        "len(info_list) == 6\n",
        "True\n",
        "```\n",
        "\n",
        "**IMPORTANT: you will use `info_list` at some point during the ramp-up**"
      ]
    },
    {
      "cell_type": "code",
      "metadata": {
        "id": "niTud7IPwQ5x",
        "outputId": "7fa3e315-db05-4128-a425-0f312a3919d2"
      },
      "source": [
        "info_list = [num_bridge, name_street, address_list, personal_taste, nothing, sleep_hours]\n",
        "info_list"
      ],
      "execution_count": null,
      "outputs": [
        {
          "output_type": "execute_result",
          "data": {
            "text/plain": [
              "[15, 'Recoletos', ['Recoletos', 15], False, None, '8']"
            ]
          },
          "metadata": {
            "tags": []
          },
          "execution_count": 7
        }
      ]
    },
    {
      "cell_type": "markdown",
      "metadata": {
        "id": "g_jzQVTywQ5y"
      },
      "source": [
        "8. Run the following cell in order to delete every variable you've just created and keep **info_list** only.\n",
        "Print **info_list** once you've done it to check the list still exists."
      ]
    },
    {
      "cell_type": "code",
      "metadata": {
        "id": "8_6K_qk2wQ5y"
      },
      "source": [
        "#run this\n",
        "del num_bridge\n",
        "del name_street\n",
        "del personal_taste\n",
        "del nothing\n",
        "del address_list\n",
        "del sleep_hours"
      ],
      "execution_count": null,
      "outputs": []
    },
    {
      "cell_type": "markdown",
      "metadata": {
        "id": "ylkCDMY4wQ5y"
      },
      "source": [
        "### Exercise 2."
      ]
    },
    {
      "cell_type": "markdown",
      "metadata": {
        "id": "yrJAiq9HwQ5y"
      },
      "source": [
        "You'll need `info_list` in order to continue with this exercise. Remember don't use any variable except `info_list`. \n",
        "\n",
        "Print the following. Don't use functions and/or loops. "
      ]
    },
    {
      "cell_type": "markdown",
      "metadata": {
        "id": "eT_VMUIRwQ5z"
      },
      "source": [
        " 1. Sum up the street number of The Bridge and the hours you slept last night. "
      ]
    },
    {
      "cell_type": "code",
      "metadata": {
        "id": "1d0e6LrHwQ5z",
        "outputId": "22666a17-1e8f-4d72-9baf-57cabf190901"
      },
      "source": [
        "info_list[0] + int(info_list[5])"
      ],
      "execution_count": null,
      "outputs": [
        {
          "output_type": "execute_result",
          "data": {
            "text/plain": [
              "23"
            ]
          },
          "metadata": {
            "tags": []
          },
          "execution_count": 9
        }
      ]
    },
    {
      "cell_type": "markdown",
      "metadata": {
        "id": "Rep5s1uwwQ5z"
      },
      "source": [
        "2. Concatenate the street number of The Bridge, the name of the street, your personal taste and the hours you slept. All of them should be separated by `\" --> \"`."
      ]
    },
    {
      "cell_type": "code",
      "metadata": {
        "id": "AvDY3YdjwQ5z",
        "outputId": "3bc03364-d8c1-45ee-cf48-2a61a71032bb"
      },
      "source": [
        "concated = str(info_list[0]) + \" --> \" + info_list[1] + \" --> \" + str(info_list[3]) +  \" --> \" + str(info_list[4])\n",
        "concated"
      ],
      "execution_count": null,
      "outputs": [
        {
          "output_type": "execute_result",
          "data": {
            "text/plain": [
              "'15 --> Recoletos --> False --> None'"
            ]
          },
          "metadata": {
            "tags": []
          },
          "execution_count": 10
        }
      ]
    },
    {
      "cell_type": "markdown",
      "metadata": {
        "id": "pmtOam8EwQ50"
      },
      "source": [
        "3. Access to the list which is at the fourth position of **info_list** and print the result of: \n",
        "     - The concatenation of both elements contained in the list found in fourth position of **info_list**. \n",
        "     - The multiplication of the lenght of the list and the lenght of the street's name.\n",
        "    \n",
        "   If at the fourth position of **info_list** you don't find a list, go back to Exercise 1, please. "
      ]
    },
    {
      "cell_type": "code",
      "metadata": {
        "id": "7MwQc-DtwQ50",
        "outputId": "409a8eaa-f8e6-4630-ff11-cf112a7126ea"
      },
      "source": [
        "print (info_list[2])\n",
        "\n",
        "concated = str(info_list[2][1]) + info_list[2][0]\n",
        "print (f'\\n1. {concated}')\n",
        "\n",
        "print (f'\\n2. Result: {len(info_list[2][0]) * info_list[2][1]}')"
      ],
      "execution_count": null,
      "outputs": [
        {
          "output_type": "stream",
          "text": [
            "['Recoletos', 15]\n",
            "\n",
            "1. 15Recoletos\n",
            "\n",
            "2. Result: 135\n"
          ],
          "name": "stdout"
        }
      ]
    },
    {
      "cell_type": "markdown",
      "metadata": {
        "id": "zhGM1CC7wQ50"
      },
      "source": [
        "### Exercise 3."
      ]
    },
    {
      "cell_type": "markdown",
      "metadata": {
        "id": "6t3TpoEvwQ50"
      },
      "source": [
        "1. Get user input using input(“Enter your age: ”). If user is 18 or older, give feedback: You are old enough to drive. If below 18 give feedback to wait for the missing amount of years."
      ]
    },
    {
      "cell_type": "code",
      "metadata": {
        "id": "08QxgL4HwQ51",
        "outputId": "92cba653-02e6-4f73-b198-89b0b86895b4"
      },
      "source": [
        "age = int(input(\"Enter your age:\" ))\n",
        "\n",
        "if age < 18:\n",
        "    difference = 18 - age\n",
        "    print(f\"Ha! Ha! You'll need to wait {difference} years!\")\n",
        "else:\n",
        "    print(\"You're old enough to drive\") "
      ],
      "execution_count": null,
      "outputs": [
        {
          "output_type": "stream",
          "text": [
            "Enter your age:18\n",
            "You're old enough to drive\n"
          ],
          "name": "stdout"
        }
      ]
    },
    {
      "cell_type": "markdown",
      "metadata": {
        "id": "lORadXO4wQ51"
      },
      "source": [
        "2. Compare the values of **my_age** and **your_age** using if/else. Who is older (me or you)? Use input(“Enter your age: ”) to get **your_age** as input. **my_age** is always your age, cause you are the one coding the program. "
      ]
    },
    {
      "cell_type": "code",
      "metadata": {
        "id": "LG1ByV18wQ51",
        "outputId": "527f9723-8779-46bb-eb8f-5b26cf14e436"
      },
      "source": [
        "my_age = 27\n",
        "your_age = int(input(\"Enter your age:\" ))\n",
        "\n",
        "if my_age < your_age:\n",
        "    print(f\"I'm older!\")\n",
        "else:\n",
        "    print(\"No you're not!\") "
      ],
      "execution_count": null,
      "outputs": [
        {
          "output_type": "stream",
          "text": [
            "Enter your age:3\n",
            "No you're not!\n"
          ],
          "name": "stdout"
        }
      ]
    },
    {
      "cell_type": "markdown",
      "metadata": {
        "id": "_z6NfKmBwQ52"
      },
      "source": [
        "3. Get two numbers from the user using input prompt. If a is greater than b return \"a is greater than b\", if a is less b return \"a is smaller than b\", else \"a is equal to b\"."
      ]
    },
    {
      "cell_type": "code",
      "metadata": {
        "id": "bBUcfaNVwQ53",
        "outputId": "19f21551-4e1f-48be-9527-53bd2ff363f9"
      },
      "source": [
        "a = int(input(\"Nuber 1:\" ))\n",
        "b = int(input(\"Number 2:\" ))\n",
        "\n",
        "if a < b:\n",
        "    print(f\"b) is bigger\")\n",
        "elif b < a:\n",
        "    print(f\"a) is bigger\")\n",
        "else:\n",
        "    print(\"They're equal!\")"
      ],
      "execution_count": null,
      "outputs": [
        {
          "output_type": "stream",
          "text": [
            "Nuber 1:5\n",
            "Number 2:4\n",
            "a) is bigger\n"
          ],
          "name": "stdout"
        }
      ]
    },
    {
      "cell_type": "markdown",
      "metadata": {
        "id": "po2rQQehwQ53"
      },
      "source": [
        "### Exercise 4\n",
        "\n",
        "Learn about **for loop**\n",
        "\n",
        "Watch this video: https://www.youtube.com/watch?v=wxds6MAtUQ0\n",
        "\n",
        "Read this: https://www.w3schools.com/python/python_for_loops.asp\n",
        "\n",
        "You may need this to understand what is going on with your loops: http://www.pythontutor.com/visualize.html#mode=edit"
      ]
    },
    {
      "cell_type": "markdown",
      "metadata": {
        "id": "c8hn3jU_wQ53"
      },
      "source": [
        "Declare four variables: \n",
        "- A string variable containing your surname. \n",
        "- Two integers variables: one, with the number of the street in which you live, and two, the age of the classmate sitting on your right. \n",
        "    If you are on the right edge of the table, look for your classmate on your left.\n",
        "    If you are on remote, choose one of your mates who are on remote too. \n",
        "- A list containing the variables you have just declared."
      ]
    },
    {
      "cell_type": "code",
      "metadata": {
        "id": "eXlT6TwwwQ54"
      },
      "source": [
        "surname = 'House'\n",
        "one = 34\n",
        "two = 56\n",
        "\n",
        "a_list = [surname, one, two]"
      ],
      "execution_count": null,
      "outputs": []
    },
    {
      "cell_type": "markdown",
      "metadata": {
        "id": "dRq6l2vBwQ54"
      },
      "source": [
        "Using a **for loop** print every element of the list you've just created. \n",
        "    \n"
      ]
    },
    {
      "cell_type": "code",
      "metadata": {
        "id": "3-YQ8KcxwQ55",
        "outputId": "68a0aedf-1da4-49a4-e157-65499d6ef15a"
      },
      "source": [
        "for e in a_list:\n",
        "    print(e)"
      ],
      "execution_count": null,
      "outputs": [
        {
          "output_type": "stream",
          "text": [
            "House\n",
            "34\n",
            "56\n"
          ],
          "name": "stdout"
        }
      ]
    },
    {
      "cell_type": "markdown",
      "metadata": {
        "id": "ID0up3AwwQ55"
      },
      "source": [
        "Using a **for loop** and a **if** make sure you only print the element in the list which is a string\n",
        "(Your surname). "
      ]
    },
    {
      "cell_type": "code",
      "metadata": {
        "id": "7S2rLw7PwQ55",
        "outputId": "bd277045-0f6c-41b5-a825-7bcd08a253b7"
      },
      "source": [
        "for e in a_list:\n",
        "    if type(e) == str:\n",
        "        print(e)"
      ],
      "execution_count": null,
      "outputs": [
        {
          "output_type": "stream",
          "text": [
            "House\n"
          ],
          "name": "stdout"
        }
      ]
    },
    {
      "cell_type": "markdown",
      "metadata": {
        "id": "hcOjSmqkwQ56"
      },
      "source": [
        "**Well done!**"
      ]
    },
    {
      "cell_type": "markdown",
      "metadata": {
        "id": "NIxhT3YlwQ56"
      },
      "source": [
        "### Exercise 5\n",
        "\n",
        "1. The following list contains some fruits:\n",
        "    \n",
        "`fruits = ['banana', 'orange', 'mango', 'lemon']`\n",
        "\n",
        "If a fruit doesn't exist in the list add the fruit to the list and print the modified list. If the fruit exists print('That fruit already exist in the list')\n",
        "\n",
        "Note: You can solve this exercise using or not `for` loop."
      ]
    },
    {
      "cell_type": "code",
      "metadata": {
        "id": "wn1NiQeRwQ56"
      },
      "source": [
        "fruits = ['banana', 'orange', 'mango', 'lemon']"
      ],
      "execution_count": null,
      "outputs": []
    },
    {
      "cell_type": "code",
      "metadata": {
        "id": "oWFkSiP-wQ56",
        "outputId": "f182ecbf-b889-469a-bef7-243597f9d6af"
      },
      "source": [
        "# Take 1\n",
        "fruit = input(\"Type the fruit here> \")\n",
        "\n",
        "if fruit in fruits:\n",
        "    print (f'- That fruit ({fruit}) already exist in the list')\n",
        "    \n",
        "else:\n",
        "    print(f'- {fruit} added to the list')\n",
        "    fruits.append(fruit)\n",
        "\n",
        "print(fruits)"
      ],
      "execution_count": null,
      "outputs": [
        {
          "output_type": "stream",
          "text": [
            "Type the fruit here> peach\n",
            "- peach added to the list\n",
            "['banana', 'orange', 'mango', 'lemon', 'peach']\n"
          ],
          "name": "stdout"
        }
      ]
    },
    {
      "cell_type": "code",
      "metadata": {
        "id": "5vYhbEouwQ57",
        "outputId": "52e98aa3-2ef0-41b2-c509-a85da4aad315"
      },
      "source": [
        "# Take 2\n",
        "fruits_to_add =  ['orange', 'watermelon', 'cherimoya']\n",
        "\n",
        "for e in fruits_to_add:\n",
        "    if e in fruits:\n",
        "        print (f'- That fruit ({e}) already exist in the list')\n",
        "        \n",
        "    else:\n",
        "        print(f'- {e} added to the list')\n",
        "        fruits.append(e)\n",
        "\n",
        "print(f'\\n{fruits}')"
      ],
      "execution_count": null,
      "outputs": [
        {
          "output_type": "stream",
          "text": [
            "- That fruit (orange) already exist in the list\n",
            "- watermelon added to the list\n",
            "- cherimoya added to the list\n",
            "\n",
            "['banana', 'orange', 'mango', 'lemon', 'peach', 'watermelon', 'cherimoya']\n"
          ],
          "name": "stdout"
        }
      ]
    },
    {
      "cell_type": "markdown",
      "metadata": {
        "id": "3yJZng3nwQ57"
      },
      "source": [
        "2. Prints the numbers between 0 and 70 that are multiples of 3 and 5."
      ]
    },
    {
      "cell_type": "code",
      "metadata": {
        "id": "EmTyuD6qwQ57",
        "outputId": "d58346b5-f39c-42fa-c88c-69af45449f7e"
      },
      "source": [
        "for n in range(71):\n",
        "    if n % 3 == 0 and n % 5 == 0:\n",
        "        print(n)"
      ],
      "execution_count": null,
      "outputs": [
        {
          "output_type": "stream",
          "text": [
            "0\n",
            "15\n",
            "30\n",
            "45\n",
            "60\n"
          ],
          "name": "stdout"
        }
      ]
    },
    {
      "cell_type": "markdown",
      "metadata": {
        "id": "-dFiJrZqwQ57"
      },
      "source": [
        "3. Given two lists of same lenght, create a third list which contains the sum of both of the list, element by element. \n",
        "\n",
        "```python\n",
        "Example: \n",
        "a = [1,2]\n",
        "b = [4,5]\n",
        "new_list = [5,7]\n",
        "```"
      ]
    },
    {
      "cell_type": "code",
      "metadata": {
        "id": "XsfswqhiwQ58",
        "outputId": "c39752d5-39e4-421c-ed1c-0c978cc1d72e"
      },
      "source": [
        "a = [1,2]\n",
        "b = [4,5]\n",
        "c = []\n",
        "\n",
        "for e in range(len(a)):\n",
        "    n = a[e] + b[e]\n",
        "    c.append(n)\n",
        "\n",
        "print(c)"
      ],
      "execution_count": null,
      "outputs": [
        {
          "output_type": "stream",
          "text": [
            "[5, 7]\n"
          ],
          "name": "stdout"
        }
      ]
    },
    {
      "cell_type": "markdown",
      "metadata": {
        "id": "U11vxiFiwQ58"
      },
      "source": [
        "### Bonus Track"
      ]
    },
    {
      "cell_type": "markdown",
      "metadata": {
        "id": "2LI1G_SrwQ58"
      },
      "source": [
        "4. Print the following pattern:\n",
        "\n",
        "```python\n",
        "1\n",
        "22\n",
        "333\n",
        "4444\n",
        "55555\n",
        "666666\n",
        "7777777\n",
        "88888888\n",
        "999999999\n",
        "```"
      ]
    },
    {
      "cell_type": "code",
      "metadata": {
        "id": "iLnXO8rBwQ58",
        "outputId": "44089bad-a783-487c-afab-955b4d8f0ce9"
      },
      "source": [
        "for i in range(10):\n",
        "    print(str(i)*i)"
      ],
      "execution_count": null,
      "outputs": [
        {
          "output_type": "stream",
          "text": [
            "\n",
            "1\n",
            "22\n",
            "333\n",
            "4444\n",
            "55555\n",
            "666666\n",
            "7777777\n",
            "88888888\n",
            "999999999\n"
          ],
          "name": "stdout"
        }
      ]
    },
    {
      "cell_type": "markdown",
      "metadata": {
        "id": "L4tpxOG2wQ59"
      },
      "source": [
        "5. Get first, second best scores from the list.\n",
        "List contains duplicates."
      ]
    },
    {
      "cell_type": "code",
      "metadata": {
        "id": "Ne-dTKD-wQ59"
      },
      "source": [
        "scores = [86,86,85,85,85,83,23,45,84,1,2,0]"
      ],
      "execution_count": null,
      "outputs": []
    },
    {
      "cell_type": "code",
      "metadata": {
        "id": "Qh6uftwowQ59",
        "outputId": "0dd39747-50e8-44eb-a8b5-0fa79b22b804"
      },
      "source": [
        "# para calcular el máximo con la función max \n",
        "max(scores)"
      ],
      "execution_count": null,
      "outputs": [
        {
          "output_type": "execute_result",
          "data": {
            "text/plain": [
              "86"
            ]
          },
          "metadata": {
            "tags": []
          },
          "execution_count": 25
        }
      ]
    },
    {
      "cell_type": "code",
      "metadata": {
        "id": "tglWEHACwQ59"
      },
      "source": [
        "# para calcular el segundo mejor, pasamos a set para eliminar duplicados y eliminamos el máximo de scores y volvemos a calcular\n",
        "uniques = set(scores)\n",
        "uniques.remove(max(scores))"
      ],
      "execution_count": null,
      "outputs": []
    },
    {
      "cell_type": "code",
      "metadata": {
        "id": "MHD8V80uwQ59",
        "outputId": "fd622964-2342-4a37-f82d-5a6f4ad161ee"
      },
      "source": [
        "max(uniques)"
      ],
      "execution_count": null,
      "outputs": [
        {
          "output_type": "execute_result",
          "data": {
            "text/plain": [
              "85"
            ]
          },
          "metadata": {
            "tags": []
          },
          "execution_count": 27
        }
      ]
    },
    {
      "cell_type": "markdown",
      "metadata": {
        "id": "a6FGm8twwQ5-"
      },
      "source": [
        "6. From the given list:\n",
        "    \n",
        "    a) Create separate lists of strings and numbers.\n",
        "\n",
        "    b) Sort the strings' list in ascending order\n",
        "\n",
        "    c) Sort the strings' list in descending order\n",
        "\n",
        "    d) Sort the number's list from lowest to highest\n",
        "\n",
        "    e) Sort the number's list from highest to lowest"
      ]
    },
    {
      "cell_type": "code",
      "metadata": {
        "id": "ZwAh1cW5wQ5-"
      },
      "source": [
        "gadgets = [\"Mobile\", \"Laptop\", 100, \"Camera\", 310.28, \"Speakers\", 27.00, \n",
        "           \"Television\", 1000, \"Laptop Case\", \"Camera Lens\"]"
      ],
      "execution_count": null,
      "outputs": []
    },
    {
      "cell_type": "code",
      "metadata": {
        "id": "869t0u27wQ5-"
      },
      "source": [
        "strings = []\n",
        "numbers = []\n",
        "for elem in gadgets:\n",
        "    if type(elem) == str:\n",
        "        strings.append(elem)\n",
        "    elif type(elem) == int or type(elem) == float:\n",
        "        numbers.append(elem)"
      ],
      "execution_count": null,
      "outputs": []
    },
    {
      "cell_type": "code",
      "metadata": {
        "id": "0blNcIXqwQ5-",
        "outputId": "087722eb-a6f3-4a7f-ea68-ea65c5796101"
      },
      "source": [
        "strings"
      ],
      "execution_count": null,
      "outputs": [
        {
          "output_type": "execute_result",
          "data": {
            "text/plain": [
              "['Mobile',\n",
              " 'Laptop',\n",
              " 'Camera',\n",
              " 'Speakers',\n",
              " 'Television',\n",
              " 'Laptop Case',\n",
              " 'Camera Lens']"
            ]
          },
          "metadata": {
            "tags": []
          },
          "execution_count": 30
        }
      ]
    },
    {
      "cell_type": "code",
      "metadata": {
        "id": "OzAjiuNCwQ5-",
        "outputId": "9ee83649-7ef5-4a9b-aa17-d8d2e4338a51"
      },
      "source": [
        "strings.sort()\n",
        "strings"
      ],
      "execution_count": null,
      "outputs": [
        {
          "output_type": "execute_result",
          "data": {
            "text/plain": [
              "['Camera',\n",
              " 'Camera Lens',\n",
              " 'Laptop',\n",
              " 'Laptop Case',\n",
              " 'Mobile',\n",
              " 'Speakers',\n",
              " 'Television']"
            ]
          },
          "metadata": {
            "tags": []
          },
          "execution_count": 31
        }
      ]
    },
    {
      "cell_type": "code",
      "metadata": {
        "id": "0x1FBI73wQ5_",
        "outputId": "8c19591d-4728-4e50-8136-c792b58d3ac9"
      },
      "source": [
        "strings.sort(reverse = True)\n",
        "strings"
      ],
      "execution_count": null,
      "outputs": [
        {
          "output_type": "execute_result",
          "data": {
            "text/plain": [
              "['Television',\n",
              " 'Speakers',\n",
              " 'Mobile',\n",
              " 'Laptop Case',\n",
              " 'Laptop',\n",
              " 'Camera Lens',\n",
              " 'Camera']"
            ]
          },
          "metadata": {
            "tags": []
          },
          "execution_count": 32
        }
      ]
    },
    {
      "cell_type": "code",
      "metadata": {
        "id": "T-dIndWVwQ5_",
        "outputId": "aa4e81e9-54e4-4b75-cdc1-b3b64f11de36"
      },
      "source": [
        "numbers.sort()\n",
        "numbers"
      ],
      "execution_count": null,
      "outputs": [
        {
          "output_type": "execute_result",
          "data": {
            "text/plain": [
              "[27.0, 100, 310.28, 1000]"
            ]
          },
          "metadata": {
            "tags": []
          },
          "execution_count": 33
        }
      ]
    },
    {
      "cell_type": "code",
      "metadata": {
        "id": "_H0ysOjgwQ5_",
        "outputId": "da18ea6c-6722-4ae6-ed68-0f59e9f9b49f"
      },
      "source": [
        "numbers.sort(reverse = True)\n",
        "numbers"
      ],
      "execution_count": null,
      "outputs": [
        {
          "output_type": "execute_result",
          "data": {
            "text/plain": [
              "[1000, 310.28, 100, 27.0]"
            ]
          },
          "metadata": {
            "tags": []
          },
          "execution_count": 34
        }
      ]
    },
    {
      "cell_type": "markdown",
      "metadata": {
        "id": "uwZKBwcfwQ5_"
      },
      "source": [
        "7. Make a list of ten aliens, each of which is one color: 'red', 'green', or 'blue'.\n",
        "    - You can shorten this to 'r', 'g', and 'b' if you want, but if you choose this option you have to include a comment explaining what r, g, and b stand for.\n",
        "    - Red aliens are worth 5 points, green aliens are worth 10 points, and blue aliens are worth 20 points.\n",
        "    - Use a for loop to determine the number of points a player would earn for destroying all of the aliens in your list."
      ]
    },
    {
      "cell_type": "code",
      "metadata": {
        "id": "AM_oj-hGwQ6A",
        "outputId": "22861e92-7db6-4a0b-c984-952126d57704"
      },
      "source": [
        "aliens = ['red', 'green', 'blue', 'red', 'green', 'blue', 'red', 'green', 'blue', 'red']\n",
        "points = 0\n",
        "\n",
        "\n",
        "for e in aliens:\n",
        "    if e == 'red':\n",
        "        points += 5\n",
        "    elif e == 'green':\n",
        "        points += 10\n",
        "    elif e == 'blue':\n",
        "        points += 20\n",
        "print (f'Max score: {points}')"
      ],
      "execution_count": null,
      "outputs": [
        {
          "output_type": "stream",
          "text": [
            "Max score: 110\n"
          ],
          "name": "stdout"
        }
      ]
    },
    {
      "cell_type": "markdown",
      "metadata": {
        "id": "QueHehJ6wQ6A"
      },
      "source": [
        "![\"hola\"](https://preview.redd.it/wk843smkri441.jpg?width=960&crop=smart&auto=webp&s=1a4d7a5ddeef38c03334d275afe3a9dd33866ce8)"
      ]
    },
    {
      "cell_type": "code",
      "metadata": {
        "id": "PI69d1CrwQ6A"
      },
      "source": [
        ""
      ],
      "execution_count": null,
      "outputs": []
    }
  ]
}