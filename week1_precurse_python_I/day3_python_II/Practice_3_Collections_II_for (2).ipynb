{
  "nbformat": 4,
  "nbformat_minor": 0,
  "metadata": {
    "kernelspec": {
      "name": "python374jvsc74a57bd0182e3b849e87c789b13dcf4169d6d9922ca2e40dd3044e82b295bff17932e6e2",
      "display_name": "Python 3.7.4 64-bit"
    },
    "language_info": {
      "codemirror_mode": {
        "name": "ipython",
        "version": 3
      },
      "file_extension": ".py",
      "mimetype": "text/x-python",
      "name": "python",
      "nbconvert_exporter": "python",
      "pygments_lexer": "ipython3",
      "version": "3.7.4"
    },
    "colab": {
      "name": "Practice_3_Collections_II_for.ipynb",
      "provenance": []
    },
    "metadata": {
      "interpreter": {
        "hash": "182e3b849e87c789b13dcf4169d6d9922ca2e40dd3044e82b295bff17932e6e2"
      }
    }
  },
  "cells": [
    {
      "cell_type": "markdown",
      "metadata": {
        "id": "6nsHZPXsCq-y"
      },
      "source": [
        "# Python | day 2 | collections & if/else & for"
      ]
    },
    {
      "cell_type": "markdown",
      "metadata": {
        "id": "5XeQn62zCq_A"
      },
      "source": [
        "### Exercise 1. "
      ]
    },
    {
      "cell_type": "markdown",
      "metadata": {
        "id": "NchjshotCq_B"
      },
      "source": [
        "1. Create a variable called **num_bridge** with a value of 15."
      ]
    },
    {
      "cell_type": "code",
      "metadata": {
        "id": "TJVau7bECq_C"
      },
      "source": [
        "num_bridge = 15"
      ],
      "execution_count": 12,
      "outputs": []
    },
    {
      "cell_type": "markdown",
      "metadata": {
        "id": "nEqNJ8rwCq_D"
      },
      "source": [
        "2. Create a variable called **name_street** with the value \"Recoletos\".\n",
        "\n"
      ]
    },
    {
      "cell_type": "code",
      "metadata": {
        "id": "y1YU0GiJCq_D"
      },
      "source": [
        "name_street = \"Recoletos\""
      ],
      "execution_count": 14,
      "outputs": []
    },
    {
      "cell_type": "markdown",
      "metadata": {
        "id": "hcHXxSd2Cq_E"
      },
      "source": [
        "3. Create a variable called **personal_taste** which should be `True` if you like the beach better or `False` if you rather choose mountain. \n",
        "\n",
        "```python\n",
        "Example: \n",
        "personal_taste = True\n",
        "```"
      ]
    },
    {
      "cell_type": "code",
      "metadata": {
        "id": "MA79MN48Cq_E"
      },
      "source": [
        "personal_taste = True"
      ],
      "execution_count": 16,
      "outputs": []
    },
    {
      "cell_type": "markdown",
      "metadata": {
        "id": "oazP4R29Cq_F"
      },
      "source": [
        "4. Create a variable called **nothing** like follows: `nothing = None`. `None`doesn't represent any value, something you should keep in mind if you do `if nothing:` then `nothing` acts as a boolean `False`. "
      ]
    },
    {
      "cell_type": "code",
      "metadata": {
        "id": "H18uutshCq_F"
      },
      "source": [
        "nothing = None"
      ],
      "execution_count": 18,
      "outputs": []
    },
    {
      "cell_type": "markdown",
      "metadata": {
        "id": "sFdhiP59Cq_F"
      },
      "source": [
        "5. Create a variable called **address_list**. This should be a list which contains the following: first element **name_street** and second element **num_bridge**. "
      ]
    },
    {
      "cell_type": "code",
      "metadata": {
        "id": "SQBywllhCq_G"
      },
      "source": [
        "address_list = [name_street, num_bridge]\n",
        "print(address_list)"
      ],
      "execution_count": null,
      "outputs": []
    },
    {
      "cell_type": "markdown",
      "metadata": {
        "id": "qJ1meJ6FCq_G"
      },
      "source": [
        "6. Create a variable called **sleep_hours** that should contains, as a string, the hours you've slept today."
      ]
    },
    {
      "cell_type": "code",
      "metadata": {
        "id": "sl9W1YSNCq_G"
      },
      "source": [
        "sleep_hours = 7"
      ],
      "execution_count": 9,
      "outputs": []
    },
    {
      "cell_type": "markdown",
      "metadata": {
        "id": "aTQTrVcVCq_H"
      },
      "source": [
        "7. Create a list called **info_list** containing every variable you've just created in the order you have done it.\n",
        "\n",
        "```python\n",
        "len(info_list) == 6\n",
        "True\n",
        "```\n",
        "\n",
        "**IMPORTANT: you will use `info_list` at some point during the ramp-up**"
      ]
    },
    {
      "cell_type": "code",
      "metadata": {
        "id": "bxHONoElCq_H"
      },
      "source": [
        "info_list = [num_bridge, name_street, personal_taste, nothing, address_list, sleep_hours]\n",
        "print(info_list)"
      ],
      "execution_count": 10,
      "outputs": [
        {
          "output_type": "stream",
          "name": "stdout",
          "text": [
            "[15, 'Recoletos', True, None, ['Recoletos', 15], 7]\n"
          ]
        }
      ]
    },
    {
      "cell_type": "markdown",
      "metadata": {
        "id": "QW0bHY0CCq_H"
      },
      "source": [
        "8. Run the following cell in order to delete every variable you've just created and keep **info_list** only.\n",
        "Print **info_list** once you've done it to check the list still exists."
      ]
    },
    {
      "cell_type": "code",
      "metadata": {
        "id": "5IB2S0FQCq_I"
      },
      "source": [
        "#run this\n",
        "del num_bridge\n",
        "del name_street\n",
        "del personal_taste\n",
        "del nothing\n",
        "del address_list\n",
        "del sleep_hours"
      ],
      "execution_count": 11,
      "outputs": []
    },
    {
      "cell_type": "code",
      "metadata": {
        "id": "bgtMoNH3Cq_I"
      },
      "source": [
        "print(info_list)"
      ],
      "execution_count": 13,
      "outputs": [
        {
          "output_type": "stream",
          "name": "stdout",
          "text": [
            "[15, 'Recoletos', True, None, ['Recoletos', 15], 7]\n"
          ]
        }
      ]
    },
    {
      "cell_type": "markdown",
      "metadata": {
        "id": "yQnR6rOnCq_I"
      },
      "source": [
        "### Exercise 2."
      ]
    },
    {
      "cell_type": "markdown",
      "metadata": {
        "id": "kgoYZ24hCq_I"
      },
      "source": [
        "You'll need `info_list` in order to continue with this exercise. Remember don't use any variable except `info_list`. \n",
        "\n",
        "Print the following. Don't use functions and/or loops. "
      ]
    },
    {
      "cell_type": "markdown",
      "metadata": {
        "id": "E5tfjlP0Cq_J"
      },
      "source": [
        " 1. Sum up the street number of The Bridge and the hours you slept last night. "
      ]
    },
    {
      "cell_type": "code",
      "metadata": {
        "id": "jCfYbwPdCq_J"
      },
      "source": [
        "info_list[0]+ int(info_list[5])"
      ],
      "execution_count": 15,
      "outputs": [
        {
          "output_type": "execute_result",
          "data": {
            "text/plain": [
              "22"
            ]
          },
          "metadata": {},
          "execution_count": 15
        }
      ]
    },
    {
      "cell_type": "markdown",
      "metadata": {
        "id": "BODKpa3pCq_J"
      },
      "source": [
        "2. Concatenate the street number of The Bridge, the name of the street, your personal taste and the hours you slept. All of them should be separated by `\" --> \"`."
      ]
    },
    {
      "cell_type": "code",
      "metadata": {
        "id": "Tgc1VvX6Cq_J"
      },
      "source": [
        "info_list = [15, 'Recoletos', True, None, ['Recoletos', 15], 7]\n",
        "separa = \"-->\"\n",
        "\n",
        "for i in info_list:\n",
        "    frase = str(i)+separa\n",
        "    print(frase)\n"
      ],
      "execution_count": 17,
      "outputs": [
        {
          "output_type": "stream",
          "name": "stdout",
          "text": [
            "15-->\nRecoletos-->\nTrue-->\nNone-->\n['Recoletos', 15]-->\n7-->\n"
          ]
        }
      ]
    },
    {
      "cell_type": "markdown",
      "metadata": {
        "id": "flbYlSj_Cq_K"
      },
      "source": [
        "3. Access to the list which is at the fourth position of **info_list** and print the result of: \n",
        "     - The concatenation of both elements contained in the list found in fourth position of **info_list**. \n",
        "     - The multiplication of the lenght of the list and the lenght of the street's name.\n",
        "    \n",
        "   If at the fourth position of **info_list** you don't find a list, go back to Exercise 1, please. "
      ]
    },
    {
      "cell_type": "code",
      "metadata": {
        "id": "d2x7Ore2Cq_K"
      },
      "source": [
        "print(info_list[4])\n",
        "for i in info_list[4]:\n",
        "    sum(str(i))\n",
        "    print(i)"
      ],
      "execution_count": 19,
      "outputs": [
        {
          "output_type": "stream",
          "name": "stdout",
          "text": [
            "['Recoletos', 15]\n"
          ]
        },
        {
          "output_type": "error",
          "ename": "TypeError",
          "evalue": "unsupported operand type(s) for +: 'int' and 'str'",
          "traceback": [
            "\u001b[1;31m---------------------------------------------------------------------------\u001b[0m",
            "\u001b[1;31mTypeError\u001b[0m                                 Traceback (most recent call last)",
            "\u001b[1;32m<ipython-input-19-70fe95f02a78>\u001b[0m in \u001b[0;36m<module>\u001b[1;34m\u001b[0m\n\u001b[0;32m      1\u001b[0m \u001b[0mprint\u001b[0m\u001b[1;33m(\u001b[0m\u001b[0minfo_list\u001b[0m\u001b[1;33m[\u001b[0m\u001b[1;36m4\u001b[0m\u001b[1;33m]\u001b[0m\u001b[1;33m)\u001b[0m\u001b[1;33m\u001b[0m\u001b[1;33m\u001b[0m\u001b[0m\n\u001b[0;32m      2\u001b[0m \u001b[1;32mfor\u001b[0m \u001b[0mi\u001b[0m \u001b[1;32min\u001b[0m \u001b[0minfo_list\u001b[0m\u001b[1;33m[\u001b[0m\u001b[1;36m4\u001b[0m\u001b[1;33m]\u001b[0m\u001b[1;33m:\u001b[0m\u001b[1;33m\u001b[0m\u001b[1;33m\u001b[0m\u001b[0m\n\u001b[1;32m----> 3\u001b[1;33m     \u001b[0msum\u001b[0m\u001b[1;33m(\u001b[0m\u001b[0mstr\u001b[0m\u001b[1;33m(\u001b[0m\u001b[0mi\u001b[0m\u001b[1;33m)\u001b[0m\u001b[1;33m)\u001b[0m\u001b[1;33m\u001b[0m\u001b[1;33m\u001b[0m\u001b[0m\n\u001b[0m\u001b[0;32m      4\u001b[0m     \u001b[0mprint\u001b[0m\u001b[1;33m(\u001b[0m\u001b[0mi\u001b[0m\u001b[1;33m)\u001b[0m\u001b[1;33m\u001b[0m\u001b[1;33m\u001b[0m\u001b[0m\n",
            "\u001b[1;31mTypeError\u001b[0m: unsupported operand type(s) for +: 'int' and 'str'"
          ]
        }
      ]
    },
    {
      "cell_type": "markdown",
      "metadata": {
        "id": "We4v9doHCq_K"
      },
      "source": [
        "### Exercise 3."
      ]
    },
    {
      "cell_type": "markdown",
      "metadata": {
        "id": "X1l9BccnCq_K"
      },
      "source": [
        "1. Get user input using input(“Enter your age: ”). If user is 18 or older, give feedback: You are old enough to drive. If below 18 give feedback to wait for the missing amount of years."
      ]
    },
    {
      "cell_type": "code",
      "metadata": {
        "id": "pu047evECq_L"
      },
      "source": [
        "x = int(input(\"Enter your age\"))\n",
        "if x >= 18:\n",
        "    print(\"You are old enough to drive\")\n",
        "else:\n",
        "    print(\"Wait for\") \n",
        "    print (18-x)"
      ],
      "execution_count": 21,
      "outputs": [
        {
          "output_type": "stream",
          "name": "stdout",
          "text": [
            "You are old enough to drive\n"
          ]
        }
      ]
    },
    {
      "cell_type": "markdown",
      "metadata": {
        "id": "K8eb6AIuCq_L"
      },
      "source": [
        "2. Compare the values of **my_age** and **your_age** using if/else. Who is older (me or you)? Use input(“Enter your age: ”) to get **your_age** as input. **my_age** is always your age, cause you are the one coding the program. "
      ]
    },
    {
      "cell_type": "code",
      "metadata": {
        "id": "GzQ9skcECq_L"
      },
      "source": [
        "my_age = 24\n",
        "your_age = int(input(\"enter your age\"))\n",
        "if my_age > your_age:\n",
        " print(\"I'm older than you\")\n",
        "else:\n",
        " print(\"You are older than me\")\n",
        "\n"
      ],
      "execution_count": 22,
      "outputs": [
        {
          "output_type": "stream",
          "name": "stdout",
          "text": [
            "You are older than me\n"
          ]
        }
      ]
    },
    {
      "cell_type": "markdown",
      "metadata": {
        "id": "iW5jyef4Cq_L"
      },
      "source": [
        "3. Get two numbers from the user using input prompt. If a is greater than b return \"a is greater than b\", if a is less b return \"a is smaller than b\", else \"a is equal to b\"."
      ]
    },
    {
      "cell_type": "code",
      "metadata": {
        "id": "u0S634dXCq_L"
      },
      "source": [
        "a = int(input(\"insert a number\"))\n",
        "b = int(input(\"insert another number\"))\n",
        "if a > b:\n",
        " print(\"a is greater than b\")\n",
        "else:\n",
        " print(\"b is greater than a\")"
      ],
      "execution_count": 23,
      "outputs": [
        {
          "output_type": "stream",
          "name": "stdout",
          "text": [
            "a is greater than b\n"
          ]
        }
      ]
    },
    {
      "cell_type": "markdown",
      "metadata": {
        "id": "LKFd4hKjCq_M"
      },
      "source": [
        "### Exercise 4\n",
        "\n",
        "Learn about **for loop**\n",
        "\n",
        "Watch this video: https://www.youtube.com/watch?v=wxds6MAtUQ0\n",
        "\n",
        "Read this: https://www.w3schools.com/python/python_for_loops.asp\n",
        "\n",
        "You may need this to understand what is going on with your loops: http://www.pythontutor.com/visualize.html#mode=edit"
      ]
    },
    {
      "cell_type": "markdown",
      "metadata": {
        "id": "5b-QHUMcCq_M"
      },
      "source": [
        "Declare four variables: \n",
        "- A string variable containing your surname. \n",
        "- Two integers variables: one, with the number of the street in which you live, and two, the age of the classmate sitting on your right. \n",
        "    If you are on the right edge of the table, look for your classmate on your left.\n",
        "    If you are on remote, choose one of your mates who are on remote too. \n",
        "- A list containing the variables you have just declared."
      ]
    },
    {
      "cell_type": "code",
      "metadata": {
        "id": "V3CxU2iGCq_M"
      },
      "source": [
        "surname = \"Palomares\"\n",
        "number_of_street = 180\n",
        "classmate_age = 25\n",
        "list = [surname, number_of_street, classmate_age]"
      ],
      "execution_count": 26,
      "outputs": []
    },
    {
      "cell_type": "markdown",
      "metadata": {
        "id": "Ai4OP20DCq_M"
      },
      "source": [
        "Using a **for loop** print every element of the list you've just created. \n",
        "    \n"
      ]
    },
    {
      "cell_type": "code",
      "metadata": {
        "id": "_kEigTDECq_N"
      },
      "source": [
        "for i in list:\n",
        "    print(i)"
      ],
      "execution_count": 27,
      "outputs": [
        {
          "output_type": "stream",
          "name": "stdout",
          "text": [
            "Palomares\n180\n25\n"
          ]
        }
      ]
    },
    {
      "cell_type": "markdown",
      "metadata": {
        "id": "ic8Wcv-uCq_N"
      },
      "source": [
        "Using a **for loop** and a **if** make sure you only print the element in the list which is a string\n",
        "(Your surname). "
      ]
    },
    {
      "cell_type": "code",
      "metadata": {
        "id": "gAhoT9CKCq_N"
      },
      "source": [
        "for i in list:\n",
        "    if type(i) == str:\n",
        "        print(i)"
      ],
      "execution_count": 30,
      "outputs": [
        {
          "output_type": "stream",
          "name": "stdout",
          "text": [
            "Palomares\n"
          ]
        }
      ]
    },
    {
      "cell_type": "markdown",
      "metadata": {
        "id": "Wrm7k6f1Cq_N"
      },
      "source": [
        "**Well done!**"
      ]
    },
    {
      "cell_type": "markdown",
      "metadata": {
        "id": "ZRD5KriJCq_N"
      },
      "source": [
        "### Exercise 5\n",
        "\n",
        "1. The following list contains some fruits:\n",
        "    \n",
        "`fruits = ['banana', 'orange', 'mango', 'lemon']`\n",
        "\n",
        "If a fruit doesn't exist in the list add the fruit to the list and print the modified list. If the fruit exists print('That fruit already exist in the list')\n",
        "\n",
        "Note: You can solve this exercise using or not `for` loop."
      ]
    },
    {
      "cell_type": "code",
      "metadata": {
        "id": "9h5RKwpaCq_O"
      },
      "source": [
        "fruits =['banana', 'orange', 'mango', 'lemon']\n",
        "nueva_fruta = input(\"escrine una fruta:\")\n",
        "se_ha_insertado = False\n",
        "for fruta in fruits:\n",
        "    if fruta == nueva_fruta :\n",
        "        print(\"That fruit already exist\")\n",
        "        break \n",
        "    elif se_ha_insertado == False:\n",
        "\n",
        "        fruits.append(nueva_fruta)\n",
        "        se_ha_insertado = True\n",
        "\n",
        "\n",
        "print(fruits)\n"
      ],
      "execution_count": 4,
      "outputs": [
        {
          "output_type": "stream",
          "name": "stdout",
          "text": [
            "That fruit already exist\n['banana', 'orange', 'mango', 'lemon', 'pera']\n"
          ]
        }
      ]
    },
    {
      "cell_type": "markdown",
      "metadata": {
        "id": "7cTlQu1eCq_O"
      },
      "source": [
        "2. Prints the numbers between 0 and 70 that are multiples of 3 and 5."
      ]
    },
    {
      "cell_type": "code",
      "metadata": {
        "id": "Q0fxJYJuCq_O"
      },
      "source": [],
      "execution_count": 1,
      "outputs": [
        {
          "output_type": "error",
          "ename": "SyntaxError",
          "evalue": "invalid syntax (<ipython-input-1-9fbe5df31773>, line 1)",
          "traceback": [
            "\u001b[1;36m  File \u001b[1;32m\"<ipython-input-1-9fbe5df31773>\"\u001b[1;36m, line \u001b[1;32m1\u001b[0m\n\u001b[1;33m    print(0:71)\u001b[0m\n\u001b[1;37m           ^\u001b[0m\n\u001b[1;31mSyntaxError\u001b[0m\u001b[1;31m:\u001b[0m invalid syntax\n"
          ]
        }
      ]
    },
    {
      "cell_type": "markdown",
      "metadata": {
        "id": "2sm8IO0TCq_O"
      },
      "source": [
        "3. Given two lists of same lenght, create a third list which contains the sum of both of the list, element by element. \n",
        "\n",
        "```python\n",
        "Example: \n",
        "a = [1,2]\n",
        "b = [4,5]\n",
        "new_list = [5,7]\n",
        "```"
      ]
    },
    {
      "cell_type": "code",
      "metadata": {
        "id": "Vp9hcRTUCq_O"
      },
      "source": [
        "a = [8, 9, 10]\n",
        "b = [12, 66, 30]"
      ],
      "execution_count": 2,
      "outputs": []
    },
    {
      "cell_type": "markdown",
      "metadata": {
        "id": "Yb3cJ-GpCq_P"
      },
      "source": [
        "### Bonus Track"
      ]
    },
    {
      "cell_type": "markdown",
      "metadata": {
        "id": "K2avUoWPCq_P"
      },
      "source": [
        "4. Print the following pattern:\n",
        "\n",
        "```python\n",
        "1\n",
        "22\n",
        "333\n",
        "4444\n",
        "55555\n",
        "666666\n",
        "7777777\n",
        "88888888\n",
        "999999999\n",
        "```"
      ]
    },
    {
      "cell_type": "code",
      "metadata": {
        "id": "w2BbUObbCq_P"
      },
      "source": [],
      "execution_count": null,
      "outputs": []
    },
    {
      "cell_type": "markdown",
      "metadata": {
        "id": "ysacR1QUCq_P"
      },
      "source": [
        "5. Get first, second best scores from the list.\n",
        "List contains duplicates."
      ]
    },
    {
      "cell_type": "code",
      "metadata": {
        "id": "D9tO0QBsCq_P"
      },
      "source": [
        "scores = [86,86,85,85,85,83,23,45,84,1,2,0]"
      ],
      "execution_count": null,
      "outputs": []
    },
    {
      "cell_type": "code",
      "metadata": {
        "id": "HE4r7YojCq_Q"
      },
      "source": [],
      "execution_count": null,
      "outputs": []
    },
    {
      "cell_type": "markdown",
      "metadata": {
        "id": "B7ZvDccSCq_Q"
      },
      "source": [
        "6. From the given list:\n",
        "    \n",
        "    a) Create separate lists of strings and numbers.\n",
        "\n",
        "    b) Sort the strings' list in ascending order\n",
        "\n",
        "    c) Sort the strings' list in descending order\n",
        "\n",
        "    d) Sort the number's list from lowest to highest\n",
        "\n",
        "    e) Sort the number's list from highest to lowest"
      ]
    },
    {
      "cell_type": "code",
      "metadata": {
        "id": "175PgAg2Cq_Q"
      },
      "source": [
        "gadgets = [\"Mobile\", \"Laptop\", 100, \"Camera\", 310.28, \"Speakers\", 27.00, \n",
        "           \"Television\", 1000, \"Laptop Case\", \"Camera Lens\"]"
      ],
      "execution_count": null,
      "outputs": []
    },
    {
      "cell_type": "code",
      "metadata": {
        "id": "3aJE6aHpCq_Q"
      },
      "source": [],
      "execution_count": null,
      "outputs": []
    },
    {
      "cell_type": "markdown",
      "metadata": {
        "id": "zGPe3YdhCq_Q"
      },
      "source": [
        "7. Make a list of ten aliens, each of which is one color: 'red', 'green', or 'blue'.\n",
        "    - You can shorten this to 'r', 'g', and 'b' if you want, but if you choose this option you have to include a comment explaining what r, g, and b stand for.\n",
        "    - Red aliens are worth 5 points, green aliens are worth 10 points, and blue aliens are worth 20 points.\n",
        "    - Use a for loop to determine the number of points a player would earn for destroying all of the aliens in your list."
      ]
    },
    {
      "cell_type": "code",
      "metadata": {
        "id": "HrgmDFhdCq_R"
      },
      "source": [],
      "execution_count": null,
      "outputs": []
    },
    {
      "cell_type": "markdown",
      "metadata": {
        "id": "qMqt780PCq_R"
      },
      "source": [
        "![\"hola\"](https://preview.redd.it/wk843smkri441.jpg?width=960&crop=smart&auto=webp&s=1a4d7a5ddeef38c03334d275afe3a9dd33866ce8)"
      ]
    },
    {
      "cell_type": "code",
      "metadata": {
        "id": "MXLqIojZCq_R"
      },
      "source": [],
      "execution_count": null,
      "outputs": []
    }
  ]
}