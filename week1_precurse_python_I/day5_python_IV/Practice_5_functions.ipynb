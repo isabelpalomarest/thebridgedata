{
  "nbformat": 4,
  "nbformat_minor": 0,
  "metadata": {
    "kernelspec": {
      "name": "python374jvsc74a57bd0182e3b849e87c789b13dcf4169d6d9922ca2e40dd3044e82b295bff17932e6e2",
      "display_name": "Python 3.7.4 64-bit"
    },
    "language_info": {
      "codemirror_mode": {
        "name": "ipython",
        "version": 3
      },
      "file_extension": ".py",
      "mimetype": "text/x-python",
      "name": "python",
      "nbconvert_exporter": "python",
      "pygments_lexer": "ipython3",
      "version": "3.7.4"
    },
    "colab": {
      "name": "Practice_5_functions.ipynb",
      "provenance": []
    },
    "metadata": {
      "interpreter": {
        "hash": "182e3b849e87c789b13dcf4169d6d9922ca2e40dd3044e82b295bff17932e6e2"
      }
    }
  },
  "cells": [
    {
      "cell_type": "markdown",
      "metadata": {
        "id": "fnnqdaz4cmd1"
      },
      "source": [
        "# Python | day 5 | functions"
      ]
    },
    {
      "cell_type": "markdown",
      "metadata": {
        "id": "UkX7pLmjcmd6"
      },
      "source": [
        "In Python, a function is a group of related statements that performs a specific task."
      ]
    },
    {
      "cell_type": "markdown",
      "metadata": {
        "id": "VxyKTiMLcmd7"
      },
      "source": [
        "https://www.programiz.com/python-programming/function"
      ]
    },
    {
      "cell_type": "markdown",
      "metadata": {
        "id": "X1PV8Z04cmd7"
      },
      "source": [
        "#### Difference between `return` and `print`.\n",
        "\n",
        "Take some minutes to understand the difference between `return` and `print`, it seems to be the same, but they are not and it's important you understand the difference. "
      ]
    },
    {
      "cell_type": "code",
      "metadata": {
        "id": "MxtZVjIfcmd8"
      },
      "source": [
        "def suma(a,b):\n",
        "    print(a)\n",
        "    return a+b\n",
        "\n",
        "print(suma(suma(2,2),4))"
      ],
      "execution_count": 1,
      "outputs": [
        {
          "output_type": "stream",
          "name": "stdout",
          "text": [
            "2\n4\n8\n"
          ]
        }
      ]
    },
    {
      "cell_type": "markdown",
      "metadata": {
        "id": "gJsIuJb7cmd8"
      },
      "source": [
        "#### Comments in a function."
      ]
    },
    {
      "cell_type": "code",
      "metadata": {
        "id": "U6DPkal5cmd9"
      },
      "source": [
        "def say_hello(name):\n",
        "    \"\"\"\n",
        "    Given a name as an argument, \n",
        "    the function return a string greeting\n",
        "    the name given. \n",
        "    \"\"\"\n",
        "    return f\"hello {name}\""
      ],
      "execution_count": 2,
      "outputs": []
    },
    {
      "cell_type": "code",
      "metadata": {
        "id": "86J0L5H-cmd9"
      },
      "source": [
        "print(say_hello(\"Clara\"))"
      ],
      "execution_count": 3,
      "outputs": [
        {
          "output_type": "stream",
          "name": "stdout",
          "text": [
            "hello Clara\n"
          ]
        }
      ]
    },
    {
      "cell_type": "code",
      "metadata": {
        "id": "UsIm2NTVcmd9"
      },
      "source": [
        "help(say_hello)"
      ],
      "execution_count": 4,
      "outputs": [
        {
          "output_type": "stream",
          "name": "stdout",
          "text": [
            "Help on function say_hello in module __main__:\n\nsay_hello(name)\n    Given a name as an argument, \n    the function return a string greeting\n    the name given.\n\n"
          ]
        }
      ]
    },
    {
      "cell_type": "markdown",
      "metadata": {
        "id": "GpFdTxykcmd9"
      },
      "source": [
        "### Exercise 1. "
      ]
    },
    {
      "cell_type": "markdown",
      "metadata": {
        "id": "yhF4oDBKcmd-"
      },
      "source": [
        "To solve the following exercises it will be necessary to define a function for each section. You choose the name of those functions unless specified, but make sure you define a single parameter `whichever_list`, when calling the function it will correspond to the variable `info_list`.\n",
        "```python\n",
        "def funtion_bla(whichever_list):\n",
        "    return whichever_list\n",
        "\n",
        "function_bla(info_list)\n",
        "```\n",
        "\n",
        "**In the case of not being able to solve a question containing the code in a function, try to do it without defining one.**"
      ]
    },
    {
      "cell_type": "code",
      "metadata": {
        "id": "GEExjPb9cmd-"
      },
      "source": [
        "# you can use this list or take yours from Practice 3\n",
        "info_list = [15, 'Recoletos', True, ['Recoletos', 15],  None, '8'] "
      ],
      "execution_count": 5,
      "outputs": []
    },
    {
      "cell_type": "markdown",
      "metadata": {
        "id": "oBhM2Z8wcmd-"
      },
      "source": [
        "1. Display on the screen `\"I like the tranquility\"` if you like the mountains more and `\"I'd love to live in Malaga\"` if you like the beach more.\n",
        "\n"
      ]
    },
    {
      "cell_type": "code",
      "metadata": {
        "id": "m5XFdT3ncmd-"
      },
      "source": [
        "#define a function which takes a single parameter `whichever_list`\n",
        "def funtion_sea(whichever_list):\n",
        "    if whichever_list[2] == True:\n",
        "        print(\"I'd love to live in Malaga\")\n",
        "    else:\n",
        "        print_(\"I like the tranquility\")"
      ],
      "execution_count": 6,
      "outputs": []
    },
    {
      "cell_type": "code",
      "metadata": {
        "id": "RVRN9PBTcmd_"
      },
      "source": [
        "#call the function with the variable `info_list`\n",
        "funtion_sea(info_list)"
      ],
      "execution_count": 7,
      "outputs": [
        {
          "output_type": "stream",
          "name": "stdout",
          "text": [
            "I'd love to live in Malaga\n"
          ]
        }
      ]
    },
    {
      "cell_type": "markdown",
      "metadata": {
        "id": "DLZnzQJWcmd_"
      },
      "source": [
        "2. Print `\"Today I am tired\"` if you have slept less than 7 hours or `\"Today I conquer the world\"` if you have slept more than 7 hours."
      ]
    },
    {
      "cell_type": "code",
      "metadata": {
        "id": "6zhl-oGccmd_"
      },
      "source": [
        "#define a function which takes a single parameter `whichever_list`\n",
        "def hours(whichever_list):\n",
        "    \n",
        "    if int(whichever_list[5]) >=7:\n",
        "        print(\"Today I conquer the world\")\n",
        "    else:\n",
        "        print(\"Today I am tired\")"
      ],
      "execution_count": 8,
      "outputs": []
    },
    {
      "cell_type": "code",
      "metadata": {
        "id": "KTlrDIyYcmeA"
      },
      "source": [
        "#call the function with the variable `info_list`\n",
        "hours(info_list)"
      ],
      "execution_count": 9,
      "outputs": [
        {
          "output_type": "stream",
          "name": "stdout",
          "text": [
            "Today I conquer the world\n"
          ]
        }
      ]
    },
    {
      "cell_type": "markdown",
      "metadata": {
        "id": "KmaHzhrrcmeA"
      },
      "source": [
        "3. Loop through `whichever_list` to print all the elements it contains. This function should return the list turned into a tuple. "
      ]
    },
    {
      "cell_type": "code",
      "metadata": {
        "id": "KDwLVQTOcmeA"
      },
      "source": [
        "#define a function which takes a single parameter `whichever_list`\n",
        "def all_elements(whichever_list):\n",
        "    for x in whichever_list:\n",
        "        print(x)\n",
        "    return(tuple(whichever_list))"
      ],
      "execution_count": 10,
      "outputs": []
    },
    {
      "cell_type": "code",
      "metadata": {
        "id": "CTuZpYbYcmeA"
      },
      "source": [
        "#call the function with the variable `info_list`\n",
        "all_elements(info_list)"
      ],
      "execution_count": 11,
      "outputs": [
        {
          "output_type": "stream",
          "name": "stdout",
          "text": [
            "15\nRecoletos\nTrue\n['Recoletos', 15]\nNone\n8\n"
          ]
        },
        {
          "output_type": "execute_result",
          "data": {
            "text/plain": [
              "(15, 'Recoletos', True, ['Recoletos', 15], None, '8')"
            ]
          },
          "metadata": {},
          "execution_count": 11
        }
      ]
    },
    {
      "cell_type": "markdown",
      "metadata": {
        "id": "gbkIm4aYcmeB"
      },
      "source": [
        "4. Loop through `whichever_list` to print all the elements it contains concatenated with the string` \"--> OK\" `. This function should return a message saying, `\"everything will be ok\"`. \n"
      ]
    },
    {
      "cell_type": "code",
      "metadata": {
        "id": "BkSpCc9acmeB"
      },
      "source": [
        "#define a function which takes a single parameter `whichever_list`\n",
        "def concatenated(whichever_list):\n",
        "    lista_con= \"\"\n",
        "    for x in whichever_list:\n",
        "        lista_con = (str(x) + \"--> OK\")\n",
        "        print(lista_con)\n",
        "    return(\"everything will be ok\")"
      ],
      "execution_count": 12,
      "outputs": []
    },
    {
      "cell_type": "code",
      "metadata": {
        "id": "2Zpjz9QvcmeB"
      },
      "source": [
        "#call the function with the variable `info_list`\n",
        "concatenated(info_list)"
      ],
      "execution_count": 13,
      "outputs": [
        {
          "output_type": "stream",
          "name": "stdout",
          "text": [
            "15--> OK\nRecoletos--> OK\nTrue--> OK\n['Recoletos', 15]--> OK\nNone--> OK\n8--> OK\n"
          ]
        },
        {
          "output_type": "execute_result",
          "data": {
            "text/plain": [
              "'everything will be ok'"
            ]
          },
          "metadata": {},
          "execution_count": 13
        }
      ]
    },
    {
      "cell_type": "markdown",
      "metadata": {
        "id": "NZHEkXKRcmeB"
      },
      "source": [
        "5. Loop through `whichever_list` to display all items it contains except the first one. This function should return the first element of the list. "
      ]
    },
    {
      "cell_type": "code",
      "metadata": {
        "id": "b-vfx4AlcmeB"
      },
      "source": [
        "#define a function which takes a single parameter `whichever_list`\n",
        "def not_the_first(whichever_list):\n",
        "    for x in whichever_list:\n",
        "        if isinstance(x,int):\n",
        "            whichever_list.remove(x)\n",
        "            print(whichever_list)\n",
        "            return(x)\n",
        "    \n"
      ],
      "execution_count": 14,
      "outputs": []
    },
    {
      "cell_type": "code",
      "metadata": {
        "id": "6qpFwkrecmeC"
      },
      "source": [
        "#call the function with the variable `info_list`\n",
        "not_the_first(info_list)\n"
      ],
      "execution_count": 15,
      "outputs": [
        {
          "output_type": "stream",
          "name": "stdout",
          "text": [
            "['Recoletos', True, ['Recoletos', 15], None, '8']\n"
          ]
        },
        {
          "output_type": "execute_result",
          "data": {
            "text/plain": [
              "15"
            ]
          },
          "metadata": {},
          "execution_count": 15
        }
      ]
    },
    {
      "cell_type": "markdown",
      "metadata": {
        "id": "iS7kFjpecmeC"
      },
      "source": [
        "6. Loop through `whichever_list` to display all the items it contains except the last one. This function should return the last element of the list. "
      ]
    },
    {
      "cell_type": "code",
      "metadata": {
        "id": "yTfzSQ4scmeC"
      },
      "source": [
        "#define a function which takes a single parameter `whichever_list`\n",
        "def except_the_last(whichever_list):\n",
        "    print(whichever_list[0:-1])\n",
        "    return(whichever_list[-1])"
      ],
      "execution_count": 16,
      "outputs": []
    },
    {
      "cell_type": "code",
      "metadata": {
        "id": "i7hccJ07cmeC"
      },
      "source": [
        "#call the function with the variable `info_list`\n",
        "except_the_last(info_list)"
      ],
      "execution_count": 17,
      "outputs": [
        {
          "output_type": "stream",
          "name": "stdout",
          "text": [
            "['Recoletos', True, ['Recoletos', 15], None]\n"
          ]
        },
        {
          "output_type": "execute_result",
          "data": {
            "text/plain": [
              "'8'"
            ]
          },
          "metadata": {},
          "execution_count": 17
        }
      ]
    },
    {
      "cell_type": "markdown",
      "metadata": {
        "id": "AJpcNgYHcmeC"
      },
      "source": [
        "7. Loop through `whichever_list` to show all the elements it contains except the street number and the hours you've slept."
      ]
    },
    {
      "cell_type": "code",
      "metadata": {
        "id": "sRYCLHlQcmeC"
      },
      "source": [
        "#define a function which takes a single parameter `whichever_list`\n",
        "def show_elements(whichever_list):\n",
        "    print(whichever_list[1:-1])\n"
      ],
      "execution_count": 18,
      "outputs": []
    },
    {
      "cell_type": "code",
      "metadata": {
        "id": "wphOIXPmcmeD"
      },
      "source": [
        "#call the function with the variable `info_list`\n",
        "show_elements(info_list)"
      ],
      "execution_count": 19,
      "outputs": [
        {
          "output_type": "stream",
          "name": "stdout",
          "text": [
            "[True, ['Recoletos', 15], None]\n"
          ]
        }
      ]
    },
    {
      "cell_type": "markdown",
      "metadata": {
        "id": "XpYK0EqccmeD"
      },
      "source": [
        "8. Loop through `whichever_list` to print all the elements it contains except the first element of the list which is in fourth position (`'Recoletos'`). This function should return the lenght of that element. "
      ]
    },
    {
      "cell_type": "code",
      "metadata": {
        "id": "PCIdH-yAcmeD"
      },
      "source": [
        "#define a function which takes a single parameter `whichever_list`\n",
        "def funcion1(whichever_list):\n",
        "    for x in whichever_list:\n",
        "        if isinstance(x,list):\n",
        "            y = whichever_list[3].pop(0)\n",
        "            print(whichever_list)\n",
        "    return(y)"
      ],
      "execution_count": 20,
      "outputs": []
    },
    {
      "cell_type": "code",
      "metadata": {
        "id": "O9cR62HrcmeD"
      },
      "source": [
        "#call the function with the variable `info_list`\n",
        "funcion1(info_list)"
      ],
      "execution_count": 21,
      "outputs": [
        {
          "output_type": "error",
          "ename": "AttributeError",
          "evalue": "'NoneType' object has no attribute 'pop'",
          "traceback": [
            "\u001b[1;31m---------------------------------------------------------------------------\u001b[0m",
            "\u001b[1;31mAttributeError\u001b[0m                            Traceback (most recent call last)",
            "\u001b[1;32m<ipython-input-21-794a084974d8>\u001b[0m in \u001b[0;36m<module>\u001b[1;34m\u001b[0m\n\u001b[0;32m      1\u001b[0m \u001b[1;31m#call the function with the variable `info_list`\u001b[0m\u001b[1;33m\u001b[0m\u001b[1;33m\u001b[0m\u001b[1;33m\u001b[0m\u001b[0m\n\u001b[1;32m----> 2\u001b[1;33m \u001b[0mfuncion1\u001b[0m\u001b[1;33m(\u001b[0m\u001b[0minfo_list\u001b[0m\u001b[1;33m)\u001b[0m\u001b[1;33m\u001b[0m\u001b[1;33m\u001b[0m\u001b[0m\n\u001b[0m",
            "\u001b[1;32m<ipython-input-20-4369e6875078>\u001b[0m in \u001b[0;36mfuncion1\u001b[1;34m(whichever_list)\u001b[0m\n\u001b[0;32m      3\u001b[0m     \u001b[1;32mfor\u001b[0m \u001b[0mx\u001b[0m \u001b[1;32min\u001b[0m \u001b[0mwhichever_list\u001b[0m\u001b[1;33m:\u001b[0m\u001b[1;33m\u001b[0m\u001b[1;33m\u001b[0m\u001b[0m\n\u001b[0;32m      4\u001b[0m         \u001b[1;32mif\u001b[0m \u001b[0misinstance\u001b[0m\u001b[1;33m(\u001b[0m\u001b[0mx\u001b[0m\u001b[1;33m,\u001b[0m\u001b[0mlist\u001b[0m\u001b[1;33m)\u001b[0m\u001b[1;33m:\u001b[0m\u001b[1;33m\u001b[0m\u001b[1;33m\u001b[0m\u001b[0m\n\u001b[1;32m----> 5\u001b[1;33m             \u001b[0my\u001b[0m \u001b[1;33m=\u001b[0m \u001b[0mwhichever_list\u001b[0m\u001b[1;33m[\u001b[0m\u001b[1;36m3\u001b[0m\u001b[1;33m]\u001b[0m\u001b[1;33m.\u001b[0m\u001b[0mpop\u001b[0m\u001b[1;33m(\u001b[0m\u001b[1;36m0\u001b[0m\u001b[1;33m)\u001b[0m\u001b[1;33m\u001b[0m\u001b[1;33m\u001b[0m\u001b[0m\n\u001b[0m\u001b[0;32m      6\u001b[0m             \u001b[0mprint\u001b[0m\u001b[1;33m(\u001b[0m\u001b[0mwhichever_list\u001b[0m\u001b[1;33m)\u001b[0m\u001b[1;33m\u001b[0m\u001b[1;33m\u001b[0m\u001b[0m\n\u001b[0;32m      7\u001b[0m     \u001b[1;32mreturn\u001b[0m\u001b[1;33m(\u001b[0m\u001b[0my\u001b[0m\u001b[1;33m)\u001b[0m\u001b[1;33m\u001b[0m\u001b[1;33m\u001b[0m\u001b[0m\n",
            "\u001b[1;31mAttributeError\u001b[0m: 'NoneType' object has no attribute 'pop'"
          ]
        }
      ]
    },
    {
      "cell_type": "markdown",
      "metadata": {
        "id": "0DZ2M51lcmeD"
      },
      "source": [
        "9. Loop through `whichever_list` to show all the elements it contains except the one that contains the information about whether you like the mountains or the beach. The function should return a message saying `\"I love the beach\"` if you prefer the beach and a message saying `\"I love the mountain\"` otherwise. "
      ]
    },
    {
      "cell_type": "code",
      "metadata": {
        "id": "xjo-q6qCcmeD"
      },
      "source": [
        "#define a function which takes a single parameter `whichever_list`\n",
        "def except_like(whichever_list):\n",
        "    for x in whichever_list:\n",
        "        if x == True:\n",
        "            whichever_list.remove(x)\n",
        "            print(\"I love the beach\")\n",
        "        elif x == False:\n",
        "            whichever_list.remove(x)\n",
        "            print(\"I love the mountain\")\n",
        "\n",
        "    print(whichever_list)\n",
        "    \n",
        "    \n",
        "        "
      ],
      "execution_count": 94,
      "outputs": []
    },
    {
      "cell_type": "code",
      "metadata": {
        "id": "6qi_B9CacmeE"
      },
      "source": [
        "#call the function with the variable `info_list`\n",
        "except_like(info_list)"
      ],
      "execution_count": 95,
      "outputs": [
        {
          "output_type": "stream",
          "name": "stdout",
          "text": [
            "I love the beach\n[15, 'Recoletos', ['Recoletos', 15], None, '8']\n"
          ]
        }
      ]
    },
    {
      "cell_type": "markdown",
      "metadata": {
        "id": "dzeREaGhcmeE"
      },
      "source": [
        "### Bonus Track\n",
        "\n",
        "In the case of not being able to solve a question containing the code in a function, try to do it without defining one. "
      ]
    },
    {
      "cell_type": "markdown",
      "metadata": {
        "id": "xHTpVFN3cmeE"
      },
      "source": [
        "1. Create a variable called `zone` and give it the value of **None**. Loop through `whichever_list` and update `zone` to **True** if and only if, you have slept more than 7 hours, you like the beach and the sum of the hours you have slept plus the number of The Bridge is less than 24. In any other case, `zone` will be **False**. This function should return the value of `zone` and will be called `zone_function`.\n"
      ]
    },
    {
      "cell_type": "code",
      "metadata": {
        "id": "ZJHcnIZJcmeE"
      },
      "source": [],
      "execution_count": null,
      "outputs": []
    },
    {
      "cell_type": "markdown",
      "metadata": {
        "id": "539WHUW1cmeF"
      },
      "source": [
        "2. Define a function called `test_function` that receives only one parameter called `zone_value` and that returns the value of `zone_value` if it is **True**. Once you've defined `test_function` you should call it with the value returned by the `zone_function` as an argument."
      ]
    },
    {
      "cell_type": "code",
      "metadata": {
        "id": "kLwOtHo9cmeF"
      },
      "source": [],
      "execution_count": null,
      "outputs": []
    },
    {
      "cell_type": "markdown",
      "metadata": {
        "id": "rzmyagXtcmeF"
      },
      "source": [
        "3. Define a function that asks the user if they like the mountain and, if not, call the `zone_function` function."
      ]
    },
    {
      "cell_type": "code",
      "metadata": {
        "id": "0MZ328JqcmeF"
      },
      "source": [],
      "execution_count": null,
      "outputs": []
    },
    {
      "cell_type": "markdown",
      "metadata": {
        "id": "1y6fMul5cmeF"
      },
      "source": [
        "### Bonus Track of the Bonus Track.\n",
        "\n",
        "**This Bonus Track could take you some days, it is very ok, sometimes coding is all about time.**\n",
        "\n",
        "Sooner than later, you'll also learn about `.py` files and you will be able to implement this program into that kind of file. Not yet, tho. "
      ]
    },
    {
      "cell_type": "markdown",
      "metadata": {
        "id": "kDU06_JncmeF"
      },
      "source": [
        "1. Program **a calculator** that asks for two numbers and two operators on the screen. One operation must be performed first and then another. Try to define as many functions as possible."
      ]
    },
    {
      "cell_type": "code",
      "metadata": {
        "id": "cvEud1vTcmeG"
      },
      "source": [],
      "execution_count": null,
      "outputs": []
    },
    {
      "cell_type": "markdown",
      "metadata": {
        "id": "b0c6nhIAcmeG"
      },
      "source": [
        "!['ha'](https://i.pinimg.com/originals/c6/4e/fc/c64efc9adaedbf446f328698e8b67388.jpg)"
      ]
    },
    {
      "cell_type": "code",
      "metadata": {
        "id": "qSvW-cMVcmeG"
      },
      "source": [],
      "execution_count": null,
      "outputs": []
    }
  ]
}