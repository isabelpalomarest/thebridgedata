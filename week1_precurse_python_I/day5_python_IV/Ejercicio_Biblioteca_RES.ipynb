{
  "nbformat": 4,
  "nbformat_minor": 0,
  "metadata": {
    "kernelspec": {
      "display_name": "Python 3",
      "language": "python",
      "name": "python3"
    },
    "language_info": {
      "codemirror_mode": {
        "name": "ipython",
        "version": 3
      },
      "file_extension": ".py",
      "mimetype": "text/x-python",
      "name": "python",
      "nbconvert_exporter": "python",
      "pygments_lexer": "ipython3",
      "version": "3.8.3"
    },
    "colab": {
      "name": "Ejercicio_Biblioteca_RES.ipynb",
      "provenance": []
    }
  },
  "cells": [
    {
      "cell_type": "markdown",
      "metadata": {
        "id": "9Peu_h4BMyoJ"
      },
      "source": [
        "# Ejercicio La Biblioteca | Repaso Week 1\n",
        "## Precurso DSNov20 - The Bridge\n",
        "\n",
        "La versión original de esta Práctica es en español por lo que respetaremos sus orígenes y a su autora, Clara Piniella, y lo dejaremos en este idioma. Disculpen las molestias que esto pudiera ocasionarle como estudiante. "
      ]
    },
    {
      "cell_type": "markdown",
      "metadata": {
        "id": "2s7EZOL7MyoQ"
      },
      "source": [
        "![biblioteca](https://static2.abc.es/media/familia/2018/11/02/AdobeStock_210538561-kJTF--620x349@abc.jpg)"
      ]
    },
    {
      "cell_type": "markdown",
      "metadata": {
        "id": "h6fm7xzuMyoQ"
      },
      "source": [
        "Es tu primer día de trabajo en la Biblioteca de tu barrio y ya tienes tu primera tarea. Te acaban de pasar una lista con libros y la lista de unidades disponibles."
      ]
    },
    {
      "cell_type": "code",
      "metadata": {
        "id": "6e5wsmzOMyoR"
      },
      "source": [
        "libros = [\"El mal de Corcira\", \"Un mundo feliz\", \"Lolita\", \"Crimen y castigo\", \"Python from for to pro\",\\\n",
        "          \"El señor de los anillos\", \"Cien años de soledad\", \"Harry Potter\", \"Lectura Fácil\", \"Seda\",\\\n",
        "          \"La chica de nieve\", \"El día que se perdió la cordura\", \"Data Science\"]"
      ],
      "execution_count": null,
      "outputs": []
    },
    {
      "cell_type": "code",
      "metadata": {
        "id": "i8oplq7FMyoR"
      },
      "source": [
        "biblioteca = [(\"El mal de Corcira\",4),(\"Un mundo feliz\", 2),(\"Lolita\", 5),\\\n",
        "              (\"Crimen y castigo\",2),(\"Python from for to pro\", 0),(\"El señor de los anillos\", 6),\\\n",
        "              (\"Cien años de soledad\", 5),(\"Harry Potter\", 9),(\"Lectura Fácil\", 4),(\"Seda\", 2),\\\n",
        "              (\"La chica de nieve\", 6),(\"El día que se perdió la cordura\", 3), (\"Data Science\", 0)]"
      ],
      "execution_count": null,
      "outputs": []
    },
    {
      "cell_type": "markdown",
      "metadata": {
        "id": "8dfR9XbcMyoS"
      },
      "source": [
        "1. ¿Cuántos títulos diferentes tienen en esta biblioteca?"
      ]
    },
    {
      "cell_type": "code",
      "metadata": {
        "id": "h4OchE2OMyoS",
        "outputId": "00c9243c-125c-46de-ae1b-9882514081f5"
      },
      "source": [
        "#your code here\n",
        "print(len(libros))"
      ],
      "execution_count": null,
      "outputs": [
        {
          "output_type": "stream",
          "text": [
            "13\n"
          ],
          "name": "stdout"
        }
      ]
    },
    {
      "cell_type": "code",
      "metadata": {
        "id": "xZZ_o00AMyoT",
        "outputId": "eac7eeec-9220-439e-ce24-e7b236d66ddf"
      },
      "source": [
        "print(len(biblioteca))"
      ],
      "execution_count": null,
      "outputs": [
        {
          "output_type": "stream",
          "text": [
            "13\n"
          ],
          "name": "stdout"
        }
      ]
    },
    {
      "cell_type": "markdown",
      "metadata": {
        "id": "EC0ghu-MMyoT"
      },
      "source": [
        "2. ¿Cuántas letras componen la palabra *Seda*? "
      ]
    },
    {
      "cell_type": "code",
      "metadata": {
        "id": "Ar47_FsuMyoT",
        "outputId": "7ec2828f-d41a-4e13-b7e2-adef507af7a4"
      },
      "source": [
        "#your code here\n",
        "x = len(\"Seda\")\n",
        "print(x)"
      ],
      "execution_count": null,
      "outputs": [
        {
          "output_type": "stream",
          "text": [
            "4\n"
          ],
          "name": "stdout"
        }
      ]
    },
    {
      "cell_type": "code",
      "metadata": {
        "id": "6fqwSxjCMyoU",
        "outputId": "223c6e15-150f-4434-9d5c-4485f9e7cfcb"
      },
      "source": [
        "print(len(biblioteca[9][0]))"
      ],
      "execution_count": null,
      "outputs": [
        {
          "output_type": "stream",
          "text": [
            "4\n"
          ],
          "name": "stdout"
        }
      ]
    },
    {
      "cell_type": "code",
      "metadata": {
        "id": "7fRYe3dlMyoU",
        "outputId": "31250390-db7e-47ed-fbc6-8896a97dfd9f"
      },
      "source": [
        "for _ in biblioteca:\n",
        "    print(_)"
      ],
      "execution_count": null,
      "outputs": [
        {
          "output_type": "stream",
          "text": [
            "('El mal de Corcira', 4)\n",
            "('Un mundo feliz', 2)\n",
            "('Lolita', 5)\n",
            "('Crimen y castigo', 2)\n",
            "('Python from for to pro', 0)\n",
            "('El señor de los anillos', 6)\n",
            "('Cien años de soledad', 5)\n",
            "('Harry Potter', 9)\n",
            "('Lectura Fácil', 4)\n",
            "('Seda', 2)\n",
            "('La chica de nieve', 6)\n",
            "('El día que se perdió la cordura', 3)\n",
            "('Data Science', 0)\n"
          ],
          "name": "stdout"
        }
      ]
    },
    {
      "cell_type": "code",
      "metadata": {
        "id": "0TGSiWqeMyoU",
        "outputId": "4ed58fad-f3cd-4b12-c13b-8e8faf980112"
      },
      "source": [
        "for u in biblioteca:\n",
        "    if u[0] == \"Seda\":\n",
        "        print(len(u[0]))"
      ],
      "execution_count": null,
      "outputs": [
        {
          "output_type": "stream",
          "text": [
            "4\n"
          ],
          "name": "stdout"
        }
      ]
    },
    {
      "cell_type": "markdown",
      "metadata": {
        "id": "6H71vZ3IMyoV"
      },
      "source": [
        "3. ¿Cuántas unidades hay del libro *Seda*?"
      ]
    },
    {
      "cell_type": "code",
      "metadata": {
        "id": "9-Q_MEXVMyoV",
        "outputId": "363c2638-80d8-4e74-d058-5783715488db"
      },
      "source": [
        "#your code here\n",
        "for u in biblioteca:\n",
        "    if u[0] == \"Seda\":\n",
        "        print(u[1])"
      ],
      "execution_count": null,
      "outputs": [
        {
          "output_type": "stream",
          "text": [
            "2\n"
          ],
          "name": "stdout"
        }
      ]
    },
    {
      "cell_type": "markdown",
      "metadata": {
        "id": "GaBKzRh9MyoV"
      },
      "source": [
        "4. Quien registraba los libros antes de ti dejo pendiente de añadir a la lista **libros** la variable **pendiente**, además debió confundir el famoso libro de George Orwell *1984*, con un número, asignándolo como un integer.\n",
        "¿Puedes cambiarlo y pasar a string este elemento y añadirlo a **libros**?"
      ]
    },
    {
      "cell_type": "code",
      "metadata": {
        "id": "UltkPztaMyoW"
      },
      "source": [
        "pendiente = 1984"
      ],
      "execution_count": null,
      "outputs": []
    },
    {
      "cell_type": "code",
      "metadata": {
        "id": "3G7n-IBWMyoW"
      },
      "source": [
        "#your code here\n",
        "pendiente = str(pendiente)\n",
        "libros.append(pendiente)"
      ],
      "execution_count": null,
      "outputs": []
    },
    {
      "cell_type": "code",
      "metadata": {
        "id": "0QfcYFsBMyoW",
        "outputId": "9913d484-d34f-4540-94c5-4a1348c25ab1"
      },
      "source": [
        "print(libros)"
      ],
      "execution_count": null,
      "outputs": [
        {
          "output_type": "stream",
          "text": [
            "['El mal de Corcira', 'Un mundo feliz', 'Lolita', 'Crimen y castigo', 'Python from for to pro', 'El señor de los anillos', 'Cien años de soledad', 'Harry Potter', 'Lectura Fácil', 'Seda', 'La chica de nieve', 'El día que se perdió la cordura', 'Data Science', '1984']\n"
          ],
          "name": "stdout"
        }
      ]
    },
    {
      "cell_type": "code",
      "metadata": {
        "id": "6XroYJp3MyoX",
        "outputId": "0c160974-eba8-4922-ce76-ff541824dd09"
      },
      "source": [
        "libros"
      ],
      "execution_count": null,
      "outputs": [
        {
          "output_type": "execute_result",
          "data": {
            "text/plain": [
              "['El mal de Corcira',\n",
              " 'Un mundo feliz',\n",
              " 'Lolita',\n",
              " 'Crimen y castigo',\n",
              " 'Python from for to pro',\n",
              " 'El señor de los anillos',\n",
              " 'Cien años de soledad',\n",
              " 'Harry Potter',\n",
              " 'Lectura Fácil',\n",
              " 'Seda',\n",
              " 'La chica de nieve',\n",
              " 'El día que se perdió la cordura',\n",
              " 'Data Science',\n",
              " '1984']"
            ]
          },
          "metadata": {
            "tags": []
          },
          "execution_count": 13
        }
      ]
    },
    {
      "cell_type": "markdown",
      "metadata": {
        "id": "YCivJpXIMyoX"
      },
      "source": [
        "5. Te piden que añadas a esta lista el nuevo libro de Los Juegos del hambre que se titula *Balada de pájaros cantores y serpientes*. Has contado las unidades y han llegado 10. \n",
        "\n",
        "    a. Crea una variable con el título del libro, que se llame **libro_1**. Añade este elemento a la lista **libros**.\n",
        "\n",
        "    b. Crea una variable con el número de unidades, que se llame **uds_1**.\n",
        "\n",
        "    c. Crea una variable que sea una lista llamada **nuevo_libro** en el que su primer elemento sea **libro_1** y el segundo **uds_1**. \n",
        "\n",
        "    d. Convierte a **nuevo_libro** a tupla.\n",
        "    (muestra qué tipo es ahora esta variable)\n",
        "\n",
        "    e. Añade **nuevo_libro** a la lista **biblioteca** "
      ]
    },
    {
      "cell_type": "code",
      "metadata": {
        "id": "OKPVTi8rMyoX",
        "outputId": "68c11033-f99d-46dd-8dc0-ec34c17fb37f"
      },
      "source": [
        "libros"
      ],
      "execution_count": null,
      "outputs": [
        {
          "output_type": "execute_result",
          "data": {
            "text/plain": [
              "['El mal de Corcira',\n",
              " 'Un mundo feliz',\n",
              " 'Lolita',\n",
              " 'Crimen y castigo',\n",
              " 'Python from for to pro',\n",
              " 'El señor de los anillos',\n",
              " 'Cien años de soledad',\n",
              " 'Harry Potter',\n",
              " 'Lectura Fácil',\n",
              " 'Seda',\n",
              " 'La chica de nieve',\n",
              " 'El día que se perdió la cordura',\n",
              " 'Data Science',\n",
              " '1984']"
            ]
          },
          "metadata": {
            "tags": []
          },
          "execution_count": 14
        }
      ]
    },
    {
      "cell_type": "code",
      "metadata": {
        "id": "tleJXPATMyoX",
        "outputId": "f6751d41-bed2-4984-bd1e-bb0786b13c78"
      },
      "source": [
        "#your code here\n",
        "libro_1 = \"Balada de pájaros cantores y serpientes\"\n",
        "libros.append(libro_1)\n",
        "libros"
      ],
      "execution_count": null,
      "outputs": [
        {
          "output_type": "execute_result",
          "data": {
            "text/plain": [
              "['El mal de Corcira',\n",
              " 'Un mundo feliz',\n",
              " 'Lolita',\n",
              " 'Crimen y castigo',\n",
              " 'Python from for to pro',\n",
              " 'El señor de los anillos',\n",
              " 'Cien años de soledad',\n",
              " 'Harry Potter',\n",
              " 'Lectura Fácil',\n",
              " 'Seda',\n",
              " 'La chica de nieve',\n",
              " 'El día que se perdió la cordura',\n",
              " 'Data Science',\n",
              " '1984',\n",
              " 'Balada de pájaros cantores y serpientes']"
            ]
          },
          "metadata": {
            "tags": []
          },
          "execution_count": 15
        }
      ]
    },
    {
      "cell_type": "code",
      "metadata": {
        "id": "3W4dp4l2MyoY"
      },
      "source": [
        "uds_1 = 10"
      ],
      "execution_count": null,
      "outputs": []
    },
    {
      "cell_type": "code",
      "metadata": {
        "id": "wHYzUvNZMyoY",
        "outputId": "a087a94c-72ca-4037-9485-43383618bba7"
      },
      "source": [
        "nuevo_libro = [libro_1, uds_1]\n",
        "print(type(nuevo_libro))\n",
        "nuevo_libro = tuple(nuevo_libro)\n",
        "print(type(nuevo_libro))"
      ],
      "execution_count": null,
      "outputs": [
        {
          "output_type": "stream",
          "text": [
            "<class 'list'>\n",
            "<class 'tuple'>\n"
          ],
          "name": "stdout"
        }
      ]
    },
    {
      "cell_type": "code",
      "metadata": {
        "id": "ZOEIO610MyoY",
        "outputId": "f2aa976f-4090-4ad5-86db-6ad03ecb0b41"
      },
      "source": [
        "biblioteca.append(nuevo_libro)\n",
        "biblioteca"
      ],
      "execution_count": null,
      "outputs": [
        {
          "output_type": "execute_result",
          "data": {
            "text/plain": [
              "[('El mal de Corcira', 4),\n",
              " ('Un mundo feliz', 2),\n",
              " ('Lolita', 5),\n",
              " ('Crimen y castigo', 2),\n",
              " ('Python from for to pro', 0),\n",
              " ('El señor de los anillos', 6),\n",
              " ('Cien años de soledad', 5),\n",
              " ('Harry Potter', 9),\n",
              " ('Lectura Fácil', 4),\n",
              " ('Seda', 2),\n",
              " ('La chica de nieve', 6),\n",
              " ('El día que se perdió la cordura', 3),\n",
              " ('Data Science', 0),\n",
              " ('Balada de pájaros cantores y serpientes', 10)]"
            ]
          },
          "metadata": {
            "tags": []
          },
          "execution_count": 18
        }
      ]
    },
    {
      "cell_type": "code",
      "metadata": {
        "id": "DOjt2CSUMyoY",
        "outputId": "429312a5-f414-4147-f1cb-bdcd716bc1b2"
      },
      "source": [
        "nuevo_libro2 = (libro_1, uds_1)\n",
        "print(type(nuevo_libro2))\n",
        "nuevo_libro2\n"
      ],
      "execution_count": null,
      "outputs": [
        {
          "output_type": "stream",
          "text": [
            "<class 'tuple'>\n"
          ],
          "name": "stdout"
        },
        {
          "output_type": "execute_result",
          "data": {
            "text/plain": [
              "('Balada de pájaros cantores y serpientes', 10)"
            ]
          },
          "metadata": {
            "tags": []
          },
          "execution_count": 19
        }
      ]
    },
    {
      "cell_type": "code",
      "metadata": {
        "id": "kMmrFiswMyoZ",
        "outputId": "bb712ec0-4e4e-465c-b0b1-11df147d414a"
      },
      "source": [
        "type(nuevo_libro2[0])"
      ],
      "execution_count": null,
      "outputs": [
        {
          "output_type": "execute_result",
          "data": {
            "text/plain": [
              "str"
            ]
          },
          "metadata": {
            "tags": []
          },
          "execution_count": 20
        }
      ]
    },
    {
      "cell_type": "markdown",
      "metadata": {
        "id": "DoqkS-YfMyoZ"
      },
      "source": [
        "6. Acaban de traer una unidad más de *El mal de Corcira*, añade una unidad más al segundo elemento del primer elemento de la lista **biblioteca**."
      ]
    },
    {
      "cell_type": "code",
      "metadata": {
        "id": "r42vS35DMyoZ",
        "outputId": "fe824c3f-6bac-405a-90fe-36cbc0972bce"
      },
      "source": [
        "biblioteca"
      ],
      "execution_count": null,
      "outputs": [
        {
          "output_type": "execute_result",
          "data": {
            "text/plain": [
              "[('El mal de Corcira', 4),\n",
              " ('Un mundo feliz', 2),\n",
              " ('Lolita', 5),\n",
              " ('Crimen y castigo', 2),\n",
              " ('Python from for to pro', 0),\n",
              " ('El señor de los anillos', 6),\n",
              " ('Cien años de soledad', 5),\n",
              " ('Harry Potter', 9),\n",
              " ('Lectura Fácil', 4),\n",
              " ('Seda', 2),\n",
              " ('La chica de nieve', 6),\n",
              " ('El día que se perdió la cordura', 3),\n",
              " ('Data Science', 0),\n",
              " ('Balada de pájaros cantores y serpientes', 10)]"
            ]
          },
          "metadata": {
            "tags": []
          },
          "execution_count": 21
        }
      ]
    },
    {
      "cell_type": "code",
      "metadata": {
        "id": "sGkBXxWxMyoZ",
        "outputId": "6b03d8de-8e0f-477d-c4a0-5ea36c45cae3"
      },
      "source": [
        "t = list(biblioteca[0])\n",
        "t"
      ],
      "execution_count": null,
      "outputs": [
        {
          "output_type": "execute_result",
          "data": {
            "text/plain": [
              "['El mal de Corcira', 4]"
            ]
          },
          "metadata": {
            "tags": []
          },
          "execution_count": 22
        }
      ]
    },
    {
      "cell_type": "code",
      "metadata": {
        "id": "UaAYn2l1Myoa",
        "outputId": "e87f2526-a1c0-4607-b44b-a43c37d8f758"
      },
      "source": [
        "t[1] = t[1] + 1\n",
        "t"
      ],
      "execution_count": null,
      "outputs": [
        {
          "output_type": "execute_result",
          "data": {
            "text/plain": [
              "['El mal de Corcira', 5]"
            ]
          },
          "metadata": {
            "tags": []
          },
          "execution_count": 23
        }
      ]
    },
    {
      "cell_type": "code",
      "metadata": {
        "id": "E3e8aa6kMyoa",
        "outputId": "a4c81e0f-4d02-4703-ebb8-b91bf2be7b01"
      },
      "source": [
        "t = tuple(t)\n",
        "t"
      ],
      "execution_count": null,
      "outputs": [
        {
          "output_type": "execute_result",
          "data": {
            "text/plain": [
              "('El mal de Corcira', 5)"
            ]
          },
          "metadata": {
            "tags": []
          },
          "execution_count": 24
        }
      ]
    },
    {
      "cell_type": "code",
      "metadata": {
        "id": "hY_k1COlMyoa",
        "outputId": "154a7a22-8ebd-4a72-fba0-84347777852e"
      },
      "source": [
        "biblioteca[0] = t\n",
        "biblioteca"
      ],
      "execution_count": null,
      "outputs": [
        {
          "output_type": "execute_result",
          "data": {
            "text/plain": [
              "[('El mal de Corcira', 5),\n",
              " ('Un mundo feliz', 2),\n",
              " ('Lolita', 5),\n",
              " ('Crimen y castigo', 2),\n",
              " ('Python from for to pro', 0),\n",
              " ('El señor de los anillos', 6),\n",
              " ('Cien años de soledad', 5),\n",
              " ('Harry Potter', 9),\n",
              " ('Lectura Fácil', 4),\n",
              " ('Seda', 2),\n",
              " ('La chica de nieve', 6),\n",
              " ('El día que se perdió la cordura', 3),\n",
              " ('Data Science', 0),\n",
              " ('Balada de pájaros cantores y serpientes', 10)]"
            ]
          },
          "metadata": {
            "tags": []
          },
          "execution_count": 25
        }
      ]
    },
    {
      "cell_type": "markdown",
      "metadata": {
        "id": "Nmg3iyL2Myoa"
      },
      "source": [
        "Busca en google este error y explica porqué no se puede añadir una unidad más. ¿Se te ocurre cómo podrías alterar este dato?"
      ]
    },
    {
      "cell_type": "code",
      "metadata": {
        "id": "QoLv_RzPMyoa"
      },
      "source": [
        "#your comment here\n",
        "#done!"
      ],
      "execution_count": null,
      "outputs": []
    },
    {
      "cell_type": "markdown",
      "metadata": {
        "id": "FtARh_6bMyob"
      },
      "source": [
        "Convierte la tupla en una lista para poder modificar el segundo elemento y añadir esta unidad. Asigna la tupla convertida a lista a la variable **tup_to_list** haz los cambios, agrega la unidad y vuelve a añadir la lista ya convertida en tupla a la lista **biblioteca**."
      ]
    },
    {
      "cell_type": "code",
      "metadata": {
        "id": "UVIPA2T8Myob"
      },
      "source": [
        "#your code here\n",
        "#done above!"
      ],
      "execution_count": null,
      "outputs": []
    },
    {
      "cell_type": "markdown",
      "metadata": {
        "id": "AhQmIsdiMyob"
      },
      "source": [
        "Ahora, tenemos dos tuplas con el libro *El mal de Corcira*, pero esto no es lo que queremos. Elimina el primer elemento de la lista **biblioteca**.\n",
        "\n",
        "Hint: https://www.programiz.com/python-programming/methods/list/remove"
      ]
    },
    {
      "cell_type": "code",
      "metadata": {
        "id": "hBHz7-75Myob",
        "outputId": "d91b2a4c-d887-4bd1-e449-d15d9c18b91d"
      },
      "source": [
        "#your code here\n",
        "y = ('El mal de Corcira', 5)\n",
        "biblioteca.append(y)\n",
        "biblioteca"
      ],
      "execution_count": null,
      "outputs": [
        {
          "output_type": "execute_result",
          "data": {
            "text/plain": [
              "[('El mal de Corcira', 5),\n",
              " ('Un mundo feliz', 2),\n",
              " ('Lolita', 5),\n",
              " ('Crimen y castigo', 2),\n",
              " ('Python from for to pro', 0),\n",
              " ('El señor de los anillos', 6),\n",
              " ('Cien años de soledad', 5),\n",
              " ('Harry Potter', 9),\n",
              " ('Lectura Fácil', 4),\n",
              " ('Seda', 2),\n",
              " ('La chica de nieve', 6),\n",
              " ('El día que se perdió la cordura', 3),\n",
              " ('Data Science', 0),\n",
              " ('Balada de pájaros cantores y serpientes', 10),\n",
              " ('El mal de Corcira', 5)]"
            ]
          },
          "metadata": {
            "tags": []
          },
          "execution_count": 28
        }
      ]
    },
    {
      "cell_type": "code",
      "metadata": {
        "id": "mY9rMK6-Myob",
        "outputId": "e7054996-6227-4646-ec97-4d8258714e9c"
      },
      "source": [
        "biblioteca.pop()"
      ],
      "execution_count": null,
      "outputs": [
        {
          "output_type": "execute_result",
          "data": {
            "text/plain": [
              "('El mal de Corcira', 5)"
            ]
          },
          "metadata": {
            "tags": []
          },
          "execution_count": 29
        }
      ]
    },
    {
      "cell_type": "code",
      "metadata": {
        "id": "HRvv9Ca_Myoc"
      },
      "source": [
        "i = ('El mal de Corcira', 5)\n",
        "biblioteca.remove(i)\n"
      ],
      "execution_count": null,
      "outputs": []
    },
    {
      "cell_type": "code",
      "metadata": {
        "id": "z3-KOq_EMyoc",
        "outputId": "410f54dd-a5c5-4375-eed4-0a9c55a8c25c"
      },
      "source": [
        "biblioteca"
      ],
      "execution_count": null,
      "outputs": [
        {
          "output_type": "execute_result",
          "data": {
            "text/plain": [
              "[('Un mundo feliz', 2),\n",
              " ('Lolita', 5),\n",
              " ('Crimen y castigo', 2),\n",
              " ('Python from for to pro', 0),\n",
              " ('El señor de los anillos', 6),\n",
              " ('Cien años de soledad', 5),\n",
              " ('Harry Potter', 9),\n",
              " ('Lectura Fácil', 4),\n",
              " ('Seda', 2),\n",
              " ('La chica de nieve', 6),\n",
              " ('El día que se perdió la cordura', 3),\n",
              " ('Data Science', 0),\n",
              " ('Balada de pájaros cantores y serpientes', 10)]"
            ]
          },
          "metadata": {
            "tags": []
          },
          "execution_count": 31
        }
      ]
    },
    {
      "cell_type": "markdown",
      "metadata": {
        "id": "bSy1HAqRMyoc"
      },
      "source": [
        "7. Te han pedido que localices los títulos de los libros de los que no disponen de unidades. Es decir, su segundo elemento, es igual a 0. "
      ]
    },
    {
      "cell_type": "code",
      "metadata": {
        "id": "ROS1zfagMyoc",
        "outputId": "62b1c541-3cba-482b-c666-1147f33e1965"
      },
      "source": [
        "biblioteca"
      ],
      "execution_count": null,
      "outputs": [
        {
          "output_type": "execute_result",
          "data": {
            "text/plain": [
              "[('Un mundo feliz', 2),\n",
              " ('Lolita', 5),\n",
              " ('Crimen y castigo', 2),\n",
              " ('Python from for to pro', 0),\n",
              " ('El señor de los anillos', 6),\n",
              " ('Cien años de soledad', 5),\n",
              " ('Harry Potter', 9),\n",
              " ('Lectura Fácil', 4),\n",
              " ('Seda', 2),\n",
              " ('La chica de nieve', 6),\n",
              " ('El día que se perdió la cordura', 3),\n",
              " ('Data Science', 0),\n",
              " ('Balada de pájaros cantores y serpientes', 10)]"
            ]
          },
          "metadata": {
            "tags": []
          },
          "execution_count": 32
        }
      ]
    },
    {
      "cell_type": "code",
      "metadata": {
        "id": "3RG7vCw1Myod",
        "outputId": "d555ec8e-4ed8-42c0-fc21-8d5d195c8e25"
      },
      "source": [
        "for elem in biblioteca:\n",
        "    if elem[1] == 0:\n",
        "        print(elem[0])"
      ],
      "execution_count": null,
      "outputs": [
        {
          "output_type": "stream",
          "text": [
            "Python from for to pro\n",
            "Data Science\n"
          ],
          "name": "stdout"
        }
      ]
    },
    {
      "cell_type": "markdown",
      "metadata": {
        "id": "-jRyLEkwMyod"
      },
      "source": [
        "8. ¿Cómo meterías estos dos elementos en una lista llamada **missing**?"
      ]
    },
    {
      "cell_type": "code",
      "metadata": {
        "id": "gnW0dzR9Myod",
        "outputId": "25066ac9-2e81-4304-9c08-753603b6451f"
      },
      "source": [
        "#your code here\n",
        "missing = []\n",
        "\n",
        "for elem in biblioteca:\n",
        "    if elem[1] == 0:\n",
        "        print(\"elem:\", elem)\n",
        "        libro_sin_unidad = elem[0]\n",
        "        print(\"libro_sin_unidad:\", libro_sin_unidad)\n",
        "        missing.append(libro_sin_unidad)\n",
        "        print(\"missing:\", missing)\n",
        "        print(\"##################\")"
      ],
      "execution_count": null,
      "outputs": [
        {
          "output_type": "stream",
          "text": [
            "elem: ('Python from for to pro', 0)\n",
            "libro_sin_unidad: Python from for to pro\n",
            "missing: ['Python from for to pro']\n",
            "##################\n",
            "elem: ('Data Science', 0)\n",
            "libro_sin_unidad: Data Science\n",
            "missing: ['Python from for to pro', 'Data Science']\n",
            "##################\n"
          ],
          "name": "stdout"
        }
      ]
    },
    {
      "cell_type": "markdown",
      "metadata": {
        "id": "albqXtDCMyod"
      },
      "source": [
        "9. Como en cualquier jornada de trabajo, recibes miles de email, hay uno que no habías visto pero en el que tu jefa te pide hacer un pequeño programita (función) que recoja el título de un libro y la cantidad de libros, este último parámetro por defecto será 1, chequée si tenemos ese título en la lista `libros` y si lo tenemos, sume esa cantidad a su cantidad en la lista `biblioteca` y si no, añada el título a `libros` y en una tupla nueva con la cantidad correspondiente a la lista `biblioteca`. "
      ]
    },
    {
      "cell_type": "code",
      "metadata": {
        "id": "AUytni4ZMyoe",
        "outputId": "6a59b715-fe85-4f79-a98a-d48763744752"
      },
      "source": [
        "print(libros)\n",
        "print()\n",
        "print(biblioteca)"
      ],
      "execution_count": null,
      "outputs": [
        {
          "output_type": "stream",
          "text": [
            "['El mal de Corcira', 'Un mundo feliz', 'Lolita', 'Crimen y castigo', 'Python from for to pro', 'El señor de los anillos', 'Cien años de soledad', 'Harry Potter', 'Lectura Fácil', 'Seda', 'La chica de nieve', 'El día que se perdió la cordura', 'Data Science', '1984', 'Balada de pájaros cantores y serpientes']\n",
            "\n",
            "[('Un mundo feliz', 2), ('Lolita', 5), ('Crimen y castigo', 2), ('Python from for to pro', 0), ('El señor de los anillos', 6), ('Cien años de soledad', 5), ('Harry Potter', 9), ('Lectura Fácil', 4), ('Seda', 2), ('La chica de nieve', 6), ('El día que se perdió la cordura', 3), ('Data Science', 0), ('Balada de pájaros cantores y serpientes', 10)]\n"
          ],
          "name": "stdout"
        }
      ]
    },
    {
      "cell_type": "code",
      "metadata": {
        "id": "bhA4-uiCMyoe"
      },
      "source": [
        "def inventario(titulo, cantidad = 1, libros = libros, biblioteca = biblioteca):\n",
        "    if titulo not in libros:\n",
        "        libros.append(titulo)\n",
        "        biblioteca.append((titulo, cantidad))\n",
        "    else:\n",
        "        for tup in biblioteca:\n",
        "            if tup[0] == titulo:\n",
        "                lista = list(tup)\n",
        "                lista[1]+=cantidad\n",
        "                biblioteca.append(tuple(lista))\n",
        "                biblioteca.remove(tup)\n",
        "                break              \n",
        "    return libros, biblioteca"
      ],
      "execution_count": null,
      "outputs": []
    },
    {
      "cell_type": "markdown",
      "metadata": {
        "id": "2zet7U2dMyoe"
      },
      "source": [
        "Pruébalo añadiendo el título de \"Guía del Autopista Galáctico\", cantidad 42."
      ]
    },
    {
      "cell_type": "code",
      "metadata": {
        "id": "_VlmiyZyMyof"
      },
      "source": [
        "libros, biblioteca = inventario(\"Guía del Autopista Galáctico\", 42)"
      ],
      "execution_count": null,
      "outputs": []
    },
    {
      "cell_type": "code",
      "metadata": {
        "id": "T4PMINhnMyof",
        "outputId": "11124137-2375-43e6-a509-d1d259abcf83"
      },
      "source": [
        "biblioteca[-1]"
      ],
      "execution_count": null,
      "outputs": [
        {
          "output_type": "execute_result",
          "data": {
            "text/plain": [
              "('Guía del Autopista Galáctico', 42)"
            ]
          },
          "metadata": {
            "tags": []
          },
          "execution_count": 38
        }
      ]
    },
    {
      "cell_type": "markdown",
      "metadata": {
        "id": "Tf4BkAFhMyof"
      },
      "source": [
        "### Bonus Track. "
      ]
    },
    {
      "cell_type": "markdown",
      "metadata": {
        "id": "_A_pNSibMyof"
      },
      "source": [
        "10. ¿Cuál es el libro con más unidades? ¿Cuál es la media de libros por título?"
      ]
    },
    {
      "cell_type": "code",
      "metadata": {
        "id": "wSz3TJCiMyof"
      },
      "source": [
        "unidades = []\n",
        "for tupl in biblioteca:\n",
        "    unidades.append(tupl[1])"
      ],
      "execution_count": null,
      "outputs": []
    },
    {
      "cell_type": "code",
      "metadata": {
        "id": "j1u4gBHjMyof",
        "outputId": "a469a72d-b876-4c31-ac8c-4b4a9b763ef5"
      },
      "source": [
        "for i, uni in enumerate(unidades):\n",
        "    if uni == max(unidades):\n",
        "        print(f\"El libro con más unidades es {biblioteca[i][0]} con {uni} unidades\")"
      ],
      "execution_count": null,
      "outputs": [
        {
          "output_type": "stream",
          "text": [
            "El libro con más unidades es Guía del Autopista Galáctico con 42 unidades\n"
          ],
          "name": "stdout"
        }
      ]
    },
    {
      "cell_type": "code",
      "metadata": {
        "id": "gCWF9IwBMyog",
        "outputId": "4a4dd0b7-02d4-490b-83ca-d08606fe9feb"
      },
      "source": [
        "import statistics as stats\n",
        "print(f\"La media de libros por título es: {round(stats.mean(unidades), 4)} unidades\")"
      ],
      "execution_count": null,
      "outputs": [
        {
          "output_type": "stream",
          "text": [
            "La media de libros por título es: 6.8571 unidades\n"
          ],
          "name": "stdout"
        }
      ]
    },
    {
      "cell_type": "markdown",
      "metadata": {
        "id": "PkGvFVraMyog"
      },
      "source": [
        "11. ¿Cuál tiene el título más largo y cuál el más corto?"
      ]
    },
    {
      "cell_type": "code",
      "metadata": {
        "id": "AB5_Z10GMyog",
        "outputId": "1e4848a5-faac-46f5-e467-b9cb95adae3b"
      },
      "source": [
        "longitud = []\n",
        "for libro in libros:\n",
        "    longitud.append(len(libro))\n",
        "\n",
        "for i, lon in enumerate(longitud):\n",
        "    if lon == max(longitud):\n",
        "        print(f\"El título más largo es {libros[i]}\")\n",
        "    if lon == min(longitud):\n",
        "        print(f\"El título más corto es {libros[i]}\")"
      ],
      "execution_count": null,
      "outputs": [
        {
          "output_type": "stream",
          "text": [
            "El título más corto es Seda\n",
            "El título más corto es 1984\n",
            "El título más largo es Balada de pájaros cantores y serpientes\n"
          ],
          "name": "stdout"
        }
      ]
    }
  ]
}