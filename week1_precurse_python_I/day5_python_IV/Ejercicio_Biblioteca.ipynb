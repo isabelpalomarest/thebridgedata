{
  "nbformat": 4,
  "nbformat_minor": 0,
  "metadata": {
    "kernelspec": {
      "name": "python374jvsc74a57bd0182e3b849e87c789b13dcf4169d6d9922ca2e40dd3044e82b295bff17932e6e2",
      "display_name": "Python 3.7.4 64-bit"
    },
    "language_info": {
      "codemirror_mode": {
        "name": "ipython",
        "version": 3
      },
      "file_extension": ".py",
      "mimetype": "text/x-python",
      "name": "python",
      "nbconvert_exporter": "python",
      "pygments_lexer": "ipython3",
      "version": "3.7.4"
    },
    "colab": {
      "name": "Ejercicio_Biblioteca.ipynb",
      "provenance": []
    },
    "metadata": {
      "interpreter": {
        "hash": "182e3b849e87c789b13dcf4169d6d9922ca2e40dd3044e82b295bff17932e6e2"
      }
    }
  },
  "cells": [
    {
      "cell_type": "markdown",
      "metadata": {
        "id": "n67KaWiRjQn7"
      },
      "source": [
        "# Ejercicio La Biblioteca | Repaso Week 1\n",
        "## Precurso DSApr21 - The Bridge\n",
        "\n",
        "La versión original de esta Práctica es en español por lo que respetaremos sus orígenes y a su autora, Clara Piniella, y lo dejaremos en este idioma. Disculpen las molestias que esto pudiera ocasionarle como estudiante. "
      ]
    },
    {
      "cell_type": "markdown",
      "metadata": {
        "id": "bYj65prjjQn8"
      },
      "source": [
        "![biblioteca](https://static2.abc.es/media/familia/2018/11/02/AdobeStock_210538561-kJTF--620x349@abc.jpg)"
      ]
    },
    {
      "cell_type": "markdown",
      "metadata": {
        "id": "CeC7c6eyjQn9"
      },
      "source": [
        "Es tu primer día de trabajo en la Biblioteca de tu barrio y ya tienes tu primera tarea. Te acaban de pasar una lista con libros y la lista de unidades disponibles."
      ]
    },
    {
      "cell_type": "code",
      "metadata": {
        "id": "no64PSjfjQn9"
      },
      "source": [
        "libros = [\"El mal de Corcira\", \"Un mundo feliz\", \"Lolita\", \"Crimen y castigo\", \"Python from for to pro\",\\\n",
        "          \"El señor de los anillos\", \"Cien años de soledad\", \"Harry Potter\", \"Lectura Fácil\", \"Seda\",\\\n",
        "          \"La chica de nieve\", \"El día que se perdió la cordura\", \"Data Science\"]"
      ],
      "execution_count": 4,
      "outputs": []
    },
    {
      "cell_type": "code",
      "metadata": {
        "id": "GbOdRpY5jQn9"
      },
      "source": [
        "biblioteca = [(\"El mal de Corcira\",4),(\"Un mundo feliz\", 2),(\"Lolita\", 5),\\\n",
        "              (\"Crimen y castigo\",2),(\"Python from for to pro\", 0),(\"El señor de los anillos\", 6),\\\n",
        "              (\"Cien años de soledad\", 5),(\"Harry Potter\", 9),(\"Lectura Fácil\", 4),(\"Seda\", 2),\\\n",
        "              (\"La chica de nieve\", 6),(\"El día que se perdió la cordura\", 3), (\"Data Science\", 0)]"
      ],
      "execution_count": 2,
      "outputs": []
    },
    {
      "cell_type": "markdown",
      "metadata": {
        "id": "wjzXyI33jQn-"
      },
      "source": [
        "1. ¿Cuántos títulos diferentes tienen en esta biblioteca?"
      ]
    },
    {
      "cell_type": "code",
      "metadata": {
        "id": "QX3UqnNpjQn-"
      },
      "source": [
        "#your code here\n",
        "print(len(libros))"
      ],
      "execution_count": 3,
      "outputs": [
        {
          "output_type": "stream",
          "name": "stdout",
          "text": [
            "13\n"
          ]
        }
      ]
    },
    {
      "cell_type": "markdown",
      "metadata": {
        "id": "Pr_8Bo0JjQn-"
      },
      "source": [
        "2. ¿Cuántas letras componen la palabra *Seda*? "
      ]
    },
    {
      "cell_type": "code",
      "metadata": {
        "id": "HQT9KFGWjQn_"
      },
      "source": [
        "print(len(libros[9]))\n"
      ],
      "execution_count": 4,
      "outputs": [
        {
          "output_type": "stream",
          "name": "stdout",
          "text": [
            "4\n"
          ]
        }
      ]
    },
    {
      "cell_type": "markdown",
      "metadata": {
        "id": "Sr4D4uwDjQn_"
      },
      "source": [
        "3. ¿Cuántas unidades hay del libro *Seda*?"
      ]
    },
    {
      "cell_type": "code",
      "metadata": {
        "id": "0USkCCGmjQn_"
      },
      "source": [
        "#your code here\n",
        "print(biblioteca[9][1])\n"
      ],
      "execution_count": 5,
      "outputs": [
        {
          "output_type": "stream",
          "name": "stdout",
          "text": [
            "2\n"
          ]
        }
      ]
    },
    {
      "cell_type": "markdown",
      "metadata": {
        "id": "m0lYlr9bjQn_"
      },
      "source": [
        "4. Quien registraba los libros antes de ti dejo pendiente de añadir a la lista **libros** la variable **pendiente**, además debió confundir el famoso libro de George Orwell *1984*, con un número, asignándolo como un integer.\n",
        "¿Puedes cambiarlo y pasar a string este elemento y añadirlo a **libros**?"
      ]
    },
    {
      "cell_type": "code",
      "metadata": {
        "id": "E8zOB7VQjQoA"
      },
      "source": [
        "pendiente = 1984"
      ],
      "execution_count": 6,
      "outputs": []
    },
    {
      "cell_type": "code",
      "metadata": {
        "id": "4XTTHh_6jQoA"
      },
      "source": [
        "#your code here\n",
        "pendiente1 = str(pendiente)\n",
        "libros.append(pendiente1)\n",
        "print(libros)"
      ],
      "execution_count": 7,
      "outputs": [
        {
          "output_type": "stream",
          "name": "stdout",
          "text": [
            "['El mal de Corcira', 'Un mundo feliz', 'Lolita', 'Crimen y castigo', 'Python from for to pro', 'El señor de los anillos', 'Cien años de soledad', 'Harry Potter', 'Lectura Fácil', 'Seda', 'La chica de nieve', 'El día que se perdió la cordura', 'Data Science', '1984']\n"
          ]
        }
      ]
    },
    {
      "cell_type": "markdown",
      "metadata": {
        "id": "5EJ2-EXPjQoA"
      },
      "source": [
        "5. Te piden que añadas a esta lista el nuevo libro de Los Juegos del hambre que se titula *Balada de pájaros cantores y serpientes*. Has contado las unidades y han llegado 10. \n",
        "\n",
        "    a. Crea una variable con el título del libro, que se llame **libro_1**. Añade este elemento a la lista **libros**.\n",
        "\n",
        "    b. Crea una variable con el número de unidades, que se llame **uds_1**.\n",
        "\n",
        "    c. Crea una variable que sea una lista llamada **nuevo_libro** en el que su primer elemento sea **libro_1** y el segundo **uds_1**. \n",
        "\n",
        "    d. Convierte a **nuevo_libro** a tupla.\n",
        "    (muestra qué tipo es ahora esta variable)\n",
        "\n",
        "    e. Añade **nuevo_libro** a la lista **biblioteca** "
      ]
    },
    {
      "cell_type": "code",
      "metadata": {
        "id": "TMvI716vjQoA"
      },
      "source": [
        "#your code here\n",
        "libro_1 = \"Balada de pájaros cantores y serpientes\"\n",
        "uds_1 = 10\n",
        "nuevo_libro = [libro_1, uds_1]\n",
        "nuevo_libro = tuple(nuevo_libro)\n",
        "biblioteca.append(nuevo_libro)\n",
        "print(biblioteca)"
      ],
      "execution_count": 8,
      "outputs": [
        {
          "output_type": "stream",
          "name": "stdout",
          "text": [
            "[('El mal de Corcira', 4), ('Un mundo feliz', 2), ('Lolita', 5), ('Crimen y castigo', 2), ('Python from for to pro', 0), ('El señor de los anillos', 6), ('Cien años de soledad', 5), ('Harry Potter', 9), ('Lectura Fácil', 4), ('Seda', 2), ('La chica de nieve', 6), ('El día que se perdió la cordura', 3), ('Data Science', 0), ('Balada de pájaros cantores y serpientes', 10)]\n"
          ]
        }
      ]
    },
    {
      "cell_type": "markdown",
      "metadata": {
        "id": "Na51Mh3GjQoB"
      },
      "source": [
        "6. Acaban de traer una unidad más de *El mal de Corcira*, añade una unidad más al segundo elemento del primer elemento de la lista **biblioteca**."
      ]
    },
    {
      "cell_type": "code",
      "metadata": {
        "id": "g81HjtcEjQoB",
        "outputId": "c2a93fda-0655-4955-bf38-ea00407be4f7"
      },
      "source": [
        "biblioteca[0]"
      ],
      "execution_count": 9,
      "outputs": [
        {
          "output_type": "execute_result",
          "data": {
            "text/plain": [
              "('El mal de Corcira', 4)"
            ]
          },
          "metadata": {},
          "execution_count": 9
        }
      ]
    },
    {
      "cell_type": "code",
      "metadata": {
        "id": "BUQUvnX9jQoC",
        "outputId": "31e51b8d-b365-46df-de1e-dc61f5fce94f"
      },
      "source": [
        "biblioteca[0][1]"
      ],
      "execution_count": 10,
      "outputs": [
        {
          "output_type": "execute_result",
          "data": {
            "text/plain": [
              "4"
            ]
          },
          "metadata": {},
          "execution_count": 10
        }
      ]
    },
    {
      "cell_type": "code",
      "metadata": {
        "id": "cCo34aDmjQoC",
        "outputId": "58611b60-f2e5-40d2-e5ca-95cbd57af261"
      },
      "source": [
        "biblioteca[0][1] = biblioteca[0][1] - 1"
      ],
      "execution_count": 11,
      "outputs": [
        {
          "output_type": "error",
          "ename": "TypeError",
          "evalue": "'tuple' object does not support item assignment",
          "traceback": [
            "\u001b[1;31m---------------------------------------------------------------------------\u001b[0m",
            "\u001b[1;31mTypeError\u001b[0m                                 Traceback (most recent call last)",
            "\u001b[1;32m<ipython-input-11-8a7bcc0d7ddc>\u001b[0m in \u001b[0;36m<module>\u001b[1;34m\u001b[0m\n\u001b[1;32m----> 1\u001b[1;33m \u001b[0mbiblioteca\u001b[0m\u001b[1;33m[\u001b[0m\u001b[1;36m0\u001b[0m\u001b[1;33m]\u001b[0m\u001b[1;33m[\u001b[0m\u001b[1;36m1\u001b[0m\u001b[1;33m]\u001b[0m \u001b[1;33m=\u001b[0m \u001b[0mbiblioteca\u001b[0m\u001b[1;33m[\u001b[0m\u001b[1;36m0\u001b[0m\u001b[1;33m]\u001b[0m\u001b[1;33m[\u001b[0m\u001b[1;36m1\u001b[0m\u001b[1;33m]\u001b[0m \u001b[1;33m-\u001b[0m \u001b[1;36m1\u001b[0m\u001b[1;33m\u001b[0m\u001b[1;33m\u001b[0m\u001b[0m\n\u001b[0m",
            "\u001b[1;31mTypeError\u001b[0m: 'tuple' object does not support item assignment"
          ]
        }
      ]
    },
    {
      "cell_type": "markdown",
      "metadata": {
        "id": "LGmJEZMBjQoC"
      },
      "source": [
        "¿Cómo se te ocurre que podrías alterar este dato?"
      ]
    },
    {
      "cell_type": "code",
      "metadata": {
        "id": "PwMcAXbVjQoC"
      },
      "source": [
        "#Convirtiendo la tupla en una lista\n"
      ],
      "execution_count": null,
      "outputs": []
    },
    {
      "cell_type": "markdown",
      "metadata": {
        "id": "uvydaKqQjQoC"
      },
      "source": [
        "Convierte la tupla en una lista para poder modificar el segundo elemento y añadir esta unidad. Asigna la tupla convertida a lista a la variable **tup_to_list** haz los cambios, agrega la unidad y vuelve a añadir la lista ya convertida en tupla a la lista **biblioteca**."
      ]
    },
    {
      "cell_type": "code",
      "metadata": {
        "id": "DF9uHzqTjQoD"
      },
      "source": [
        "#your code here\n",
        "tup_to_list = list(biblioteca[0])\n",
        "tup_to_list[1] = tup_to_list[1] + 1\n",
        "tup_to_list = tuple(tup_to_list)\n",
        "biblioteca.append(tup_to_list)\n",
        "print(biblioteca)\n"
      ],
      "execution_count": 33,
      "outputs": [
        {
          "output_type": "stream",
          "name": "stdout",
          "text": [
            "[('El mal de Corcira', 4), ('Un mundo feliz', 2), ('Lolita', 5), ('Crimen y castigo', 2), ('Python from for to pro', 0), ('El señor de los anillos', 6), ('Cien años de soledad', 5), ('Harry Potter', 9), ('Lectura Fácil', 4), ('Seda', 2), ('La chica de nieve', 6), ('El día que se perdió la cordura', 3), ('Data Science', 0), ('Balada de pájaros cantores y serpientes', 10), ('Balada de pájaros cantores y serpientes', 10), ('El mal de Corcira', 5)]\n"
          ]
        }
      ]
    },
    {
      "cell_type": "markdown",
      "metadata": {
        "id": "-Jni5OGRjQoD"
      },
      "source": [
        "Ahora, tenemos dos tuplas con el libro *El mal de Corcira*, pero esto no es lo que queremos. Elimina el primer elemento de la lista **biblioteca**.\n",
        "\n",
        "Hint: https://www.programiz.com/python-programming/methods/list/remove"
      ]
    },
    {
      "cell_type": "code",
      "metadata": {
        "id": "0JxTR6rqjQoD"
      },
      "source": [
        "#your code here\n",
        "biblioteca.pop(0)\n",
        "print(biblioteca)"
      ],
      "execution_count": 2,
      "outputs": [
        {
          "output_type": "stream",
          "name": "stdout",
          "text": [
            "[('Un mundo feliz', 2), ('Lolita', 5), ('Crimen y castigo', 2), ('Python from for to pro', 0), ('El señor de los anillos', 6), ('Cien años de soledad', 5), ('Harry Potter', 9), ('Lectura Fácil', 4), ('Seda', 2), ('La chica de nieve', 6), ('El día que se perdió la cordura', 3), ('Data Science', 0)]\n"
          ]
        }
      ]
    },
    {
      "cell_type": "markdown",
      "metadata": {
        "id": "x7GacFq-jQoD"
      },
      "source": [
        "7. Te han pedido que localices los títulos de los libros de los que no disponen de unidades. Es decir, su segundo elemento, es igual a 0. "
      ]
    },
    {
      "cell_type": "code",
      "metadata": {
        "id": "frPpT1UXjQoD"
      },
      "source": [
        "#your code here\n",
        "\n",
        "for x , valor in enumerate (biblioteca):\n",
        "    if valor[1] == 0:\n",
        "        print(valor)\n",
        "        print(x)\n",
        "\n",
        "\n"
      ],
      "execution_count": 12,
      "outputs": [
        {
          "output_type": "stream",
          "name": "stdout",
          "text": [
            "('Python from for to pro', 0)\n3\n('Data Science', 0)\n11\n"
          ]
        }
      ]
    },
    {
      "cell_type": "markdown",
      "metadata": {
        "id": "zuzDUPXbjQoE"
      },
      "source": [
        "8. ¿Cómo meterías estos dos elementos en una lista llamada **missing**?"
      ]
    },
    {
      "cell_type": "code",
      "metadata": {
        "id": "bkgHkDLIjQoE"
      },
      "source": [
        "#your code here\n",
        "missing = []\n",
        "missing.append(biblioteca[3])\n",
        "missing.append(biblioteca[11])\n",
        "print(missing)"
      ],
      "execution_count": 24,
      "outputs": [
        {
          "output_type": "stream",
          "name": "stdout",
          "text": [
            "[('Python from for to pro', 0), ('Data Science', 0)]\n"
          ]
        }
      ]
    },
    {
      "cell_type": "markdown",
      "metadata": {
        "id": "bGC6ieEFjQoE"
      },
      "source": [
        "9. Como en cualquier jornada de trabajo, recibes miles de email, hay uno que no habías visto pero en el que tu jefa te pide hacer un pequeño programita (función) que recoja el título de un libro y la cantidad de libros, este último parámetro por defecto será 1, chequée si tenemos ese título en la lista `libros` y si lo tenemos, sume esa cantidad a su cantidad en la lista `biblioteca` y si no, añada el título a `libros` y en una tupla nueva con la cantidad correspondiente a la lista `biblioteca`. "
      ]
    },
    {
      "cell_type": "code",
      "metadata": {
        "id": "ZrARFHkPjQoE"
      },
      "source": [
        "#your code here\n",
        "\n",
        "def funcion(lista):\n",
        "    nombre = input(\"Nombre del Libro\")\n",
        "    cantidad = int(input(\"Cantidad\"))\n",
        "    for x in lista:\n",
        "        x = list(x)\n",
        "        if nombre == x[0]:\n",
        "            lista.append(x[1] + cantidad)\n",
        "            break\n",
        "        else:\n",
        "            lista.append([nombre, cantidad])\n",
        "            break\n",
        "        print(lista)\n",
        "\n"
      ],
      "execution_count": 6,
      "outputs": []
    },
    {
      "cell_type": "markdown",
      "metadata": {
        "id": "HEkFYbxbjQoE"
      },
      "source": [
        "Pruébalo añadiendo el título de \"Guía del Autopista Galáctico\", cantidad 42."
      ]
    },
    {
      "cell_type": "code",
      "metadata": {
        "id": "shBNjum9jQoF",
        "tags": []
      },
      "source": [
        "#your code here\n",
        "funcion(biblioteca)\n"
      ],
      "execution_count": 7,
      "outputs": []
    },
    {
      "cell_type": "markdown",
      "metadata": {
        "id": "oY9sAib5jQoF"
      },
      "source": [
        "### Bonus Track\n",
        "\n",
        "10. ¿Cuál es el libro con más unidades? ¿Cuál es la media de libros por título?"
      ]
    },
    {
      "cell_type": "code",
      "metadata": {
        "id": "CTn5OaFQjQoF"
      },
      "source": [
        "#your code here\n",
        "for x, valor in enumerate(biblioteca):\n",
        "    max(len(valor)\n"
      ],
      "execution_count": 1,
      "outputs": [
        {
          "output_type": "error",
          "ename": "SyntaxError",
          "evalue": "unexpected EOF while parsing (<ipython-input-1-ba552f482a98>, line 3)",
          "traceback": [
            "\u001b[1;36m  File \u001b[1;32m\"<ipython-input-1-ba552f482a98>\"\u001b[1;36m, line \u001b[1;32m3\u001b[0m\n\u001b[1;33m    max(len(valor)\u001b[0m\n\u001b[1;37m                  ^\u001b[0m\n\u001b[1;31mSyntaxError\u001b[0m\u001b[1;31m:\u001b[0m unexpected EOF while parsing\n"
          ]
        }
      ]
    },
    {
      "cell_type": "markdown",
      "metadata": {
        "id": "r7_BMIY_jQoF"
      },
      "source": [
        "11. ¿Cuál tiene el título más largo y cuál el más corto?"
      ]
    },
    {
      "cell_type": "code",
      "metadata": {
        "id": "bc65Uq3IjQoF"
      },
      "source": [
        "#your code here\n"
      ],
      "execution_count": null,
      "outputs": []
    }
  ]
}