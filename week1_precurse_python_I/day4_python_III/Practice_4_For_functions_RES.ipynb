{
  "nbformat": 4,
  "nbformat_minor": 0,
  "metadata": {
    "kernelspec": {
      "display_name": "Python 3",
      "language": "python",
      "name": "python3"
    },
    "language_info": {
      "codemirror_mode": {
        "name": "ipython",
        "version": 3
      },
      "file_extension": ".py",
      "mimetype": "text/x-python",
      "name": "python",
      "nbconvert_exporter": "python",
      "pygments_lexer": "ipython3",
      "version": "3.8.3"
    },
    "colab": {
      "name": "Practice_4_For_functions_RES.ipynb",
      "provenance": []
    }
  },
  "cells": [
    {
      "cell_type": "markdown",
      "metadata": {
        "id": "RShxKnQowTYY"
      },
      "source": [
        "# Python | day 4 | for loop, functions (feat. basics & if/else) "
      ]
    },
    {
      "cell_type": "markdown",
      "metadata": {
        "id": "Tt2p4TG-wTYa"
      },
      "source": [
        "### Exercise 0.1 - Python Basics\n",
        "\n",
        "1. What do we use to make a line break in a print? And for a tab stop?\n",
        "\n",
        "have a look ---> http://elclubdelautodidacta.es/wp/2012/04/python-capitulo-31-exprimiendo-la-funcion-print/"
      ]
    },
    {
      "cell_type": "code",
      "metadata": {
        "id": "j0hYw_eLwTYc",
        "outputId": "c13060b0-78ab-442f-98bc-53292a7750cf"
      },
      "source": [
        "print('line_3\\nline_4\\n')\n",
        "print('line_1\\t.')"
      ],
      "execution_count": null,
      "outputs": [
        {
          "output_type": "stream",
          "text": [
            "line_3\n",
            "line_4\n",
            "\n",
            "line_1\t.\n"
          ],
          "name": "stdout"
        }
      ]
    },
    {
      "cell_type": "markdown",
      "metadata": {
        "id": "tt4ZjsawwTYd"
      },
      "source": [
        "2. Make a converter from dollars to euros. You'll have to use input."
      ]
    },
    {
      "cell_type": "code",
      "metadata": {
        "id": "xNkOUbIlwTYd",
        "outputId": "679220fb-1b8a-49c7-a83e-31a2954dfdfa"
      },
      "source": [
        "exchange_rate = 0.84\n",
        "d_t_c = int(input('Type you $ to convert')) # Dollars to convert\n",
        "print(f'{d_t_c}$ Exchange rate: {exchange_rate}')\n",
        "euros = round(d_t_c * exchange_rate, 2)\n",
        "print(f'{euros}€\\n---------\\n')"
      ],
      "execution_count": null,
      "outputs": [
        {
          "output_type": "stream",
          "text": [
            "Type you $ to convert12\n",
            "12$ Exchange rate: 0.84\n",
            "10.08€\n",
            "---------\n",
            "\n"
          ],
          "name": "stdout"
        }
      ]
    },
    {
      "cell_type": "markdown",
      "metadata": {
        "id": "tkmvPTHMwTYe"
      },
      "source": [
        "3. Declare two strings, one will be your first name and the other your last name. Declare your age in another variable. Print a sentence which include those variables, using ```f{}```. Wtf is that? check this out **-->** https://realpython.com/python-string-formatting/"
      ]
    },
    {
      "cell_type": "code",
      "metadata": {
        "id": "ssc5nKhPwTYf",
        "outputId": "d8bc80cd-02b8-4685-8426-0e900e40f587"
      },
      "source": [
        "name = 'Homer J.'\n",
        "surname = 'Simpson'\n",
        "age = 38\n",
        "\n",
        "print(f'{name} {surname}, {age} years old')"
      ],
      "execution_count": null,
      "outputs": [
        {
          "output_type": "stream",
          "text": [
            "Homer J. Simpson, 38 years old\n"
          ],
          "name": "stdout"
        }
      ]
    },
    {
      "cell_type": "markdown",
      "metadata": {
        "id": "00SFN_gmwTYf"
      },
      "source": [
        "4. Given the list `[4,7, -3]`, calculate its maximum, minimum and sum."
      ]
    },
    {
      "cell_type": "code",
      "metadata": {
        "id": "oJtcbuGTwTYg",
        "outputId": "bed896a0-e8a7-47b8-877b-505ecc52218f"
      },
      "source": [
        "a_list = [4,7, -3]\n",
        "\n",
        "print (f'Max: {max(a_list)}')\n",
        "print (f'Min: {min(a_list)}')\n",
        "print (f'Sum: {sum(a_list)}')"
      ],
      "execution_count": null,
      "outputs": [
        {
          "output_type": "stream",
          "text": [
            "Max: 7\n",
            "Min: -3\n",
            "Sum: 8\n"
          ],
          "name": "stdout"
        }
      ]
    },
    {
      "cell_type": "markdown",
      "metadata": {
        "id": "QgauGy32wTYg"
      },
      "source": [
        "5. Save the number `38.38276252728` to a variable called `number_dec` and round it to 5 decimal places.\n"
      ]
    },
    {
      "cell_type": "code",
      "metadata": {
        "id": "2Q87iF1zwTYh",
        "outputId": "3d993d32-852f-457c-9c14-c375fdc8128f"
      },
      "source": [
        "number_dec = 38.38276252728\n",
        "rounded = round(number_dec, 5)\n",
        "print(rounded)"
      ],
      "execution_count": null,
      "outputs": [
        {
          "output_type": "stream",
          "text": [
            "38.38276\n"
          ],
          "name": "stdout"
        }
      ]
    },
    {
      "cell_type": "markdown",
      "metadata": {
        "id": "biiaYle1wTYh"
      },
      "source": [
        "6. Declare a variable `phrase` with the value `\"Born to be wild\"` and make it uppercase, then lowercase, divide it by spaces, and finally, replace `\"wild\"` with `\"Geek.\"`"
      ]
    },
    {
      "cell_type": "code",
      "metadata": {
        "id": "_inxN77DwTYh",
        "outputId": "7a6f33cc-937a-44d3-ca26-27c719439dcb"
      },
      "source": [
        "phrase = \"Born to be wild\"\n",
        "\n",
        "print(phrase.upper())\n",
        "\n",
        "print(phrase.lower())\n",
        "\n",
        "print(phrase.split())\n",
        "\n",
        "print(phrase.replace(\"wild\", \"Geek\"))"
      ],
      "execution_count": null,
      "outputs": [
        {
          "output_type": "stream",
          "text": [
            "BORN TO BE WILD\n",
            "born to be wild\n",
            "['Born', 'to', 'be', 'wild']\n",
            "Born to be Geek\n"
          ],
          "name": "stdout"
        }
      ]
    },
    {
      "cell_type": "markdown",
      "metadata": {
        "id": "T8WF21LdwTYi"
      },
      "source": [
        "7. Create a program where two inputs are collected, and the output of the program is a boolean which tell the user whether those inputs are the same or not.\n"
      ]
    },
    {
      "cell_type": "code",
      "metadata": {
        "id": "efBFvF19wTYi",
        "outputId": "1ce3820c-845b-43a8-e3f5-783c719862b5"
      },
      "source": [
        "inp_1 = input('Input #1> ')\n",
        "print(inp_1)\n",
        "inp_2 = input('Input #2> ')\n",
        "print(inp_2)\n",
        "\n",
        "if inp_1 == inp_2:\n",
        "    boolean = True\n",
        "    print(\"\\n- They're equal\")\n",
        "\n",
        "else:\n",
        "    boolean = False\n",
        "    print(\"\\n- They're not equal\")\n"
      ],
      "execution_count": null,
      "outputs": [
        {
          "output_type": "stream",
          "text": [
            "Input #1> 2\n",
            "2\n",
            "Input #2> 3\n",
            "3\n",
            "\n",
            "- They're not equal\n"
          ],
          "name": "stdout"
        }
      ]
    },
    {
      "cell_type": "code",
      "metadata": {
        "id": "7opxbakrwTYj",
        "outputId": "b50cb471-fa81-4ec2-c799-010db0923c99"
      },
      "source": [
        "#using a function \n",
        "\n",
        "def chekcer ():\n",
        "    \"\"\"\n",
        "    This function collects two inputs, and the output of the program is a boolean which tell the user whether those inputs are the same or not\n",
        "    \"\"\"\n",
        "    inp_1 = input('Input #1> ')\n",
        "    print(inp_1)\n",
        "    inp_2 = input('Input #2> ')\n",
        "    print(inp_2)\n",
        "\n",
        "    if inp_1 == inp_2:\n",
        "        boolean = True\n",
        "        print(\"\\n- They're equal\")\n",
        "\n",
        "    else:\n",
        "        boolean = False\n",
        "        print(\"\\n- They're not equal\")\n",
        "\n",
        "    return boolean\n",
        "\n",
        "boolean_returned = chekcer()\n",
        "print(f'{boolean_returned} <- Value of the returned variable')\n",
        "print(f'{type(boolean_returned)} <- Type of the returned variable')"
      ],
      "execution_count": null,
      "outputs": [
        {
          "output_type": "stream",
          "text": [
            "Input #1> 3\n",
            "3\n",
            "Input #2> 3\n",
            "3\n",
            "\n",
            "- They're equal\n",
            "True <- Value of the returned variable\n",
            "<class 'bool'> <- Type of the returned variable\n"
          ],
          "name": "stdout"
        }
      ]
    },
    {
      "cell_type": "markdown",
      "metadata": {
        "id": "qpuJAigKwTYj"
      },
      "source": [
        "### Exercise 0.2 - If/else\n",
        "\n",
        "1. Create a decission tree using if/else sentences, to determine the price of the movies ticket. If the client's age is between 5 and 15 years, both included, the price will be 5, if she/he is retired and the movie is one of the `peliculas_discount`, the price is 4. In any other case, it will be 7 euros.\n",
        "\n",
        "You should create the list of `peliculas_discount` with your favourites movies. "
      ]
    },
    {
      "cell_type": "code",
      "metadata": {
        "id": "fy37AMM2wTYk",
        "outputId": "208b3936-83de-4963-cb68-64056b8f159d"
      },
      "source": [
        "age = int(input('Age of client> '))\n",
        "movie = input('Movie>')\n",
        "movies_discount = ['The Thing', 'Star Trek VI', 'Lord Of The Rings', 'Aquaman']\n",
        "\n",
        "if age >= 5 and age <= 15:\n",
        "    price = 5\n",
        "elif age >= 67 and movie in movies_discount:\n",
        "    price = 4\n",
        "else:\n",
        "    price = 7\n",
        "\n",
        "print(f'Age: {age} Movie: {movie}')\n",
        "print (f'Price of ticket is {price}€')"
      ],
      "execution_count": null,
      "outputs": [
        {
          "output_type": "stream",
          "text": [
            "Age of client> 13\n",
            "Movie>The Thing\n",
            "Age: 13 Movie: The Thing\n",
            "Price of ticket is 5€\n"
          ],
          "name": "stdout"
        }
      ]
    },
    {
      "cell_type": "markdown",
      "metadata": {
        "id": "8uGD0kdNwTYk"
      },
      "source": [
        "### Exercise 1 - For"
      ]
    },
    {
      "cell_type": "markdown",
      "metadata": {
        "id": "51OPEWTSwTYk"
      },
      "source": [
        "1. You are witnessing an epic battle between two powerful sorcerers: Gandalf and Saruman. Each sorcerer has 10 spells of variable power in their mind and they are going to throw them one after the other. The winner of the duel will be the one who wins more of those clashes between spells. Spells are represented as a list of 10 integers whose value equals the power of the spell.\n",
        "\n",
        "```python\n",
        "gandalf = [10, 11, 13, 30, 22, 11, 10, 33, 22, 22]\n",
        "saruman = [23, 66, 12, 43, 12, 10, 44, 23, 12, 17]\n",
        "```\n",
        "\n",
        "For example:\n",
        "\n",
        "The first clash is won by Saruman: 10 against 23, wins 23\n",
        "The second clash wins Saruman: 11 against 66, wins 66\n",
        "etc.\n",
        "You will create two variables, one for each sorcerer, where the sum of clashes won will be stored. Depending on which variable is greater at the end of the duel, you will show one of the following three results on the screen:\n",
        "```\n",
        "Gandalf wins\n",
        "Saruman wins\n",
        "Tie\n",
        "```"
      ]
    },
    {
      "cell_type": "code",
      "metadata": {
        "id": "tsQFIxxVwTYl",
        "outputId": "f37a2b03-4b5a-466d-d2dd-0af96e15da7a"
      },
      "source": [
        "# Assign spell power lists to variables\n",
        "gandalf = [10, 11, 13, 30, 22, 11, 10, 33, 22, 22]\n",
        "saruman = [23, 66, 12, 43, 12, 10, 44, 23, 12, 17]\n",
        "\n",
        "# Assign 0 to each variable that stores the victories\n",
        "gandalf_victories = 0\n",
        "saruman_victories = 0\n",
        "\n",
        "# Execution of spell clashes\n",
        "for gandalf_spell, saruman_spell in zip(gandalf, saruman):\n",
        "    if gandalf_spell > saruman_spell:\n",
        "        gandalf_victories += 1\n",
        "        print(f'Gandalf value is {gandalf_spell}. Saruman value is {saruman_spell}. \\nGandalf wins')\n",
        "    elif gandalf_spell < saruman_spell:\n",
        "        saruman_victories += 1\n",
        "        print(f'Gandalf value is {gandalf_spell}. Saruman value is {saruman_spell}. \\nSaruman wins')\n",
        "    else:\n",
        "        print(f\"Gandalf value is {gandalf_spell}. Saruman value is {saruman_spell}. \\nIt's a tie!\")\n",
        "print(f'Total Gandalf victories are {gandalf_victories}. \\nTotal Saruman victories are {saruman_victories}')"
      ],
      "execution_count": null,
      "outputs": [
        {
          "output_type": "stream",
          "text": [
            "Gandalf value is 10. Saruman value is 23. \n",
            "Saruman wins\n",
            "Gandalf value is 11. Saruman value is 66. \n",
            "Saruman wins\n",
            "Gandalf value is 13. Saruman value is 12. \n",
            "Gandalf wins\n",
            "Gandalf value is 30. Saruman value is 43. \n",
            "Saruman wins\n",
            "Gandalf value is 22. Saruman value is 12. \n",
            "Gandalf wins\n",
            "Gandalf value is 11. Saruman value is 10. \n",
            "Gandalf wins\n",
            "Gandalf value is 10. Saruman value is 44. \n",
            "Saruman wins\n",
            "Gandalf value is 33. Saruman value is 23. \n",
            "Gandalf wins\n",
            "Gandalf value is 22. Saruman value is 12. \n",
            "Gandalf wins\n",
            "Gandalf value is 22. Saruman value is 17. \n",
            "Gandalf wins\n",
            "Total Gandalf victories are 6. \n",
            "Total Saruman victories are 4\n"
          ],
          "name": "stdout"
        }
      ]
    },
    {
      "cell_type": "markdown",
      "metadata": {
        "id": "hRf2EAXIwTYm"
      },
      "source": [
        "### Exercise 2 - Functions"
      ]
    },
    {
      "cell_type": "markdown",
      "metadata": {
        "id": "Y0fcS7McwTYm"
      },
      "source": [
        "1. Write a function program to sum up two given different numbers. "
      ]
    },
    {
      "cell_type": "code",
      "metadata": {
        "id": "QL9EL7rfwTYm"
      },
      "source": [
        "def adder (num_1, num_2):\n",
        "    \"\"\"\n",
        "    This function sums two different numbers, prints the result and returns it for further use.\n",
        "    \"\"\"\n",
        "    num_3 = num_1 + num_2\n",
        "    print(f'Result: {num_3}')\n",
        "\n",
        "    return num_3"
      ],
      "execution_count": null,
      "outputs": []
    },
    {
      "cell_type": "markdown",
      "metadata": {
        "id": "beJx3PGMwTYm"
      },
      "source": [
        "Call the function you've just defined to sum up: \n",
        "    - 5 and 6\n",
        "    - -3 and 10\n",
        "    - 99 and 789"
      ]
    },
    {
      "cell_type": "code",
      "metadata": {
        "id": "_eh2J1g4wTYn",
        "outputId": "32a2836f-adff-4301-ceb6-50064238c12d"
      },
      "source": [
        "adder(num_1 = 5, num_2 = 6)"
      ],
      "execution_count": null,
      "outputs": [
        {
          "output_type": "stream",
          "text": [
            "Result: 11\n"
          ],
          "name": "stdout"
        },
        {
          "output_type": "execute_result",
          "data": {
            "text/plain": [
              "11"
            ]
          },
          "metadata": {
            "tags": []
          },
          "execution_count": 14
        }
      ]
    },
    {
      "cell_type": "code",
      "metadata": {
        "id": "pNbnHzSvwTYn",
        "outputId": "d2d243ad-aeec-4aa3-87ce-c1c3e54d5a2b"
      },
      "source": [
        "adder(num_1 = -3, num_2 = 10)"
      ],
      "execution_count": null,
      "outputs": [
        {
          "output_type": "stream",
          "text": [
            "Result: 7\n"
          ],
          "name": "stdout"
        },
        {
          "output_type": "execute_result",
          "data": {
            "text/plain": [
              "7"
            ]
          },
          "metadata": {
            "tags": []
          },
          "execution_count": 15
        }
      ]
    },
    {
      "cell_type": "code",
      "metadata": {
        "id": "wzyQNEV4wTYn",
        "outputId": "b1bcf1a5-8c4b-4926-b2ea-8a10996feed4"
      },
      "source": [
        "adder(num_1 = 99, num_2 = 789)"
      ],
      "execution_count": null,
      "outputs": [
        {
          "output_type": "stream",
          "text": [
            "Result: 888\n"
          ],
          "name": "stdout"
        },
        {
          "output_type": "execute_result",
          "data": {
            "text/plain": [
              "888"
            ]
          },
          "metadata": {
            "tags": []
          },
          "execution_count": 16
        }
      ]
    },
    {
      "cell_type": "markdown",
      "metadata": {
        "id": "4QMpVdA4wTYo"
      },
      "source": [
        "### Bonus Track"
      ]
    },
    {
      "cell_type": "markdown",
      "metadata": {
        "id": "Qk6hd_JpwTYo"
      },
      "source": [
        "2. Write a Python program to convert a tuple of characters into a string.\n",
        "\n",
        "    - Sample tuple: `(\"T\", \"H\", \"E\", \" \", \"B\", \"R\", \"I\", \"D\", \"G\", \"E\")`\n",
        "    - Expected output : `\"THE BRIDGE\"`\n",
        "    \n",
        "Hint: Turn it into a list. "
      ]
    },
    {
      "cell_type": "code",
      "metadata": {
        "id": "tgCUZJ4CwTYo"
      },
      "source": [
        "tup = (\"T\", \"H\", \"E\", \" \", \"B\", \"R\", \"I\", \"D\", \"G\", \"E\")\n",
        "\n",
        "def tup_converter(tupl):\n",
        "    \"\"\"\n",
        "    Program to convert a tuple of characters into a string\n",
        "    \"\"\"\n",
        "    result = ''.join(tupl)\n",
        "    return result"
      ],
      "execution_count": null,
      "outputs": []
    },
    {
      "cell_type": "code",
      "metadata": {
        "id": "1iQZKasPwTYo",
        "outputId": "296b2e77-c575-4a2a-9a82-7224914b5922"
      },
      "source": [
        "tup_converter(tup)"
      ],
      "execution_count": null,
      "outputs": [
        {
          "output_type": "execute_result",
          "data": {
            "text/plain": [
              "'THE BRIDGE'"
            ]
          },
          "metadata": {
            "tags": []
          },
          "execution_count": 18
        }
      ]
    },
    {
      "cell_type": "markdown",
      "metadata": {
        "id": "y5OPIPiJwTYo"
      },
      "source": [
        "3. Write a Python program to generate a list where the values are square of numbers between 1 and 30 (both included), and return a list of first and last 5 elements of the list."
      ]
    },
    {
      "cell_type": "code",
      "metadata": {
        "id": "mlPsWjlowTYp",
        "outputId": "092bdc7d-4f89-42de-a877-ee9301011d3f"
      },
      "source": [
        "def strange_square ():\n",
        "    \"\"\"\n",
        "    Write a Python program to generate a list where the values are square of numbers between 1 and 30 (both included), and return a list of first and last 5 elements of the list.\n",
        "    \"\"\"\n",
        "    number = 1\n",
        "    number_list = []\n",
        "    \n",
        "    for n in range(30):\n",
        "        num_r = number ** 2\n",
        "        number_list.append(num_r)\n",
        "        number += 1\n",
        "    return number_list[:5] + number_list[-5:] \n",
        "\n",
        "the_list = strange_square()\n",
        "the_list"
      ],
      "execution_count": null,
      "outputs": [
        {
          "output_type": "execute_result",
          "data": {
            "text/plain": [
              "[1, 4, 9, 16, 25, 676, 729, 784, 841, 900]"
            ]
          },
          "metadata": {
            "tags": []
          },
          "execution_count": 22
        }
      ]
    },
    {
      "cell_type": "markdown",
      "metadata": {
        "id": "8HZ39oDIwTYp"
      },
      "source": [
        "4. Create a program that calculates the average.\n",
        "\n",
        "The program will ask the user to specify how many numbers you want to enter, and will show a prompt to include number by number to a list, and then calculate the average of each number in that list."
      ]
    },
    {
      "cell_type": "code",
      "metadata": {
        "id": "6MX_hXHKwTYp",
        "outputId": "754a8cda-8008-45bd-aa70-41e26e4d8218"
      },
      "source": [
        "def average_calculator ():\n",
        "    choice = int(input('How many numbers will you want?: '))\n",
        "    a_list = []\n",
        "\n",
        "    for n in range(choice):\n",
        "        numbers = int(input('Add your number: '))\n",
        "        a_list.append(numbers)\n",
        "    \n",
        "    average = int(sum(a_list))/int(len(a_list))\n",
        "    \n",
        "    return average\n",
        "\n",
        "average = average_calculator()\n",
        "print (average)"
      ],
      "execution_count": null,
      "outputs": [
        {
          "output_type": "stream",
          "text": [
            "How many numbers will you want?: 4\n",
            "Add your number: 4\n",
            "Add your number: 4\n",
            "Add your number: 5\n",
            "Add your number: 6\n",
            "4.75\n"
          ],
          "name": "stdout"
        }
      ]
    },
    {
      "cell_type": "markdown",
      "metadata": {
        "id": "vnLmYSpawTYq"
      },
      "source": [
        "# If you made it till here you did a fantastic work!"
      ]
    },
    {
      "cell_type": "markdown",
      "metadata": {
        "id": "hkvfbO9kwTYq"
      },
      "source": [
        "![\"holo\"](https://img-9gag-fun.9cache.com/photo/aNg9wMK_460s.jpg)"
      ]
    },
    {
      "cell_type": "code",
      "metadata": {
        "id": "rpHopbU4wTYq"
      },
      "source": [
        ""
      ],
      "execution_count": null,
      "outputs": []
    }
  ]
}