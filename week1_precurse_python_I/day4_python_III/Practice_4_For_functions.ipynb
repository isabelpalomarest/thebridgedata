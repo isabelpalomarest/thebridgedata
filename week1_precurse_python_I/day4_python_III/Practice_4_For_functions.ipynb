{
  "nbformat": 4,
  "nbformat_minor": 0,
  "metadata": {
    "kernelspec": {
      "name": "python374jvsc74a57bd0182e3b849e87c789b13dcf4169d6d9922ca2e40dd3044e82b295bff17932e6e2",
      "display_name": "Python 3.7.4 64-bit"
    },
    "language_info": {
      "codemirror_mode": {
        "name": "ipython",
        "version": 3
      },
      "file_extension": ".py",
      "mimetype": "text/x-python",
      "name": "python",
      "nbconvert_exporter": "python",
      "pygments_lexer": "ipython3",
      "version": "3.7.4"
    },
    "colab": {
      "name": "Practice_4_For_functions.ipynb",
      "provenance": []
    },
    "metadata": {
      "interpreter": {
        "hash": "182e3b849e87c789b13dcf4169d6d9922ca2e40dd3044e82b295bff17932e6e2"
      }
    }
  },
  "cells": [
    {
      "cell_type": "markdown",
      "metadata": {
        "id": "lNJzF7EdNNQx"
      },
      "source": [
        "# Python | day 4 | for loop, functions (feat. basics & if/else) "
      ]
    },
    {
      "cell_type": "markdown",
      "metadata": {
        "id": "DJmE4H5jNNQ2"
      },
      "source": [
        "### Exercise 0.1 - Python Basics\n",
        "\n",
        "1. What do we use to make a line break in a print? And for a tab stop?\n",
        "\n",
        "have a look ---> http://elclubdelautodidacta.es/wp/2012/04/python-capitulo-31-exprimiendo-la-funcion-print/"
      ]
    },
    {
      "cell_type": "code",
      "metadata": {
        "id": "0SU1tkXtNNQ3"
      },
      "source": [
        "# For a line break \\n\n",
        "# For a tab stop break"
      ],
      "execution_count": null,
      "outputs": []
    },
    {
      "cell_type": "markdown",
      "metadata": {
        "id": "jjtz5vX8NNQ3"
      },
      "source": [
        "2. Make a converter from dollars to euros. You'll have to use input."
      ]
    },
    {
      "cell_type": "code",
      "metadata": {
        "id": "Jv1jdxM-NNQ4"
      },
      "source": [
        "dollar = input(\"Dollars\")\n",
        "euro = float(dollar) * 0.84\n",
        "print(euro)"
      ],
      "execution_count": 4,
      "outputs": [
        {
          "output_type": "stream",
          "name": "stdout",
          "text": [
            "1.68\n"
          ]
        }
      ]
    },
    {
      "cell_type": "markdown",
      "metadata": {
        "id": "ysCct6VjNNQ4"
      },
      "source": [
        "3. Declare two strings, one will be your first name and the other your last name. Declare your age in another variable. Print a sentence which include those variables, using ```f{}```. Wtf is that? check this out **-->** https://realpython.com/python-string-formatting/"
      ]
    },
    {
      "cell_type": "code",
      "metadata": {
        "id": "62dPYoGjNNQ4"
      },
      "source": [
        "first_name = \"Isabel\"\n",
        "last_name = \"Palomares\"\n",
        "age = 24\n",
        "f = {first_name, last_name, age} \n",
        "print(f)\n",
        "# It's a dictionary\n"
      ],
      "execution_count": 29,
      "outputs": [
        {
          "output_type": "stream",
          "name": "stdout",
          "text": [
            "{24, 'Isabel', 'Palomares'}\n"
          ]
        }
      ]
    },
    {
      "cell_type": "markdown",
      "metadata": {
        "id": "NPsLPy4MNNQ4"
      },
      "source": [
        "4. Given the list `[4,7, -3]`, calculate its maximum, minimum and sum."
      ]
    },
    {
      "cell_type": "code",
      "metadata": {
        "id": "PlK7qNiMNNQ5"
      },
      "source": [
        "list4 = [4,7, -3]\n",
        "print(max(list4))\n",
        "print(min(list4))\n",
        "print(sum(list4))"
      ],
      "execution_count": 19,
      "outputs": [
        {
          "output_type": "stream",
          "name": "stdout",
          "text": [
            "7\n-3\n8\n"
          ]
        }
      ]
    },
    {
      "cell_type": "markdown",
      "metadata": {
        "id": "U5q7K0bYNNQ5"
      },
      "source": [
        "5. Save the number `38.38276252728` to a variable called `number_dec` and round it to 5 decimal places.\n"
      ]
    },
    {
      "cell_type": "code",
      "metadata": {
        "id": "miLLMwsLNNQ6"
      },
      "source": [
        "numer_dec = 38.38276252728\n",
        "round(numer_dec, 5)"
      ],
      "execution_count": 16,
      "outputs": [
        {
          "output_type": "execute_result",
          "data": {
            "text/plain": [
              "38.38276"
            ]
          },
          "metadata": {},
          "execution_count": 16
        }
      ]
    },
    {
      "cell_type": "markdown",
      "metadata": {
        "id": "9PbLrhL1NNQ6"
      },
      "source": [
        "\n",
        "\n",
        "\n",
        "\n",
        "\n",
        "\n",
        "\n",
        "6. Declare a variable `phrase` with the value `\"Born to be wild\"` and make it uppercase, then lowercase, divide it by spaces, and finally, replace `\"wild\"` with `\"Geek.\"`"
      ]
    },
    {
      "cell_type": "code",
      "metadata": {
        "id": "spbvUsZiNNQ6"
      },
      "source": [
        "phrase = \"Born to be wild\"\n",
        "print(phrase.upper())\n",
        "print(phrase.lower())\n",
        "print(phrase.split())\n",
        "print(phrase.replace(\"wild\",\"Geek\"))\n"
      ],
      "execution_count": 15,
      "outputs": [
        {
          "output_type": "stream",
          "name": "stdout",
          "text": [
            "BORN TO BE WILD\nborn to be wild\n['Born', 'to', 'be', 'wild']\nBorn to be Geek\n"
          ]
        }
      ]
    },
    {
      "cell_type": "markdown",
      "metadata": {
        "id": "pOkHYzfFNNQ6"
      },
      "source": [
        "7. Create a program where two inputs are collected, and the output of the program is a boolean which tell the user whether those inputs are the same or not.\n"
      ]
    },
    {
      "cell_type": "code",
      "metadata": {
        "id": "ihaVmodTNNQ7"
      },
      "source": [
        "in1 = int(input(\"Hours\"))\n",
        "in2 = int(input(\"Hours 2\"))\n",
        "\n",
        "output1 = True\n",
        "output2 = False  \n",
        "\n",
        "if in1 == in2:\n",
        "    x= output1\n",
        "else:\n",
        "    x = output2\n",
        "print(x)\n"
      ],
      "execution_count": 31,
      "outputs": [
        {
          "output_type": "stream",
          "name": "stdout",
          "text": [
            "True\n"
          ]
        }
      ]
    },
    {
      "cell_type": "markdown",
      "metadata": {
        "id": "T_O3n5T3NNQ7"
      },
      "source": [
        "### Exercise 0.2 - If/else\n",
        "\n",
        "1. Create a decission tree using if/else sentences, to determine the price of the movies ticket. If the client's age is between 5 and 15 years, both included, the price will be 5, if she/he is retired and the movie is one of the `peliculas_discount`, the price is 4. In any other case, it will be 7 euros.\n",
        "\n",
        "You should create the list of `peliculas_discount` with your favourites movies. "
      ]
    },
    {
      "cell_type": "code",
      "metadata": {
        "id": "wBbaxE1MNNQ7"
      },
      "source": [
        "edad = input(\"Age\")\n",
        "edad1 = int(age)\n",
        "retired = input(\"Are you retired?\")\n",
        "peliculas_discount = [\"Revolver\", \"Big Night\", \"Aviador\", \"Aliados\", \"El golpe\", \"Frank\"]\n",
        "film = input(\"What film are you going to watch?\")\n",
        "\n",
        "if edad1 >= 5 and edad1 <= 15 :\n",
        "    print (\"The price is 5\")\n",
        "if (peliculas_discount is film) and (retired is \"yes\") or (retired is \"Yes\"):\n",
        "    print(\"The price is 4\")\n",
        "else:\n",
        "    print(\"The price is 7\")\n"
      ],
      "execution_count": 26,
      "outputs": [
        {
          "output_type": "stream",
          "name": "stdout",
          "text": [
            "The price is 7\n"
          ]
        }
      ]
    },
    {
      "cell_type": "markdown",
      "metadata": {
        "id": "le7PnF11NNQ8"
      },
      "source": [
        "### Exercise 1 - For"
      ]
    },
    {
      "cell_type": "markdown",
      "metadata": {
        "id": "9uIqG0e1NNQ8"
      },
      "source": [
        "1. You are witnessing an epic battle between two powerful sorcerers: Gandalf and Saruman. Each sorcerer has 10 spells of variable power in their mind and they are going to throw them one after the other. The winner of the duel will be the one who wins more of those clashes between spells. Spells are represented as a list of 10 integers whose value equals the power of the spell.\n",
        "\n",
        "```python\n",
        "gandalf = [10, 11, 13, 30, 22, 11, 10, 33, 22, 22]\n",
        "saruman = [23, 66, 12, 43, 12, 10, 44, 23, 12, 17]\n",
        "```\n",
        "\n",
        "For example:\n",
        "\n",
        "The first clash is won by Saruman: 10 against 23, wins 23\n",
        "The second clash wins Saruman: 11 against 66, wins 66\n",
        "etc.\n",
        "You will create two variables, one for each sorcerer, where the sum of clashes won will be stored. Depending on which variable is greater at the end of the duel, you will show one of the following three results on the screen:\n",
        "```\n",
        "Gandalf wins\n",
        "Saruman wins\n",
        "Tie\n",
        "```"
      ]
    },
    {
      "cell_type": "code",
      "metadata": {
        "id": "-SRL3xQ1NNQ8"
      },
      "source": [
        "gandalf = [10, 11, 13, 30, 22, 11, 10, 33, 22, 22]\n",
        "saruman = [23, 66, 12, 43, 12, 10, 44, 23, 12, 17]\n",
        "\n",
        "gandalfganadas = []\n",
        "sarumanganadas = []\n",
        "\n",
        "for i, valor in enumerate(gandalf):\n",
        "    if gandalf[i] > saruman[i]:\n",
        "        gandalfganadas.append(1)\n",
        "    elif saruman[i] > gandalf[i]:\n",
        "        sarumanganadas.append(1)\n",
        "    else:\n",
        "        sarumanganadas.append(1)\n",
        "        gandalfganadas.append(1)\n",
        "\n",
        "if len(gandalfganadas) > len(sarumanganadas):\n",
        "    print(\"Gandalf wins\")\n",
        "\n",
        "else:\n",
        "    print(\"Sarauman wins\")"
      ],
      "execution_count": 57,
      "outputs": [
        {
          "output_type": "stream",
          "name": "stdout",
          "text": [
            "Gandalf wins\n"
          ]
        }
      ]
    },
    {
      "cell_type": "markdown",
      "metadata": {
        "id": "LpfEgCTfNNQ9"
      },
      "source": [
        "### Exercise 2 - Functions"
      ]
    },
    {
      "cell_type": "markdown",
      "metadata": {
        "id": "BjQfXQNVNNQ9"
      },
      "source": [
        "1. Write a function program to sum up two given different numbers. "
      ]
    },
    {
      "cell_type": "code",
      "metadata": {
        "id": "iLamhRHENNQ9"
      },
      "source": [
        "x = 1\n",
        "y = 2\n",
        "z = 3\n",
        "def suma ():\n",
        "    print (x + y + z)\n",
        "suma()"
      ],
      "execution_count": 45,
      "outputs": [
        {
          "output_type": "stream",
          "name": "stdout",
          "text": [
            "6\n"
          ]
        }
      ]
    },
    {
      "cell_type": "markdown",
      "metadata": {
        "id": "jy0mudYtNNQ9"
      },
      "source": [
        "Call the function you've just defined to sum up: \n",
        "    - 5 and 6\n",
        "    - -3 and 10\n",
        "    - 99 and 789"
      ]
    },
    {
      "cell_type": "code",
      "metadata": {
        "id": "AKPies-zNNQ9"
      },
      "source": [
        "x = -5\n",
        "y = 6\n",
        "z = -3\n",
        "suma ()"
      ],
      "execution_count": 46,
      "outputs": [
        {
          "output_type": "stream",
          "name": "stdout",
          "text": [
            "-2\n"
          ]
        }
      ]
    },
    {
      "cell_type": "code",
      "execution_count": 47,
      "metadata": {},
      "outputs": [
        {
          "output_type": "stream",
          "name": "stdout",
          "text": [
            "700\n"
          ]
        }
      ],
      "source": [
        "x = 10\n",
        "y = -99\n",
        "z = 789\n",
        "\n",
        "suma()"
      ]
    },
    {
      "cell_type": "markdown",
      "metadata": {
        "id": "sfe8qYqwNNQ-"
      },
      "source": [
        "### Bonus Track"
      ]
    },
    {
      "cell_type": "markdown",
      "metadata": {
        "id": "tLvx_yI1NNQ-"
      },
      "source": [
        "2. Write a Python program to convert a tuple of characters into a string.\n",
        "\n",
        "    - Sample tuple: `(\"T\", \"H\", \"E\", \" \", \"B\", \"R\", \"I\", \"D\", \"G\", \"E\")`\n",
        "    - Expected output : `\"THE BRIDGE\"`\n",
        "    \n",
        "Hint: Turn it into a list. "
      ]
    },
    {
      "cell_type": "code",
      "metadata": {
        "id": "ISOO0p8dNNQ-"
      },
      "source": [],
      "execution_count": null,
      "outputs": []
    },
    {
      "cell_type": "markdown",
      "metadata": {
        "id": "vILlyeowNNQ-"
      },
      "source": [
        "3. Write a Python program to generate a list where the values are square of numbers between 1 and 30 (both included), and return a list of first and last 5 elements of the list."
      ]
    },
    {
      "cell_type": "code",
      "metadata": {
        "id": "QZaO9yJYNNQ-"
      },
      "source": [],
      "execution_count": null,
      "outputs": []
    },
    {
      "cell_type": "markdown",
      "metadata": {
        "id": "tJa-iyVzNNQ-"
      },
      "source": [
        "4. Create a program that calculates the average.\n",
        "\n",
        "The program will ask the user to specify how many numbers you want to enter, and will show a prompt to include number by number to a list, and then calculate the average of each number in that list."
      ]
    },
    {
      "cell_type": "code",
      "metadata": {
        "id": "SEvgoB2gNNQ_"
      },
      "source": [],
      "execution_count": null,
      "outputs": []
    },
    {
      "cell_type": "markdown",
      "metadata": {
        "id": "U7HT9xHqNNQ_"
      },
      "source": [
        "# If you made it till here you did a fantastic work!"
      ]
    },
    {
      "cell_type": "markdown",
      "metadata": {
        "id": "0EiL33TTNNQ_"
      },
      "source": [
        "![\"holo\"](https://img-9gag-fun.9cache.com/photo/aNg9wMK_460s.jpg)"
      ]
    },
    {
      "cell_type": "code",
      "metadata": {
        "id": "IwN6onGVNNQ_"
      },
      "source": [],
      "execution_count": null,
      "outputs": []
    }
  ]
}