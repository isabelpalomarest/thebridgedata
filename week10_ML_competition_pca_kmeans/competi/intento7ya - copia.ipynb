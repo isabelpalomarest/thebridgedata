{
 "cells": [
  {
   "cell_type": "markdown",
   "metadata": {},
   "source": [
    "![image](competi.png)"
   ]
  },
  {
   "cell_type": "markdown",
   "metadata": {},
   "source": [
    "#### Aquí encontrarás todo lo que necesitas saber: https://www.kaggle.com/t/ab8726f0cfc84544abbae69a6be88071"
   ]
  },
  {
   "cell_type": "code",
   "execution_count": 69,
   "metadata": {},
   "outputs": [],
   "source": [
    "import numpy as np\n",
    "import pandas as pd\n",
    "\n",
    "import urllib.request\n",
    "from PIL import Image\n",
    "\n",
    "from sklearn.linear_model import LinearRegression\n",
    "from sklearn.model_selection import train_test_split\n",
    "from sklearn.metrics import mean_squared_error,r2_score\n",
    "from sklearn.preprocessing import LabelEncoder\n",
    "from sklearn.svm import SVR\n",
    "from sklearn.preprocessing import PolynomialFeatures\n",
    "from sklearn.preprocessing import OrdinalEncoder\n",
    "from sklearn.ensemble import RandomForestRegressor\n"
   ]
  },
  {
   "cell_type": "code",
   "execution_count": 70,
   "metadata": {},
   "outputs": [],
   "source": [
    "### Para que funcione necesitas bajarte los archivos de datos de Kaggle \n",
    "df = pd.read_csv(\"diamonds_train.csv\", index_col=0)"
   ]
  },
  {
   "cell_type": "code",
   "execution_count": 71,
   "metadata": {},
   "outputs": [
    {
     "output_type": "stream",
     "name": "stdout",
     "text": [
      "<class 'pandas.core.frame.DataFrame'>\nInt64Index: 40345 entries, 0 to 40344\nData columns (total 10 columns):\n #   Column   Non-Null Count  Dtype  \n---  ------   --------------  -----  \n 0   carat    40345 non-null  float64\n 1   cut      40345 non-null  object \n 2   color    40345 non-null  object \n 3   clarity  40345 non-null  object \n 4   depth    40345 non-null  float64\n 5   table    40345 non-null  float64\n 6   x        40345 non-null  float64\n 7   y        40345 non-null  float64\n 8   z        40345 non-null  float64\n 9   price    40345 non-null  int64  \ndtypes: float64(6), int64(1), object(3)\nmemory usage: 3.4+ MB\n"
     ]
    }
   ],
   "source": [
    "df.info()"
   ]
  },
  {
   "cell_type": "code",
   "execution_count": 72,
   "metadata": {},
   "outputs": [
    {
     "output_type": "execute_result",
     "data": {
      "text/plain": [
       "G    8499\n",
       "E    7351\n",
       "F    7130\n",
       "H    6234\n",
       "D    5074\n",
       "I    4023\n",
       "J    2034\n",
       "Name: color, dtype: int64"
      ]
     },
     "metadata": {},
     "execution_count": 72
    }
   ],
   "source": [
    "df.color.value_counts()"
   ]
  },
  {
   "cell_type": "code",
   "execution_count": 73,
   "metadata": {},
   "outputs": [],
   "source": [
    "encoder = OrdinalEncoder(categories=[[\"J\", \"I\", \"H\", \"G\", \"F\",\"E\", \"D\",]])\n",
    "encoder.fit(df[[\"color\"]])\n",
    "df[\"color\"] = encoder.transform(df[[\"color\"]])\n",
    "df.clarity.value_counts()\n",
    "encoder = OrdinalEncoder(categories=[[\"I1\", \"SI2\", \"SI1\", \"VS1\", \"VS2\",\"VVS2\", \"VVS1\",\"IF\"]])\n",
    "encoder.fit(df[[\"clarity\"]])\n",
    "df[\"clarity\"] = encoder.transform(df[[\"clarity\"]])\n",
    "df.cut.value_counts()\n",
    "encoder = OrdinalEncoder(categories=[[\"Fair\", \"Good\", \"Very Good\", \"Premium\", \"Ideal\"]])\n",
    "encoder.fit(df[[\"cut\"]])\n",
    "df[\"cut\"] = encoder.transform(df[[\"cut\"]])"
   ]
  },
  {
   "cell_type": "code",
   "execution_count": 74,
   "metadata": {},
   "outputs": [
    {
     "output_type": "execute_result",
     "data": {
      "text/plain": [
       "0        4.0\n",
       "1        2.0\n",
       "2        3.0\n",
       "3        4.0\n",
       "4        1.0\n",
       "        ... \n",
       "40340    3.0\n",
       "40341    4.0\n",
       "40342    2.0\n",
       "40343    2.0\n",
       "40344    4.0\n",
       "Name: cut, Length: 40345, dtype: float64"
      ]
     },
     "metadata": {},
     "execution_count": 74
    }
   ],
   "source": [
    "df[\"cut\"]"
   ]
  },
  {
   "cell_type": "code",
   "execution_count": 75,
   "metadata": {},
   "outputs": [
    {
     "output_type": "execute_result",
     "data": {
      "text/plain": [
       "            carat       cut     color   clarity     depth     table         x  \\\n",
       "carat    1.000000 -0.133226 -0.285737 -0.346642  0.029414  0.181273  0.975077   \n",
       "cut     -0.133226  1.000000  0.020164  0.188360 -0.216858 -0.435731 -0.124068   \n",
       "color   -0.285737  0.020164  1.000000 -0.003954 -0.048637 -0.022557 -0.263915   \n",
       "clarity -0.346642  0.188360 -0.003954  1.000000 -0.067222 -0.154561 -0.365112   \n",
       "depth    0.029414 -0.216858 -0.048637 -0.067222  1.000000 -0.288987 -0.023389   \n",
       "table    0.181273 -0.435731 -0.022557 -0.154561 -0.288987  1.000000  0.193986   \n",
       "x        0.975077 -0.124068 -0.263915 -0.365112 -0.023389  0.193986  1.000000   \n",
       "y        0.944445 -0.118789 -0.255262 -0.350003 -0.027880  0.180449  0.966827   \n",
       "z        0.967289 -0.149181 -0.266589 -0.365825  0.097399  0.153175  0.985080   \n",
       "price    0.921887 -0.052736 -0.166340 -0.143240 -0.009228  0.127338  0.883163   \n",
       "\n",
       "                y         z     price  \n",
       "carat    0.944445  0.967289  0.921887  \n",
       "cut     -0.118789 -0.149181 -0.052736  \n",
       "color   -0.255262 -0.266589 -0.166340  \n",
       "clarity -0.350003 -0.365825 -0.143240  \n",
       "depth   -0.027880  0.097399 -0.009228  \n",
       "table    0.180449  0.153175  0.127338  \n",
       "x        0.966827  0.985080  0.883163  \n",
       "y        1.000000  0.959957  0.857564  \n",
       "z        0.959957  1.000000  0.872855  \n",
       "price    0.857564  0.872855  1.000000  "
      ],
      "text/html": "<div>\n<style scoped>\n    .dataframe tbody tr th:only-of-type {\n        vertical-align: middle;\n    }\n\n    .dataframe tbody tr th {\n        vertical-align: top;\n    }\n\n    .dataframe thead th {\n        text-align: right;\n    }\n</style>\n<table border=\"1\" class=\"dataframe\">\n  <thead>\n    <tr style=\"text-align: right;\">\n      <th></th>\n      <th>carat</th>\n      <th>cut</th>\n      <th>color</th>\n      <th>clarity</th>\n      <th>depth</th>\n      <th>table</th>\n      <th>x</th>\n      <th>y</th>\n      <th>z</th>\n      <th>price</th>\n    </tr>\n  </thead>\n  <tbody>\n    <tr>\n      <th>carat</th>\n      <td>1.000000</td>\n      <td>-0.133226</td>\n      <td>-0.285737</td>\n      <td>-0.346642</td>\n      <td>0.029414</td>\n      <td>0.181273</td>\n      <td>0.975077</td>\n      <td>0.944445</td>\n      <td>0.967289</td>\n      <td>0.921887</td>\n    </tr>\n    <tr>\n      <th>cut</th>\n      <td>-0.133226</td>\n      <td>1.000000</td>\n      <td>0.020164</td>\n      <td>0.188360</td>\n      <td>-0.216858</td>\n      <td>-0.435731</td>\n      <td>-0.124068</td>\n      <td>-0.118789</td>\n      <td>-0.149181</td>\n      <td>-0.052736</td>\n    </tr>\n    <tr>\n      <th>color</th>\n      <td>-0.285737</td>\n      <td>0.020164</td>\n      <td>1.000000</td>\n      <td>-0.003954</td>\n      <td>-0.048637</td>\n      <td>-0.022557</td>\n      <td>-0.263915</td>\n      <td>-0.255262</td>\n      <td>-0.266589</td>\n      <td>-0.166340</td>\n    </tr>\n    <tr>\n      <th>clarity</th>\n      <td>-0.346642</td>\n      <td>0.188360</td>\n      <td>-0.003954</td>\n      <td>1.000000</td>\n      <td>-0.067222</td>\n      <td>-0.154561</td>\n      <td>-0.365112</td>\n      <td>-0.350003</td>\n      <td>-0.365825</td>\n      <td>-0.143240</td>\n    </tr>\n    <tr>\n      <th>depth</th>\n      <td>0.029414</td>\n      <td>-0.216858</td>\n      <td>-0.048637</td>\n      <td>-0.067222</td>\n      <td>1.000000</td>\n      <td>-0.288987</td>\n      <td>-0.023389</td>\n      <td>-0.027880</td>\n      <td>0.097399</td>\n      <td>-0.009228</td>\n    </tr>\n    <tr>\n      <th>table</th>\n      <td>0.181273</td>\n      <td>-0.435731</td>\n      <td>-0.022557</td>\n      <td>-0.154561</td>\n      <td>-0.288987</td>\n      <td>1.000000</td>\n      <td>0.193986</td>\n      <td>0.180449</td>\n      <td>0.153175</td>\n      <td>0.127338</td>\n    </tr>\n    <tr>\n      <th>x</th>\n      <td>0.975077</td>\n      <td>-0.124068</td>\n      <td>-0.263915</td>\n      <td>-0.365112</td>\n      <td>-0.023389</td>\n      <td>0.193986</td>\n      <td>1.000000</td>\n      <td>0.966827</td>\n      <td>0.985080</td>\n      <td>0.883163</td>\n    </tr>\n    <tr>\n      <th>y</th>\n      <td>0.944445</td>\n      <td>-0.118789</td>\n      <td>-0.255262</td>\n      <td>-0.350003</td>\n      <td>-0.027880</td>\n      <td>0.180449</td>\n      <td>0.966827</td>\n      <td>1.000000</td>\n      <td>0.959957</td>\n      <td>0.857564</td>\n    </tr>\n    <tr>\n      <th>z</th>\n      <td>0.967289</td>\n      <td>-0.149181</td>\n      <td>-0.266589</td>\n      <td>-0.365825</td>\n      <td>0.097399</td>\n      <td>0.153175</td>\n      <td>0.985080</td>\n      <td>0.959957</td>\n      <td>1.000000</td>\n      <td>0.872855</td>\n    </tr>\n    <tr>\n      <th>price</th>\n      <td>0.921887</td>\n      <td>-0.052736</td>\n      <td>-0.166340</td>\n      <td>-0.143240</td>\n      <td>-0.009228</td>\n      <td>0.127338</td>\n      <td>0.883163</td>\n      <td>0.857564</td>\n      <td>0.872855</td>\n      <td>1.000000</td>\n    </tr>\n  </tbody>\n</table>\n</div>"
     },
     "metadata": {},
     "execution_count": 75
    }
   ],
   "source": [
    "df.corr()"
   ]
  },
  {
   "cell_type": "code",
   "execution_count": 76,
   "metadata": {},
   "outputs": [
    {
     "output_type": "execute_result",
     "data": {
      "text/plain": [
       "Index(['carat', 'cut', 'color', 'clarity', 'depth', 'table', 'x', 'y', 'z',\n",
       "       'price'],\n",
       "      dtype='object')"
      ]
     },
     "metadata": {},
     "execution_count": 76
    }
   ],
   "source": [
    "df.columns"
   ]
  },
  {
   "cell_type": "code",
   "execution_count": 89,
   "metadata": {},
   "outputs": [],
   "source": []
  },
  {
   "cell_type": "code",
   "execution_count": 77,
   "metadata": {},
   "outputs": [
    {
     "output_type": "execute_result",
     "data": {
      "text/plain": [
       "(40345, 9)"
      ]
     },
     "metadata": {},
     "execution_count": 77
    }
   ],
   "source": [
    "\n",
    "X = np.array(df[[\"carat\",\"cut\",\"clarity\",\"table\",\"color\",\"depth\",\"x\",\"y\",\"z\"]])\n",
    "y = np.array(df[\"price\"])\n",
    "X.shape\n"
   ]
  },
  {
   "cell_type": "code",
   "execution_count": 78,
   "metadata": {},
   "outputs": [
    {
     "output_type": "execute_result",
     "data": {
      "text/plain": [
       "(40345,)"
      ]
     },
     "metadata": {},
     "execution_count": 78
    }
   ],
   "source": [
    "y.shape"
   ]
  },
  {
   "cell_type": "markdown",
   "metadata": {},
   "source": [
    "### 2. Dividir X_train, X_test, y_train, y_test"
   ]
  },
  {
   "cell_type": "code",
   "execution_count": 79,
   "metadata": {},
   "outputs": [],
   "source": [
    "# el test_size 0.20 y el random_state puede cambiar\n",
    "train_X, test_X, train_y, test_y = train_test_split(X, y, test_size=0.2, random_state=7)"
   ]
  },
  {
   "cell_type": "code",
   "execution_count": 80,
   "metadata": {},
   "outputs": [
    {
     "output_type": "execute_result",
     "data": {
      "text/plain": [
       "array([[1.09, 3.  , 1.  , ..., 6.75, 6.61, 4.07],\n",
       "       [1.5 , 3.  , 2.  , ..., 7.27, 7.34, 4.58],\n",
       "       [0.41, 4.  , 3.  , ..., 4.77, 4.8 , 2.97],\n",
       "       ...,\n",
       "       [0.34, 3.  , 5.  , ..., 4.59, 4.54, 2.72],\n",
       "       [0.5 , 0.  , 5.  , ..., 4.95, 4.84, 3.31],\n",
       "       [0.91, 1.  , 5.  , ..., 6.06, 6.1 , 3.9 ]])"
      ]
     },
     "metadata": {},
     "execution_count": 80
    }
   ],
   "source": [
    "train_X"
   ]
  },
  {
   "cell_type": "markdown",
   "metadata": {},
   "source": [
    "### 3. Asignar el modelo (vacío) a una variable\n",
    "Aquí meteríais los parámetros. \n",
    "\n",
    "**Consejo**: Usa GridSearch y vuélvete loca o loco probando modelos e hiperparámetros."
   ]
  },
  {
   "cell_type": "code",
   "execution_count": 142,
   "metadata": {},
   "outputs": [
    {
     "output_type": "execute_result",
     "data": {
      "text/plain": [
       "RandomForestRegressor(min_impurity_decrease=10, min_weight_fraction_leaf=0.1,\n",
       "                      random_state=7)"
      ]
     },
     "metadata": {},
     "execution_count": 142
    }
   ],
   "source": [
    "rf = RandomForestRegressor(n_estimators=100, random_state=7,min_impurity_decrease=10,min_weight_fraction_leaf=0.1)\n",
    "rf.fit(train_X, train_y)\n"
   ]
  },
  {
   "cell_type": "code",
   "execution_count": 143,
   "metadata": {},
   "outputs": [],
   "source": [
    "predictions = rf.predict(test_X)"
   ]
  },
  {
   "cell_type": "code",
   "execution_count": 144,
   "metadata": {},
   "outputs": [
    {
     "output_type": "stream",
     "name": "stdout",
     "text": [
      "Mean Absolute Error: 830.38 degrees.\n"
     ]
    }
   ],
   "source": [
    "errors = abs(predictions - test_y)\n",
    "# Print out the mean absolute error (mae)\n",
    "print('Mean Absolute Error:', round(np.mean(errors), 2), 'degrees.')"
   ]
  },
  {
   "cell_type": "code",
   "execution_count": 145,
   "metadata": {},
   "outputs": [
    {
     "output_type": "execute_result",
     "data": {
      "text/plain": [
       "1498.4041601404183"
      ]
     },
     "metadata": {},
     "execution_count": 145
    }
   ],
   "source": [
    "np.sqrt(mean_squared_error(test_y, predictions))"
   ]
  },
  {
   "cell_type": "markdown",
   "metadata": {},
   "source": [
    "-----------------------------------------------------------------"
   ]
  },
  {
   "cell_type": "markdown",
   "metadata": {},
   "source": [
    "## Una vez listo el modelo, toca predecir con el dataset de predicción "
   ]
  },
  {
   "cell_type": "markdown",
   "metadata": {},
   "source": [
    "Definición de **modelo que está listo**. \n",
    "\n",
    "_Tras hacer suficientes pruebas, analizar los datos, hacer feature engineering, probar diferentes modelos con diferentes parámetros, es con este con el que observo mejores métricas y menos overfitting. ¡Cuidado con el overfitting aquí! Si vuestro modelo aprende muy bien de estos datos pero hay overfitting cuando le pasemos los datos desconocidos de `diamonds_test.csv` nos arriesgamos a que digamos, no salga lo esperado._"
   ]
  },
  {
   "cell_type": "markdown",
   "metadata": {},
   "source": [
    "### 1. Entrena dicho modelo con TODOS tus datos de train, esto es con `diamonds_train.csv` al completo.\n",
    "\n",
    "**CON LAS TRANSFORMACIONES QUE LE HAYAS REALIZADO A `X` INCLUÍDAS.**\n",
    "\n",
    "Véase:\n",
    "- Estandarización/Normalización\n",
    "- Eliminación de Outliers\n",
    "- Eliminación de columnas\n",
    "- Creación de columnas nuevas\n",
    "- Gestión de valores nulos\n",
    "- Y un largo etcétera de técnicas que como Data Scientist hayas considerado las mejores para tu dataset."
   ]
  },
  {
   "cell_type": "markdown",
   "metadata": {},
   "source": [
    "### 2. Carga los datos de `diamonds_test.csv` para predecir.\n",
    "\n",
    "**¿De dónde saco `diamonds_test.csv`?**"
   ]
  },
  {
   "cell_type": "code",
   "execution_count": 62,
   "metadata": {},
   "outputs": [
    {
     "output_type": "execute_result",
     "data": {
      "text/plain": [
       "   carat        cut color clarity  depth  table     x     y     z\n",
       "0   0.30      Ideal     H     SI2   60.0   56.0  4.41  4.43  2.65\n",
       "1   0.34      Ideal     D      IF   62.1   57.0  4.52  4.46  2.79\n",
       "2   1.57  Very Good     I     VS2   60.3   58.0  7.58  7.55  4.56\n",
       "3   0.31      Ideal     H     VS2   61.8   57.0  4.32  4.36  2.68\n",
       "4   1.51       Good     I    VVS1   64.0   60.0  7.26  7.21  4.63"
      ],
      "text/html": "<div>\n<style scoped>\n    .dataframe tbody tr th:only-of-type {\n        vertical-align: middle;\n    }\n\n    .dataframe tbody tr th {\n        vertical-align: top;\n    }\n\n    .dataframe thead th {\n        text-align: right;\n    }\n</style>\n<table border=\"1\" class=\"dataframe\">\n  <thead>\n    <tr style=\"text-align: right;\">\n      <th></th>\n      <th>carat</th>\n      <th>cut</th>\n      <th>color</th>\n      <th>clarity</th>\n      <th>depth</th>\n      <th>table</th>\n      <th>x</th>\n      <th>y</th>\n      <th>z</th>\n    </tr>\n  </thead>\n  <tbody>\n    <tr>\n      <th>0</th>\n      <td>0.30</td>\n      <td>Ideal</td>\n      <td>H</td>\n      <td>SI2</td>\n      <td>60.0</td>\n      <td>56.0</td>\n      <td>4.41</td>\n      <td>4.43</td>\n      <td>2.65</td>\n    </tr>\n    <tr>\n      <th>1</th>\n      <td>0.34</td>\n      <td>Ideal</td>\n      <td>D</td>\n      <td>IF</td>\n      <td>62.1</td>\n      <td>57.0</td>\n      <td>4.52</td>\n      <td>4.46</td>\n      <td>2.79</td>\n    </tr>\n    <tr>\n      <th>2</th>\n      <td>1.57</td>\n      <td>Very Good</td>\n      <td>I</td>\n      <td>VS2</td>\n      <td>60.3</td>\n      <td>58.0</td>\n      <td>7.58</td>\n      <td>7.55</td>\n      <td>4.56</td>\n    </tr>\n    <tr>\n      <th>3</th>\n      <td>0.31</td>\n      <td>Ideal</td>\n      <td>H</td>\n      <td>VS2</td>\n      <td>61.8</td>\n      <td>57.0</td>\n      <td>4.32</td>\n      <td>4.36</td>\n      <td>2.68</td>\n    </tr>\n    <tr>\n      <th>4</th>\n      <td>1.51</td>\n      <td>Good</td>\n      <td>I</td>\n      <td>VVS1</td>\n      <td>64.0</td>\n      <td>60.0</td>\n      <td>7.26</td>\n      <td>7.21</td>\n      <td>4.63</td>\n    </tr>\n  </tbody>\n</table>\n</div>"
     },
     "metadata": {},
     "execution_count": 62
    }
   ],
   "source": [
    "X_pred = pd.read_csv(\"diamonds_test.csv\", index_col = 0)\n",
    "X_pred.head()"
   ]
  },
  {
   "cell_type": "code",
   "execution_count": 63,
   "metadata": {},
   "outputs": [],
   "source": [
    "encoder = OrdinalEncoder(categories=[[\"J\", \"I\", \"H\", \"G\", \"F\",\"E\", \"D\",]])\n",
    "encoder.fit(X_pred[[\"color\"]])\n",
    "X_pred[\"color\"] = encoder.transform(X_pred[[\"color\"]])\n",
    "X_pred.clarity.value_counts()\n",
    "encoder = OrdinalEncoder(categories=[[\"I1\", \"SI2\", \"SI1\", \"VS1\", \"VS2\",\"VVS2\", \"VVS1\",\"IF\"]])\n",
    "encoder.fit(X_pred[[\"clarity\"]])\n",
    "X_pred[\"clarity\"] = encoder.transform(X_pred[[\"clarity\"]])\n",
    "df.cut.value_counts()\n",
    "encoder = OrdinalEncoder(categories=[[\"Fair\", \"Good\", \"Very Good\", \"Premium\", \"Ideal\"]])\n",
    "encoder.fit(X_pred[[\"cut\"]])\n",
    "X_pred[\"cut\"] = encoder.transform(X_pred[[\"cut\"]])"
   ]
  },
  {
   "cell_type": "code",
   "execution_count": 64,
   "metadata": {},
   "outputs": [],
   "source": [
    "X_pred = np.array(X_pred[[\"carat\",\"cut\",\"clarity\",\"color\",\"table\",\"depth\",'x', 'y', 'z']])"
   ]
  },
  {
   "cell_type": "code",
   "execution_count": 65,
   "metadata": {},
   "outputs": [
    {
     "output_type": "execute_result",
     "data": {
      "text/plain": [
       "(40345, 9)"
      ]
     },
     "metadata": {},
     "execution_count": 65
    }
   ],
   "source": [
    "X.shape"
   ]
  },
  {
   "cell_type": "code",
   "execution_count": 66,
   "metadata": {},
   "outputs": [
    {
     "output_type": "execute_result",
     "data": {
      "text/plain": [
       "(13449, 9)"
      ]
     },
     "metadata": {},
     "execution_count": 66
    }
   ],
   "source": [
    "X_pred.shape"
   ]
  },
  {
   "cell_type": "markdown",
   "metadata": {},
   "source": [
    "**¿Por qué da error?** "
   ]
  },
  {
   "cell_type": "code",
   "execution_count": 67,
   "metadata": {},
   "outputs": [
    {
     "output_type": "execute_result",
     "data": {
      "text/plain": [
       "array([  428.676,  1729.114,  9289.742, ..., 15110.374, 10538.88 ,\n",
       "         731.112])"
      ]
     },
     "metadata": {},
     "execution_count": 67
    }
   ],
   "source": [
    "predictions_submit = rf.predict(X_pred)\n",
    "predictions_submit"
   ]
  },
  {
   "cell_type": "code",
   "execution_count": 68,
   "metadata": {},
   "outputs": [
    {
     "output_type": "execute_result",
     "data": {
      "text/plain": [
       "array([[0.3 , 4.  , 1.  , ..., 4.41, 4.43, 2.65],\n",
       "       [0.34, 4.  , 7.  , ..., 4.52, 4.46, 2.79],\n",
       "       [1.57, 2.  , 4.  , ..., 7.58, 7.55, 4.56],\n",
       "       ...,\n",
       "       [1.5 , 3.  , 4.  , ..., 7.3 , 7.37, 4.53],\n",
       "       [1.7 , 3.  , 1.  , ..., 7.79, 7.68, 4.66],\n",
       "       [0.3 , 4.  , 4.  , ..., 4.29, 4.34, 2.64]])"
      ]
     },
     "metadata": {},
     "execution_count": 68
    }
   ],
   "source": [
    "X_pred"
   ]
  },
  {
   "cell_type": "markdown",
   "metadata": {},
   "source": [
    "### 3. AHORA puedo hacer la predicción que será lo que subirás a Kaggle. "
   ]
  },
  {
   "cell_type": "markdown",
   "metadata": {},
   "source": [
    "**¿Qué es lo que subirás a Kaggle?**"
   ]
  },
  {
   "cell_type": "code",
   "execution_count": 69,
   "metadata": {},
   "outputs": [],
   "source": [
    "sample = pd.read_csv(\"sample_submission.csv\")"
   ]
  },
  {
   "cell_type": "code",
   "execution_count": 70,
   "metadata": {},
   "outputs": [
    {
     "output_type": "execute_result",
     "data": {
      "text/plain": [
       "   id  price\n",
       "0   0  12132\n",
       "1   1  11786\n",
       "2   2  14684\n",
       "3   3  15425\n",
       "4   4   6724"
      ],
      "text/html": "<div>\n<style scoped>\n    .dataframe tbody tr th:only-of-type {\n        vertical-align: middle;\n    }\n\n    .dataframe tbody tr th {\n        vertical-align: top;\n    }\n\n    .dataframe thead th {\n        text-align: right;\n    }\n</style>\n<table border=\"1\" class=\"dataframe\">\n  <thead>\n    <tr style=\"text-align: right;\">\n      <th></th>\n      <th>id</th>\n      <th>price</th>\n    </tr>\n  </thead>\n  <tbody>\n    <tr>\n      <th>0</th>\n      <td>0</td>\n      <td>12132</td>\n    </tr>\n    <tr>\n      <th>1</th>\n      <td>1</td>\n      <td>11786</td>\n    </tr>\n    <tr>\n      <th>2</th>\n      <td>2</td>\n      <td>14684</td>\n    </tr>\n    <tr>\n      <th>3</th>\n      <td>3</td>\n      <td>15425</td>\n    </tr>\n    <tr>\n      <th>4</th>\n      <td>4</td>\n      <td>6724</td>\n    </tr>\n  </tbody>\n</table>\n</div>"
     },
     "metadata": {},
     "execution_count": 70
    }
   ],
   "source": [
    "sample.head()"
   ]
  },
  {
   "cell_type": "code",
   "execution_count": 71,
   "metadata": {},
   "outputs": [
    {
     "output_type": "execute_result",
     "data": {
      "text/plain": [
       "(13449, 2)"
      ]
     },
     "metadata": {},
     "execution_count": 71
    }
   ],
   "source": [
    "sample.shape"
   ]
  },
  {
   "cell_type": "markdown",
   "metadata": {},
   "source": [
    "### 4. Mete tus predicciones en un dataframe. \n",
    "\n",
    "En este caso, la **MISMA** forma que `sample_submission.csv`. "
   ]
  },
  {
   "cell_type": "code",
   "execution_count": 72,
   "metadata": {},
   "outputs": [],
   "source": [
    "submission = pd.DataFrame({\"id\": range(len(predictions_submit)), \"price\": predictions_submit})"
   ]
  },
  {
   "cell_type": "code",
   "execution_count": 73,
   "metadata": {},
   "outputs": [
    {
     "output_type": "execute_result",
     "data": {
      "text/plain": [
       "   id     price\n",
       "0   0   428.676\n",
       "1   1  1729.114\n",
       "2   2  9289.742\n",
       "3   3   489.822\n",
       "4   4  9296.564"
      ],
      "text/html": "<div>\n<style scoped>\n    .dataframe tbody tr th:only-of-type {\n        vertical-align: middle;\n    }\n\n    .dataframe tbody tr th {\n        vertical-align: top;\n    }\n\n    .dataframe thead th {\n        text-align: right;\n    }\n</style>\n<table border=\"1\" class=\"dataframe\">\n  <thead>\n    <tr style=\"text-align: right;\">\n      <th></th>\n      <th>id</th>\n      <th>price</th>\n    </tr>\n  </thead>\n  <tbody>\n    <tr>\n      <th>0</th>\n      <td>0</td>\n      <td>428.676</td>\n    </tr>\n    <tr>\n      <th>1</th>\n      <td>1</td>\n      <td>1729.114</td>\n    </tr>\n    <tr>\n      <th>2</th>\n      <td>2</td>\n      <td>9289.742</td>\n    </tr>\n    <tr>\n      <th>3</th>\n      <td>3</td>\n      <td>489.822</td>\n    </tr>\n    <tr>\n      <th>4</th>\n      <td>4</td>\n      <td>9296.564</td>\n    </tr>\n  </tbody>\n</table>\n</div>"
     },
     "metadata": {},
     "execution_count": 73
    }
   ],
   "source": [
    "submission.head()"
   ]
  },
  {
   "cell_type": "code",
   "execution_count": 74,
   "metadata": {},
   "outputs": [
    {
     "output_type": "execute_result",
     "data": {
      "text/plain": [
       "(13449, 2)"
      ]
     },
     "metadata": {},
     "execution_count": 74
    }
   ],
   "source": [
    "submission.shape"
   ]
  },
  {
   "cell_type": "markdown",
   "metadata": {},
   "source": [
    "### 5. Pásale el CHEQUEATOR para comprobar que efectivamente está listo para subir a Kaggle."
   ]
  },
  {
   "cell_type": "code",
   "execution_count": 75,
   "metadata": {},
   "outputs": [],
   "source": [
    "def chequeator(df_to_submit):\n",
    "    \"\"\"\n",
    "    Esta función se asegura de que tu submission tenga la forma requerida por Kaggle.\n",
    "    \n",
    "    Si es así, se guardará el dataframe en un `csv` y estará listo para subir a Kaggle.\n",
    "    \n",
    "    Si no, LEE EL MENSAJE Y HAZLE CASO.\n",
    "    \n",
    "    Si aún no:\n",
    "    - apaga tu ordenador, \n",
    "    - date una vuelta, \n",
    "    - enciendelo otra vez, \n",
    "    - abre este notebook y \n",
    "    - leelo todo de nuevo. \n",
    "    Todos nos merecemos una segunda oportunidad. También tú.\n",
    "    \"\"\"\n",
    "    if df_to_submit.shape == sample.shape:\n",
    "        if df_to_submit.columns.all() == sample.columns.all():\n",
    "            if df_to_submit.id.all() == sample.id.all():\n",
    "                print(\"You're ready to submit!\")\n",
    "                submission.to_csv(\"submission.csv\", index = False) #muy importante el index = False\n",
    "                urllib.request.urlretrieve(\"https://i.kym-cdn.com/photos/images/facebook/000/747/556/27a.jpg\", \"gfg.png\")     \n",
    "                img = Image.open(\"gfg.png\")\n",
    "                img.show()   \n",
    "            else:\n",
    "                print(\"Check the ids and try again\")\n",
    "        else:\n",
    "            print(\"Check the names of the columns and try again\")\n",
    "    else:\n",
    "        print(\"Check the number of rows and/or columns and try again\")\n",
    "        print(\"\\nMensaje secreto de Clara: No me puedo creer que después de todo este notebook hayas hecho algún cambio en las filas de `diamonds_test.csv`. Lloro.\")\n"
   ]
  },
  {
   "cell_type": "code",
   "execution_count": 76,
   "metadata": {},
   "outputs": [
    {
     "output_type": "stream",
     "name": "stdout",
     "text": [
      "Help on function chequeator in module __main__:\n\nchequeator(df_to_submit)\n    Esta función se asegura de que tu submission tenga la forma requerida por Kaggle.\n    \n    Si es así, se guardará el dataframe en un `csv` y estará listo para subir a Kaggle.\n    \n    Si no, LEE EL MENSAJE Y HAZLE CASO.\n    \n    Si aún no:\n    - apaga tu ordenador, \n    - date una vuelta, \n    - enciendelo otra vez, \n    - abre este notebook y \n    - leelo todo de nuevo. \n    Todos nos merecemos una segunda oportunidad. También tú.\n\n"
     ]
    }
   ],
   "source": [
    "help(chequeator)"
   ]
  },
  {
   "cell_type": "code",
   "execution_count": 103,
   "metadata": {},
   "outputs": [
    {
     "output_type": "stream",
     "name": "stdout",
     "text": [
      "You're ready to submit!\n"
     ]
    }
   ],
   "source": [
    "chequeator(submission)"
   ]
  },
  {
   "cell_type": "code",
   "execution_count": null,
   "metadata": {},
   "outputs": [],
   "source": []
  },
  {
   "cell_type": "code",
   "execution_count": null,
   "metadata": {},
   "outputs": [],
   "source": []
  },
  {
   "cell_type": "code",
   "execution_count": null,
   "metadata": {},
   "outputs": [],
   "source": []
  }
 ],
 "metadata": {
  "kernelspec": {
   "name": "python3",
   "display_name": "Python 3.7.4 64-bit"
  },
  "language_info": {
   "codemirror_mode": {
    "name": "ipython",
    "version": 3
   },
   "file_extension": ".py",
   "mimetype": "text/x-python",
   "name": "python",
   "nbconvert_exporter": "python",
   "pygments_lexer": "ipython3",
   "version": "3.7.4"
  },
  "interpreter": {
   "hash": "182e3b849e87c789b13dcf4169d6d9922ca2e40dd3044e82b295bff17932e6e2"
  }
 },
 "nbformat": 4,
 "nbformat_minor": 4
}