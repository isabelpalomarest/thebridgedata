{
 "metadata": {
  "language_info": {
   "codemirror_mode": {
    "name": "ipython",
    "version": 3
   },
   "file_extension": ".py",
   "mimetype": "text/x-python",
   "name": "python",
   "nbconvert_exporter": "python",
   "pygments_lexer": "ipython3",
   "version": 3
  },
  "orig_nbformat": 4
 },
 "nbformat": 4,
 "nbformat_minor": 2,
 "cells": [
  {
   "source": [
    "### No supervisado:\n",
    "\n",
    "1. Algoritmos de clusterización\n",
    "2. Algoritmos para reducir la dimensionalidad\n",
    "\n",
    "### 1. Algoritmos de clusterización:\n",
    "\n",
    "- Kmeans: recibe un 'k' y busca 'k' clusters en los datos. \n",
    "Desventajas: La aleatoridad a la hora de encontrar esos clusters. \n",
    "Ventaja: Busca los 'k' clusters que especifiques.\n",
    "    Tenemos que comprobar la inercia y el coeficiente de siluette para encontrar el mejor 'k'.\n",
    "\n",
    "- DBSCAN: algortimo que busca clusters a partir de la densidad de las instancias teniendo en cuenta un épsilon y un 'min_samples'.\n",
    "Desventaja: Problema si las variables tienen diferentes magnitudes. Solución: Estandarizar/Normalizar\n",
    "Ventaja: No tiene tan en cuenta la aleatoriedad porque se basa en dos parámetros.\n",
    "\n",
    "\n"
   ],
   "cell_type": "markdown",
   "metadata": {}
  },
  {
   "source": [
    "### 2. Algoritmos para reducir la dimensionalidad\n",
    "\n",
    "- PCA (Principal Component Analysis): Necesita el número de dimensiones al que quieres que disminuya el conjunto de datos original.\n",
    "\n",
    "Ventaja de PCA: permite la entrada de un valor relativo [[0, 1]] que representa el mínimo porcentaje de información que va a mantener antes de bajar a una dimensión.  \n",
    "\n",
    "- TSNE: Necesita el número de dimensiones al que quieres que disminuya el conjunto de datos original.\n",
    "\n",
    "Desventaja: Cada vez que bajes una dimensión, pierdes información con respecto a la dimensión superior. \n",
    "Ventaja: 1. Disminuyes la complejidad de los datos\n",
    "    2. Si bajas a la dimensión 2o3 puedes visualizar los datos y podrás encontrar visualmente grupos entre ellos.\n",
    "\n"
   ],
   "cell_type": "markdown",
   "metadata": {}
  }
 ]
}