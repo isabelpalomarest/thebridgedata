{
  "nbformat": 4,
  "nbformat_minor": 5,
  "metadata": {
    "kernelspec": {
      "name": "python36464bitc2077ed07ea84d23aa5b518d224882ab",
      "display_name": "Python 3.6.4 64-bit"
    },
    "language_info": {
      "codemirror_mode": {
        "name": "ipython",
        "version": 3
      },
      "file_extension": ".py",
      "mimetype": "text/x-python",
      "name": "python",
      "nbconvert_exporter": "python",
      "pygments_lexer": "ipython3",
      "version": "3.6.4"
    },
    "metadata": {
      "interpreter": {
        "hash": "5c4d2f1fdcd3716c7a5eea90ad07be30193490dd4e63617705244f5fd89ea793"
      }
    },
    "colab": {
      "name": "starting_EDA_project.ipynb",
      "provenance": []
    }
  },
  "cells": [
    {
      "cell_type": "markdown",
      "metadata": {
        "id": "W8fss7-qwyKm"
      },
      "source": [
        "![EDA.png](img/proyecto_eda.png)"
      ],
      "id": "W8fss7-qwyKm"
    },
    {
      "cell_type": "markdown",
      "metadata": {
        "id": "_A1R21ZmwyKs"
      },
      "source": [
        "# Primera entrega EDA: Definición del proyecto"
      ],
      "id": "_A1R21ZmwyKs"
    },
    {
      "cell_type": "markdown",
      "metadata": {
        "id": "EaTm0lqSwyKs"
      },
      "source": [
        "En este primer entregable se espera  hagas la búsqueda de datos e investigación suficiente como para definir lo que serán los primeros pasos de tu proyecto EDA y los datos que usarás incluyendo al menos un dataset principal (aunque también podrás incluir fuentes de datos alternativas).\n",
        "\n",
        "Tienes hasta el día _20/05/2021 a las 09:00_ para entregar este archivo completado. Posteriormente se os introducirá el proyecto y darán los detalles pertinentes."
      ],
      "id": "EaTm0lqSwyKs"
    },
    {
      "cell_type": "markdown",
      "metadata": {
        "id": "M8QpmPeAwyKt"
      },
      "source": [
        "### Tema"
      ],
      "id": "M8QpmPeAwyKt"
    },
    {
      "cell_type": "code",
      "metadata": {
        "id": "kfpu9yCZwyKt"
      },
      "source": [
        "# Música."
      ],
      "id": "kfpu9yCZwyKt",
      "execution_count": null,
      "outputs": []
    },
    {
      "cell_type": "markdown",
      "metadata": {
        "id": "wX_iOO2jwyKt"
      },
      "source": [
        "### Título de proyecto"
      ],
      "id": "wX_iOO2jwyKt"
    },
    {
      "cell_type": "code",
      "metadata": {
        "id": "jcCXtJMtwyKu"
      },
      "source": [
        "# Analisis de canciones en Spotify."
      ],
      "id": "jcCXtJMtwyKu",
      "execution_count": null,
      "outputs": []
    },
    {
      "cell_type": "markdown",
      "metadata": {
        "id": "wWfc9UxLwyKu"
      },
      "source": [
        "### Hipótesis\n",
        "Define aquí la que será la hipótesis de tu proyecto.\n",
        "Puede que tengas más de una, pero tu proyecto lo harás teniendo una principal hipótesis."
      ],
      "id": "wWfc9UxLwyKu"
    },
    {
      "cell_type": "code",
      "metadata": {
        "id": "b0fPRDGywyKu"
      },
      "source": [
        "# La energía, duración, tempo, la cantidad de voz en una cación, el haber sido grabada en directo, la bailabilidad y la emoción (positiva o negativa) influyen en la popularidad de una canción."
      ],
      "id": "b0fPRDGywyKu",
      "execution_count": null,
      "outputs": []
    },
    {
      "cell_type": "markdown",
      "metadata": {
        "id": "JpCDa-xpwyKu"
      },
      "source": [
        "### Datasets\n",
        "Incluye aquí una breve descripción del dataset o datasets de los que partirás para poder evaluar tu hipótesis. También incluye el origen de estos datos y el formato en el que están."
      ],
      "id": "JpCDa-xpwyKu"
    },
    {
      "cell_type": "code",
      "metadata": {
        "id": "VUih7HnUwyKv"
      },
      "source": [
        "# El dataset incluye canciones en spotify desde el año 1921 hasta el 2021, alrededor de unas 600000 canciones. Cada canción se relaciona con autores, energía de la canción, clave, tempo, duración... Los datos los he encontrado en kaggle y están en formato .csv "
      ],
      "id": "VUih7HnUwyKv",
      "execution_count": null,
      "outputs": []
    },
    {
      "cell_type": "markdown",
      "metadata": {
        "id": "JRfO_QJ2wyKv"
      },
      "source": [
        "### Fuentes alternativas de datos\n",
        "Como podrán ser webs a las que hacer web scraping o APIs de donde obtener información."
      ],
      "id": "JRfO_QJ2wyKv"
    },
    {
      "cell_type": "code",
      "metadata": {
        "id": "LkPhnzkowyKv"
      },
      "source": [
        "# fuentes alternativas de datos en Markdown"
      ],
      "id": "LkPhnzkowyKv",
      "execution_count": null,
      "outputs": []
    },
    {
      "cell_type": "markdown",
      "metadata": {
        "id": "-ilQTwESwyKv"
      },
      "source": [
        "**¿De dónde saco los datos?** Posibles fuentes:\n",
        "\n",
        "- De los enlaces que están en el canal *links_of_interests* de Discord\n",
        "- https://www.kaggle.com/datasets\n",
        "- [API de Idealista](https://www.idealista.com/labs/)\n",
        "- [API de Booking](https://developers.booking.com/api/index.html)\n",
        "- [API de Tripadvisor](http://developer-tripadvisor.com/content-api/)\n",
        "- [API de Facebook](https://developers.facebook.com/docs/apis-and-sdks?locale=es_ES)\n",
        "- [API de Twitter](https://developer.twitter.com/en/docs)\n",
        "- [API de Instagram](https://www.instagram.com/developer/)\n",
        "- [APIs de Google Maps](https://cloud.google.com/maps-platform?hl=es)\n",
        "- [Google Timeline](https://www.google.es/maps/timeline?pb). Todo tu registro de actividad de Google, como los lugares que has visitado\n",
        "- [Alexa. Tráfico de webs](https://www.alexa.com/siteinfo)\n",
        "- [Catastro](https://ovc.catastro.meh.es/ovcservweb/OVCSWLocalizacionRC/OVCCoordenadas.asmx)\n",
        "- [Airbnb](http://insideairbnb.com/index.html)\n",
        "- Web scrapping. Acceso automatizado a cualquier web.\n",
        "- Kaggle: página con competiciones de data scientists. Muchísimos datasets.\n",
        "- QPython 3L: APP para ejecutar código Python en el movil. Podrás sacar datos de tu actividad con el teléfono (horarios, geoposicionamiento)\n",
        "- Coronavirus. Se están empezando a librerar muchísimos datasets con datos del coronavirus en todo el mundo. En Kaggle hay varios.\n",
        "- [Web de datos abiertos del gobierno](https://datos.gob.es/)\n",
        "- [OpenStreetMap](https://wiki.openstreetmap.org/wiki/API). Datos de ubicaciones (como Google Maps) abiertos\n",
        "- [Obtención de datos bursátiles](https://financetrain.com/best-python-librariespackages-finance-financial-data-scientists/)\n",
        "- [ESRI Datos abiertos España](https://opendata.esri.es/)\n",
        "- [INE](https://www.ine.es/nomen2/ficheros.do)\n",
        "- [Red.es](https://www.red.es/redes/es/que-hacemos/datos-abiertos)\n",
        "- [Datos abiertos gobierno](https://www.hacienda.gob.es/es-ES/GobiernoAbierto/Datos%20Abiertos/Paginas/Catalogodedatosabiertos.aspx)\n",
        "- [Ayuntamiento de Madrid](https://datos.madrid.es/portal/site/egob/)\n",
        "- [Ayuntamiento de Barcelona](https://opendata-ajuntament.barcelona.cat/es)\n",
        "- [Metro de Madrid](https://data-crtm.opendata.arcgis.com/)\n",
        "- [Portal datos europeo I](https://data.europa.eu/euodp/es/home)\n",
        "- [Portal datos europeo II](https://www.europeandataportal.eu/data/datasets?locale=en&minScoring=0)\n",
        "- [Google Dataset Search](https://datasetsearch.research.google.com/)\n",
        "- [Indicadores macro mundiales](https://databank.worldbank.org/home)\n",
        "- [Indicadores macro mundiales 2](https://ilostat.ilo.org/data/country-profiles/)"
      ],
      "id": "-ilQTwESwyKv"
    },
    {
      "cell_type": "code",
      "metadata": {
        "id": "mIj5WRUCwyKw"
      },
      "source": [],
      "id": "mIj5WRUCwyKw",
      "execution_count": null,
      "outputs": []
    }
  ]
}